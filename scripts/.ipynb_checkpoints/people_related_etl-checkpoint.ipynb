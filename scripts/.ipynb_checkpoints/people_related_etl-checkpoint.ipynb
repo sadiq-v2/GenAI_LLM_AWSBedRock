{
 "cells": [
  {
   "cell_type": "markdown",
   "id": "4d3ef811",
   "metadata": {},
   "source": [
    "***Import the necessary libraries***"
   ]
  },
  {
   "cell_type": "code",
   "execution_count": 1,
   "id": "dbc28442",
   "metadata": {},
   "outputs": [],
   "source": [
    "#Import the necessary libraries\n",
    "\n",
    "from pyspark.sql import SparkSession\n",
    "from pyspark.sql.functions import count, col, concat_ws, row_number, desc\n",
    "from pyspark.sql import functions as F\n",
    "from pyspark.sql.window import Window\n",
    "from pyspark.sql.types import StructType, StructField, StringType, TimestampType"
   ]
  },
  {
   "cell_type": "markdown",
   "id": "0c89c4c5",
   "metadata": {},
   "source": [
    "***Initialize the the connection from the Spark to the postgresql database***"
   ]
  },
  {
   "cell_type": "code",
   "execution_count": 2,
   "id": "b84ef717",
   "metadata": {},
   "outputs": [],
   "source": [
    "# Initialize SparkSession\n",
    "spark = SparkSession.builder \\\n",
    "    .appName('postgresql_connection') \\\n",
    "    .getOrCreate()"
   ]
  },
  {
   "cell_type": "code",
   "execution_count": 3,
   "id": "9ef51b6d",
   "metadata": {},
   "outputs": [],
   "source": [
    "# PostgreSQL connection parameters\n",
    "database = \"skyminyr_development\"\n",
    "user = \"postgres\"\n",
    "password = \"password\"\n",
    "url = f\"jdbc:postgresql://global-db:5432/{database}\""
   ]
  },
  {
   "cell_type": "code",
   "execution_count": 7,
   "id": "c9d1b3ab",
   "metadata": {},
   "outputs": [],
   "source": [
    "# Read table names from PostgreSQL metadata\n",
    "table_names = spark.read \\\n",
    "    .format(\"jdbc\") \\\n",
    "    .option(\"url\", url) \\\n",
    "    .option(\"user\", user) \\\n",
    "    .option(\"password\", password) \\\n",
    "    .option(\"driver\", \"org.postgresql.Driver\") \\\n",
    "    .option(\"dbtable\", \"(SELECT table_name FROM information_schema.tables WHERE table_schema = 'public') as tables\") \\\n",
    "    .load()"
   ]
  },
  {
   "cell_type": "code",
   "execution_count": 8,
   "id": "6ffa3f46-96ad-4b53-ba9c-b6bfcfa7d856",
   "metadata": {},
   "outputs": [
    {
     "name": "stdout",
     "output_type": "stream",
     "text": [
      "Available Tables:\n",
      "ar_internal_metadata\n",
      "companies\n",
      "company_annual_revenues\n",
      "company_customers\n",
      "company_events\n",
      "company_funding_round_investors\n",
      "company_funding_rounds\n",
      "company_headcounts\n",
      "company_locations\n",
      "company_names\n",
      "company_sectors\n",
      "company_social_urls\n",
      "company_stock_tickers\n",
      "people\n",
      "person_customers\n",
      "person_educations\n",
      "person_employments\n",
      "person_social_urls\n",
      "schema_migrations\n"
     ]
    }
   ],
   "source": [
    "\n",
    "\n",
    "# Convert the DataFrame to a list of table names\n",
    "table_list = table_names.select(\"table_name\").rdd.flatMap(lambda x: x).collect()\n",
    "\n",
    "# Print the list of table names\n",
    "print(\"Available Tables:\")\n",
    "for table_name in table_list:\n",
    "    print(table_name)\n",
    "\n",
    "# Now you can use this list to access each table individually"
   ]
  },
  {
   "cell_type": "code",
   "execution_count": 6,
   "id": "e2c5091a-4474-4ebd-94e1-debaaffd239e",
   "metadata": {},
   "outputs": [],
   "source": [
    "# Function to load data from a table into a DataFrame\n",
    "def load_table(table_name):\n",
    "    df = spark.read \\\n",
    "        .format(\"jdbc\") \\\n",
    "        .option(\"url\", url) \\\n",
    "        .option(\"dbtable\", table_name) \\\n",
    "        .option(\"user\", user) \\\n",
    "        .option(\"password\", password) \\\n",
    "        .option(\"driver\", \"org.postgresql.Driver\") \\\n",
    "        .load()\n",
    "    return df"
   ]
  },
  {
   "cell_type": "markdown",
   "id": "74da643e",
   "metadata": {},
   "source": [
    "***Load the table into the dataframes***"
   ]
  },
  {
   "cell_type": "code",
   "execution_count": 9,
   "id": "9b03575a",
   "metadata": {},
   "outputs": [],
   "source": [
    "# Load data from the people related tables into a DataFrame\n",
    "people_df = load_table(\"people\")\n",
    "person_customer_df = load_table(\"person_customers\")\n",
    "person_educations_df = load_table(\"person_educations\")\n",
    "person_employments_df = load_table(\"person_employments\")\n",
    "person_social_urls_df = load_table(\"person_social_urls\")\n",
    "company_sectors_df = load_table(\"company_sectors\")\n",
    "company_headcounts_df = load_table(\"company_headcounts\")\n",
    "company_annual_revenues_df = load_table(\"company_annual_revenues\")\n",
    "company_stock_tickers_df = load_table(\"company_stock_tickers\")"
   ]
  },
  {
   "cell_type": "markdown",
   "id": "a04cc164",
   "metadata": {},
   "source": [
    "***Function to check the uniqueness of data***"
   ]
  },
  {
   "cell_type": "code",
   "execution_count": 10,
   "id": "2db8ff34",
   "metadata": {},
   "outputs": [],
   "source": [
    "#function to check the uniqueness of the dataframe\n",
    "def check_uniqueness(df, column_name):\n",
    "    # Add a new column 'is_duplicate' that flags if column_name is duplicated\n",
    "    df_duplicates_check = df.withColumn('is_duplicate', count(column_name).over(Window.partitionBy(column_name)) > 1)\n",
    "\n",
    "    # If any 'is_duplicate' is True, then DataFrame is not unique based on column_name\n",
    "    if df_duplicates_check.filter(col('is_duplicate')).count() > 0:\n",
    "        print(f\"DataFrame is not unique based on {column_name}\")\n",
    "    else:\n",
    "        print(f\"DataFrame is unique based on {column_name}\")"
   ]
  },
  {
   "cell_type": "code",
   "execution_count": 11,
   "id": "65dde6c9",
   "metadata": {},
   "outputs": [
    {
     "name": "stdout",
     "output_type": "stream",
     "text": [
      "DataFrame is unique based on id\n"
     ]
    }
   ],
   "source": [
    "check_uniqueness(people_df, 'id')"
   ]
  },
  {
   "cell_type": "markdown",
   "id": "4b2e4f44",
   "metadata": {},
   "source": [
    "***People Table Transformation***"
   ]
  },
  {
   "cell_type": "code",
   "execution_count": 12,
   "id": "5104f31c",
   "metadata": {},
   "outputs": [],
   "source": [
    "# Select specific columns from the 'people_df' DataFrame, rename the 'id' column to 'person_id',\n",
    "# and concatenate 'address', 'city', 'region', 'postal_code', 'country' columns with a comma separator\n",
    "people_selected_df = people_df.select('id', 'name', 'address', 'city', 'region', 'postal_code', 'country', 'headline','description', 'created_at', 'updated_at')\\\n",
    "                              .withColumnRenamed('id', 'person_id')\\\n",
    "                              .withColumn('address', concat_ws(', ', 'address', 'city', 'region', 'postal_code', 'country'))\n",
    "\n",
    "people_selected_df = people_selected_df.select('person_id', 'name', 'address','headline','description', 'created_at', 'updated_at')\n",
    "\n",
    "# people_selected_df.show()"
   ]
  },
  {
   "cell_type": "markdown",
   "id": "373a32a7",
   "metadata": {},
   "source": [
    "***Transformation for the \"person_customer\" table***"
   ]
  },
  {
   "cell_type": "code",
   "execution_count": 297,
   "id": "fdb2c473",
   "metadata": {},
   "outputs": [],
   "source": [
    "# person_customer_df.show()"
   ]
  },
  {
   "cell_type": "code",
   "execution_count": 13,
   "id": "23e27be2",
   "metadata": {},
   "outputs": [
    {
     "name": "stdout",
     "output_type": "stream",
     "text": [
      "DataFrame is not unique based on person_id\n"
     ]
    }
   ],
   "source": [
    "# Call the 'check_uniqueness' function on 'person_customer_df' DataFrame to check if 'person_id' is unique\n",
    "check_uniqueness(person_customer_df,'person_id')"
   ]
  },
  {
   "cell_type": "code",
   "execution_count": 14,
   "id": "50c3a237",
   "metadata": {},
   "outputs": [],
   "source": [
    "# Group by 'person_id' and count the number of occurrences of each 'person_id'\n",
    "duplicate_rows = person_customer_df.groupBy('person_id').agg(count('*').alias('count'))\n",
    "\n",
    "# Filter the rows where 'count' is greater than 1 (i.e., 'person_id' is duplicated)\n",
    "duplicate_rows = duplicate_rows.filter(duplicate_rows['count'] > 1)\n",
    "\n",
    "# # Show the duplicate rows\n",
    "# duplicate_rows.show()"
   ]
  },
  {
   "cell_type": "code",
   "execution_count": 15,
   "id": "e9bcb62a",
   "metadata": {},
   "outputs": [],
   "source": [
    "# Define a window partitioned by person_id and ordered by updated_at in descending order\n",
    "window = Window.partitionBy(\"person_id\").orderBy(desc(\"updated_at\"))\n",
    "\n",
    "# Add a row_number column to the DataFrame\n",
    "person_customer_df = person_customer_df.withColumn(\"rn\", row_number().over(window))\n",
    "\n",
    "# Filter the DataFrame to keep only the rows with rn = 1 (i.e., the latest updated_at for each person_id)\n",
    "person_customer_df = person_customer_df.filter(person_customer_df.rn == 1)\n",
    "\n",
    "# Drop the rn column\n",
    "person_customer_df = person_customer_df.drop(\"rn\")\n",
    "\n",
    "# # Print the DataFrame to verify the result\n",
    "# person_customer_df.show()"
   ]
  },
  {
   "cell_type": "code",
   "execution_count": 16,
   "id": "956d3579",
   "metadata": {},
   "outputs": [
    {
     "name": "stdout",
     "output_type": "stream",
     "text": [
      "DataFrame is unique based on person_id\n"
     ]
    }
   ],
   "source": [
    "# Call the 'check_uniqueness' function on 'person_customer_df' DataFrame to check if 'person_id' is unique\n",
    "check_uniqueness(person_customer_df,'person_id')"
   ]
  },
  {
   "cell_type": "code",
   "execution_count": 17,
   "id": "9109413d",
   "metadata": {},
   "outputs": [],
   "source": [
    "# Select 'person_id' and 'customer_id' columns from 'person_customer_df' DataFrame\n",
    "people_selected_customer_df = person_customer_df.select('person_id', 'customer_id')\n",
    "\n",
    "# Join 'people_selected_df' with 'people_selected_customer_df' on 'person_id'\n",
    "people_person_customer_df = people_selected_df.join(people_selected_customer_df, on='person_id', how='inner')\n",
    "\n",
    "# people_person_customer_df.show()"
   ]
  },
  {
   "cell_type": "markdown",
   "id": "a5ad0ee5",
   "metadata": {},
   "source": [
    "***Transformation for \"Person Education\" table***"
   ]
  },
  {
   "cell_type": "code",
   "execution_count": 18,
   "id": "12de6278",
   "metadata": {},
   "outputs": [],
   "source": [
    "# person_educations_df.show()"
   ]
  },
  {
   "cell_type": "code",
   "execution_count": 19,
   "id": "a17fb6ef",
   "metadata": {},
   "outputs": [],
   "source": [
    "# Define a struct for each institute\n",
    "institute_struct = F.struct(\n",
    "    \"institution_id\", \"institution_name\", \"degree\", \"subject\", \"started_on\", \"ended_on\"\n",
    ")\n",
    "\n",
    "# Group by person_id and collect list of institute details as structs\n",
    "grouped_educations_df = person_educations_df.groupBy(\"person_id\").agg(\n",
    "    F.collect_list(institute_struct).alias(\"education\")\n",
    "    # (\"education - (institution_id, institution_name, degree, subject, started_on, ended_on)\")\n",
    ")\n",
    "\n",
    "person_education_group_df = grouped_educations_df\n",
    "\n",
    "\n",
    "\n",
    "# Show the result\n",
    "# person_education_group_df.show(truncate=False)\n"
   ]
  },
  {
   "cell_type": "code",
   "execution_count": 20,
   "id": "e385abae",
   "metadata": {},
   "outputs": [
    {
     "name": "stdout",
     "output_type": "stream",
     "text": [
      "DataFrame is unique based on person_id\n"
     ]
    }
   ],
   "source": [
    "check_uniqueness(person_education_group_df, 'person_id')"
   ]
  },
  {
   "cell_type": "code",
   "execution_count": 21,
   "id": "ad77b37e",
   "metadata": {},
   "outputs": [],
   "source": [
    "# Joining person_education_group_df and people_person_customer_df DataFrames on column named 'person_id'\n",
    "\n",
    "people_person_customer_education_df = people_person_customer_df.join(person_education_group_df, on='person_id') \n",
    "\n",
    "# people_person_customer_education_df.show()"
   ]
  },
  {
   "cell_type": "markdown",
   "id": "f8acbdef",
   "metadata": {},
   "source": [
    "***Transformation for Company related information***"
   ]
  },
  {
   "cell_type": "code",
   "execution_count": 22,
   "id": "3f863438",
   "metadata": {},
   "outputs": [],
   "source": [
    "# Group the DataFrame 'company_sectors_df' by 'company_id'\n",
    "grouped_company_sectors_df = company_sectors_df.groupBy('company_id').agg(\n",
    "    F.collect_list('sector').alias('sectors')\n",
    ")\n",
    "\n",
    "# Check the DataFrame 'grouped_company_sectors_df'\n",
    "# grouped_company_sectors_df.show()"
   ]
  },
  {
   "cell_type": "code",
   "execution_count": 23,
   "id": "68c6fc60",
   "metadata": {},
   "outputs": [],
   "source": [
    "# Define a window partitioned by 'company_id' and ordered by 'date' in descending order\n",
    "window = Window.partitionBy('company_id').orderBy(F.desc('date'))\n",
    "\n",
    "# Add a new column 'rank' to the DataFrame 'company_annual_revenues_df'\n",
    "# The 'rank' is calculated over the defined window\n",
    "grouped_company_annual_revenues_df = company_annual_revenues_df.withColumn('rank', F.rank().over(window))\n",
    "\n",
    "# Filter the DataFrame to keep only the rows where 'rank' is 1\n",
    "# This gives us the latest annual revenue for each company\n",
    "# Select only the 'company_id' and 'amount_usd' columns for the final DataFrame\n",
    "latest_company_annual_revenues_df = grouped_company_annual_revenues_df.filter(F.col('rank') == 1).select('company_id', 'amount_usd')\n",
    "\n",
    "# Check the DataFrame 'latest_company_annual_revenues_df'\n",
    "# latest_company_annual_revenues_df.show()"
   ]
  },
  {
   "cell_type": "code",
   "execution_count": 24,
   "id": "7a16eab6",
   "metadata": {},
   "outputs": [],
   "source": [
    "# Define a window partitioned by 'headcount' and ordered by 'date' in descending order\n",
    "window = Window.partitionBy('headcount').orderBy(F.desc('date'))\n",
    "\n",
    "# Add a new column 'rank' to the DataFrame 'company_headcounts_df'\n",
    "# The 'rank' is calculated over the defined window\n",
    "grouped_company_headcounts_df = company_headcounts_df.withColumn('rank', F.rank().over(window))\n",
    "\n",
    "# Filter the DataFrame to keep only the rows where 'rank' is 1\n",
    "# This gives us the latest headcount for each company\n",
    "# Select only the 'company_id' and 'headcount' columns for the final DataFrame\n",
    "latest_company_headcounts_df = grouped_company_headcounts_df.filter(F.col('rank') == 1).select('company_id', 'headcount')\n",
    "\n",
    "# Check the DataFrame 'latest_company_headcounts_df'\n",
    "# latest_company_headcounts_df.show()"
   ]
  },
  {
   "cell_type": "code",
   "execution_count": 25,
   "id": "06043438",
   "metadata": {},
   "outputs": [],
   "source": [
    "# Select the 'company_id' and 'stock_ticker' columns from the DataFrame 'company_stock_tickers_df'\n",
    "selected_company_stock_tickers_df = company_stock_tickers_df.select('company_id','stock_ticker')"
   ]
  },
  {
   "cell_type": "markdown",
   "id": "261b3119",
   "metadata": {},
   "source": [
    "***Joined the company information related transformed dataframes***"
   ]
  },
  {
   "cell_type": "code",
   "execution_count": 26,
   "id": "a4a84e76",
   "metadata": {},
   "outputs": [],
   "source": [
    "\n",
    "# Join the DataFrame 'grouped_company_sectors_df' with 'latest_company_annual_revenues_df', 'latest_company_headcounts_df', and 'selected_company_stock_tickers_df' on 'company_id'\n",
    "# The join type is 'inner', meaning only the rows with a match in both DataFrames will be kept\n",
    "company_info_joined_df = grouped_company_sectors_df.join(\n",
    "    latest_company_annual_revenues_df, 'company_id', 'inner'\n",
    ").join(\n",
    "    latest_company_headcounts_df, 'company_id', 'inner'\n",
    ").join(\n",
    "    selected_company_stock_tickers_df, 'company_id', 'inner'\n",
    ")\n",
    "\n",
    "# Select the 'company_id', 'amount_usd', 'headcount', and 'stock_ticker' columns from the joined DataFrame\n",
    "resultant_company_info_joined_df = company_info_joined_df.select(\n",
    "    'company_id',\n",
    "    latest_company_annual_revenues_df['amount_usd'],\n",
    "    latest_company_headcounts_df['headcount'],\n",
    "    selected_company_stock_tickers_df['stock_ticker']\n",
    ")\n",
    "\n",
    "# Check the DataFrame 'resultant_company_info_joined_df'\n",
    "# resultant_company_info_joined_df.show()"
   ]
  },
  {
   "cell_type": "markdown",
   "id": "3d796c55",
   "metadata": {},
   "source": [
    "***Transformation for the Person Employment Table***"
   ]
  },
  {
   "cell_type": "code",
   "execution_count": 27,
   "id": "a599bff0",
   "metadata": {},
   "outputs": [],
   "source": [
    "# person_employments_df.show()"
   ]
  },
  {
   "cell_type": "code",
   "execution_count": 28,
   "id": "ddbbcb48",
   "metadata": {},
   "outputs": [
    {
     "name": "stdout",
     "output_type": "stream",
     "text": [
      "+---------+-------------------------------------------------------------------------------------------------------------------------------------------------------------------------------------------------------------------------------------------------------------------------------------------------------------------------------------------------------------------------------------------------------------------------------------------------------------------------------------------------------------------------------------------------------------------------------------------------------------------------------------------------------------------------------------------------------------------------------------------------------------------------------------------------------------------------------------------------------------------------------------------------------------------------------------------------------------------------------------------------------------------------------------------------------------------------------------------+\n",
      "|person_id|employments                                                                                                                                                                                                                                                                                                                                                                                                                                                                                                                                                                                                                                                                                                                                                                                                                                                                                                                                                                                                                                                                                |\n",
      "+---------+-------------------------------------------------------------------------------------------------------------------------------------------------------------------------------------------------------------------------------------------------------------------------------------------------------------------------------------------------------------------------------------------------------------------------------------------------------------------------------------------------------------------------------------------------------------------------------------------------------------------------------------------------------------------------------------------------------------------------------------------------------------------------------------------------------------------------------------------------------------------------------------------------------------------------------------------------------------------------------------------------------------------------------------------------------------------------------------------+\n",
      "|101255   |[{1660, Apple, Head of ..., Head Of Foundation, Apple Online Store Engineering, 2015-08-01, 2016-10-01, 31949031445.00, 224704, AAPL}, {1660, Apple, NULL, Engineering Leader for Analytics and Data Products in Apple Media, 2016-10-01, NULL, 31949031445.00, 224704, AAPL}]                                                                                                                                                                                                                                                                                                                                                                                                                                                                                                                                                                                                                                                                                                                                                                                                             |\n",
      "|124469   |[{4360, NVIDIA, NULL, Principal Applied Scientist, 2022-08-01, NULL, 18110805495.00, 24468, NVDA}]                                                                                                                                                                                                                                                                                                                                                                                                                                                                                                                                                                                                                                                                                                                                                                                                                                                                                                                                                                                         |\n",
      "|149312   |[{4360, NVIDIA, NULL, Application Engineering Manager, Cloud Native Engineering, 2021-01-01, NULL, 18110805495.00, 24468, NVDA}]                                                                                                                                                                                                                                                                                                                                                                                                                                                                                                                                                                                                                                                                                                                                                                                                                                                                                                                                                           |\n",
      "|175688   |[{201690, Microsoft, NULL, Windows Azure Ssp, 2010-08-01, 2011-06-01, 63043059112.00, 230609, MSFT}, {201690, Microsoft, NULL, Software Architecture Advisor, 2006-12-01, 2010-02-01, 63043059112.00, 230609, MSFT}, {13, Twitter, Manager, Production Manager, 2021-04-01, NULL, 1411687950.00, 3346, TWTR}]                                                                                                                                                                                                                                                                                                                                                                                                                                                                                                                                                                                                                                                                                                                                                                              |\n",
      "|225814   |[{2289, Netflix, NULL, Bilingual Synopsis Writer, 2017-09-01, NULL, 8772810300.00, 15635, NFLX}, {2289, Netflix, NULL, Bilingual Product Writer, 2017-08-01, NULL, 8772810300.00, 15635, NFLX}]                                                                                                                                                                                                                                                                                                                                                                                                                                                                                                                                                                                                                                                                                                                                                                                                                                                                                            |\n",
      "|227168   |[{2289, Netflix, NULL, Senior Software Engineer, 2018-11-01, NULL, 8772810300.00, 15635, NFLX}]                                                                                                                                                                                                                                                                                                                                                                                                                                                                                                                                                                                                                                                                                                                                                                                                                                                                                                                                                                                            |\n",
      "|252910   |[{13, Twitter, NULL, Staff Software Engineer, 2020-03-01, NULL, 1411687950.00, 3346, TWTR}]                                                                                                                                                                                                                                                                                                                                                                                                                                                                                                                                                                                                                                                                                                                                                                                                                                                                                                                                                                                                |\n",
      "|321427   |[{2983, IBM, NULL, Senior IT Specialist, 2001-10-01, 2008-09-01, 36169599759.00, 531505, IBM}, {2983, IBM, NULL, Consulting IT Specialist, 2008-09-01, 2012-02-01, 36169599759.00, 531505, IBM}, {2983, IBM, NULL, WebSphere Messaging Community Lead, 2010-11-01, 2012-02-01, 36169599759.00, 531505, IBM}, {13, Twitter, NULL, Staff Developer Advocate, 2014-03-01, 2017-10-01, 1411687950.00, 3346, TWTR}, {13, Twitter, Director, Senior Staff Developer Advocate (Director, Developer Advocacy), 2017-10-01, NULL, 1411687950.00, 3346, TWTR}]                                                                                                                                                                                                                                                                                                                                                                                                                                                                                                                                       |\n",
      "|368727   |[{1660, Apple, NULL, GNSS Platform Software Engineer, 2014-09-01, 2017-09-01, 31949031445.00, 224704, AAPL}, {1660, Apple, NULL, GNSS Platform Software Engineering Manager, 2017-10-01, NULL, 31949031445.00, 224704, AAPL}, {4645, The Boeing Company, NULL, Consultant - Satellite navigation algorithm R&D, 2006-06-01, 2008-07-01, 22627945967.00, 109609, BA}]                                                                                                                                                                                                                                                                                                                                                                                                                                                                                                                                                                                                                                                                                                                       |\n",
      "|431903   |[{1155, Vimeo, Director, Director Of Brand Messaging, 2011-11-01, 2014-12-01, 180402877.00, 1331, VMEO}, {4053, Spotify, NULL, Senior User Experience Writer, 2018-09-01, NULL, 11991621471.00, 13917, SPOT}]                                                                                                                                                                                                                                                                                                                                                                                                                                                                                                                                                                                                                                                                                                                                                                                                                                                                              |\n",
      "|574392   |[{13, Twitter, Director, Managing Director for Japan and Asia Pacific, Mopub, 2019-09-01, NULL, 1411687950.00, 3346, TWTR}, {392, HP, Manager, Zonal Business Manager- Emerging Businesses, 2008-10-01, 2010-10-01, 8310460573.00, 140703, HPQ}, {392, HP, Manager, Territory Manager - Personal Systems Group, 2007-06-01, 2008-10-01, 8310460573.00, 140703, HPQ}]                                                                                                                                                                                                                                                                                                                                                                                                                                                                                                                                                                                                                                                                                                                       |\n",
      "|586843   |[{4360, NVIDIA, Manager, Manager, Developer Relations - NVIDIA Omniverse, 2022-07-01, NULL, 18110805495.00, 24468, NVDA}, {203437, Amazon, NULL, Technology Evangelist, UK, 2015-10-01, 2017-05-01, 211502699971.00, 750138, AMZN}, {203437, Amazon, Manager, Manager, Developer Marketing & Evangelism, EU, 2019-07-01, 2021-02-01, 211502699971.00, 750138, AMZN}, {203437, Amazon, Head of ..., Head of Developer Evangelism, Worldwide (Apps & Games), 2021-02-01, 2022-06-01, 211502699971.00, 750138, AMZN}, {203437, Amazon, NULL, Technology Evangelist, EU, 2017-05-01, 2019-07-01, 211502699971.00, 750138, AMZN}]                                                                                                                                                                                                                                                                                                                                                                                                                                                               |\n",
      "|625782   |[{2289, Netflix, Head of ..., Head Of Internal Communications, APAC, 2021-02-01, NULL, 8772810300.00, 15635, NFLX}]                                                                                                                                                                                                                                                                                                                                                                                                                                                                                                                                                                                                                                                                                                                                                                                                                                                                                                                                                                        |\n",
      "|630454   |[{13, Twitter, VP, Vp of Inclusion and Diversity, NULL, NULL, 1411687950.00, 3346, TWTR}]                                                                                                                                                                                                                                                                                                                                                                                                                                                                                                                                                                                                                                                                                                                                                                                                                                                                                                                                                                                                  |\n",
      "|675418   |[{13, Twitter, NULL, Senior Global Manager, Partner Marketing, 2020-11-01, 2021-07-01, 1411687950.00, 3346, TWTR}, {13, Twitter, Director, Global Director, Partner Marketing, 2021-07-01, NULL, 1411687950.00, 3346, TWTR}, {13, Twitter, NULL, Global Manager, Partner Marketing, 2019-11-01, 2020-10-01, 1411687950.00, 3346, TWTR}, {13, Twitter, NULL, Senior Executive Assistant to the CFO, 2012-06-01, 2015-07-01, 1411687950.00, 3346, TWTR}, {13, Twitter, NULL, Associate Manager, US News Partnerships, 2015-07-01, 2016-03-01, 1411687950.00, 3346, TWTR}, {13, Twitter, NULL, Manager, US News Partnerships, 2016-03-01, 2018-03-01, 1411687950.00, 3346, TWTR}, {13, Twitter, NULL, Senior Manager, US News Partnerships, 2018-03-01, 2019-11-01, 1411687950.00, 3346, TWTR}]                                                                                                                                                                                                                                                                                               |\n",
      "|701116   |[{2024, Procter & Gamble Company, Manager, Assistant Brand Manager Intern, 2009-06-10, 2009-08-10, 16783511872.00, 83712, PG}, {4053, Spotify, Director, Head of Music Expression (GM / Senior Director), 2022-11-10, NULL, 11991621471.00, 13917, SPOT}, {5, Meta, Director, Director of Product Management, 2013-08-10, 2022-05-01, 7114372320.00, 122307, FB}]                                                                                                                                                                                                                                                                                                                                                                                                                                                                                                                                                                                                                                                                                                                          |\n",
      "|734368   |[{1660, Apple, NULL, Marketing, 2018-04-01, NULL, 31949031445.00, 224704, AAPL}, {1660, Apple, NULL, Apple News Marketing Lead, 2018-03-01, 2019-07-01, 31949031445.00, 224704, AAPL}, {10456, Gap, Manager, Sr. Marketing Manager, Site & Email Marketing - Gap Online, 2010-02-01, 2011-03-01, 4924429921.00, 61976, GPS}, {10456, Gap, Manager, Sr. Manager Global Display Media, Gap Inc., 2011-05-01, 2015-07-01, 4924429921.00, 61976, GPS}, {10456, Gap, NULL, Sr. Coordinator, Gap Brand Management, 2003-02-01, 2005-01-01, 4924429921.00, 61976, GPS}, {10456, Gap, Manager, Marketing Manager, Site & Email Marketing - Gap Online, 2007-08-01, 2010-02-01, 4924429921.00, 61976, GPS}, {10456, Gap, Director, Director Global Display Media, Gap Inc., 2015-08-01, 2016-07-01, 4924429921.00, 61976, GPS}, {10456, Gap, Manager, Associate Marketing Manager, Site & Email Marketing - Gap Online, 2005-05-01, 2007-07-01, 4924429921.00, 61976, GPS}, {10456, Gap, Manager, Assistant Brand Manager, Gap Brand Management, 2005-02-01, 2005-04-01, 4924429921.00, 61976, GPS}]|\n",
      "|757514   |[{13, Twitter, Head of ..., Head of Research, 2016-06-01, NULL, 1411687950.00, 3346, TWTR}]                                                                                                                                                                                                                                                                                                                                                                                                                                                                                                                                                                                                                                                                                                                                                                                                                                                                                                                                                                                                |\n",
      "|773874   |[{1412, Splunk, Manager, QA Manager - Developer Platform and Windows, 2012-09-01, 2012-12-01, 723159227.00, 8674, SPLK}, {1660, Apple, Head of ..., Head of Product Security, 2015-11-01, NULL, 31949031445.00, 224704, AAPL}, {201690, Microsoft, Director, Director Software Design Engineer in Test, 2006-09-01, 2012-08-01, 63043059112.00, 230609, MSFT}, {201690, Microsoft, Director, Director of Security, 2013-02-01, 2015-10-01, 63043059112.00, 230609, MSFT}]                                                                                                                                                                                                                                                                                                                                                                                                                                                                                                                                                                                                                  |\n",
      "|793119   |[{13, Twitter, NULL, Global Agency Lead, 2022-01-01, NULL, 1411687950.00, 3346, TWTR}, {13, Twitter, NULL, Programmatic Demand Lead, MoPub, 2018-05-01, 2021-12-01, 1411687950.00, 3346, TWTR}]                                                                                                                                                                                                                                                                                                                                                                                                                                                                                                                                                                                                                                                                                                                                                                                                                                                                                            |\n",
      "+---------+-------------------------------------------------------------------------------------------------------------------------------------------------------------------------------------------------------------------------------------------------------------------------------------------------------------------------------------------------------------------------------------------------------------------------------------------------------------------------------------------------------------------------------------------------------------------------------------------------------------------------------------------------------------------------------------------------------------------------------------------------------------------------------------------------------------------------------------------------------------------------------------------------------------------------------------------------------------------------------------------------------------------------------------------------------------------------------------------+\n",
      "only showing top 20 rows\n",
      "\n"
     ]
    }
   ],
   "source": [
    "# Join the DataFrames on 'company_id'\n",
    "resultant_company_info_employment_joined_df = person_employments_df.join(resultant_company_info_joined_df, 'company_id', 'inner')\n",
    "\n",
    "# Define a new struct that includes the additional columns\n",
    "emplopyment_struct = F.struct(\n",
    "    \"company_id\", \"company_name\", \"seniority_level\", \"title\", \"started_on\", \"ended_on\",\n",
    "    resultant_company_info_joined_df['amount_usd'],\n",
    "    resultant_company_info_joined_df['headcount'],\n",
    "    resultant_company_info_joined_df['stock_ticker']\n",
    ")\n",
    "\n",
    "# Group by 'person_id' and collect list of employment details as structs\n",
    "grouped_person_employments_df = resultant_company_info_employment_joined_df.groupBy(\"person_id\").agg(\n",
    "    F.collect_list(emplopyment_struct).alias(\"employments\")\n",
    ")\n",
    "\n",
    "person_employments_df = grouped_person_employments_df\n",
    "\n",
    "person_employments_df.show(truncate=False)"
   ]
  },
  {
   "cell_type": "code",
   "execution_count": 29,
   "id": "29aa0fe6",
   "metadata": {},
   "outputs": [],
   "source": [
    "# Join the DataFrame 'people_person_customer_education_df' with 'person_employments_df' on 'person_id'\n",
    "# The resulting DataFrame contains information about a person's education and employment\n",
    "people_person_customer_education_educations_df = people_person_customer_education_df.join(person_employments_df, on='person_id') \n",
    "\n",
    "# people_person_customer_education_educations_df.show()"
   ]
  },
  {
   "cell_type": "markdown",
   "id": "39327d7b",
   "metadata": {},
   "source": [
    "***Transformation for the Person Social Urls Table***"
   ]
  },
  {
   "cell_type": "code",
   "execution_count": 30,
   "id": "3428530f",
   "metadata": {},
   "outputs": [],
   "source": [
    "# Group by person_id and collect list of URL details\n",
    "grouped_urls_df = person_social_urls_df.groupBy(\"person_id\").agg(\n",
    "    F.collect_list(\n",
    "        F.struct(\"url_type\", \"url\")\n",
    "    ).alias(\"urls\")\n",
    ")\n",
    "\n",
    "# Show the result\n",
    "# grouped_urls_df.show(truncate=False)\n"
   ]
  },
  {
   "cell_type": "code",
   "execution_count": 31,
   "id": "f180dc39",
   "metadata": {},
   "outputs": [
    {
     "name": "stdout",
     "output_type": "stream",
     "text": [
      "DataFrame is unique based on person_id\n"
     ]
    }
   ],
   "source": [
    "check_uniqueness(grouped_urls_df, 'person_id')"
   ]
  },
  {
   "cell_type": "code",
   "execution_count": 32,
   "id": "69263c93",
   "metadata": {},
   "outputs": [
    {
     "name": "stdout",
     "output_type": "stream",
     "text": [
      "+---------+--------------------+--------------------+--------------------+--------------------+--------------------+--------------------+--------------------+--------------------+--------------------+--------------------+\n",
      "|person_id|                name|             address|            headline|         description|          created_at|          updated_at|         customer_id|           education|         employments|                urls|\n",
      "+---------+--------------------+--------------------+--------------------+--------------------+--------------------+--------------------+--------------------+--------------------+--------------------+--------------------+\n",
      "|949256266|         Vivian Weng|           SINGAPORE|Product Design, S...|                NULL|2023-12-11 06:18:...|                NULL|7538cb11-1c23-4c7...|[{NULL, Universit...|[{1660, Apple, NU...|[{linkedin, https...|\n",
      "| 48171849|     Courtney Turner|    Toledo, Ohio, US|                NULL|The search for so...|2023-12-11 06:18:...|2023-10-14 21:35:...|7538cb11-1c23-4c7...|[{NULL, The Unive...|[{1660, Apple, NU...|[{linkedin, https...|\n",
      "| 74707094|       Katie Richter|   Austin, Texas, US|                NULL|Retail Business S...|2023-12-11 06:18:...|2023-10-14 21:35:...|7538cb11-1c23-4c7...|[{NULL, Rhodes Co...|[{1660, Apple, NU...|[{linkedin, https...|\n",
      "|  1373896|     Chelsea Kanduth|Chicago, Illinois...|Advertising Guru ...|Experienced Accou...|2023-12-11 06:18:...|2023-10-26 15:57:...|7538cb11-1c23-4c7...|[{6356260, St. Cl...|[{4053, Spotify, ...|[{linkedin, https...|\n",
      "| 51432999|        Juan Sanchez|    Boise, Idaho, US|                NULL|Art Director at A...|2023-12-11 06:18:...|2023-10-18 23:07:...|7538cb11-1c23-4c7...|[{NULL, Minico Hi...|[{1660, Apple, Di...|[{linkedin, https...|\n",
      "|  1420981|    Jasmine Scofield|Santa Clara, Cali...|Senior Payroll An...|6+ years in End-T...|2023-12-11 06:18:...|2023-10-26 15:57:...|7538cb11-1c23-4c7...|[{193734, Diablo ...|[{2289, Netflix, ...|[{linkedin, https...|\n",
      "| 22565708|            Tim Wong|Danville, Califor...|Technical Marketi...|Execution fanatic...|2023-12-11 06:18:...|2023-11-01 07:37:...|7538cb11-1c23-4c7...|[{NULL, At&T Scho...|[{905, Nokia, Dir...|[{linkedin, https...|\n",
      "| 71726687|     Katherine Hicks|Bay Village, Ohio...|                NULL|Results Driven, C...|2023-12-11 06:18:...|2023-10-14 21:35:...|7538cb11-1c23-4c7...|[{NULL, Barnard C...|[{1660, Apple, NU...|[{linkedin, https...|\n",
      "| 20891932|     Cynthia Collins|San Francisco, Ca...|                NULL|18 years of progr...|2023-12-11 06:18:...|2023-10-14 21:35:...|7538cb11-1c23-4c7...|[{NULL, Universit...|[{1660, Apple, NU...|[{linkedin, https...|\n",
      "| 22355698|      Ritchie Lozada|San Francisco, Ca...|                NULL|Passion for compl...|2023-12-11 06:18:...|2023-10-14 21:35:...|7538cb11-1c23-4c7...|[{NULL, Ateneo De...|[{1660, Apple, NU...|[{linkedin, https...|\n",
      "|   734368|Abby Anderson Edling|San Francisco, Ca...|  Marketing at Apple|Results-oriented ...|2023-12-11 06:18:...|2023-10-18 23:07:...|7538cb11-1c23-4c7...|[{194218, Complut...|[{1660, Apple, NU...|[{linkedin, https...|\n",
      "|   574392| Dushyant Sapre 杜勝|                  SG|Managing Director...|A well rounded di...|2023-12-11 06:18:...|2023-10-23 05:09:...|7538cb11-1c23-4c7...|[{196642, Indian ...|[{13, Twitter, Di...|[{linkedin, https...|\n",
      "|   586843|       Mario Viviani| London, England, GB|Manager, Develope...|My responsibility...|2023-12-11 06:18:...|2023-10-23 03:55:...|7538cb11-1c23-4c7...|[{NULL, Universit...|[{4360, NVIDIA, M...|[{linkedin, https...|\n",
      "|  1421522|     Maria Kavaliova|Atlanta Metropoli...|Staff Data Scient...|14+ years of Hand...|2023-12-11 06:18:...|2023-10-26 15:57:...|7538cb11-1c23-4c7...|[{192997, Belarus...|[{1694, Tesla, NU...|[{linkedin, https...|\n",
      "|  1205136|           Ken White|San Francisco, Ca...|Sales Director - ...|                NULL|2023-12-11 06:18:...|2023-10-19 07:24:...|7538cb11-1c23-4c7...|[{195422, Univers...|[{4360, NVIDIA, D...|[{linkedin, https...|\n",
      "|   820951|       Manuel Vivoda|San Francisco, Ca...|Creative Technica...|                NULL|2023-12-11 06:18:...|2023-10-14 21:35:...|7538cb11-1c23-4c7...|[{NULL, Academy o...|[{13, Twitter, Ma...|[{linkedin, https...|\n",
      "| 96276184|         Julie Smith|Cambridge, Massac...|                NULL|   CEO at Apple Inc.|2023-12-11 06:18:...|2023-10-23 03:55:...|7538cb11-1c23-4c7...|[{NULL, Harvard K...|[{1660, Apple, CX...|[{linkedin, https...|\n",
      "| 54233909|         Lily Dorsey|Colorado Springs,...|MBA Candidate at ...|Graduate from the...|2023-12-11 06:18:...|2023-10-14 21:35:...|7538cb11-1c23-4c7...|[{NULL, Universit...|[{1660, Apple, NU...|[{linkedin, https...|\n",
      "| 16135235|     Jordan Redstone|Cupertino, Califo...|Music & Ent. VP S...|                NULL|2023-12-11 06:18:...|2023-10-23 03:55:...|7538cb11-1c23-4c7...|[{NULL, Usc Gould...|[{1660, Apple, VP...|[{linkedin, https...|\n",
      "| 20916348|        David Kilzer|San Francisco, Ca...|                NULL|IT professional w...|2023-12-11 06:18:...|2023-10-14 21:35:...|7538cb11-1c23-4c7...|[{NULL, Iowa Stat...|[{1660, Apple, NU...|[{linkedin, https...|\n",
      "+---------+--------------------+--------------------+--------------------+--------------------+--------------------+--------------------+--------------------+--------------------+--------------------+--------------------+\n",
      "only showing top 20 rows\n",
      "\n"
     ]
    }
   ],
   "source": [
    "# Joining person_education_group_df and people_person_customer_df DataFrames on column named 'person_id'\n",
    "\n",
    "people_person_customer_education_employments_social_urls_df = people_person_customer_education_educations_df.join(grouped_urls_df, on='person_id') \n",
    "\n",
    "people_person_customer_education_employments_social_urls_df.show()\n"
   ]
  },
  {
   "cell_type": "code",
   "execution_count": 33,
   "id": "8e13315e",
   "metadata": {},
   "outputs": [
    {
     "name": "stdout",
     "output_type": "stream",
     "text": [
      "DataFrame is unique based on person_id\n"
     ]
    }
   ],
   "source": [
    "check_uniqueness(people_person_customer_education_employments_social_urls_df, 'person_id')"
   ]
  },
  {
   "cell_type": "markdown",
   "id": "3f09c372",
   "metadata": {},
   "source": [
    "***Final Dataframe***"
   ]
  },
  {
   "cell_type": "code",
   "execution_count": 34,
   "id": "eaf83fed",
   "metadata": {},
   "outputs": [
    {
     "name": "stdout",
     "output_type": "stream",
     "text": [
      "root\n",
      " |-- person_id: long (nullable = true)\n",
      " |-- name: string (nullable = true)\n",
      " |-- address: string (nullable = false)\n",
      " |-- headline: string (nullable = true)\n",
      " |-- description: string (nullable = true)\n",
      " |-- created_at: timestamp (nullable = true)\n",
      " |-- updated_at: timestamp (nullable = true)\n",
      " |-- customer_id: string (nullable = true)\n",
      " |-- education: array (nullable = false)\n",
      " |    |-- element: struct (containsNull = false)\n",
      " |    |    |-- institution_id: long (nullable = true)\n",
      " |    |    |-- institution_name: string (nullable = true)\n",
      " |    |    |-- degree: string (nullable = true)\n",
      " |    |    |-- subject: string (nullable = true)\n",
      " |    |    |-- started_on: date (nullable = true)\n",
      " |    |    |-- ended_on: date (nullable = true)\n",
      " |-- employments: array (nullable = false)\n",
      " |    |-- element: struct (containsNull = false)\n",
      " |    |    |-- company_id: long (nullable = true)\n",
      " |    |    |-- company_name: string (nullable = true)\n",
      " |    |    |-- seniority_level: string (nullable = true)\n",
      " |    |    |-- title: string (nullable = true)\n",
      " |    |    |-- started_on: date (nullable = true)\n",
      " |    |    |-- ended_on: date (nullable = true)\n",
      " |    |    |-- amount_usd: decimal(20,2) (nullable = true)\n",
      " |    |    |-- headcount: long (nullable = true)\n",
      " |    |    |-- stock_ticker: string (nullable = true)\n",
      " |-- urls: array (nullable = false)\n",
      " |    |-- element: struct (containsNull = false)\n",
      " |    |    |-- url_type: string (nullable = true)\n",
      " |    |    |-- url: string (nullable = true)\n",
      "\n"
     ]
    }
   ],
   "source": [
    "people_person_customer_education_employments_social_urls_df.printSchema()"
   ]
  },
  {
   "cell_type": "markdown",
   "id": "232fb94c",
   "metadata": {},
   "source": [
    "***Final Dataframe can be exported to files such as CSV, JSON, Parquet***"
   ]
  },
  {
   "cell_type": "code",
   "execution_count": 35,
   "id": "3adcc5a7",
   "metadata": {},
   "outputs": [],
   "source": [
    "# #Use the exiting dataframe\n",
    "final_df = people_person_customer_education_employments_social_urls_df\n",
    "\n",
    "# # Convert DataFrame to JSON\n",
    "json_df = final_df.toJSON().collect()\n"
   ]
  },
  {
   "cell_type": "code",
   "execution_count": 38,
   "id": "3237eacf",
   "metadata": {},
   "outputs": [],
   "source": [
    "import json\n",
    "\n",
    "# # Assuming json_df is your data\n",
    "#with open('final_output/person_final_output.json', 'w') as f:\n",
    " #   json.dump(json_df, f)\n"
   ]
  },
  {
   "cell_type": "code",
   "execution_count": 41,
   "id": "16eca9c0-99ac-43e9-8d14-c69fd8127f40",
   "metadata": {},
   "outputs": [],
   "source": [
    "final_df.write.parquet(\"final_output/df2.parquet\")"
   ]
  },
  {
   "cell_type": "markdown",
   "id": "7e45f4f0",
   "metadata": {},
   "source": [
    "***Export the dataframe to string of each person***"
   ]
  },
  {
   "cell_type": "code",
   "execution_count": 42,
   "id": "64c57ca2",
   "metadata": {},
   "outputs": [],
   "source": [
    "# Create an empty list to store the column expressions\n",
    "column_exprs = []\n",
    "\n",
    "# For each column in the DataFrame\n",
    "for col_name in final_df.columns:\n",
    "    # Create a new column expression that concatenates the column name and the column value\n",
    "    column_exprs.append(F.concat(F.lit(col_name + \":\"), final_df[col_name].cast(\"string\")))\n",
    "\n",
    "# Concatenate all column expressions into one single column 'single_text'\n",
    "single_file_for_each_person_df = final_df.select(F.concat_ws(' ', *column_exprs).alias('single_file_for_each_person'))"
   ]
  },
  {
   "cell_type": "code",
   "execution_count": 40,
   "id": "2c2317d7",
   "metadata": {},
   "outputs": [
    {
     "name": "stdout",
     "output_type": "stream",
     "text": [
      "+-----------------------------------------------------------------------------------------------------------------------------------------------------------------------------------------------------------------------------------------------------------------------------------------------------------------------------------------------------------------------------------------------------------------------------------------------------------------------------------------------------------------------------------------------------------------------------------------------------------------------------------------------------------------------------------------------------------------------------------------------------------------------------------------------------------------------------------------------------------------------------------------------------------------------------------------------------------------------------------------------------------------------------------------------------------------------------------------------------------------------------------------------------------------------------------------------------------------------------------------------------------------------------------------------------------------------------------------------------------------------------------------------------------------------------------------------------------------------------------------------------------------------------------------------------------------------------------------------------------------------------------------------------------------------------------------------------------------------------------------------------------------------------------------------------------------------------------------------------------------------------------------------------------------------------------------------------------------------------------------------------------------------------------------------------------------------------------------------------------------------------------------------------------------------------------------------------------------------------------------------------------------------------------------------------------------------------------------------------------------------------------------------------------------------------------------------------------------------------------------------------------------------------------------------------------------------------------------------------------------------------------------------------------------------------------------------------------------------------------------------------------------------------------------------------------------------------------------------------------------------------------------------------------------------------------------------------------------------------------------------------------------------------------------------------------------------------------------------------------------------------------------------------------------------------------------------------------------------------------------------------------------------------------------------------------------------------------------------------------------------------------------------------+\n",
      "|single_file_for_each_person                                                                                                                                                                                                                                                                                                                                                                                                                                                                                                                                                                                                                                                                                                                                                                                                                                                                                                                                                                                                                                                                                                                                                                                                                                                                                                                                                                                                                                                                                                                                                                                                                                                                                                                                                                                                                                                                                                                                                                                                                                                                                                                                                                                                                                                                                                                                                                                                                                                                                                                                                                                                                                                                                                                                                                                                                                                                                                                                                                                                                                                                                                                                                                                                                                                                                                                                                                          |\n",
      "+-----------------------------------------------------------------------------------------------------------------------------------------------------------------------------------------------------------------------------------------------------------------------------------------------------------------------------------------------------------------------------------------------------------------------------------------------------------------------------------------------------------------------------------------------------------------------------------------------------------------------------------------------------------------------------------------------------------------------------------------------------------------------------------------------------------------------------------------------------------------------------------------------------------------------------------------------------------------------------------------------------------------------------------------------------------------------------------------------------------------------------------------------------------------------------------------------------------------------------------------------------------------------------------------------------------------------------------------------------------------------------------------------------------------------------------------------------------------------------------------------------------------------------------------------------------------------------------------------------------------------------------------------------------------------------------------------------------------------------------------------------------------------------------------------------------------------------------------------------------------------------------------------------------------------------------------------------------------------------------------------------------------------------------------------------------------------------------------------------------------------------------------------------------------------------------------------------------------------------------------------------------------------------------------------------------------------------------------------------------------------------------------------------------------------------------------------------------------------------------------------------------------------------------------------------------------------------------------------------------------------------------------------------------------------------------------------------------------------------------------------------------------------------------------------------------------------------------------------------------------------------------------------------------------------------------------------------------------------------------------------------------------------------------------------------------------------------------------------------------------------------------------------------------------------------------------------------------------------------------------------------------------------------------------------------------------------------------------------------------------------------------------------------+\n",
      "|person_id:949256266 name:Vivian Weng address:SINGAPORE headline:Product Design, Strategy & Managment created_at:2023-12-11 06:18:08.13904 customer_id:7538cb11-1c23-4c76-87c7-5111a0f166dc education:[{null, University of California, Berkeley - Walter A. Haas School of Business, null, MBA, Finance, 2007-01-01, 2009-01-01}, {null, National Taiwan University, null, BA, International Relations, 1998-01-01, 2002-01-01}, {null, Yale University, null, MA, International Developmental Economics, 2002-01-01, 2003-01-01}] employments:[{1660, Apple, null, Product Design Producer, International Product Design, 2019-04-01, null, 31949031445.00, 224704, AAPL}, {59, Goldman Sachs, null, Investment Banking Division Summer Associate, 2008-06-01, 2008-08-01, 8417546311.00, 75859, GS}] urls:[{linkedin, https://www.linkedin.com/in/vivian-weng-4a0b884}]                                                                                                                                                                                                                                                                                                                                                                                                                                                                                                                                                                                                                                                                                                                                                                                                                                                                                                                                                                                                                                                                                                                                                                                                                                                                                                                                                                                                                                                                                                                                                                                                                                                                                                                                                                                                                                                                                                                                                                                                                                                                                                                                                                                                                                                                                                                                                                                                                                                                                                                            |\n",
      "|person_id:48171849 name:Courtney Turner address:Toledo, Ohio, US description:The search for something profound usually begins on a quest of \"self.\" created_at:2023-12-11 06:18:08.13904 updated_at:2023-10-14 21:35:03.103333 customer_id:7538cb11-1c23-4c76-87c7-5111a0f166dc education:[{null, The University Of Akron, null, null, null, null}] employments:[{1660, Apple, null, Product Specialist, 2016-11-01, null, 31949031445.00, 224704, AAPL}, {1660, Apple, null, Creative Trainer, 2018-03-01, null, 31949031445.00, 224704, AAPL}] urls:[{linkedin, https://www.linkedin.com/in/courtney-turner-11949310a}]                                                                                                                                                                                                                                                                                                                                                                                                                                                                                                                                                                                                                                                                                                                                                                                                                                                                                                                                                                                                                                                                                                                                                                                                                                                                                                                                                                                                                                                                                                                                                                                                                                                                                                                                                                                                                                                                                                                                                                                                                                                                                                                                                                                                                                                                                                                                                                                                                                                                                                                                                                                                                                                                                                                                                                            |\n",
      "|person_id:74707094 name:Katie Richter address:Austin, Texas, US description:Retail Business Specialist, Assistant Supervisor created_at:2023-12-11 06:18:08.13904 updated_at:2023-10-14 21:35:03.103333 customer_id:7538cb11-1c23-4c76-87c7-5111a0f166dc education:[{null, Rhodes College, Bachelors;Bachelor Of Science, Theater;Theatre, 2000-01-01, 2004-01-01}] employments:[{1660, Apple, null, RETAIL SALES SUPPORT SPECIALIST, TEAM DEPUTY, 2012-09-01, null, 31949031445.00, 224704, AAPL}, {1660, Apple, null, Recruiting Coordinator, 2016-11-01, null, 31949031445.00, 224704, AAPL}] urls:[{linkedin, https://www.linkedin.com/in/katie-richter-324083107}]                                                                                                                                                                                                                                                                                                                                                                                                                                                                                                                                                                                                                                                                                                                                                                                                                                                                                                                                                                                                                                                                                                                                                                                                                                                                                                                                                                                                                                                                                                                                                                                                                                                                                                                                                                                                                                                                                                                                                                                                                                                                                                                                                                                                                                                                                                                                                                                                                                                                                                                                                                                                                                                                                                                              |\n",
      "|person_id:1373896 name:Chelsea Kanduth address:Chicago, Illinois, US headline:Advertising Guru - Multi-Channel Sales Planner at Chicago Tribune description:Experienced Account Coordinator with a demonstrated history of working in the marketing and advertising industry, focusing on providing clients with technology that best suits their needs. A creative thinker, proficient problem solver and strong communicator with a Bachelor of Science (B.S.) in Marketing from St. Cloud State University - Herberger Business School. created_at:2023-12-11 06:18:08.13904 updated_at:2023-10-26 15:57:22.35 customer_id:7538cb11-1c23-4c76-87c7-5111a0f166dc education:[{6356260, St. Cloud State University - Herberger Business School, Bachelor of Science (B.S.), Marketing, 2012-01-01, 2017-01-01}, {null, Griffith College (AUS), Bachelor of Science (BS), Marketing, 2016-01-01, 2016-01-01}] employments:[{4053, Spotify, null, Account Manager, 2021-08-01, null, 11991621471.00, 13917, SPOT}] urls:[{linkedin, https://www.linkedin.com/in/chelseakanduth}]                                                                                                                                                                                                                                                                                                                                                                                                                                                                                                                                                                                                                                                                                                                                                                                                                                                                                                                                                                                                                                                                                                                                                                                                                                                                                                                                                                                                                                                                                                                                                                                                                                                                                                                                                                                                                                                                                                                                                                                                                                                                                                                                                                                                                                                                                                                       |\n",
      "|person_id:51432999 name:Juan Sanchez address:Boise, Idaho, US description:Art Director at Apple created_at:2023-12-11 06:18:08.13904 updated_at:2023-10-18 23:07:47.696666 customer_id:7538cb11-1c23-4c76-87c7-5111a0f166dc education:[{null, Minico High School, null, null, 2011-01-01, 2014-01-01}] employments:[{1660, Apple, Director, Art Director, null, null, 31949031445.00, 224704, AAPL}] urls:[{linkedin, https://www.linkedin.com/in/juan-sanchez-884997117}]                                                                                                                                                                                                                                                                                                                                                                                                                                                                                                                                                                                                                                                                                                                                                                                                                                                                                                                                                                                                                                                                                                                                                                                                                                                                                                                                                                                                                                                                                                                                                                                                                                                                                                                                                                                                                                                                                                                                                                                                                                                                                                                                                                                                                                                                                                                                                                                                                                                                                                                                                                                                                                                                                                                                                                                                                                                                                                                           |\n",
      "|person_id:1420981 name:Jasmine Scofield address:Santa Clara, California, US headline:Senior Payroll Analyst at Netflix description:6+ years in End-To-End payroll processing. Multi State/Local tax authorities. SOX compliant. Strategic business partner / payroll project management. Proficient in managing ESPP Purchases, 401k Year End Audits, Visa processes, payroll accounting created_at:2023-12-11 06:18:08.13904 updated_at:2023-10-26 15:57:22.35 customer_id:7538cb11-1c23-4c76-87c7-5111a0f166dc education:[{193734, Diablo Valley College, Business Administration and Management, General, null, null, null}, {195568, Evergreen Valley College, Small Business Administration/Management, null, null, null}, {195568, Evergreen Valley College, Business Administration and Management, General, null, null, null}] employments:[{2289, Netflix, null, Senior Payroll Analyst, 2020-10-01, null, 8772810300.00, 15635, NFLX}, {47401, Pure Storage, null, Payroll Analyst, 2019-06-01, 2020-10-01, 619291893.00, 4443, PSTG}, {47401, Pure Storage, null, Senior Payroll Analyst, 2020-03-01, 2020-10-01, 619291893.00, 4443, PSTG}] urls:[{linkedin, https://www.linkedin.com/in/jasmine-scofield-85049ab6}]                                                                                                                                                                                                                                                                                                                                                                                                                                                                                                                                                                                                                                                                                                                                                                                                                                                                                                                                                                                                                                                                                                                                                                                                                                                                                                                                                                                                                                                                                                                                                                                                                                                                                                                                                                                                                                                                                                                                                                                                                                                                                                                                                                     |\n",
      "|person_id:22565708 name:Tim Wong address:Danville, California, US headline:Technical Marketing for Autonomous Vehicles, NVIDIA description:Execution fanatic empowered by driving and developing organizations and facilitating its tight synchronization via communication.  Consistently able to deliver business and technical results with extensive planning including risk assessments, while keeping up a rapid rate of positive progress. created_at:2023-12-11 06:18:08.13904 updated_at:2023-11-01 07:37:43.566666 customer_id:7538cb11-1c23-4c76-87c7-5111a0f166dc education:[{null, At&T School Of Business / Wharton School At Upenn, Master Of Business Administration;Masters, Finance, 1995-01-01, 1995-01-01}, {null, University Of Southern California, Master Of Science;Masters, Computer Science, 1987-09-01, 1988-01-01}, {null, Boston University, Bachelors;Bachelor Of Science, Computer Engineering, 1982-09-01, 1986-01-01}, {null, Punahou School, null, null, 1972-01-01, 1982-01-01}, {null, Lucent / Stevens Inst. Of Tech, null, Management, 1997-01-01, 1997-01-01}] employments:[{905, Nokia, Director, IT Director, 1996-09-01, 1999-10-01, 1787827.00, 81341, NOK}, {4360, NVIDIA, null, Technical Marketing for Automotive Vehicles, 2014-12-01, null, 18110805495.00, 24468, NVDA}] urls:[{linkedin, https://www.linkedin.com/in/timwong}, {facebook, facebook.com/timwong314}, {twitter, twitter.com/wongtim}]                                                                                                                                                                                                                                                                                                                                                                                                                                                                                                                                                                                                                                                                                                                                                                                                                                                                                                                                                                                                                                                                                                                                                                                                                                                                                                                                                                                                                                                                                                                                                                                                                                                                                                                                                                                                                                                                                                                                                |\n",
      "|person_id:71726687 name:Katherine Hicks address:Bay Village, Ohio, US description:Results Driven, Creative Leader with Exceptional People Skills created_at:2023-12-11 06:18:08.13904 updated_at:2023-10-14 21:35:03.103333 customer_id:7538cb11-1c23-4c76-87c7-5111a0f166dc education:[{null, Barnard College, Bachelors, Music, 2006-01-01, 2010-01-01}] employments:[{1660, Apple, null, At-Home Advisor, 2015-08-01, null, 31949031445.00, 224704, AAPL}] urls:[{linkedin, https://www.linkedin.com/in/katherine-hicks-437046101}]                                                                                                                                                                                                                                                                                                                                                                                                                                                                                                                                                                                                                                                                                                                                                                                                                                                                                                                                                                                                                                                                                                                                                                                                                                                                                                                                                                                                                                                                                                                                                                                                                                                                                                                                                                                                                                                                                                                                                                                                                                                                                                                                                                                                                                                                                                                                                                                                                                                                                                                                                                                                                                                                                                                                                                                                                                                               |\n",
      "|person_id:20891932 name:Cynthia Collins address:San Francisco, California, US description:18 years of progressive experience in Human Resources, Organizational Development, Program and People Management. Proven success in delivering high quality results in alignment with business strategies, client objectives and company culture. created_at:2023-12-11 06:18:08.13904 updated_at:2023-10-14 21:35:03.103333 customer_id:7538cb11-1c23-4c76-87c7-5111a0f166dc education:[{null, University Of Washington, null, Communications, null, null}, {null, San Jose State University, Bachelors;Bachelor Of Arts, Journalism, null, null}] employments:[{1660, Apple, null, Senior Human Resources Business Partner, 2012-02-01, null, 31949031445.00, 224704, AAPL}, {1660, Apple, null, Customer Relations Supervisor, 1986-01-01, 1989-01-01, 31949031445.00, 224704, AAPL}, {1660, Apple, Manager, Customer Relations Manager, 1989-01-01, 1991-01-01, 31949031445.00, 224704, AAPL}, {1660, Apple, null, Customer Relations Specialist, 1985-01-01, 1986-01-01, 31949031445.00, 224704, AAPL}] urls:[{linkedin, https://www.linkedin.com/in/cynthia-collins-9658853b}]                                                                                                                                                                                                                                                                                                                                                                                                                                                                                                                                                                                                                                                                                                                                                                                                                                                                                                                                                                                                                                                                                                                                                                                                                                                                                                                                                                                                                                                                                                                                                                                                                                                                                                                                                                                                                                                                                                                                                                                                                                                                                                                                                                                                                       |\n",
      "|person_id:22355698 name:Ritchie Lozada address:San Francisco, California, US description:Passion for complex development projects. created_at:2023-12-11 06:18:08.13904 updated_at:2023-10-14 21:35:03.103333 customer_id:7538cb11-1c23-4c76-87c7-5111a0f166dc education:[{null, Ateneo De Manila University, null, Computer Science, null, null}] employments:[{1660, Apple, null, Software Engineer, 2018-01-01, null, 31949031445.00, 224704, AAPL}, {201690, Microsoft, null, Principal Consultant, Microsoft Consulting Services, 1999-01-01, 2008-01-01, 63043059112.00, 230609, MSFT}, {201690, Microsoft, null, Principal Software Development Engineer, Dx-Ted And Commercial Software Engineering, 1999-11-01, 2018-01-01, 63043059112.00, 230609, MSFT}] urls:[{linkedin, https://www.linkedin.com/in/ritchielozada}, {github, github.com/rlozada}]                                                                                                                                                                                                                                                                                                                                                                                                                                                                                                                                                                                                                                                                                                                                                                                                                                                                                                                                                                                                                                                                                                                                                                                                                                                                                                                                                                                                                                                                                                                                                                                                                                                                                                                                                                                                                                                                                                                                                                                                                                                                                                                                                                                                                                                                                                                                                                                                                                                                                                                                       |\n",
      "|person_id:734368 name:Abby Anderson Edling address:San Francisco, California, US headline:Marketing at Apple description:Results-oriented marketing professional with over 16 years of marketing experience across brand management, online marketing, email marketing, and digital marketing. Passionate about personalized marketing experiences enabled through close partnerships with Product Management, Analytics, Merchandising, and Marketing. Recognized for an enthusiasm to enhance the customer experience by offering innovative solutions that deliver improved performance results. created_at:2023-12-11 06:18:08.13904 updated_at:2023-10-18 23:07:47.696666 customer_id:7538cb11-1c23-4c76-87c7-5111a0f166dc education:[{194218, Complutense University of Madrid, Spanish Language Studies, Cultural Experiences Abroad, 2001-01-01, 2001-01-01}, {196266, California Polytechnic State University, B.S., Business Administration, Management, 1998-01-01, 2002-01-01}] employments:[{1660, Apple, null, Marketing, 2018-04-01, null, 31949031445.00, 224704, AAPL}, {1660, Apple, null, Apple News Marketing Lead, 2018-03-01, 2019-07-01, 31949031445.00, 224704, AAPL}, {10456, Gap, Manager, Sr. Marketing Manager, Site & Email Marketing - Gap Online, 2010-02-01, 2011-03-01, 4924429921.00, 61976, GPS}, {10456, Gap, Manager, Sr. Manager Global Display Media, Gap Inc., 2011-05-01, 2015-07-01, 4924429921.00, 61976, GPS}, {10456, Gap, null, Sr. Coordinator, Gap Brand Management, 2003-02-01, 2005-01-01, 4924429921.00, 61976, GPS}, {10456, Gap, Manager, Marketing Manager, Site & Email Marketing - Gap Online, 2007-08-01, 2010-02-01, 4924429921.00, 61976, GPS}, {10456, Gap, Director, Director Global Display Media, Gap Inc., 2015-08-01, 2016-07-01, 4924429921.00, 61976, GPS}, {10456, Gap, Manager, Associate Marketing Manager, Site & Email Marketing - Gap Online, 2005-05-01, 2007-07-01, 4924429921.00, 61976, GPS}, {10456, Gap, Manager, Assistant Brand Manager, Gap Brand Management, 2005-02-01, 2005-04-01, 4924429921.00, 61976, GPS}] urls:[{linkedin, https://www.linkedin.com/in/abby-anderson-edling-556b933}, {crunchbase, https://crunchbase.com/person/abby-anderson-edling}]                                                                                                                                                                                                                                                                                                                                                                                                                                                                                                                                                                                                                                                                                                                                                                                                                                                                                                                                                                                                                                                                                                                                                    |\n",
      "|person_id:574392 name:Dushyant Sapre 杜勝 address:SG headline:Managing Director MoPub@Twitter| Venture Partner@Antler| Champion for inclusion & diversity in Tech| INSEAD and IIT description:A well rounded digital business leader with expertise in managing JAPAC P&L, attracting top talent and building sustainable go-to-market strategy for Asia-Pacific expansion.\\nSuccessfully built multi million dollar SaaS based B2B businesses in mobile gaming, e-commerce & online media.\\nPassionate about working with people across cultures and committed to supporting inclusion and women in tech.\\nProud alum of IIT Delhi (Engineering) and INSEAD (MBA). created_at:2023-12-11 06:18:08.13904 updated_at:2023-10-23 05:09:06.036666 customer_id:7538cb11-1c23-4c76-87c7-5111a0f166dc education:[{196642, Indian Institute of Technology, Delhi, Bachelor of Technology (B.Tech.), null, null, null}, {null, Dartmouth College - The Tuck School of Business at Dartmouth, Business Bridge Program, null, null, null}, {204949, INSEAD, Master of Business Administration (M.B.A.), null, null, null}] employments:[{13, Twitter, Director, Managing Director for Japan and Asia Pacific, Mopub, 2019-09-01, null, 1411687950.00, 3346, TWTR}, {392, HP, Manager, Zonal Business Manager- Emerging Businesses, 2008-10-01, 2010-10-01, 8310460573.00, 140703, HPQ}, {392, HP, Manager, Territory Manager - Personal Systems Group, 2007-06-01, 2008-10-01, 8310460573.00, 140703, HPQ}] urls:[{linkedin, https://www.linkedin.com/in/dushyantsapre}, {crunchbase, https://crunchbase.com/person/dushyant-sapre}]                                                                                                                                                                                                                                                                                                                                                                                                                                                                                                                                                                                                                                                                                                                                                                                                                                                                                                                                                                                                                                                                                                                                                                                                                                                                                                                                                                                                                                                                                                                                                                                                                                                                                                                                                                           |\n",
      "|person_id:586843 name:Mario Viviani address:London, England, GB headline:Manager, Developer Marketing & Evangelism, EU at Amazon description:My responsibility as Manager of Developer Marketing & Evangelism for Amazon Digital, Apps and Games Services (DAGS) is to lead the team focused on Amazon's engagement and outreach with the apps and games developer community in Europe, ensuring that developers are constantly kept up to date with the latest Amazon technologies and services related to devices like Amazon Fire TV, Amazon Fire Tablets and Appstore. I also act as Lead EU Technology Evangelist, attending and presenting at international developer events.\\nBetween 2015 and 2019 I've been the lead Technology Evangelist for Amazon Digital Apps and Games Services in Europe. Since 2019 I lead the Developer Marketing Team EU.\\nI'm an Android Developer since 2010, and I have published 95+ Android apps on various app stores.\\nIn 2011 I founded the startup Mariux Apps, based in Milan, Italy.\\nAt Mariux Apps my products received 12.000.000+ total downloads and are currently ranked in the Top 100 apps for Personalization and Customization apps in Google Play.\\nI teamed up with other young developers, graphic designers and entrepreneurs to become part of project \"Talent Garden\" in nothern Italy, a network of Co-Working spaces.\\nI have deep experience with Wearables Development, on Android Wear and Google Glass. I also have experience in Games and Virtual Reality Development (Unity, Oculus VR).\\nAt Mariux Apps I've been also working as Leap Motion developer, and I've done research on Hand Gestures recognition and Hand Gestures UI/UX.\\nI've been nominated Google Developer Expert (GDE) for Android by Google in 2013, and been renewed GDE in 2014 and 2015.\\nI'm strongly active in the international Android Community, and I partecipate as speaker in a lot of major events worldwide (Google I/O, Droidcon, Android Developer Days, GDG Summits..)\\nSpecialist in: Developer Evangelism, Software Development, Mobile Applications Development, Marketing, Entrepreneurship, Team Leading, Team Management, Community Building, Community Engagement, Developer Partnerships, Games Development, Games Feature Integrations, Virtual Reality development. created_at:2023-12-11 06:18:08.13904 updated_at:2023-10-23 03:55:58.36 customer_id:7538cb11-1c23-4c76-87c7-5111a0f166dc education:[{null, Università degli Studi di Milano, Informatics and Digital Communications, null, null, null}, {null, Liceo Classico Sarpi, null, null, null, null}] employments:[{4360, NVIDIA, Manager, Manager, Developer Relations - NVIDIA Omniverse, 2022-07-01, null, 18110805495.00, 24468, NVDA}, {203437, Amazon, null, Technology Evangelist, UK, 2015-10-01, 2017-05-01, 211502699971.00, 750138, AMZN}, {203437, Amazon, Manager, Manager, Developer Marketing & Evangelism, EU, 2019-07-01, 2021-02-01, 211502699971.00, 750138, AMZN}, {203437, Amazon, Head of ..., Head of Developer Evangelism, Worldwide (Apps & Games), 2021-02-01, 2022-06-01, 211502699971.00, 750138, AMZN}, {203437, Amazon, null, Technology Evangelist, EU, 2017-05-01, 2019-07-01, 211502699971.00, 750138, AMZN}] urls:[{linkedin, https://www.linkedin.com/in/marioviviani}, {crunchbase, https://crunchbase.com/person/mario-viviani}]|\n",
      "|person_id:1421522 name:Maria Kavaliova address:Atlanta Metropolitan Area, US headline:Staff Data Scientist at Tesla description:14+ years of Hands-on and Management experience in delivering Machine Learning Solutions and data-driven Analytics for international Financial Services / Fintech / Technology Companies and Markets. From concept to production, Technical Leader and Developer of Predictive models used throughout the entire Customer lifecycle. Credit Risk Management and Predictive Modeling for Underwriting and Account Management, Collection models / Fraud Risk Management for Payments for new and existing Customers / People Analytics and Modeling (Flight Risk) / Marketing and Customer Analytics, Uplift and Propensity Modeling, Customer Acquisition, LTV, Churn and Conversion models. Experienced with B2C and B2B Portfolios and Companies globally (North America, EMEA, APAC and LATAM). created_at:2023-12-11 06:18:08.13904 updated_at:2023-10-26 15:57:22.35 customer_id:7538cb11-1c23-4c76-87c7-5111a0f166dc education:[{192997, Belarusian State University, Master's, Applied Mathematics and Computer science / Mathematical Economics, 2003-01-01, 2008-01-01}, {199265, Stanford University, Continuing Education class, Cultivating Healthy Company Culture: Building Strong Teams And Engaging Top Talent, 2019-01-01, 2019-01-01}, {77894, Udacity, Nanodegree, Machine Learning Engineer, 2018-01-01, 2018-01-01}, {null, BSU Lyceum, null, null, null, null}] employments:[{1694, Tesla, null, Staff Data Scientist, 2020-07-01, null, 11324332089.00, 54953, TSLA}, {70092, Oportun, null, Principal Data Scientist, Senior Manager, 2017-06-01, 2019-02-01, 232766241.00, 3543, OPRT}, {351, Citi, null, Assistant Vice President, Global Modeling and Risk Analytics, 2011-04-01, 2012-12-01, 26884682414.00, 178620, C}, {351, Citi, VP, Vice President, Global Modeling and Risk Analytics, 2013-01-01, 2016-01-01, 26884682414.00, 178620, C}, {351, Citi, VP, Senior Vice President, Global Modeling and Risk Analytics, 2016-01-01, 2016-02-01, 26884682414.00, 178620, C}, {361, PayPal, null, Principal Data Scientist, Global Risk and Data Science, 2016-02-01, 2017-06-01, 4246278479.00, 29987, PYPL}] urls:[{linkedin, https://www.linkedin.com/in/maria-kavaliova-05772232}]                                                                                                                                                                                                                                                                                                                                                                                                                                                                                                                                                                                                                                                                                                                                                                                                                                                                                                                                                                                                                                                 |\n",
      "|person_id:1205136 name:Ken White address:San Francisco, California, US headline:Sales Director - Media & Entertainment created_at:2023-12-11 06:18:08.13904 updated_at:2023-10-19 07:24:05.526666 customer_id:7538cb11-1c23-4c76-87c7-5111a0f166dc education:[{195422, University of Arizona, null, null, 1990-01-01, 1995-01-01}] employments:[{4360, NVIDIA, Director, Sales Director - Media and Entertainment - US, 2020-06-01, null, 18110805495.00, 24468, NVDA}] urls:[{linkedin, https://www.linkedin.com/in/ken-white-76a5632b}]                                                                                                                                                                                                                                                                                                                                                                                                                                                                                                                                                                                                                                                                                                                                                                                                                                                                                                                                                                                                                                                                                                                                                                                                                                                                                                                                                                                                                                                                                                                                                                                                                                                                                                                                                                                                                                                                                                                                                                                                                                                                                                                                                                                                                                                                                                                                                                                                                                                                                                                                                                                                                                                                                                                                                                                                                                                            |\n",
      "|person_id:820951 name:Manuel Vivoda address:San Francisco, California, US headline:Creative Technical Program Manager at Twitter created_at:2023-12-11 06:18:08.13904 updated_at:2023-10-14 21:35:03.103333 customer_id:7538cb11-1c23-4c76-87c7-5111a0f166dc education:[{null, Academy of Advertisment, Salzburg, null, null, null, null}, {null, Federal higher technical institute, Klagenfurt, null, null, null, null}, {335913, University of Applied Sciences Upper Austria, Bachelor of Science (B.Sc.), Media Technology and Design, 2007-01-01, 2010-01-01}] employments:[{13, Twitter, Manager, Creative Technical Program Manager, 2019-01-01, null, 1411687950.00, 3346, TWTR}] urls:[{linkedin, https://www.linkedin.com/in/manuel-vivoda-12a827b2}, {crunchbase, https://crunchbase.com/person/manny-vivoda}, {github, github.com/manuel-vivoda}]                                                                                                                                                                                                                                                                                                                                                                                                                                                                                                                                                                                                                                                                                                                                                                                                                                                                                                                                                                                                                                                                                                                                                                                                                                                                                                                                                                                                                                                                                                                                                                                                                                                                                                                                                                                                                                                                                                                                                                                                                                                                                                                                                                                                                                                                                                                                                                                                                                                                                                                                       |\n",
      "|person_id:96276184 name:Julie Smith address:Cambridge, Massachusetts, US description:CEO at Apple Inc. created_at:2023-12-11 06:18:08.13904 updated_at:2023-10-23 03:55:58.36 customer_id:7538cb11-1c23-4c76-87c7-5111a0f166dc education:[{null, Harvard Kennedy School, Masters;Master Of Public Administration, Public Administration, 2011-01-01, 2012-01-01}, {null, William & Mary, Bachelors;Bachelor Of Science, Physics, 1998-01-01, 2002-01-01}] employments:[{1660, Apple, CXO, Chief Executive Officer, 2007-03-01, null, 31949031445.00, 224704, AAPL}] urls:[{linkedin, https://www.linkedin.com/in/julie-smith-579b1155}]                                                                                                                                                                                                                                                                                                                                                                                                                                                                                                                                                                                                                                                                                                                                                                                                                                                                                                                                                                                                                                                                                                                                                                                                                                                                                                                                                                                                                                                                                                                                                                                                                                                                                                                                                                                                                                                                                                                                                                                                                                                                                                                                                                                                                                                                                                                                                                                                                                                                                                                                                                                                                                                                                                                                                              |\n",
      "|person_id:54233909 name:Lily Dorsey address:Colorado Springs, Colorado, US headline:MBA Candidate at UT Tyler description:Graduate from the University of Texas at Tyler with a B.A. in political science and a concentration in mass communications (multimedia journalism).\\n\\nOver time, I have worn different hats. The similarity between them all has been their motivation toward helping others and always striving to do what's right, whether it's the risky or unpopular opinion. Through it all I have gained better insight on why “it’s not what you do, it’s why you do it.”\\n\\nI pride myself in being two things: a leader and a creative mind. My main objective in everything that I do is that it should in some way better the world, those around me, and last but not least, myself.\\n\\nOn the creative side, I started my own line of one of a kind, distressed+redressed tees for women and pets in 2017. Our store can be found on Etsy: gypsy x lily. I decided to launch this line to share my creative passion and hobby with others and give back by donating 10% of all sales to the American Cancer Society.\\n\\nAfter starting out in sales and leaving a Google partner company in the top 10 SDR, I found myself accepting the dream opportunity to start a career with Apple. I support Apple’s developers and my colleagues in anyway that I can.\\n\\nI’m always interested in an opportunity to challenge myself and others in a positive way. I'm a fast learner, hard worker and dedicated to meet any and every goal that is set for me or by me. I enjoy writing, editing, designing, organizational and project management.\\n\\nI’ve recently been accepted to my alma mater to continue my education and pursue an MBA in Cybersecurity.\\n\\nIf it interests you, let's see how we can help each other better the world. created_at:2023-12-11 06:18:08.13904 updated_at:2023-10-14 21:35:03.103333 customer_id:7538cb11-1c23-4c76-87c7-5111a0f166dc education:[{null, University Of Texas At Tyler, Bachelors;Bachelor Of Arts, Communication;Political Science, 2013-01-01, 2016-01-01}, {null, Austin Community College, null, Business, 2011-01-01, 2013-01-01}] employments:[{1660, Apple, null, Developer Partner Relations Advisor, 2018-02-01, 2019-07-01, 31949031445.00, 224704, AAPL}, {1660, Apple, null, Specialty Group Mentor, 2019-06-01, 2021-11-01, 31949031445.00, 224704, AAPL}, {1660, Apple, null, Developer Partner Relations Senior Advisor, 2019-07-01, 2021-11-01, 31949031445.00, 224704, AAPL}, {1660, Apple, null, Financial Fraud Prevention Specialist, 2021-11-01, null, 31949031445.00, 224704, AAPL}, {1660, Apple, null, Annotation Specialist, 2021-03-01, 2021-09-01, 31949031445.00, 224704, AAPL}] urls:[{linkedin, https://www.linkedin.com/in/lbdors}]                                                                                                                                                                                                                                                                                                                                                                                                                                                                                                                                                              |\n",
      "|person_id:16135235 name:Jordan Redstone address:Cupertino, California, US headline:Music & Ent. VP Strategic Partnerships at Apple created_at:2023-12-11 06:18:08.13904 updated_at:2023-10-23 03:55:58.36 customer_id:7538cb11-1c23-4c76-87c7-5111a0f166dc education:[{null, Usc Gould School Of Law, Bachelors, Business;Law, null, null}, {null, University Of Southern California, Masters, Media Management, null, null}] employments:[{1660, Apple, VP, VP Strategist Partnerships, 2016-12-01, null, 31949031445.00, 224704, AAPL}] urls:[{linkedin, https://www.linkedin.com/in/jordanredstone}]                                                                                                                                                                                                                                                                                                                                                                                                                                                                                                                                                                                                                                                                                                                                                                                                                                                                                                                                                                                                                                                                                                                                                                                                                                                                                                                                                                                                                                                                                                                                                                                                                                                                                                                                                                                                                                                                                                                                                                                                                                                                                                                                                                                                                                                                                                                                                                                                                                                                                                                                                                                                                                                                                                                                                                                              |\n",
      "|person_id:20916348 name:David Kilzer address:San Francisco, California, US description:IT professional with over five years of experience integrating and contributing to open source software projects. Particularly adept at trouble-shooting and bug-fixing. Skilled at database administration, systems administration, software development and testing.\\n\\nSpecialties: Integrating open source software, contributing to open source projects, trouble-shooting, bug fixing. created_at:2023-12-11 06:18:08.13904 updated_at:2023-10-14 21:35:03.103333 customer_id:7538cb11-1c23-4c76-87c7-5111a0f166dc education:[{null, Iowa State University, Bachelors;Bachelor Of Science, Computer Engineering, 1991-01-01, 1996-01-01}] employments:[{1660, Apple, null, Senior Software Engineer, 2007-03-01, null, 31949031445.00, 224704, AAPL}, {3741, Texas Instruments, null, Software Designer, 1996-01-01, 1998-01-01, 3286532419.00, 28001, TXN}] urls:[{linkedin, https://www.linkedin.com/in/davidkilzer}, {github, github.com/ddkilzer}]                                                                                                                                                                                                                                                                                                                                                                                                                                                                                                                                                                                                                                                                                                                                                                                                                                                                                                                                                                                                                                                                                                                                                                                                                                                                                                                                                                                                                                                                                                                                                                                                                                                                                                                                                                                                                                                                                                                                                                                                                                                                                                                                                                                                                                                                                                                                                  |\n",
      "+-----------------------------------------------------------------------------------------------------------------------------------------------------------------------------------------------------------------------------------------------------------------------------------------------------------------------------------------------------------------------------------------------------------------------------------------------------------------------------------------------------------------------------------------------------------------------------------------------------------------------------------------------------------------------------------------------------------------------------------------------------------------------------------------------------------------------------------------------------------------------------------------------------------------------------------------------------------------------------------------------------------------------------------------------------------------------------------------------------------------------------------------------------------------------------------------------------------------------------------------------------------------------------------------------------------------------------------------------------------------------------------------------------------------------------------------------------------------------------------------------------------------------------------------------------------------------------------------------------------------------------------------------------------------------------------------------------------------------------------------------------------------------------------------------------------------------------------------------------------------------------------------------------------------------------------------------------------------------------------------------------------------------------------------------------------------------------------------------------------------------------------------------------------------------------------------------------------------------------------------------------------------------------------------------------------------------------------------------------------------------------------------------------------------------------------------------------------------------------------------------------------------------------------------------------------------------------------------------------------------------------------------------------------------------------------------------------------------------------------------------------------------------------------------------------------------------------------------------------------------------------------------------------------------------------------------------------------------------------------------------------------------------------------------------------------------------------------------------------------------------------------------------------------------------------------------------------------------------------------------------------------------------------------------------------------------------------------------------------------------------------------------------------+\n",
      "only showing top 20 rows\n",
      "\n"
     ]
    }
   ],
   "source": [
    "# Now, 'df_single_text' is a DataFrame where each row is a single text string\n",
    "single_file_for_each_person_df.show(truncate=False)"
   ]
  },
  {
   "cell_type": "code",
   "execution_count": null,
   "id": "941b2a7d-d6b7-421a-becc-5461b97bacc9",
   "metadata": {},
   "outputs": [],
   "source": []
  }
 ],
 "metadata": {
  "kernelspec": {
   "display_name": "Python 3 (ipykernel)",
   "language": "python",
   "name": "python3"
  },
  "language_info": {
   "codemirror_mode": {
    "name": "ipython",
    "version": 3
   },
   "file_extension": ".py",
   "mimetype": "text/x-python",
   "name": "python",
   "nbconvert_exporter": "python",
   "pygments_lexer": "ipython3",
   "version": "3.11.6"
  }
 },
 "nbformat": 4,
 "nbformat_minor": 5
}

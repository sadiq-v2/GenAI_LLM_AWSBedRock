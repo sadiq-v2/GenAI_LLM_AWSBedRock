{
 "cells": [
  {
   "cell_type": "code",
   "execution_count": 1,
   "id": "e66b8b3a-dca1-49a9-a0ae-c797caf01516",
   "metadata": {},
   "outputs": [],
   "source": [
    "from pyspark.sql import SparkSession\n",
    "from pyspark.sql.functions import count, col, concat_ws, row_number, desc\n",
    "from pyspark.sql import functions as F\n",
    "from pyspark.sql.window import Window\n",
    "from pyspark.sql.types import StructType, StructField, StringType, TimestampType\n",
    "import pandas as pd\n",
    "import os\n",
    "import json"
   ]
  },
  {
   "cell_type": "code",
   "execution_count": 2,
   "id": "809d2c81-b2cd-4564-9ebd-bac25ce1f7a6",
   "metadata": {},
   "outputs": [],
   "source": [
    "# Initialize SparkSession\n",
    "spark = SparkSession.builder \\\n",
    "    .appName('aws_connection') \\\n",
    "    .getOrCreate()"
   ]
  },
  {
   "cell_type": "code",
   "execution_count": 3,
   "id": "a0369575-65d5-4f65-9331-bca4572e5756",
   "metadata": {},
   "outputs": [],
   "source": [
    "# Preparing Master Pyspark DataFrame, Will have all the Features, \n",
    "# and the respective prompts will have specific features \n",
    "\n",
    "# Define the base path\n",
    "base_path = '/home/jovyan/work/data_files/'\n",
    "\n",
    "# Read CSV files into DataFrames\n",
    "people_df = pd.read_csv(base_path + 'people.csv')\n",
    "person_educations_df = pd.read_csv(base_path + 'person_educations.csv')\n",
    "person_employments_df = pd.read_csv(base_path + 'person_employments.csv')\n",
    "company_sectors_df = pd.read_csv(base_path + 'company_sectors.csv')\n",
    "company_headcounts_df = pd.read_csv(base_path + 'company_headcounts.csv')\n",
    "company_annual_revenues_df = pd.read_csv(base_path + 'company_annual_revenues.csv')\n",
    "\n"
   ]
  },
  {
   "cell_type": "code",
   "execution_count": 4,
   "id": "d3c2c88e-ef58-40f1-9eb3-b77bef943397",
   "metadata": {},
   "outputs": [],
   "source": [
    "people_spark_df=spark.createDataFrame(people_df)\n",
    "person_educations_spark_df=spark.createDataFrame(person_educations_df)\n",
    "person_employments_spark_df=spark.createDataFrame(person_employments_df)\n",
    "company_sectors_spark_df=spark.createDataFrame(company_sectors_df)\n",
    "company_headcounts_spark_df=spark.createDataFrame(company_headcounts_df)\n",
    "company_annual_revenues_spark_df=spark.createDataFrame(company_annual_revenues_df)\n"
   ]
  },
  {
   "cell_type": "code",
   "execution_count": 5,
   "id": "66a67c23-0eeb-46e5-b3b1-345a9939ea50",
   "metadata": {},
   "outputs": [],
   "source": [
    "people_df = people_spark_df\n",
    "person_educations_df = person_educations_spark_df\n",
    "person_employments_df = person_employments_spark_df\n",
    "company_sectors_df = company_sectors_spark_df\n",
    "company_headcounts_df = company_headcounts_spark_df\n",
    "company_annual_revenues_df = company_annual_revenues_spark_df"
   ]
  },
  {
   "cell_type": "markdown",
   "id": "750fde0b-5424-4752-9ceb-7875a2e77b46",
   "metadata": {},
   "source": [
    "***Function to check the uniqueness of data***"
   ]
  },
  {
   "cell_type": "code",
   "execution_count": 6,
   "id": "e719f331-08a1-4536-9e62-37c4262f6e25",
   "metadata": {},
   "outputs": [],
   "source": [
    "def check_uniqueness(df, column_name):\n",
    "    # Add a new column 'is_duplicate' that flags if column_name is duplicated\n",
    "    df_duplicates_check = df.withColumn('is_duplicate', count(column_name).over(Window.partitionBy(column_name)) > 1)\n",
    "\n",
    "    # If any 'is_duplicate' is True, then DataFrame is not unique based on column_name\n",
    "    if df_duplicates_check.filter(col('is_duplicate')).count() > 0:\n",
    "        print(f\"DataFrame is not unique based on {column_name}\")\n",
    "    else:\n",
    "        print(f\"DataFrame is unique based on {column_name}\")"
   ]
  },
  {
   "cell_type": "code",
   "execution_count": 7,
   "id": "059db9fc-15fa-4238-9236-09932e7d33ff",
   "metadata": {},
   "outputs": [
    {
     "name": "stdout",
     "output_type": "stream",
     "text": [
      "DataFrame is unique based on id\n"
     ]
    }
   ],
   "source": [
    "check_uniqueness(people_df, 'id')"
   ]
  },
  {
   "cell_type": "markdown",
   "id": "9bb9ccf7-a28d-400d-9f23-8634509a22cf",
   "metadata": {},
   "source": [
    "***Function to check the counts of data***"
   ]
  },
  {
   "cell_type": "code",
   "execution_count": 8,
   "id": "e2524bc9-4b3e-4451-98f3-dbb4352b5ed9",
   "metadata": {},
   "outputs": [],
   "source": [
    "def count_records(df):\n",
    "    \"\"\"\n",
    "    This function counts the number of records in a DataFrame.\n",
    "\n",
    "    Parameters:\n",
    "    df (DataFrame): The DataFrame for which to count the records.\n",
    "\n",
    "    Returns:\n",
    "    int: The number of records in the DataFrame.\n",
    "    \"\"\"\n",
    "    # Use the count() function to count the number of rows in the DataFrame\n",
    "    num_records = df.count()\n",
    "\n",
    "    # Return the number of records\n",
    "    return num_records"
   ]
  },
  {
   "cell_type": "markdown",
   "id": "53db3aec-833d-4723-8747-76f73cf30c4e",
   "metadata": {},
   "source": [
    "***People Table Transformation***"
   ]
  },
  {
   "cell_type": "code",
   "execution_count": 9,
   "id": "479eba0a-5299-4a14-bbe9-3134e80c4065",
   "metadata": {},
   "outputs": [],
   "source": [
    "# Select specific columns from the 'people_df' DataFrame, rename the 'id' column to 'person_id',\n",
    "# and concatenate 'address', 'city', 'region', 'postal_code', 'country' columns with a comma separator\n",
    "people_selected_df = people_df.select('id', 'name', 'address', 'city', 'region', 'postal_code', 'country', 'headline','description', 'created_at', 'updated_at')\\\n",
    "                              .withColumnRenamed('id', 'person_id')\\\n",
    "                              .withColumn('address', concat_ws(', ', 'address', 'city', 'region', 'postal_code', 'country'))\n",
    "\n",
    "people_selected_df = people_selected_df.select('person_id', 'name', 'address','headline','description', 'created_at', 'updated_at')\n",
    "\n",
    "# people_selected_df.show()"
   ]
  },
  {
   "cell_type": "code",
   "execution_count": 10,
   "id": "88088378-29fc-4cd8-a8f9-d02ead00f99f",
   "metadata": {},
   "outputs": [
    {
     "data": {
      "text/plain": [
       "999"
      ]
     },
     "execution_count": 10,
     "metadata": {},
     "output_type": "execute_result"
    }
   ],
   "source": [
    "count_records(people_selected_df)"
   ]
  },
  {
   "cell_type": "markdown",
   "id": "c650558e-331c-4e08-9def-5917d4ca9db6",
   "metadata": {},
   "source": [
    "***Transformation for the \"person_customer\" table***"
   ]
  },
  {
   "cell_type": "code",
   "execution_count": 11,
   "id": "9ee0a65a-02ad-4b34-8004-8d3356d1b743",
   "metadata": {},
   "outputs": [],
   "source": [
    "#count_records(person_customer_df)\n",
    "\n",
    "# person_customer_df.show()"
   ]
  },
  {
   "cell_type": "code",
   "execution_count": 12,
   "id": "d5f7ff36-9115-453c-b965-1a548dac5c91",
   "metadata": {},
   "outputs": [],
   "source": [
    "#check_uniqueness(person_customer_df,'person_id')"
   ]
  },
  {
   "cell_type": "code",
   "execution_count": 13,
   "id": "2b8a915a-a978-4689-9725-fd494a565158",
   "metadata": {},
   "outputs": [],
   "source": [
    "# Call the 'check_uniqueness' function on 'person_customer_df' DataFrame to check if 'person_id' is unique\n",
    "#check_uniqueness(person_customer_df,'person_id')"
   ]
  },
  {
   "cell_type": "markdown",
   "id": "2c114459-adda-48e0-bf87-4e8268bec1ab",
   "metadata": {},
   "source": [
    "***Transformation for \"Person Education\" table***"
   ]
  },
  {
   "cell_type": "code",
   "execution_count": 14,
   "id": "926e31c7-fa6a-42a2-abb3-dc904b478f95",
   "metadata": {},
   "outputs": [
    {
     "data": {
      "text/plain": [
       "1209"
      ]
     },
     "execution_count": 14,
     "metadata": {},
     "output_type": "execute_result"
    }
   ],
   "source": [
    "count_records(person_educations_df)\n",
    "# person_educations_df.show()"
   ]
  },
  {
   "cell_type": "code",
   "execution_count": 15,
   "id": "dedd7d4b-7ebd-42e6-946e-823a410c24a7",
   "metadata": {},
   "outputs": [],
   "source": [
    "# Define a struct for each institute\n",
    "institute_struct = F.struct(\n",
    "    \"institution_id\", \"institution_name\", \"degree\", \"subject\", \"started_on\", \"ended_on\"\n",
    ")\n",
    "\n",
    "# Group by person_id and collect list of institute details as structs\n",
    "grouped_educations_df = person_educations_df.groupBy(\"person_id\").agg(\n",
    "    F.collect_list(institute_struct).alias(\"education\")\n",
    "    # (\"education - (institution_id, institution_name, degree, subject, started_on, ended_on)\")\n",
    ")\n",
    "\n",
    "person_education_group_df = grouped_educations_df\n",
    "\n",
    "\n",
    "\n",
    "# Show the result\n",
    "# person_education_group_df.show(truncate=False)\n"
   ]
  },
  {
   "cell_type": "code",
   "execution_count": 16,
   "id": "5c0432f2-725e-4f54-9d44-0f992d0f82ae",
   "metadata": {},
   "outputs": [
    {
     "name": "stdout",
     "output_type": "stream",
     "text": [
      "DataFrame is unique based on person_id\n"
     ]
    }
   ],
   "source": [
    "check_uniqueness(person_education_group_df, 'person_id')"
   ]
  },
  {
   "cell_type": "code",
   "execution_count": 17,
   "id": "b31eeca2-3354-43e6-9de0-b9016a59250d",
   "metadata": {},
   "outputs": [
    {
     "data": {
      "text/plain": [
       "500"
      ]
     },
     "execution_count": 17,
     "metadata": {},
     "output_type": "execute_result"
    }
   ],
   "source": [
    "count_records(person_education_group_df)"
   ]
  },
  {
   "cell_type": "code",
   "execution_count": 18,
   "id": "42422350-17a5-4b0f-b9eb-00ee395a9521",
   "metadata": {},
   "outputs": [
    {
     "data": {
      "text/plain": [
       "999"
      ]
     },
     "execution_count": 18,
     "metadata": {},
     "output_type": "execute_result"
    }
   ],
   "source": [
    "# Joining person_education_group_df and people_person_customer_df DataFrames on column named 'person_id'\n",
    "\n",
    "people_person_customer_education_df = people_selected_df.join(person_education_group_df, on='person_id', how='left') \n",
    "\n",
    "# people_person_customer_education_df.show()\n",
    "\n",
    "count_records(people_person_customer_education_df)"
   ]
  },
  {
   "cell_type": "markdown",
   "id": "1ca29629-9cd1-4789-b0c0-36c03b109897",
   "metadata": {},
   "source": [
    "***Transformation for Company related information***"
   ]
  },
  {
   "cell_type": "code",
   "execution_count": 19,
   "id": "59bc3081-b565-4248-b6a2-90cc38ec96e1",
   "metadata": {},
   "outputs": [
    {
     "data": {
      "text/plain": [
       "5711"
      ]
     },
     "execution_count": 19,
     "metadata": {},
     "output_type": "execute_result"
    }
   ],
   "source": [
    "count_records(company_sectors_df)"
   ]
  },
  {
   "cell_type": "code",
   "execution_count": 20,
   "id": "5a6ef62f-d02b-4c40-87b5-af0186a0cc11",
   "metadata": {},
   "outputs": [
    {
     "data": {
      "text/plain": [
       "1000"
      ]
     },
     "execution_count": 20,
     "metadata": {},
     "output_type": "execute_result"
    }
   ],
   "source": [
    "# Group the DataFrame 'company_sectors_df' by 'company_id'\n",
    "grouped_company_sectors_df = company_sectors_df.groupBy('company_id').agg(\n",
    "    F.collect_list('sector').alias('sectors')\n",
    ")\n",
    "\n",
    "# Check the DataFrame 'grouped_company_sectors_df'\n",
    "# grouped_company_sectors_df.show()\n",
    "\n",
    "count_records(grouped_company_sectors_df)"
   ]
  },
  {
   "cell_type": "code",
   "execution_count": 21,
   "id": "4eede61a-46e6-4ac7-9000-af2624cf63f0",
   "metadata": {},
   "outputs": [
    {
     "data": {
      "text/plain": [
       "18532"
      ]
     },
     "execution_count": 21,
     "metadata": {},
     "output_type": "execute_result"
    }
   ],
   "source": [
    "count_records(company_annual_revenues_df)\n"
   ]
  },
  {
   "cell_type": "code",
   "execution_count": 22,
   "id": "520f41d4-1efe-4db0-8ccc-f3a157759c74",
   "metadata": {},
   "outputs": [
    {
     "data": {
      "text/plain": [
       "999"
      ]
     },
     "execution_count": 22,
     "metadata": {},
     "output_type": "execute_result"
    }
   ],
   "source": [
    "# Define a window partitioned by 'company_id' and ordered by 'date' in descending order\n",
    "window = Window.partitionBy('company_id').orderBy(F.desc('date'))\n",
    "\n",
    "# Add a new column 'rank' to the DataFrame 'company_annual_revenues_df'\n",
    "# The 'rank' is calculated over the defined window\n",
    "grouped_company_annual_revenues_df = company_annual_revenues_df.withColumn('rank', F.rank().over(window))\n",
    "\n",
    "# Filter the DataFrame to keep only the rows where 'rank' is 1\n",
    "# This gives us the latest annual revenue for each company\n",
    "# Select only the 'company_id' and 'amount_usd' columns for the final DataFrame\n",
    "latest_company_annual_revenues_df = grouped_company_annual_revenues_df.filter(F.col('rank') == 1).select('company_id', 'amount_usd')\n",
    "\n",
    "# Check the DataFrame 'latest_company_annual_revenues_df'\n",
    "# latest_company_annual_revenues_df.show()\n",
    "\n",
    "count_records(latest_company_annual_revenues_df)"
   ]
  },
  {
   "cell_type": "code",
   "execution_count": 23,
   "id": "d5ad91db-5222-4874-a84b-1cb588bd4532",
   "metadata": {},
   "outputs": [
    {
     "data": {
      "text/plain": [
       "1000"
      ]
     },
     "execution_count": 23,
     "metadata": {},
     "output_type": "execute_result"
    }
   ],
   "source": [
    "count_records(company_headcounts_df)\n"
   ]
  },
  {
   "cell_type": "code",
   "execution_count": 24,
   "id": "f0474afb-eaff-4c28-8bfa-95d140452fda",
   "metadata": {},
   "outputs": [
    {
     "data": {
      "text/plain": [
       "847"
      ]
     },
     "execution_count": 24,
     "metadata": {},
     "output_type": "execute_result"
    }
   ],
   "source": [
    "# Define a window partitioned by 'headcount' and ordered by 'date' in descending order\n",
    "window = Window.partitionBy('headcount').orderBy(F.desc('date'))\n",
    "\n",
    "# Add a new column 'rank' to the DataFrame 'company_headcounts_df'\n",
    "# The 'rank' is calculated over the defined window\n",
    "grouped_company_headcounts_df = company_headcounts_df.withColumn('rank', F.rank().over(window))\n",
    "\n",
    "# Filter the DataFrame to keep only the rows where 'rank' is 1\n",
    "# This gives us the latest headcount for each company\n",
    "# Select only the 'company_id' and 'headcount' columns for the final DataFrame\n",
    "latest_company_headcounts_df = grouped_company_headcounts_df.filter(F.col('rank') == 1).select('company_id', 'headcount')\n",
    "\n",
    "# Check the DataFrame 'latest_company_headcounts_df'\n",
    "# latest_company_headcounts_df.show()\n",
    "\n",
    "count_records(latest_company_headcounts_df)"
   ]
  },
  {
   "cell_type": "markdown",
   "id": "1e9689c3-ac63-46a4-9374-ef738e622bcd",
   "metadata": {},
   "source": [
    "***Joined the company information related transformed dataframes***"
   ]
  },
  {
   "cell_type": "code",
   "execution_count": 25,
   "id": "867d734b-ed04-4483-8b24-9f39e5586650",
   "metadata": {},
   "outputs": [
    {
     "data": {
      "text/plain": [
       "1000"
      ]
     },
     "execution_count": 25,
     "metadata": {},
     "output_type": "execute_result"
    }
   ],
   "source": [
    "\n",
    "# Join the DataFrame 'grouped_company_sectors_df' with 'latest_company_annual_revenues_df', 'latest_company_headcounts_df', and 'selected_company_stock_tickers_df' on 'company_id'\n",
    "# The join type is 'left', meaning only the rows with a match in both DataFrames will be kept\n",
    "company_info_joined_df = grouped_company_sectors_df.join(\n",
    "    latest_company_annual_revenues_df, 'company_id', 'left'\n",
    ").join(\n",
    "    latest_company_headcounts_df, 'company_id', 'left'\n",
    ")\n",
    "\n",
    "# count_records(company_info_joined_df)\n",
    "\n",
    "# Select the 'company_id', 'amount_usd', 'headcount', and 'stock_ticker' columns from the joined DataFrame\n",
    "resultant_company_info_joined_df = company_info_joined_df.select(\n",
    "    'company_id',\n",
    "    latest_company_annual_revenues_df['amount_usd'],\n",
    "    latest_company_headcounts_df['headcount'],\n",
    ")\n",
    "\n",
    "# Check the DataFrame 'resultant_company_info_joined_df'\n",
    "# resultant_company_info_joined_df.show()\n",
    "\n",
    "count_records(resultant_company_info_joined_df)\n"
   ]
  },
  {
   "cell_type": "markdown",
   "id": "a54b0c61-de9d-40c1-bf44-b1f820bbb662",
   "metadata": {},
   "source": [
    "***Transformation for the Person Employment Table***"
   ]
  },
  {
   "cell_type": "code",
   "execution_count": 26,
   "id": "c3b5566b-318e-4cf6-8863-358aa169ea34",
   "metadata": {},
   "outputs": [
    {
     "name": "stdout",
     "output_type": "stream",
     "text": [
      "+---------+----------------------------------------------------------------------------------------------------------------------------------------------------------------------------------------------------------------------------------------------------------------------------------------------------------------------------------------------------------------------------------------------------------------------------------------------------------------------------------------------------------------------------------------------------------------------------------------------------------------------------------------------------------------------------------------------------------------------------------------------------------------------------------------------------------------------------------------------------------------------------------------------------------------------------------------------------------------------------------------------------------------------------------------------------------------------------------------------------------------------------------------------------------------------------------------------------------------------------------------------------------------------------------------------------------------------------------------------------------------------------------------------------------------+\n",
      "|person_id|employments                                                                                                                                                                                                                                                                                                                                                                                                                                                                                                                                                                                                                                                                                                                                                                                                                                                                                                                                                                                                                                                                                                                                                                                                                                                                                                                                                                                                     |\n",
      "+---------+----------------------------------------------------------------------------------------------------------------------------------------------------------------------------------------------------------------------------------------------------------------------------------------------------------------------------------------------------------------------------------------------------------------------------------------------------------------------------------------------------------------------------------------------------------------------------------------------------------------------------------------------------------------------------------------------------------------------------------------------------------------------------------------------------------------------------------------------------------------------------------------------------------------------------------------------------------------------------------------------------------------------------------------------------------------------------------------------------------------------------------------------------------------------------------------------------------------------------------------------------------------------------------------------------------------------------------------------------------------------------------------------------------------+\n",
      "|101255   |[{20556.0, M/A-COM, NaN, Member Of Technical Staff, 1982-01-01, 1984-01-01, NULL, NULL}, {387.0, AOL, NaN, Senior Software Developer, 1998-01-01, 2001-01-01, NULL, NULL}, {4207.0, Netscape, Manager, Calendar Server Development Manager, 1996-01-01, 1998-01-01, NULL, NULL}, {1660.0, Apple, NaN, Engineering Leader for Analytics and Data Products in Apple Media, 2016-10-01, NaN, 3.1949031445E10, 224704}, {1660.0, Apple, Head of ..., Head Of Foundation, Apple Online Store Engineering, 2015-08-01, 2016-10-01, 3.1949031445E10, 224704}, {77025.0, Yotta Technologies, NaN, Co-Founder, 2011-12-01, 2013-01-01, NULL, NULL}, {7854.0, Micro Focus, NaN, Senior Software Engineer, 1990-01-01, 1994-01-01, NULL, NULL}, {1.0692885E7, Zip2save.Com, NaN, Senior Software Engineer, 1996-01-01, 1996-01-01, NULL, NULL}, {13385.0, FirstRain, VP, Vice President Of Engineering Operations, 2013-01-01, 2015-07-01, NULL, NULL}, {9307194.0, Onlive Technologies, NaN, Senior Software Developer, 1994-01-01, 1996-01-01, NULL, NULL}, {171553.0, GRiD Systems, NaN, Software Developer, 1984-01-01, 1990-01-01, NULL, NULL}, {26.0, eBay, CXO, Chief Technology Officer Of Local Classifieds, 2007-09-01, 2011-06-01, NULL, NULL}, {26.0, eBay, NaN, Staff Software Engineer, 2001-04-01, 2001-12-01, NULL, NULL}, {26.0, eBay, Director, Technology Director, 2002-01-01, 2007-08-01, NULL, NULL}]|\n",
      "+---------+----------------------------------------------------------------------------------------------------------------------------------------------------------------------------------------------------------------------------------------------------------------------------------------------------------------------------------------------------------------------------------------------------------------------------------------------------------------------------------------------------------------------------------------------------------------------------------------------------------------------------------------------------------------------------------------------------------------------------------------------------------------------------------------------------------------------------------------------------------------------------------------------------------------------------------------------------------------------------------------------------------------------------------------------------------------------------------------------------------------------------------------------------------------------------------------------------------------------------------------------------------------------------------------------------------------------------------------------------------------------------------------------------------------+\n",
      "only showing top 1 row\n",
      "\n"
     ]
    },
    {
     "data": {
      "text/plain": [
       "7898"
      ]
     },
     "execution_count": 26,
     "metadata": {},
     "output_type": "execute_result"
    }
   ],
   "source": [
    "# Join the DataFrames on 'company_id'\n",
    "resultant_company_info_employment_joined_df = person_employments_df.join(resultant_company_info_joined_df, 'company_id', 'left')\n",
    "\n",
    "count_records(resultant_company_info_employment_joined_df)\n",
    "\n",
    "# Define a new struct that includes the additional columns\n",
    "emplopyment_struct = F.struct(\n",
    "    \"company_id\", \"company_name\", \"seniority_level\", \"title\", \"started_on\", \"ended_on\",\n",
    "    resultant_company_info_joined_df['amount_usd'],\n",
    "    resultant_company_info_joined_df['headcount']\n",
    ")\n",
    "\n",
    "# Group by 'person_id' and collect list of employment details as structs\n",
    "grouped_person_employments_df = resultant_company_info_employment_joined_df.groupBy(\"person_id\").agg(\n",
    "    F.collect_list(emplopyment_struct).alias(\"employments\")\n",
    ")\n",
    "\n",
    "grouped_person_employments_df.show(1,truncate=False)\n",
    "\n",
    "\n",
    "count_records(person_employments_df)"
   ]
  },
  {
   "cell_type": "code",
   "execution_count": 27,
   "id": "ce1043fa-4794-4982-abba-bdaa51a5e993",
   "metadata": {},
   "outputs": [
    {
     "data": {
      "text/plain": [
       "999"
      ]
     },
     "execution_count": 27,
     "metadata": {},
     "output_type": "execute_result"
    }
   ],
   "source": [
    "# Join the DataFrame 'people_person_customer_education_df' with 'person_employments_df' on 'person_id'\n",
    "# The resulting DataFrame contains information about a person's education and employment\n",
    "people_person_customer_education_educations_df = people_person_customer_education_df.join(grouped_person_employments_df, on='person_id', how='left') \n",
    "\n",
    "# people_person_customer_education_educations_df.show()\n",
    "\n",
    "count_records(people_person_customer_education_educations_df)"
   ]
  },
  {
   "cell_type": "markdown",
   "id": "998a5ac9-318b-4f2e-8823-ca32b6c40b4c",
   "metadata": {},
   "source": [
    "***Transformation for the Person Social Urls Table***"
   ]
  },
  {
   "cell_type": "code",
   "execution_count": 28,
   "id": "186fea0f-d886-4baa-8689-b656f2819ec8",
   "metadata": {},
   "outputs": [],
   "source": [
    "#check_uniqueness(grouped_urls_df, 'person_id')"
   ]
  },
  {
   "cell_type": "code",
   "execution_count": 29,
   "id": "a71b7ade-74bb-4af6-9113-4df086a46889",
   "metadata": {},
   "outputs": [],
   "source": [
    "# Joining person_education_group_df and people_person_customer_df DataFrames on column named 'person_id'\n",
    "\n",
    "people_person_customer_education_employments_social_urls_df = people_person_customer_education_educations_df\n"
   ]
  },
  {
   "cell_type": "code",
   "execution_count": 30,
   "id": "841272f3-4ac4-4d5f-ae5f-7ec0ab47d136",
   "metadata": {},
   "outputs": [
    {
     "name": "stdout",
     "output_type": "stream",
     "text": [
      "DataFrame is unique based on person_id\n"
     ]
    }
   ],
   "source": [
    "check_uniqueness(people_person_customer_education_employments_social_urls_df, 'person_id')"
   ]
  },
  {
   "cell_type": "markdown",
   "id": "2a61d2f4-61e6-485c-b5d6-6ff9bbe09ec4",
   "metadata": {},
   "source": [
    "***Final Dataframe***"
   ]
  },
  {
   "cell_type": "code",
   "execution_count": 31,
   "id": "9b6cf808-a923-4039-a73a-c601ca788f42",
   "metadata": {},
   "outputs": [],
   "source": [
    "# people_person_customer_education_employments_social_urls_df.printSchema()"
   ]
  },
  {
   "cell_type": "code",
   "execution_count": 32,
   "id": "2a04783c-2027-452b-8bbb-2f1656a4ef4b",
   "metadata": {},
   "outputs": [
    {
     "name": "stdout",
     "output_type": "stream",
     "text": [
      "+----------+-------------------+--------------------+--------------------+--------------------+--------------------+--------------------+--------------------+--------------------+\n",
      "| person_id|               name|             address|            headline|         description|          created_at|          updated_at|           education|         employments|\n",
      "+----------+-------------------+--------------------+--------------------+--------------------+--------------------+--------------------+--------------------+--------------------+\n",
      "| 949256266|        Vivian Weng|NaN, NaN, NaN, Na...|Product Design, S...|                 NaN|2023-12-11 06:18:...|                 NaN|[{NaN, University...|[{7962172.0, Frog...|\n",
      "| 787025923|        Lynda Zhang|NaN, NaN, NaN, Na...|Retail Ownership ...|                 NaN|2023-12-11 06:18:...|2023-10-26 15:57:...|                NULL|[{NaN, NaN, Manag...|\n",
      "| 837503042|         Clara Têtu|NaN, NaN, NaN, Na...|Apple Solutions C...|                 NaN|2023-12-11 06:18:...|2023-10-26 15:57:...|                NULL|[{400708.0, Clari...|\n",
      "| 789056453|  Federico Maggiani|NaN, NaN, NaN, Na...|Digital Marketing...|An enthusiastic, ...|2023-12-11 06:18:...|2023-10-26 15:57:...|                NULL|[{40487.0, MindSh...|\n",
      "|  57288072|  Anthony Salvaggio|NaN, Marion, New ...| Carpe Facto @ Apple|A skilled communi...|2023-12-11 06:18:...|2023-10-26 15:57:...|[{NaN, Monroe Com...|[{1660.0, Apple, ...|\n",
      "| 693540132|    Lika Razac-Ince|NaN, NaN, NaN, Na...|Content & Product...|Two sides of a co...|2023-12-11 06:18:...|2023-10-26 15:57:...|                NULL|[{NaN, NaN, NaN, ...|\n",
      "|1017713620|      Sarina Studer|NaN, NaN, NaN, Na...|Talent Attraction...|A successful recr...|2023-12-11 06:18:...|2023-10-26 15:57:...|                NULL|[{NaN, NaN, NaN, ...|\n",
      "| 856482513|        Karl Dubost|NaN, NaN, NaN, Na...|Open Web and Inte...|I'm a software en...|2023-12-11 06:18:...|2023-10-26 15:57:...|                NULL|[{NaN, NaN, Manag...|\n",
      "| 118418234|     Kenny Sheridan|NaN, Merrick, New...|Manager at Apple ...|                 NaN|2023-12-11 06:18:...|2023-10-26 15:57:...|                NULL|[{NaN, NaN, NaN, ...|\n",
      "|  64876372|        David Coyle|NaN, Apex, North ...|Sr. iOS Engineer ...|IT professional w...|2023-12-11 06:18:...|2023-10-26 15:57:...|[{NaN, University...|[{4376.0, Blackbe...|\n",
      "| 741629676|  Iason Bakogiannis|NaN, NaN, NaN, Na...|Software Engineer...|Dedicated and exp...|2023-12-11 06:18:...|2023-10-26 15:57:...|                NULL|[{53741.0, Affect...|\n",
      "| 747062710|      Michael Huang|NaN, NaN, NaN, Na...| Operations Director|Experienced Opera...|2023-12-11 06:18:...|2023-10-26 15:57:...|                NULL|[{112124.0, Motor...|\n",
      "|  67121188|     Gurpreet Singh|NaN, San Antonio,...|Sr Technical Prog...|Innovative and ch...|2023-12-11 06:18:...|2023-10-26 15:57:...|[{8522590.0, Kell...|[{NaN, NaN, NaN, ...|\n",
      "| 122883279|          Matt Aldo|NaN, NaN, NaN, Na...|   director at Apple|                 NaN|2023-12-11 06:18:...|2023-10-18 23:07:...|                NULL|[{1660.0, Apple, ...|\n",
      "| 993985187|      Eddie McGrory|NaN, NaN, NaN, Na...|Market Leader at ...|Do your life’s be...|2023-12-11 06:18:...|2023-10-26 15:57:...|                NULL|[{266875.0, Dixon...|\n",
      "|  52762066|    Kevin L. Fowler|NaN, Maryville, T...|Instructional Des...|At the intersecti...|2023-12-11 06:18:...|2023-10-26 15:57:...|[{NaN, University...|[{8563308.0, Knox...|\n",
      "| 745971556|      thomas gurney|NaN, NaN, NaN, Na...|Principle Pedo at...|   big fat mama lama|2023-12-11 06:18:...|2023-10-26 15:57:...|                NULL|[{1660.0, Apple, ...|\n",
      "| 994637657|          Annie Cai|NaN, NaN, NaN, Na...|              Retail|                 NaN|2023-12-11 06:18:...|2023-10-26 15:57:...|                NULL|[{NaN, NaN, Manag...|\n",
      "| 124612718|      Brinda Pullen|NaN, NaN, NaN, Na...|HR consultant at ...|                 NaN|2023-12-11 06:18:...|2023-10-14 21:35:...|                NULL|[{1660.0, Apple, ...|\n",
      "| 993308913|Francesco Squatrito|NaN, NaN, NaN, Na...|Head of Partner M...|                 NaN|2023-12-11 06:18:...|2023-10-26 15:57:...|                NULL|[{412007.0, Leaga...|\n",
      "+----------+-------------------+--------------------+--------------------+--------------------+--------------------+--------------------+--------------------+--------------------+\n",
      "only showing top 20 rows\n",
      "\n"
     ]
    }
   ],
   "source": [
    "people_person_customer_education_employments_social_urls_df.show()"
   ]
  },
  {
   "cell_type": "markdown",
   "id": "44f6554e-d551-40be-8841-0d0521c5e369",
   "metadata": {},
   "source": [
    "***Final Dataframe can be exported to files such as CSV, JSON, Parquet***"
   ]
  },
  {
   "cell_type": "code",
   "execution_count": 33,
   "id": "8d11ab12-6058-4fca-857e-406425f818c7",
   "metadata": {},
   "outputs": [],
   "source": [
    "# Use the exiting dataframe\n",
    "final_df = people_person_customer_education_employments_social_urls_df\n"
   ]
  },
  {
   "cell_type": "code",
   "execution_count": 34,
   "id": "e65e3098-0817-4930-b0fe-f4f4ae574710",
   "metadata": {},
   "outputs": [
    {
     "name": "stdout",
     "output_type": "stream",
     "text": [
      "+---------+---------------+-----------------------+----------------------------------+-------------------------------------------------------------------------------------------------------------------------------------------------------------------------------------------------------------------------------------------------------------------------------------------------------------------------------------------------------------------------------------------------+-------------------------+----------------------+---------+------------------------------------------------------------------------------------------------------------------------------------------------------------------------------------------------------------------------------------------------------------------------------------------------------------------------------------------------------------------------------------------------------------------------------------------------------------------------------------------------------------------------------------------------------------------------------------------------------------------------------------------------------------------------------------------------------------------------------------------------------------------------------------------------------------------------------------------------------------------------------------------------------------------------------------------------------------------------------------------------------------------------------------------------------------------------------------------------------------------------------------------------------------------------------------------------------------------------------------------------------------------------------------------+\n",
      "|person_id|name           |address                |headline                          |description                                                                                                                                                                                                                                                                                                                                                                                      |created_at               |updated_at            |education|employments                                                                                                                                                                                                                                                                                                                                                                                                                                                                                                                                                                                                                                                                                                                                                                                                                                                                                                                                                                                                                                                                                                                                                                                                                                                                               |\n",
      "+---------+---------------+-----------------------+----------------------------------+-------------------------------------------------------------------------------------------------------------------------------------------------------------------------------------------------------------------------------------------------------------------------------------------------------------------------------------------------------------------------------------------------+-------------------------+----------------------+---------+------------------------------------------------------------------------------------------------------------------------------------------------------------------------------------------------------------------------------------------------------------------------------------------------------------------------------------------------------------------------------------------------------------------------------------------------------------------------------------------------------------------------------------------------------------------------------------------------------------------------------------------------------------------------------------------------------------------------------------------------------------------------------------------------------------------------------------------------------------------------------------------------------------------------------------------------------------------------------------------------------------------------------------------------------------------------------------------------------------------------------------------------------------------------------------------------------------------------------------------------------------------------------------------+\n",
      "|693540132|Lika Razac-Ince|NaN, NaN, NaN, NaN, NaN|Content & Production Lead at Apple|Two sides of a coin... 7+ years experience of building and leading digital teams of producers, designers and developers. A strong team ethic and collaboration are at the core of how I lead and work within teams across projects.\\n\\nSecond side... Photographer capturing the candid subtleties in life. Documentary/reportage, behind the scenes, work life photography and that street life.|2023-12-11 06:18:08.13904|2023-10-26 15:57:22.35|NULL     |[{NaN, NaN, NaN, Professional Photographer, 2018-04-01, NaN, NULL, NULL}, {NaN, NaN, NaN, Flash Designer/Artworker/, 2001-06-01, 2004-06-01, NULL, NULL}, {NaN, NaN, NaN, Flash designer, 2004-01-01, 2006-01-01, NULL, NULL}, {8911699.0, Interventional Pain & Physical Medicine Clinic, Head of ..., Head of Digital, 2006-11-01, 2012-04-01, NULL, NULL}, {1660.0, Apple, NaN, Content & Production Lead - Europe, 2022-01-01, NaN, 3.1949031445E10, 224704}, {728919.0, Bluedog, NaN, Project Management Consultant, 2020-06-01, 2020-11-01, NULL, NULL}, {14755.0, Agenda-Asia, NaN, Senior Project Management, 2018-04-01, 2019-12-01, NULL, NULL}, {630326.0, Tag Worldwide, NaN, Production Lead, 2020-12-01, 2022-01-01, NULL, NULL}, {61767.0, Karmarama, Head of ..., Head of Digital Delivery, 2014-03-01, 2018-03-01, NULL, NULL}, {61767.0, Karmarama, Director, Project Director (Freelance), 2013-11-01, 2014-03-01, NULL, NULL}, {1087587.0, Self Employed, NaN, Freelance SNR Project Management / PD / Head of, 2018-04-01, 2020-12-01, NULL, NULL}, {1.1549668E7, Dentsu Creative, Head of ..., Head of Digital production, 2012-04-01, 2013-10-01, NULL, NULL}, {7711674.0, Ekino London, Director, Freelance Project Director, 2020-01-01, 2020-05-01, NULL, NULL}]|\n",
      "+---------+---------------+-----------------------+----------------------------------+-------------------------------------------------------------------------------------------------------------------------------------------------------------------------------------------------------------------------------------------------------------------------------------------------------------------------------------------------------------------------------------------------+-------------------------+----------------------+---------+------------------------------------------------------------------------------------------------------------------------------------------------------------------------------------------------------------------------------------------------------------------------------------------------------------------------------------------------------------------------------------------------------------------------------------------------------------------------------------------------------------------------------------------------------------------------------------------------------------------------------------------------------------------------------------------------------------------------------------------------------------------------------------------------------------------------------------------------------------------------------------------------------------------------------------------------------------------------------------------------------------------------------------------------------------------------------------------------------------------------------------------------------------------------------------------------------------------------------------------------------------------------------------------+\n",
      "only showing top 1 row\n",
      "\n"
     ]
    }
   ],
   "source": [
    "final_df.show(1,truncate=False)"
   ]
  },
  {
   "cell_type": "code",
   "execution_count": null,
   "id": "301e7b73-3cd6-43f2-8241-9b3d5fdde6b5",
   "metadata": {},
   "outputs": [],
   "source": [
    "final_df.write.mode('overwrite').json('./work/final_df')"
   ]
  },
  {
   "cell_type": "code",
   "execution_count": null,
   "id": "7cf0a2ca-fd24-4e73-9e4d-b9c3f0f95891",
   "metadata": {},
   "outputs": [],
   "source": [
    "final_df.printSchema()\n"
   ]
  },
  {
   "cell_type": "code",
   "execution_count": null,
   "id": "686d8eba-a1d6-4f87-9003-4f235a3390c9",
   "metadata": {},
   "outputs": [],
   "source": [
    "final_df.write.mode(\"overwrite\").parquet(\"final_output/df4.parquet\")\n"
   ]
  },
  {
   "cell_type": "code",
   "execution_count": null,
   "id": "2a790028-5d33-4fdf-b761-4fdda8584a4d",
   "metadata": {},
   "outputs": [],
   "source": [
    "df = spark.read.parquet(\"final_output/df4.parquet\")"
   ]
  },
  {
   "cell_type": "code",
   "execution_count": null,
   "id": "e09546a4-fa39-4570-afc7-75faeb163f55",
   "metadata": {},
   "outputs": [],
   "source": [
    "df.show(1)"
   ]
  },
  {
   "cell_type": "code",
   "execution_count": null,
   "id": "61d96d54-b375-4425-a271-43267be8301d",
   "metadata": {},
   "outputs": [],
   "source": [
    "df.printSchema()"
   ]
  },
  {
   "cell_type": "code",
   "execution_count": null,
   "id": "61d4ff33-b434-4c39-9e2c-80ae7b6856a1",
   "metadata": {},
   "outputs": [],
   "source": [
    "#date 16052024 -Dropping features, customize features specific to the tag prompt tunning\n",
    "columns_to_drop = [\"address\", \"headline\",  \"created_at\", \"updated_at\", \"customer_id\"]\n",
    "df1 = df.drop(*columns_to_drop)\n"
   ]
  },
  {
   "cell_type": "code",
   "execution_count": null,
   "id": "b969ca53-c7ce-4d02-954d-920a2e0e189f",
   "metadata": {},
   "outputs": [],
   "source": [
    "#date 16052024 -Dropping features,\n",
    "from pyspark.sql.functions import expr\n",
    "\n",
    "# Transform the 'employments' array, removing 'funding_name' field\n",
    "df1 = df1.withColumn(\n",
    "    \"employments\",\n",
    "    expr(\"transform(employments, x -> named_struct('company_id', x.company_id, 'company_name', x.company_name, 'seniority_level', x.seniority_level, 'title', x.title, 'started_on', x.started_on, 'ended_on', x.ended_on, 'amount_usd', x.amount_usd, 'headcount', x.headcount))\")\n",
    ")\n"
   ]
  },
  {
   "cell_type": "code",
   "execution_count": null,
   "id": "7e00c828-83c2-47c4-befd-4ac03fa9d740",
   "metadata": {},
   "outputs": [],
   "source": [
    "df1.printSchema()\n"
   ]
  },
  {
   "cell_type": "code",
   "execution_count": null,
   "id": "6367eaae-66f0-422e-9aed-6159e458526d",
   "metadata": {},
   "outputs": [],
   "source": [
    "df1.show(1)"
   ]
  },
  {
   "cell_type": "code",
   "execution_count": null,
   "id": "d0d6cceb-c116-4347-a59b-9103ca8d5032",
   "metadata": {},
   "outputs": [],
   "source": [
    "#date 16052024 -Build specific features, prompt tunning\n",
    "from pyspark.sql import SparkSession\n",
    "from pyspark.sql.types import StructType, StructField, LongType, StringType, ArrayType\n",
    "\n",
    "# Define the schema for the DataFrame\n",
    "schema = StructType([\n",
    "    StructField(\"person_id\", LongType(), True),\n",
    "    StructField(\"name\", StringType(), True),\n",
    "    StructField(\"description\", StringType(), True),\n",
    "    StructField(\"education\", ArrayType(StructType([\n",
    "        StructField(\"institution_id\", StringType(), True),\n",
    "        StructField(\"institution_name\", StringType(), True),\n",
    "        StructField(\"degree\", StringType(), True),\n",
    "        StructField(\"subject\", StringType(), True),\n",
    "        StructField(\"started_on\", StringType(), True),\n",
    "        StructField(\"ended_on\", StringType(), True)\n",
    "    ])), True),\n",
    "    StructField(\"employments\", ArrayType(StructType([\n",
    "        StructField(\"company_id\", LongType(), True),\n",
    "        StructField(\"company_name\", StringType(), True),\n",
    "        StructField(\"seniority_level\", StringType(), True),\n",
    "        StructField(\"title\", StringType(), True),\n",
    "        StructField(\"started_on\", StringType(), True),\n",
    "        StructField(\"ended_on\", StringType(), True),\n",
    "        StructField(\"amount_usd\", LongType(), True),\n",
    "        StructField(\"headcount\", LongType(), True)\n",
    "        \n",
    "    ])), True)\n",
    "])\n"
   ]
  },
  {
   "cell_type": "code",
   "execution_count": null,
   "id": "0dc333bb-4213-4d3c-901a-a9cc261e8919",
   "metadata": {},
   "outputs": [],
   "source": [
    "json_df = df1.toJSON()\n",
    "\n",
    "# Count the number of objects\n",
    "num_objects = json_df.count()\n",
    "print(\"Number of objects:\", num_objects)\n",
    "\n",
    "# Print the first object\n",
    "first_object = json_df.first()\n",
    "print(\"First object:\")\n",
    "print(first_object)\n"
   ]
  },
  {
   "cell_type": "code",
   "execution_count": null,
   "id": "6a64dd06-627b-47f4-bb6d-8efe49fabe5c",
   "metadata": {},
   "outputs": [],
   "source": [
    "def save_json_objects(json_df, file_path):\n",
    "    \"\"\"\n",
    "    Save all JSON objects in a DataFrame to a JSON file.\n",
    "\n",
    "    Args:\n",
    "        json_df (DataFrame): DataFrame containing JSON objects.\n",
    "        file_path (str): The path where the JSON file will be saved.\n",
    "    \"\"\"\n",
    "    json_objects = json_df.collect()  # Collect all JSON objects\n",
    "    with open(file_path, 'w') as file:\n",
    "        for json_obj in json_objects:\n",
    "            file.write(json_obj + '\\n')  # Write each JSON object to file\n",
    "    print(f\"All JSON objects saved to file: {file_path}\")"
   ]
  },
  {
   "cell_type": "code",
   "execution_count": null,
   "id": "0757fdf0-224b-4f1c-a879-336eccc5b022",
   "metadata": {},
   "outputs": [],
   "source": [
    "save_json_objects(json_df, \"input_people_data.json\")"
   ]
  },
  {
   "cell_type": "code",
   "execution_count": null,
   "id": "3bdac378-d095-4484-9cc8-69fae0bcecb9",
   "metadata": {},
   "outputs": [],
   "source": [
    "print(\"\\n****************completed ******************\")"
   ]
  },
  {
   "cell_type": "code",
   "execution_count": null,
   "id": "dd862855-51ae-45a2-9dae-166eaf83f0f6",
   "metadata": {},
   "outputs": [],
   "source": []
  }
 ],
 "metadata": {
  "kernelspec": {
   "display_name": "Python 3 (ipykernel)",
   "language": "python",
   "name": "python3"
  },
  "language_info": {
   "codemirror_mode": {
    "name": "ipython",
    "version": 3
   },
   "file_extension": ".py",
   "mimetype": "text/x-python",
   "name": "python",
   "nbconvert_exporter": "python",
   "pygments_lexer": "ipython3",
   "version": "3.11.6"
  }
 },
 "nbformat": 4,
 "nbformat_minor": 5
}

{
 "cells": [
  {
   "cell_type": "code",
   "execution_count": 42,
   "id": "e66b8b3a-dca1-49a9-a0ae-c797caf01516",
   "metadata": {},
   "outputs": [],
   "source": [
    "from pyspark.sql import SparkSession\n",
    "from pyspark.sql.functions import count, col, concat_ws, row_number, desc\n",
    "from pyspark.sql import functions as F\n",
    "from pyspark.sql.window import Window\n",
    "from pyspark.sql.types import StructType, StructField, StringType, TimestampType\n",
    "import pandas as pd\n",
    "import os\n",
    "import json"
   ]
  },
  {
   "cell_type": "code",
   "execution_count": 43,
   "id": "809d2c81-b2cd-4564-9ebd-bac25ce1f7a6",
   "metadata": {},
   "outputs": [],
   "source": [
    "# Initialize SparkSession\n",
    "spark = SparkSession.builder \\\n",
    "    .appName('aws_connection') \\\n",
    "    .getOrCreate()"
   ]
  },
  {
   "cell_type": "code",
   "execution_count": 44,
   "id": "a0369575-65d5-4f65-9331-bca4572e5756",
   "metadata": {},
   "outputs": [],
   "source": [
    "# Define the base path\n",
    "base_path = '/home/jovyan/work/data_files/'\n",
    "\n",
    "# Read CSV files into DataFrames\n",
    "people_df = pd.read_csv(base_path + 'people.csv')\n",
    "#person_customer_df = pd.read_csv(base_path + 'person_customers.csv')\n",
    "person_educations_df = pd.read_csv(base_path + 'person_educations.csv')\n",
    "person_employments_df = pd.read_csv(base_path + 'person_employments.csv')\n",
    "#person_social_urls_df = pd.read_csv(base_path + 'person_social_urls.csv')\n",
    "company_sectors_df = pd.read_csv(base_path + 'company_sectors.csv')\n",
    "company_headcounts_df = pd.read_csv(base_path + 'company_headcounts.csv')\n",
    "company_annual_revenues_df = pd.read_csv(base_path + 'company_annual_revenues.csv')\n",
    "company_stock_tickers_df = pd.read_csv(base_path + 'company_stock_tickers.csv')\n",
    "#company_funding_rounds_df = pd.read_csv(base_path + 'company_funding_rounds.csv')\n"
   ]
  },
  {
   "cell_type": "code",
   "execution_count": 45,
   "id": "d3c2c88e-ef58-40f1-9eb3-b77bef943397",
   "metadata": {},
   "outputs": [],
   "source": [
    "people_spark_df=spark.createDataFrame(people_df)\n",
    "#person_customer_spark_df=spark.createDataFrame(person_customer_df)\n",
    "person_educations_spark_df=spark.createDataFrame(person_educations_df)\n",
    "person_employments_spark_df=spark.createDataFrame(person_employments_df)\n",
    "#person_social_urls_spark_df=spark.createDataFrame(person_social_urls_df)\n",
    "company_sectors_spark_df=spark.createDataFrame(company_sectors_df)\n",
    "company_headcounts_spark_df=spark.createDataFrame(company_headcounts_df)\n",
    "company_annual_revenues_spark_df=spark.createDataFrame(company_annual_revenues_df)\n",
    "company_stock_tickers_spark_df=spark.createDataFrame(company_stock_tickers_df)\n",
    "#company_funding_rounds_spark_df=spark.createDataFrame(company_funding_rounds_df)"
   ]
  },
  {
   "cell_type": "code",
   "execution_count": 46,
   "id": "66a67c23-0eeb-46e5-b3b1-345a9939ea50",
   "metadata": {},
   "outputs": [],
   "source": [
    "people_df = people_spark_df\n",
    "#person_customer_df = person_customer_spark_df\n",
    "person_educations_df = person_educations_spark_df\n",
    "person_employments_df = person_employments_spark_df\n",
    "#person_social_urls_df = person_social_urls_spark_df\n",
    "company_sectors_df = company_sectors_spark_df\n",
    "company_headcounts_df = company_headcounts_spark_df\n",
    "company_annual_revenues_df = company_annual_revenues_spark_df\n",
    "company_stock_tickers_df = company_stock_tickers_spark_df\n",
    "#company_funding_rounds_df = company_funding_rounds_spark_df"
   ]
  },
  {
   "cell_type": "markdown",
   "id": "750fde0b-5424-4752-9ceb-7875a2e77b46",
   "metadata": {},
   "source": [
    "***Function to check the uniqueness of data***"
   ]
  },
  {
   "cell_type": "code",
   "execution_count": 48,
   "id": "e719f331-08a1-4536-9e62-37c4262f6e25",
   "metadata": {},
   "outputs": [],
   "source": [
    "def check_uniqueness(df, column_name):\n",
    "    # Add a new column 'is_duplicate' that flags if column_name is duplicated\n",
    "    df_duplicates_check = df.withColumn('is_duplicate', count(column_name).over(Window.partitionBy(column_name)) > 1)\n",
    "\n",
    "    # If any 'is_duplicate' is True, then DataFrame is not unique based on column_name\n",
    "    if df_duplicates_check.filter(col('is_duplicate')).count() > 0:\n",
    "        print(f\"DataFrame is not unique based on {column_name}\")\n",
    "    else:\n",
    "        print(f\"DataFrame is unique based on {column_name}\")"
   ]
  },
  {
   "cell_type": "code",
   "execution_count": 49,
   "id": "059db9fc-15fa-4238-9236-09932e7d33ff",
   "metadata": {},
   "outputs": [
    {
     "name": "stdout",
     "output_type": "stream",
     "text": [
      "DataFrame is unique based on id\n"
     ]
    }
   ],
   "source": [
    "check_uniqueness(people_df, 'id')"
   ]
  },
  {
   "cell_type": "markdown",
   "id": "9bb9ccf7-a28d-400d-9f23-8634509a22cf",
   "metadata": {},
   "source": [
    "***Function to check the counts of data***"
   ]
  },
  {
   "cell_type": "code",
   "execution_count": 50,
   "id": "e2524bc9-4b3e-4451-98f3-dbb4352b5ed9",
   "metadata": {},
   "outputs": [],
   "source": [
    "def count_records(df):\n",
    "    \"\"\"\n",
    "    This function counts the number of records in a DataFrame.\n",
    "\n",
    "    Parameters:\n",
    "    df (DataFrame): The DataFrame for which to count the records.\n",
    "\n",
    "    Returns:\n",
    "    int: The number of records in the DataFrame.\n",
    "    \"\"\"\n",
    "    # Use the count() function to count the number of rows in the DataFrame\n",
    "    num_records = df.count()\n",
    "\n",
    "    # Return the number of records\n",
    "    return num_records"
   ]
  },
  {
   "cell_type": "markdown",
   "id": "53db3aec-833d-4723-8747-76f73cf30c4e",
   "metadata": {},
   "source": [
    "***People Table Transformation***"
   ]
  },
  {
   "cell_type": "code",
   "execution_count": 51,
   "id": "479eba0a-5299-4a14-bbe9-3134e80c4065",
   "metadata": {},
   "outputs": [
    {
     "name": "stdout",
     "output_type": "stream",
     "text": [
      "+---------+---------------+\n",
      "|person_id|           name|\n",
      "+---------+---------------+\n",
      "|693540132|Lika Razac-Ince|\n",
      "+---------+---------------+\n",
      "only showing top 1 row\n",
      "\n"
     ]
    }
   ],
   "source": [
    "# Select specific columns from the 'people_df' DataFrame, rename the 'id' column to 'person_id',\n",
    "# and concatenate 'address', 'city', 'region', 'postal_code', 'country' columns with a comma separator\n",
    "people_selected_df = people_df.select('id', 'name')\\\n",
    "                              .withColumnRenamed('id', 'person_id')\n",
    "                              \n",
    "\n",
    "people_selected_df = people_selected_df.select('person_id', 'name')\n",
    "\n",
    "people_selected_df.show(1)"
   ]
  },
  {
   "cell_type": "code",
   "execution_count": 52,
   "id": "88088378-29fc-4cd8-a8f9-d02ead00f99f",
   "metadata": {},
   "outputs": [
    {
     "data": {
      "text/plain": [
       "999"
      ]
     },
     "execution_count": 52,
     "metadata": {},
     "output_type": "execute_result"
    }
   ],
   "source": [
    "count_records(people_selected_df)"
   ]
  },
  {
   "cell_type": "markdown",
   "id": "c650558e-331c-4e08-9def-5917d4ca9db6",
   "metadata": {},
   "source": [
    "***Transformation for the \"person_customer\" table***"
   ]
  },
  {
   "cell_type": "markdown",
   "id": "2c114459-adda-48e0-bf87-4e8268bec1ab",
   "metadata": {},
   "source": [
    "***Transformation for \"Person Education\" table***"
   ]
  },
  {
   "cell_type": "code",
   "execution_count": 53,
   "id": "926e31c7-fa6a-42a2-abb3-dc904b478f95",
   "metadata": {},
   "outputs": [
    {
     "data": {
      "text/plain": [
       "1209"
      ]
     },
     "execution_count": 53,
     "metadata": {},
     "output_type": "execute_result"
    }
   ],
   "source": [
    "count_records(person_educations_df)\n",
    "# person_educations_df.show()"
   ]
  },
  {
   "cell_type": "code",
   "execution_count": 54,
   "id": "dedd7d4b-7ebd-42e6-946e-823a410c24a7",
   "metadata": {},
   "outputs": [],
   "source": [
    "# Define a struct for each institute\n",
    "institute_struct = F.struct(\n",
    "    \"institution_id\", \"institution_name\", \"degree\", \"subject\", \"started_on\", \"ended_on\"\n",
    ")\n",
    "\n",
    "# Group by person_id and collect list of institute details as structs\n",
    "grouped_educations_df = person_educations_df.groupBy(\"person_id\").agg(\n",
    "    F.collect_list(institute_struct).alias(\"education\")\n",
    "    # (\"education - (institution_id, institution_name, degree, subject, started_on, ended_on)\")\n",
    ")\n",
    "\n",
    "person_education_group_df = grouped_educations_df\n",
    "\n",
    "\n",
    "\n",
    "# Show the result\n",
    "# person_education_group_df.show(truncate=False)\n"
   ]
  },
  {
   "cell_type": "code",
   "execution_count": 55,
   "id": "5c0432f2-725e-4f54-9d44-0f992d0f82ae",
   "metadata": {},
   "outputs": [
    {
     "name": "stdout",
     "output_type": "stream",
     "text": [
      "DataFrame is unique based on person_id\n"
     ]
    },
    {
     "data": {
      "text/plain": [
       "500"
      ]
     },
     "execution_count": 55,
     "metadata": {},
     "output_type": "execute_result"
    }
   ],
   "source": [
    "check_uniqueness(person_education_group_df, 'person_id')\n",
    "count_records(person_education_group_df)"
   ]
  },
  {
   "cell_type": "code",
   "execution_count": 56,
   "id": "42422350-17a5-4b0f-b9eb-00ee395a9521",
   "metadata": {},
   "outputs": [
    {
     "data": {
      "text/plain": [
       "999"
      ]
     },
     "execution_count": 56,
     "metadata": {},
     "output_type": "execute_result"
    }
   ],
   "source": [
    "# Joining person_education_group_df and people_person_customer_df DataFrames on column named 'person_id'\n",
    "#changed people_person_customer_education_df -> people_education_df\n",
    "people_education_df = people_selected_df.join(person_education_group_df, on='person_id', how='left') \n",
    "\n",
    "# people_person_customer_education_df.show()\n",
    "\n",
    "count_records(people_person_customer_education_df)"
   ]
  },
  {
   "cell_type": "code",
   "execution_count": 38,
   "id": "231babc8-9dbc-4b8f-97c2-095870f2b2da",
   "metadata": {},
   "outputs": [
    {
     "name": "stdout",
     "output_type": "stream",
     "text": [
      "+---------+---------------+--------------------+\n",
      "|person_id|           name|           education|\n",
      "+---------+---------------+--------------------+\n",
      "|693540132|Lika Razac-Ince|                NULL|\n",
      "|118418234| Kenny Sheridan|                NULL|\n",
      "| 64876372|    David Coyle|[{NaN, University...|\n",
      "+---------+---------------+--------------------+\n",
      "only showing top 3 rows\n",
      "\n"
     ]
    }
   ],
   "source": [
    "people_education_df.show(3)"
   ]
  },
  {
   "cell_type": "markdown",
   "id": "1ca29629-9cd1-4789-b0c0-36c03b109897",
   "metadata": {},
   "source": [
    "***Transformation for Company related information***"
   ]
  },
  {
   "cell_type": "code",
   "execution_count": 57,
   "id": "5a6ef62f-d02b-4c40-87b5-af0186a0cc11",
   "metadata": {},
   "outputs": [
    {
     "data": {
      "text/plain": [
       "1000"
      ]
     },
     "execution_count": 57,
     "metadata": {},
     "output_type": "execute_result"
    }
   ],
   "source": [
    "# Group the DataFrame 'company_sectors_df' by 'company_id'\n",
    "grouped_company_sectors_df = company_sectors_df.groupBy('company_id').agg(\n",
    "    F.collect_list('sector').alias('sectors')\n",
    ")\n",
    "\n",
    "# Check the DataFrame 'grouped_company_sectors_df'\n",
    "# grouped_company_sectors_df.show()\n",
    "\n",
    "count_records(grouped_company_sectors_df)"
   ]
  },
  {
   "cell_type": "code",
   "execution_count": 58,
   "id": "520f41d4-1efe-4db0-8ccc-f3a157759c74",
   "metadata": {},
   "outputs": [
    {
     "data": {
      "text/plain": [
       "999"
      ]
     },
     "execution_count": 58,
     "metadata": {},
     "output_type": "execute_result"
    }
   ],
   "source": [
    "# Define a window partitioned by 'company_id' and ordered by 'date' in descending order\n",
    "window = Window.partitionBy('company_id').orderBy(F.desc('date'))\n",
    "\n",
    "# Add a new column 'rank' to the DataFrame 'company_annual_revenues_df'\n",
    "# The 'rank' is calculated over the defined window\n",
    "grouped_company_annual_revenues_df = company_annual_revenues_df.withColumn('rank', F.rank().over(window))\n",
    "\n",
    "# Filter the DataFrame to keep only the rows where 'rank' is 1\n",
    "# This gives us the latest annual revenue for each company\n",
    "# Select only the 'company_id' and 'amount_usd' columns for the final DataFrame\n",
    "latest_company_annual_revenues_df = grouped_company_annual_revenues_df.filter(F.col('rank') == 1).select('company_id', 'amount_usd')\n",
    "\n",
    "# Check the DataFrame 'latest_company_annual_revenues_df'\n",
    "# latest_company_annual_revenues_df.show()\n",
    "\n",
    "count_records(latest_company_annual_revenues_df)"
   ]
  },
  {
   "cell_type": "code",
   "execution_count": 59,
   "id": "f0474afb-eaff-4c28-8bfa-95d140452fda",
   "metadata": {},
   "outputs": [
    {
     "data": {
      "text/plain": [
       "847"
      ]
     },
     "execution_count": 59,
     "metadata": {},
     "output_type": "execute_result"
    }
   ],
   "source": [
    "# Define a window partitioned by 'headcount' and ordered by 'date' in descending order\n",
    "window = Window.partitionBy('headcount').orderBy(F.desc('date'))\n",
    "\n",
    "# Add a new column 'rank' to the DataFrame 'company_headcounts_df'\n",
    "# The 'rank' is calculated over the defined window\n",
    "grouped_company_headcounts_df = company_headcounts_df.withColumn('rank', F.rank().over(window))\n",
    "\n",
    "# Filter the DataFrame to keep only the rows where 'rank' is 1\n",
    "# This gives us the latest headcount for each company\n",
    "# Select only the 'company_id' and 'headcount' columns for the final DataFrame\n",
    "latest_company_headcounts_df = grouped_company_headcounts_df.filter(F.col('rank') == 1).select('company_id', 'headcount')\n",
    "\n",
    "# Check the DataFrame 'latest_company_headcounts_df'\n",
    "# latest_company_headcounts_df.show()\n",
    "\n",
    "count_records(latest_company_headcounts_df)"
   ]
  },
  {
   "cell_type": "code",
   "execution_count": 60,
   "id": "addd4e10-2e64-46c5-a244-48efcb484417",
   "metadata": {},
   "outputs": [
    {
     "data": {
      "text/plain": [
       "1000"
      ]
     },
     "execution_count": 60,
     "metadata": {},
     "output_type": "execute_result"
    }
   ],
   "source": [
    "# Select the 'company_id' and 'stock_ticker' columns from the DataFrame 'company_stock_tickers_df'\n",
    "selected_company_stock_tickers_df = company_stock_tickers_df.select('company_id','stock_ticker')\n",
    "count_records(selected_company_stock_tickers_df)"
   ]
  },
  {
   "cell_type": "markdown",
   "id": "1e9689c3-ac63-46a4-9374-ef738e622bcd",
   "metadata": {},
   "source": [
    "***Joined the company information related transformed dataframes***"
   ]
  },
  {
   "cell_type": "code",
   "execution_count": 61,
   "id": "26929de5-89ae-41cd-a3e1-ea91f0d7afd7",
   "metadata": {},
   "outputs": [
    {
     "data": {
      "text/plain": [
       "999"
      ]
     },
     "execution_count": 61,
     "metadata": {},
     "output_type": "execute_result"
    }
   ],
   "source": [
    "# Define a window partitioned by 'company_id' and ordered by 'date' in descending order\n",
    "window = Window.partitionBy('company_id').orderBy(F.desc('date'))\n",
    "\n",
    "# Add a new column 'rank' to the DataFrame 'company_annual_revenues_df'\n",
    "# The 'rank' is calculated over the defined window\n",
    "grouped_company_annual_revenues_df = company_annual_revenues_df.withColumn('rank', F.rank().over(window))\n",
    "\n",
    "# Filter the DataFrame to keep only the rows where 'rank' is 1\n",
    "# This gives us the latest annual revenue for each company\n",
    "# Select only the 'company_id' and 'amount_usd' columns for the final DataFrame\n",
    "latest_company_annual_revenues_df = grouped_company_annual_revenues_df.filter(F.col('rank') == 1).select('company_id', 'amount_usd')\n",
    "\n",
    "# Check the DataFrame 'latest_company_annual_revenues_df'\n",
    "# latest_company_annual_revenues_df.show()\n",
    "\n",
    "count_records(latest_company_annual_revenues_df)"
   ]
  },
  {
   "cell_type": "code",
   "execution_count": 62,
   "id": "867d734b-ed04-4483-8b24-9f39e5586650",
   "metadata": {},
   "outputs": [
    {
     "data": {
      "text/plain": [
       "1000"
      ]
     },
     "execution_count": 62,
     "metadata": {},
     "output_type": "execute_result"
    }
   ],
   "source": [
    "\n",
    "# Join the DataFrame 'grouped_company_sectors_df' with 'latest_company_annual_revenues_df', 'latest_company_headcounts_df', and 'selected_company_stock_tickers_df' on 'company_id'\n",
    "# The join type is 'left', meaning only the rows with a match in both DataFrames will be kept\n",
    "company_info_joined_df = grouped_company_sectors_df.join(\n",
    "    latest_company_annual_revenues_df, 'company_id', 'left'\n",
    ").join(\n",
    "    latest_company_headcounts_df, 'company_id', 'left'\n",
    ").join(\n",
    "    selected_company_stock_tickers_df, 'company_id', 'left'\n",
    ")\n",
    "\n",
    "# count_records(company_info_joined_df)\n",
    "\n",
    "# Select the 'company_id', 'amount_usd', 'headcount', and 'stock_ticker' columns from the joined DataFrame\n",
    "resultant_company_info_joined_df = company_info_joined_df.select(\n",
    "    'company_id',\n",
    "    latest_company_annual_revenues_df['amount_usd'],\n",
    "    latest_company_headcounts_df['headcount'],\n",
    "    selected_company_stock_tickers_df['stock_ticker']\n",
    ")\n",
    "\n",
    "# Check the DataFrame 'resultant_company_info_joined_df'\n",
    "# resultant_company_info_joined_df.show()\n",
    "\n",
    "count_records(resultant_company_info_joined_df)\n"
   ]
  },
  {
   "cell_type": "markdown",
   "id": "a54b0c61-de9d-40c1-bf44-b1f820bbb662",
   "metadata": {},
   "source": [
    "***Transformation for the Person Employment Table***"
   ]
  },
  {
   "cell_type": "code",
   "execution_count": 63,
   "id": "a59170d2-dc8f-4d4b-aaa6-44a68d1250e4",
   "metadata": {},
   "outputs": [
    {
     "name": "stdout",
     "output_type": "stream",
     "text": [
      "root\n",
      " |-- company_id: long (nullable = true)\n",
      " |-- amount_usd: double (nullable = true)\n",
      " |-- headcount: long (nullable = true)\n",
      " |-- stock_ticker: string (nullable = true)\n",
      "\n"
     ]
    }
   ],
   "source": [
    "resultant_company_info_joined_df.printSchema()"
   ]
  },
  {
   "cell_type": "markdown",
   "id": "998a5ac9-318b-4f2e-8823-ca32b6c40b4c",
   "metadata": {},
   "source": [
    "***Transformation for the Person Social Urls Table***"
   ]
  },
  {
   "cell_type": "code",
   "execution_count": 67,
   "id": "a71b7ade-74bb-4af6-9113-4df086a46889",
   "metadata": {},
   "outputs": [
    {
     "ename": "AnalysisException",
     "evalue": "[UNRESOLVED_USING_COLUMN_FOR_JOIN] USING column `person_id` cannot be resolved on the right side of the join. The right-side columns: [`amount_usd`, `company_id`, `headcount`, `stock_ticker`].",
     "output_type": "error",
     "traceback": [
      "\u001b[0;31m---------------------------------------------------------------------------\u001b[0m",
      "\u001b[0;31mAnalysisException\u001b[0m                         Traceback (most recent call last)",
      "Cell \u001b[0;32mIn[67], line 3\u001b[0m\n\u001b[1;32m      1\u001b[0m \u001b[38;5;66;03m# Joining person_education_group_df and people_person_customer_df DataFrames on column named 'person_id'\u001b[39;00m\n\u001b[0;32m----> 3\u001b[0m people_person_customer_education_employments \u001b[38;5;241m=\u001b[39m \u001b[43mpeople_education_df\u001b[49m\u001b[38;5;241;43m.\u001b[39;49m\u001b[43mjoin\u001b[49m\u001b[43m(\u001b[49m\u001b[43mresultant_company_info_joined_df\u001b[49m\u001b[43m,\u001b[49m\u001b[43m \u001b[49m\u001b[43mon\u001b[49m\u001b[38;5;241;43m=\u001b[39;49m\u001b[38;5;124;43m'\u001b[39;49m\u001b[38;5;124;43mperson_id\u001b[39;49m\u001b[38;5;124;43m'\u001b[39;49m\u001b[43m,\u001b[49m\u001b[43m \u001b[49m\u001b[43mhow\u001b[49m\u001b[38;5;241;43m=\u001b[39;49m\u001b[38;5;124;43m'\u001b[39;49m\u001b[38;5;124;43mleft\u001b[39;49m\u001b[38;5;124;43m'\u001b[39;49m\u001b[43m)\u001b[49m \n\u001b[1;32m      5\u001b[0m count_records(people_person_customer_education_employments)\n",
      "File \u001b[0;32m/usr/local/spark/python/pyspark/sql/dataframe.py:2487\u001b[0m, in \u001b[0;36mDataFrame.join\u001b[0;34m(self, other, on, how)\u001b[0m\n\u001b[1;32m   2485\u001b[0m         on \u001b[38;5;241m=\u001b[39m \u001b[38;5;28mself\u001b[39m\u001b[38;5;241m.\u001b[39m_jseq([])\n\u001b[1;32m   2486\u001b[0m     \u001b[38;5;28;01massert\u001b[39;00m \u001b[38;5;28misinstance\u001b[39m(how, \u001b[38;5;28mstr\u001b[39m), \u001b[38;5;124m\"\u001b[39m\u001b[38;5;124mhow should be a string\u001b[39m\u001b[38;5;124m\"\u001b[39m\n\u001b[0;32m-> 2487\u001b[0m     jdf \u001b[38;5;241m=\u001b[39m \u001b[38;5;28;43mself\u001b[39;49m\u001b[38;5;241;43m.\u001b[39;49m\u001b[43m_jdf\u001b[49m\u001b[38;5;241;43m.\u001b[39;49m\u001b[43mjoin\u001b[49m\u001b[43m(\u001b[49m\u001b[43mother\u001b[49m\u001b[38;5;241;43m.\u001b[39;49m\u001b[43m_jdf\u001b[49m\u001b[43m,\u001b[49m\u001b[43m \u001b[49m\u001b[43mon\u001b[49m\u001b[43m,\u001b[49m\u001b[43m \u001b[49m\u001b[43mhow\u001b[49m\u001b[43m)\u001b[49m\n\u001b[1;32m   2488\u001b[0m \u001b[38;5;28;01mreturn\u001b[39;00m DataFrame(jdf, \u001b[38;5;28mself\u001b[39m\u001b[38;5;241m.\u001b[39msparkSession)\n",
      "File \u001b[0;32m/usr/local/spark/python/lib/py4j-0.10.9.7-src.zip/py4j/java_gateway.py:1322\u001b[0m, in \u001b[0;36mJavaMember.__call__\u001b[0;34m(self, *args)\u001b[0m\n\u001b[1;32m   1316\u001b[0m command \u001b[38;5;241m=\u001b[39m proto\u001b[38;5;241m.\u001b[39mCALL_COMMAND_NAME \u001b[38;5;241m+\u001b[39m\\\n\u001b[1;32m   1317\u001b[0m     \u001b[38;5;28mself\u001b[39m\u001b[38;5;241m.\u001b[39mcommand_header \u001b[38;5;241m+\u001b[39m\\\n\u001b[1;32m   1318\u001b[0m     args_command \u001b[38;5;241m+\u001b[39m\\\n\u001b[1;32m   1319\u001b[0m     proto\u001b[38;5;241m.\u001b[39mEND_COMMAND_PART\n\u001b[1;32m   1321\u001b[0m answer \u001b[38;5;241m=\u001b[39m \u001b[38;5;28mself\u001b[39m\u001b[38;5;241m.\u001b[39mgateway_client\u001b[38;5;241m.\u001b[39msend_command(command)\n\u001b[0;32m-> 1322\u001b[0m return_value \u001b[38;5;241m=\u001b[39m \u001b[43mget_return_value\u001b[49m\u001b[43m(\u001b[49m\n\u001b[1;32m   1323\u001b[0m \u001b[43m    \u001b[49m\u001b[43manswer\u001b[49m\u001b[43m,\u001b[49m\u001b[43m \u001b[49m\u001b[38;5;28;43mself\u001b[39;49m\u001b[38;5;241;43m.\u001b[39;49m\u001b[43mgateway_client\u001b[49m\u001b[43m,\u001b[49m\u001b[43m \u001b[49m\u001b[38;5;28;43mself\u001b[39;49m\u001b[38;5;241;43m.\u001b[39;49m\u001b[43mtarget_id\u001b[49m\u001b[43m,\u001b[49m\u001b[43m \u001b[49m\u001b[38;5;28;43mself\u001b[39;49m\u001b[38;5;241;43m.\u001b[39;49m\u001b[43mname\u001b[49m\u001b[43m)\u001b[49m\n\u001b[1;32m   1325\u001b[0m \u001b[38;5;28;01mfor\u001b[39;00m temp_arg \u001b[38;5;129;01min\u001b[39;00m temp_args:\n\u001b[1;32m   1326\u001b[0m     \u001b[38;5;28;01mif\u001b[39;00m \u001b[38;5;28mhasattr\u001b[39m(temp_arg, \u001b[38;5;124m\"\u001b[39m\u001b[38;5;124m_detach\u001b[39m\u001b[38;5;124m\"\u001b[39m):\n",
      "File \u001b[0;32m/usr/local/spark/python/pyspark/errors/exceptions/captured.py:185\u001b[0m, in \u001b[0;36mcapture_sql_exception.<locals>.deco\u001b[0;34m(*a, **kw)\u001b[0m\n\u001b[1;32m    181\u001b[0m converted \u001b[38;5;241m=\u001b[39m convert_exception(e\u001b[38;5;241m.\u001b[39mjava_exception)\n\u001b[1;32m    182\u001b[0m \u001b[38;5;28;01mif\u001b[39;00m \u001b[38;5;129;01mnot\u001b[39;00m \u001b[38;5;28misinstance\u001b[39m(converted, UnknownException):\n\u001b[1;32m    183\u001b[0m     \u001b[38;5;66;03m# Hide where the exception came from that shows a non-Pythonic\u001b[39;00m\n\u001b[1;32m    184\u001b[0m     \u001b[38;5;66;03m# JVM exception message.\u001b[39;00m\n\u001b[0;32m--> 185\u001b[0m     \u001b[38;5;28;01mraise\u001b[39;00m converted \u001b[38;5;28;01mfrom\u001b[39;00m \u001b[38;5;28;01mNone\u001b[39;00m\n\u001b[1;32m    186\u001b[0m \u001b[38;5;28;01melse\u001b[39;00m:\n\u001b[1;32m    187\u001b[0m     \u001b[38;5;28;01mraise\u001b[39;00m\n",
      "\u001b[0;31mAnalysisException\u001b[0m: [UNRESOLVED_USING_COLUMN_FOR_JOIN] USING column `person_id` cannot be resolved on the right side of the join. The right-side columns: [`amount_usd`, `company_id`, `headcount`, `stock_ticker`]."
     ]
    }
   ],
   "source": [
    "# Joining person_education_group_df and people_person_customer_df DataFrames on column named 'person_id'\n",
    "\n",
    "people_person_customer_education_employments = people_education_df.join(resultant_company_info_joined_df, on='person_id', how='left') \n",
    "\n",
    "count_records(people_person_customer_education_employments)\n"
   ]
  },
  {
   "cell_type": "code",
   "execution_count": 52,
   "id": "841272f3-4ac4-4d5f-ae5f-7ec0ab47d136",
   "metadata": {},
   "outputs": [
    {
     "name": "stdout",
     "output_type": "stream",
     "text": [
      "DataFrame is unique based on person_id\n"
     ]
    }
   ],
   "source": [
    "check_uniqueness(people_person_customer_education_employments_social_urls_df, 'person_id')"
   ]
  },
  {
   "cell_type": "markdown",
   "id": "2a61d2f4-61e6-485c-b5d6-6ff9bbe09ec4",
   "metadata": {},
   "source": [
    "***Final Dataframe***"
   ]
  },
  {
   "cell_type": "code",
   "execution_count": 41,
   "id": "2a04783c-2027-452b-8bbb-2f1656a4ef4b",
   "metadata": {},
   "outputs": [
    {
     "ename": "NameError",
     "evalue": "name 'people_person_customer_education_employments_social_urls_df' is not defined",
     "output_type": "error",
     "traceback": [
      "\u001b[0;31m---------------------------------------------------------------------------\u001b[0m",
      "\u001b[0;31mNameError\u001b[0m                                 Traceback (most recent call last)",
      "Cell \u001b[0;32mIn[41], line 1\u001b[0m\n\u001b[0;32m----> 1\u001b[0m \u001b[43mpeople_person_customer_education_employments_social_urls_df\u001b[49m\u001b[38;5;241m.\u001b[39mshow(\u001b[38;5;241m1\u001b[39m,truncate\u001b[38;5;241m=\u001b[39m\u001b[38;5;28;01mFalse\u001b[39;00m)\n",
      "\u001b[0;31mNameError\u001b[0m: name 'people_person_customer_education_employments_social_urls_df' is not defined"
     ]
    }
   ],
   "source": [
    "people_person_customer_education_employments_social_urls_df.show(1,truncate=False)"
   ]
  },
  {
   "cell_type": "markdown",
   "id": "44f6554e-d551-40be-8841-0d0521c5e369",
   "metadata": {},
   "source": [
    "***Final Dataframe can be exported to files such as CSV, JSON, Parquet***"
   ]
  },
  {
   "cell_type": "code",
   "execution_count": 55,
   "id": "8d11ab12-6058-4fca-857e-406425f818c7",
   "metadata": {},
   "outputs": [],
   "source": [
    "# Use the exiting dataframe\n",
    "final_df = people_person_customer_education_employments_social_urls_df\n"
   ]
  },
  {
   "cell_type": "code",
   "execution_count": 56,
   "id": "e65e3098-0817-4930-b0fe-f4f4ae574710",
   "metadata": {},
   "outputs": [
    {
     "name": "stdout",
     "output_type": "stream",
     "text": [
      "+---------+---------------+-----------------------+----------------------------------+-------------------------------------------------------------------------------------------------------------------------------------------------------------------------------------------------------------------------------------------------------------------------------------------------------------------------------------------------------------------------------------------------+-------------------------+----------------------+------------------------------------+---------+--------------------------------------------------------------------------------------------------------------------------------------------------------------------------------------------------------------------------------------------------------------------------------------------------------------------------------------------------------------------------------------------------------------------------------------------------------------------------------------------------------------------------------------------------------------------------------------------------------------------------------------------------------------------------------------------------------------------------------------------------------------------------------------------------------------------------------------------------------------------------------------------------------------------------------------------------------------------------------------------------------------------------------------------------------------------------------------------------------------------------------------------------------------------------------------------------------------------------------------------------------------------------------------------------------------------------------------------------------------------------------------------------------------------------------------------------------------------------------------------------------------------------------------------------------------------------------------------------------------------------------------------+-----------------------------------------------------------------+\n",
      "|person_id|name           |address                |headline                          |description                                                                                                                                                                                                                                                                                                                                                                                      |created_at               |updated_at            |customer_id                         |education|employments                                                                                                                                                                                                                                                                                                                                                                                                                                                                                                                                                                                                                                                                                                                                                                                                                                                                                                                                                                                                                                                                                                                                                                                                                                                                                                                                                                                                                                                                                                                                                                                                                                 |urls                                                             |\n",
      "+---------+---------------+-----------------------+----------------------------------+-------------------------------------------------------------------------------------------------------------------------------------------------------------------------------------------------------------------------------------------------------------------------------------------------------------------------------------------------------------------------------------------------+-------------------------+----------------------+------------------------------------+---------+--------------------------------------------------------------------------------------------------------------------------------------------------------------------------------------------------------------------------------------------------------------------------------------------------------------------------------------------------------------------------------------------------------------------------------------------------------------------------------------------------------------------------------------------------------------------------------------------------------------------------------------------------------------------------------------------------------------------------------------------------------------------------------------------------------------------------------------------------------------------------------------------------------------------------------------------------------------------------------------------------------------------------------------------------------------------------------------------------------------------------------------------------------------------------------------------------------------------------------------------------------------------------------------------------------------------------------------------------------------------------------------------------------------------------------------------------------------------------------------------------------------------------------------------------------------------------------------------------------------------------------------------+-----------------------------------------------------------------+\n",
      "|693540132|Lika Razac-Ince|NaN, NaN, NaN, NaN, NaN|Content & Production Lead at Apple|Two sides of a coin... 7+ years experience of building and leading digital teams of producers, designers and developers. A strong team ethic and collaboration are at the core of how I lead and work within teams across projects.\\n\\nSecond side... Photographer capturing the candid subtleties in life. Documentary/reportage, behind the scenes, work life photography and that street life.|2023-12-11 06:18:08.13904|2023-10-26 15:57:22.35|7538cb11-1c23-4c76-87c7-5111a0f166dc|NULL     |[{NaN, NaN, NaN, Professional Photographer, 2018-04-01, NaN, NULL, NULL, NULL, NULL, NULL, NULL}, {NaN, NaN, NaN, Flash Designer/Artworker/, 2001-06-01, 2004-06-01, NULL, NULL, NULL, NULL, NULL, NULL}, {NaN, NaN, NaN, Flash designer, 2004-01-01, 2006-01-01, NULL, NULL, NULL, NULL, NULL, NULL}, {8911699.0, Interventional Pain & Physical Medicine Clinic, Head of ..., Head of Digital, 2006-11-01, 2012-04-01, NULL, NULL, NULL, NULL, NULL, NULL}, {1660.0, Apple, NaN, Content & Production Lead - Europe, 2022-01-01, NaN, 3.1949031445E10, 224704, AAPL, Private Equity, 6084.0, Interscope Records}, {728919.0, Bluedog, NaN, Project Management Consultant, 2020-06-01, 2020-11-01, NULL, NULL, NULL, NULL, NULL, NULL}, {14755.0, Agenda-Asia, NaN, Senior Project Management, 2018-04-01, 2019-12-01, NULL, NULL, NULL, NULL, NULL, NULL}, {630326.0, Tag Worldwide, NaN, Production Lead, 2020-12-01, 2022-01-01, NULL, NULL, NULL, NULL, NULL, NULL}, {61767.0, Karmarama, Head of ..., Head of Digital Delivery, 2014-03-01, 2018-03-01, NULL, NULL, NULL, NULL, NULL, NULL}, {61767.0, Karmarama, Director, Project Director (Freelance), 2013-11-01, 2014-03-01, NULL, NULL, NULL, NULL, NULL, NULL}, {1087587.0, Self Employed, NaN, Freelance SNR Project Management / PD / Head of, 2018-04-01, 2020-12-01, NULL, NULL, NULL, NULL, NULL, NULL}, {1.1549668E7, Dentsu Creative, Head of ..., Head of Digital production, 2012-04-01, 2013-10-01, NULL, NULL, NULL, NULL, NULL, NULL}, {7711674.0, Ekino London, Director, Freelance Project Director, 2020-01-01, 2020-05-01, NULL, NULL, NULL, NULL, NULL, NULL}]|[{linkedin, https://www.linkedin.com/in/lika-razac-ince-2044385}]|\n",
      "+---------+---------------+-----------------------+----------------------------------+-------------------------------------------------------------------------------------------------------------------------------------------------------------------------------------------------------------------------------------------------------------------------------------------------------------------------------------------------------------------------------------------------+-------------------------+----------------------+------------------------------------+---------+--------------------------------------------------------------------------------------------------------------------------------------------------------------------------------------------------------------------------------------------------------------------------------------------------------------------------------------------------------------------------------------------------------------------------------------------------------------------------------------------------------------------------------------------------------------------------------------------------------------------------------------------------------------------------------------------------------------------------------------------------------------------------------------------------------------------------------------------------------------------------------------------------------------------------------------------------------------------------------------------------------------------------------------------------------------------------------------------------------------------------------------------------------------------------------------------------------------------------------------------------------------------------------------------------------------------------------------------------------------------------------------------------------------------------------------------------------------------------------------------------------------------------------------------------------------------------------------------------------------------------------------------+-----------------------------------------------------------------+\n",
      "only showing top 1 row\n",
      "\n"
     ]
    }
   ],
   "source": [
    "final_df.show(1,truncate=False)"
   ]
  },
  {
   "cell_type": "code",
   "execution_count": 57,
   "id": "301e7b73-3cd6-43f2-8241-9b3d5fdde6b5",
   "metadata": {},
   "outputs": [],
   "source": [
    "final_df.write.mode('overwrite').json('./work/final_df')"
   ]
  },
  {
   "cell_type": "code",
   "execution_count": 58,
   "id": "7cf0a2ca-fd24-4e73-9e4d-b9c3f0f95891",
   "metadata": {},
   "outputs": [
    {
     "name": "stdout",
     "output_type": "stream",
     "text": [
      "root\n",
      " |-- person_id: long (nullable = true)\n",
      " |-- name: string (nullable = true)\n",
      " |-- address: string (nullable = false)\n",
      " |-- headline: string (nullable = true)\n",
      " |-- description: string (nullable = true)\n",
      " |-- created_at: string (nullable = true)\n",
      " |-- updated_at: string (nullable = true)\n",
      " |-- customer_id: string (nullable = true)\n",
      " |-- education: array (nullable = true)\n",
      " |    |-- element: struct (containsNull = false)\n",
      " |    |    |-- institution_id: double (nullable = true)\n",
      " |    |    |-- institution_name: string (nullable = true)\n",
      " |    |    |-- degree: string (nullable = true)\n",
      " |    |    |-- subject: string (nullable = true)\n",
      " |    |    |-- started_on: string (nullable = true)\n",
      " |    |    |-- ended_on: string (nullable = true)\n",
      " |-- employments: array (nullable = true)\n",
      " |    |-- element: struct (containsNull = false)\n",
      " |    |    |-- company_id: double (nullable = true)\n",
      " |    |    |-- company_name: string (nullable = true)\n",
      " |    |    |-- seniority_level: string (nullable = true)\n",
      " |    |    |-- title: string (nullable = true)\n",
      " |    |    |-- started_on: string (nullable = true)\n",
      " |    |    |-- ended_on: string (nullable = true)\n",
      " |    |    |-- amount_usd: double (nullable = true)\n",
      " |    |    |-- headcount: long (nullable = true)\n",
      " |    |    |-- stock_ticker: string (nullable = true)\n",
      " |    |    |-- funding_name: string (nullable = true)\n",
      " |    |    |-- investor_company_id: double (nullable = true)\n",
      " |    |    |-- investor: string (nullable = true)\n",
      " |-- urls: array (nullable = true)\n",
      " |    |-- element: struct (containsNull = false)\n",
      " |    |    |-- url_type: string (nullable = true)\n",
      " |    |    |-- url: string (nullable = true)\n",
      "\n"
     ]
    }
   ],
   "source": [
    "final_df.printSchema()\n"
   ]
  },
  {
   "cell_type": "code",
   "execution_count": 59,
   "id": "686d8eba-a1d6-4f87-9003-4f235a3390c9",
   "metadata": {},
   "outputs": [],
   "source": [
    "final_df.write.mode(\"overwrite\").parquet(\"final_output/df4.parquet\")\n"
   ]
  },
  {
   "cell_type": "code",
   "execution_count": 60,
   "id": "2a790028-5d33-4fdf-b761-4fdda8584a4d",
   "metadata": {},
   "outputs": [],
   "source": [
    "df = spark.read.parquet(\"final_output/df4.parquet\")"
   ]
  },
  {
   "cell_type": "code",
   "execution_count": 61,
   "id": "e09546a4-fa39-4570-afc7-75faeb163f55",
   "metadata": {},
   "outputs": [
    {
     "name": "stdout",
     "output_type": "stream",
     "text": [
      "+----------+--------------------+--------------------+--------------------+--------------------+--------------------+--------------------+--------------------+--------------------+--------------------+--------------------+\n",
      "| person_id|                name|             address|            headline|         description|          created_at|          updated_at|         customer_id|           education|         employments|                urls|\n",
      "+----------+--------------------+--------------------+--------------------+--------------------+--------------------+--------------------+--------------------+--------------------+--------------------+--------------------+\n",
      "| 949256266|         Vivian Weng|NaN, NaN, NaN, Na...|Product Design, S...|                 NaN|2023-12-11 06:18:...|                 NaN|7538cb11-1c23-4c7...|[{NaN, University...|[{7962172.0, Frog...|[{linkedin, https...|\n",
      "| 902184389|   Hendrik Bourgeois|NaN, NaN, NaN, Na...|Head of Governmen...|                 NaN|2023-12-11 06:18:...|2023-10-26 15:57:...|7538cb11-1c23-4c7...|                NULL|[{1660.0, Apple, ...|[{linkedin, https...|\n",
      "|  48171849|     Courtney Turner|NaN, Toledo, Ohio...|                 NaN|The search for so...|2023-12-11 06:18:...|2023-10-14 21:35:...|7538cb11-1c23-4c7...|[{NaN, The Univer...|[{1660.0, Apple, ...|[{linkedin, https...|\n",
      "|  74707094|       Katie Richter|NaN, Austin, Texa...|                 NaN|Retail Business S...|2023-12-11 06:18:...|2023-10-14 21:35:...|7538cb11-1c23-4c7...|[{NaN, Rhodes Col...|[{6517068.0, Acti...|[{linkedin, https...|\n",
      "|1042153985| Victor Merced-Felix|NaN, NaN, NaN, Na...|Customer Service ...|As stated in my r...|2023-12-11 06:18:...|2023-10-18 23:07:...|                NULL|                NULL|[{263757.0, VXI G...|[{linkedin, https...|\n",
      "| 787025923|         Lynda Zhang|NaN, NaN, NaN, Na...|Retail Ownership ...|                 NaN|2023-12-11 06:18:...|2023-10-26 15:57:...|7538cb11-1c23-4c7...|                NULL|[{NaN, NaN, Manag...|[{linkedin, https...|\n",
      "| 715859477|      Tamara Vranjes|NaN, NaN, NaN, Na...|Assistant Team Ma...|Coming up to 5 ye...|2023-12-11 06:18:...|2023-10-26 15:57:...|7538cb11-1c23-4c7...|                NULL|[{NaN, NaN, CXO, ...|[{linkedin, https...|\n",
      "|  51432999|        Juan Sanchez|NaN, Boise, Idaho...|                 NaN|Art Director at A...|2023-12-11 06:18:...|2023-10-18 23:07:...|7538cb11-1c23-4c7...|[{NaN, Minico Hig...|[{1660.0, Apple, ...|[{linkedin, https...|\n",
      "|  71726687|     Katherine Hicks|NaN, Bay Village,...|                 NaN|Results Driven, C...|2023-12-11 06:18:...|2023-10-14 21:35:...|7538cb11-1c23-4c7...|[{NaN, Barnard Co...|[{108182.0, Macy'...|[{linkedin, https...|\n",
      "| 909645082|       Lucas Turrado|NaN, NaN, NaN, Na...|Marketing Communi...|More than 10 year...|2023-12-11 06:18:...|2023-10-26 15:57:...|7538cb11-1c23-4c7...|                NULL|[{1660.0, Apple, ...|[{linkedin, https...|\n",
      "|  20891932|     Cynthia Collins|NaN, San Francisc...|                 NaN|18 years of progr...|2023-12-11 06:18:...|2023-10-14 21:35:...|7538cb11-1c23-4c7...|[{NaN, University...|[{1660.0, Apple, ...|[{linkedin, https...|\n",
      "| 123861635|          Luke Meyer|NaN, NaN, NaN, Na...|Sr. Commercial Fi...|                 NaN|2023-12-11 06:18:...|2023-10-26 15:57:...|                NULL|                NULL|[{NaN, NaN, NaN, ...|[{linkedin, https...|\n",
      "| 124440405|Ashton Mitchell D...|NaN, NaN, NaN, Na...|Brand Marketing a...|Building somethin...|2023-12-11 06:18:...|2023-10-26 15:57:...|7538cb11-1c23-4c7...|                NULL|[{123324.0, DDB W...|[{linkedin, https...|\n",
      "|  22355698|      Ritchie Lozada|NaN, San Francisc...|                 NaN|Passion for compl...|2023-12-11 06:18:...|2023-10-14 21:35:...|7538cb11-1c23-4c7...|[{NaN, Ateneo De ...|[{NaN, NaN, Manag...|[{linkedin, https...|\n",
      "|    734368|Abby Anderson Edling|NaN, San Francisc...|  Marketing at Apple|Results-oriented ...|2023-12-11 06:18:...|2023-10-18 23:07:...|7538cb11-1c23-4c7...|[{194218.0, Compl...|[{7101313.0, Cal ...|[{linkedin, https...|\n",
      "| 952242351|        Emily Nguyen|NaN, NaN, NaN, Na...|Director at Luxsh...|I am the manager ...|2023-12-11 06:18:...|2023-10-26 15:57:...|7538cb11-1c23-4c7...|                NULL|[{NaN, NaN, Direc...|[{linkedin, https...|\n",
      "|  22216310|        Mark Gotuaco|NaN, Alameda, Cal...|                 NaN|Graduate Marketin...|2023-12-11 06:18:...|2023-10-14 21:35:...|                NULL|[{NaN, Santa Clar...|[{NaN, NaN, NaN, ...|[{linkedin, https...|\n",
      "| 161786823|             Evan Li|NaN, NaN, NaN, Na...|Director of Energ...|He has now retire...|2023-12-11 06:18:...|2023-10-26 15:57:...|                NULL|                NULL|[{1694.0, Tesla, ...|[{linkedin, https...|\n",
      "|1169460415|      Terrell Thomas|NaN, NaN, NaN, Na...|      Terrell Thomas|                 NaN|2023-12-11 06:18:...|2023-10-14 21:35:...|7538cb11-1c23-4c7...|                NULL|[{1660.0, Apple, ...|[{linkedin, https...|\n",
      "| 837503042|          Clara Têtu|NaN, NaN, NaN, Na...|Apple Solutions C...|                 NaN|2023-12-11 06:18:...|2023-10-26 15:57:...|7538cb11-1c23-4c7...|                NULL|[{400708.0, Clari...|[{linkedin, https...|\n",
      "+----------+--------------------+--------------------+--------------------+--------------------+--------------------+--------------------+--------------------+--------------------+--------------------+--------------------+\n",
      "only showing top 20 rows\n",
      "\n"
     ]
    }
   ],
   "source": [
    "df.show()"
   ]
  },
  {
   "cell_type": "code",
   "execution_count": 62,
   "id": "8bf18b19-4eb9-4fed-a202-1875de8391e9",
   "metadata": {},
   "outputs": [
    {
     "name": "stdout",
     "output_type": "stream",
     "text": [
      "+-------------------------------------------------------------------------------------------------------------------------------------------------------------------------------------------------------------------------------------------------------------------------------------------------------------------------------------------------------------------------------------------------------------------------------------------------------------------------------------------------------------------------------------------------------------------------------------------------------------------------------------------------------------------------------------------------------------------------------------------------------------------------------------------------------------------------------------------------------------------------------------------------------------------------------------------------------------------------------------------------------------------------------------------------------------------------------------------------------------------------------------------------------------------------------------------------------------------------------------------------------------------------------------------------------------------------------------------------------------------------------------------------------------------------------------------------------------------------------------------------------------------+\n",
      "|candidate_details                                                                                                                                                                                                                                                                                                                                                                                                                                                                                                                                                                                                                                                                                                                                                                                                                                                                                                                                                                                                                                                                                                                                                                                                                                                                                                                                                                                                                                                                                                  |\n",
      "+-------------------------------------------------------------------------------------------------------------------------------------------------------------------------------------------------------------------------------------------------------------------------------------------------------------------------------------------------------------------------------------------------------------------------------------------------------------------------------------------------------------------------------------------------------------------------------------------------------------------------------------------------------------------------------------------------------------------------------------------------------------------------------------------------------------------------------------------------------------------------------------------------------------------------------------------------------------------------------------------------------------------------------------------------------------------------------------------------------------------------------------------------------------------------------------------------------------------------------------------------------------------------------------------------------------------------------------------------------------------------------------------------------------------------------------------------------------------------------------------------------------------+\n",
      "|person_id:949256266 name:Vivian Weng address:NaN, NaN, NaN, NaN, SINGAPORE headline:Product Design, Strategy & Managment description:NaN created_at:2023-12-11 06:18:08.13904 updated_at:NaN customer_id:7538cb11-1c23-4c76-87c7-5111a0f166dc education:[{NaN, University of California, Berkeley - Walter A. Haas School of Business, NaN, MBA, Finance, 2007-01-01, 2009-01-01}, {NaN, National Taiwan University, NaN, BA, International Relations, 1998-01-01, 2002-01-01}, {NaN, Yale University, NaN, MA, International Developmental Economics, 2002-01-01, 2003-01-01}] employments:[{7962172.0, Frog, Director, Associate Strategy Director, Innovation Strategy Group, 2012-02-01, 2016-06-01, null, null, null, null, null, null}, {15861.0, DBS Bank, VP, Vice President, Innovation Group, 2016-07-01, 2019-04-01, null, null, null, null, null, null}, {1660.0, Apple, NaN, Product Design Producer, International Product Design, 2019-04-01, NaN, 3.1949031445E10, 224704, AAPL, Private Equity, 6084.0, Interscope Records}, {59.0, Goldman Sachs, NaN, Investment Banking Division Summer Associate, 2008-06-01, 2008-08-01, 8.417546311E9, 75859, GS, null, null, null}, {4007.0, McKinsey & Company, NaN, Business Analyst, 2004-01-01, 2007-01-01, null, null, null, null, null, null}, {4007.0, McKinsey & Company, NaN, Senior Associate, Corporate Finance, 2009-09-01, 2011-11-01, null, null, null, null, null, null}] urls:[{linkedin, https://www.linkedin.com/in/vivian-weng-4a0b884}]|\n",
      "+-------------------------------------------------------------------------------------------------------------------------------------------------------------------------------------------------------------------------------------------------------------------------------------------------------------------------------------------------------------------------------------------------------------------------------------------------------------------------------------------------------------------------------------------------------------------------------------------------------------------------------------------------------------------------------------------------------------------------------------------------------------------------------------------------------------------------------------------------------------------------------------------------------------------------------------------------------------------------------------------------------------------------------------------------------------------------------------------------------------------------------------------------------------------------------------------------------------------------------------------------------------------------------------------------------------------------------------------------------------------------------------------------------------------------------------------------------------------------------------------------------------------+\n",
      "only showing top 1 row\n",
      "\n"
     ]
    }
   ],
   "source": [
    "# Create an empty list to store the column expressions\n",
    "column_exprs = []\n",
    "\n",
    "# For each column in the DataFrame\n",
    "for col_name in df.columns:\n",
    "    # Create a new column expression that concatenates the column name and the column value\n",
    "    column_exprs.append(F.concat(F.lit(col_name + \":\"), df[col_name].cast(\"string\")))\n",
    "\n",
    "# Concatenate all column expressions into one single column 'single_text'\n",
    "single_file_for_each_person_df = df.select(F.concat_ws(' ', *column_exprs).alias('candidate_details'))\n",
    "\n",
    "single_file_for_each_person_df.show(1,truncate=False)"
   ]
  },
  {
   "cell_type": "code",
   "execution_count": 63,
   "id": "13e7375c-0d89-490b-a326-e7f2d8927d43",
   "metadata": {},
   "outputs": [
    {
     "name": "stdout",
     "output_type": "stream",
     "text": [
      "+---------+-----------------+-----------------------------+-----------------------------------------------------+-----------+-----------------------------------------------------------------------------------------------------------------------------------------------------------------------------------------------------------------------------------------------------------------------------------------------------------------------+-----------------------------------------------------------------------------------------------------------------------------------------------------------------------------------------------------------------------------------------------------------------------------------------------------------------------------------------------------------------------------------------------------------------------------------------------------------------------------------------------------------------------------------------------------------------------------------------------------------------------------------------------------------------------------------------------------------------------------------------------------------------------------------------------------------------------------------------------------------------------------------------------------------------------------------------------------------------------------------------------------------------------------------------------------------+\n",
      "|person_id|name             |address                      |headline                                             |description|education                                                                                                                                                                                                                                                                                                              |employments                                                                                                                                                                                                                                                                                                                                                                                                                                                                                                                                                                                                                                                                                                                                                                                                                                                                                                                                                                                                                                                |\n",
      "+---------+-----------------+-----------------------------+-----------------------------------------------------+-----------+-----------------------------------------------------------------------------------------------------------------------------------------------------------------------------------------------------------------------------------------------------------------------------------------------------------------------+-----------------------------------------------------------------------------------------------------------------------------------------------------------------------------------------------------------------------------------------------------------------------------------------------------------------------------------------------------------------------------------------------------------------------------------------------------------------------------------------------------------------------------------------------------------------------------------------------------------------------------------------------------------------------------------------------------------------------------------------------------------------------------------------------------------------------------------------------------------------------------------------------------------------------------------------------------------------------------------------------------------------------------------------------------------+\n",
      "|949256266|Vivian Weng      |NaN, NaN, NaN, NaN, SINGAPORE|Product Design, Strategy & Managment                 |NaN        |[{NaN, University of California, Berkeley - Walter A. Haas School of Business, NaN, MBA, Finance, 2007-01-01, 2009-01-01}, {NaN, National Taiwan University, NaN, BA, International Relations, 1998-01-01, 2002-01-01}, {NaN, Yale University, NaN, MA, International Developmental Economics, 2002-01-01, 2003-01-01}]|[{7962172.0, Frog, Director, Associate Strategy Director, Innovation Strategy Group, 2012-02-01, 2016-06-01, NULL, NULL, NULL, NULL, NULL, NULL}, {15861.0, DBS Bank, VP, Vice President, Innovation Group, 2016-07-01, 2019-04-01, NULL, NULL, NULL, NULL, NULL, NULL}, {1660.0, Apple, NaN, Product Design Producer, International Product Design, 2019-04-01, NaN, 3.1949031445E10, 224704, AAPL, Private Equity, 6084.0, Interscope Records}, {59.0, Goldman Sachs, NaN, Investment Banking Division Summer Associate, 2008-06-01, 2008-08-01, 8.417546311E9, 75859, GS, NULL, NULL, NULL}, {4007.0, McKinsey & Company, NaN, Business Analyst, 2004-01-01, 2007-01-01, NULL, NULL, NULL, NULL, NULL, NULL}, {4007.0, McKinsey & Company, NaN, Senior Associate, Corporate Finance, 2009-09-01, 2011-11-01, NULL, NULL, NULL, NULL, NULL, NULL}]                                                                                                                                                                                                       |\n",
      "|902184389|Hendrik Bourgeois|NaN, NaN, NaN, NaN, NaN      |Head of Government Affairs Europe and Russia at Apple|NaN        |NULL                                                                                                                                                                                                                                                                                                                   |[{1660.0, Apple, Head of ..., Head of Government Affairs Europe and Russia, 2019-09-01, NaN, 3.1949031445E10, 224704, AAPL, Private Equity, 6084.0, Interscope Records}, {110139.0, Jones Day, NaN, Associate, 1993-08-01, 1996-12-01, NULL, NULL, NULL, NULL, NULL, NULL}, {110139.0, Jones Day, NaN, Associate, 1996-01-01, 1999-07-01, NULL, NULL, NULL, NULL, NULL, NULL}, {72544.0, Cargill, VP, Vice President Corporate Affairs EMEA, 2018-01-01, 2019-08-01, NULL, NULL, NULL, NULL, NULL, NULL}, {2025.0, General Electric, NaN, General Counsel, Europe, 2009-04-01, 2011-06-01, NULL, NULL, NULL, NULL, NULL, NULL}, {2025.0, General Electric, NaN, General Counsel Europe GE Industrial Systems, 1999-09-01, 2002-11-01, NULL, NULL, NULL, NULL, NULL, NULL}, {2025.0, General Electric, VP, General Counsel Europe & Vice President European Affairs, 2011-06-01, 2017-12-01, NULL, NULL, NULL, NULL, NULL, NULL}, {2025.0, General Electric, NaN, European Competition Counsel, 2002-11-01, 2009-04-01, NULL, NULL, NULL, NULL, NULL, NULL}]|\n",
      "+---------+-----------------+-----------------------------+-----------------------------------------------------+-----------+-----------------------------------------------------------------------------------------------------------------------------------------------------------------------------------------------------------------------------------------------------------------------------------------------------------------------+-----------------------------------------------------------------------------------------------------------------------------------------------------------------------------------------------------------------------------------------------------------------------------------------------------------------------------------------------------------------------------------------------------------------------------------------------------------------------------------------------------------------------------------------------------------------------------------------------------------------------------------------------------------------------------------------------------------------------------------------------------------------------------------------------------------------------------------------------------------------------------------------------------------------------------------------------------------------------------------------------------------------------------------------------------------+\n",
      "only showing top 2 rows\n",
      "\n"
     ]
    }
   ],
   "source": [
    "df = df.select('person_id', 'name', 'address', 'headline', 'description', 'education', 'employments')\n",
    "df.show(2,truncate=False)"
   ]
  },
  {
   "cell_type": "code",
   "execution_count": 64,
   "id": "5862a03f-b5e8-4c1b-9445-43f3d4536b5b",
   "metadata": {},
   "outputs": [
    {
     "name": "stdout",
     "output_type": "stream",
     "text": [
      "+-------------------------------------------------------------------------------------------------------------------------------------------------------------------------------------------------------------------------------------------------------------------------------------------------------------------------------------------------------------------------------------------------------------------------------------------------------------------------------------------------------------------------------------------------------------------------------------------------------------------------------------------------------------------------------------------------------------------------------------------------------------------------------------------------------------------------------------------------------------------------------------------------------------------------------------------------------------------------------------------------------------------------------------------------------------------------------------------------------------------------------------------------------------------------+\n",
      "|plain_text                                                                                                                                                                                                                                                                                                                                                                                                                                                                                                                                                                                                                                                                                                                                                                                                                                                                                                                                                                                                                                                                                                                                                               |\n",
      "+-------------------------------------------------------------------------------------------------------------------------------------------------------------------------------------------------------------------------------------------------------------------------------------------------------------------------------------------------------------------------------------------------------------------------------------------------------------------------------------------------------------------------------------------------------------------------------------------------------------------------------------------------------------------------------------------------------------------------------------------------------------------------------------------------------------------------------------------------------------------------------------------------------------------------------------------------------------------------------------------------------------------------------------------------------------------------------------------------------------------------------------------------------------------------+\n",
      "|person_id:949256266 name:Vivian Weng address:NaN NaN NaN NaN SINGAPORE headline:Product Design Strategy Managment description:NaN created_at:20231211 06:18:0813904 updated_at:NaN customer_id:7538cb111c234c7687c75111a0f166dc education:NaN University of California Berkeley Walter A Haas School of Business NaN MBA Finance 20070101 20090101 NaN National Taiwan University NaN BA International Relations 19980101 20020101 NaN Yale University NaN MA International Developmental Economics 20020101 20030101 employments:79621720 Frog Director Associate Strategy Director Innovation Strategy Group 20120201 20160601 158610 DBS Bank VP Vice President Innovation Group 20160701 20190401 16600 Apple NaN Product Design Producer International Product Design 20190401 NaN 31949031445E10 224704 AAPL Private Equity 60840 Interscope Records 590 Goldman Sachs NaN Investment Banking Division Summer Associate 20080601 20080801 8417546311E9 75859 GS 40070 McKinsey Company NaN Business Analyst 20040101 20070101 40070 McKinsey Company NaN Senior Associate Corporate Finance 20090901 20111101 urls:linkedin https:wwwlinkedincominvivianweng4a0b884|\n",
      "|person_id:902184389 name:Hendrik Bourgeois address:NaN NaN NaN NaN NaN headline:Head of Government Affairs Europe and Russia at Apple description:NaN created_at:20231211 06:18:0813904 updated_at:20231026 15:57:2235 customer_id:7538cb111c234c7687c75111a0f166dc employments:16600 Apple Head of Head of Government Affairs Europe and Russia 20190901 NaN 31949031445E10 224704 AAPL Private Equity 60840 Interscope Records 1101390 Jones Day NaN Associate 19930801 19961201 1101390 Jones Day NaN Associate 19960101 19990701 725440 Cargill VP Vice President Corporate Affairs EMEA 20180101 20190801 20250 General Electric NaN General Counsel Europe 20090401 20110601 20250 General Electric NaN General Counsel Europe GE Industrial Systems 19990901 20021101 20250 General Electric VP General Counsel Europe Vice President European Affairs 20110601 20171201 20250 General Electric NaN European Competition Counsel 20021101 20090401 urls:linkedin https:wwwlinkedincominhendrikbourgeois306b4871                                                                                                                                                   |\n",
      "+-------------------------------------------------------------------------------------------------------------------------------------------------------------------------------------------------------------------------------------------------------------------------------------------------------------------------------------------------------------------------------------------------------------------------------------------------------------------------------------------------------------------------------------------------------------------------------------------------------------------------------------------------------------------------------------------------------------------------------------------------------------------------------------------------------------------------------------------------------------------------------------------------------------------------------------------------------------------------------------------------------------------------------------------------------------------------------------------------------------------------------------------------------------------------+\n",
      "only showing top 2 rows\n",
      "\n"
     ]
    },
    {
     "data": {
      "text/plain": [
       "999"
      ]
     },
     "execution_count": 64,
     "metadata": {},
     "output_type": "execute_result"
    }
   ],
   "source": [
    "from pyspark.sql.functions import regexp_replace, concat_ws\n",
    "\n",
    "# Define a function to clean text\n",
    "def clean_text(col):\n",
    "    # Remove symbols and characters except ':'\n",
    "    cleaned_col = regexp_replace(col, r'[^\\w\\s:]', '')\n",
    "    # Replace 'null' with single whitespace\n",
    "    cleaned_col = regexp_replace(cleaned_col, r'\\bnull\\b', ' ')\n",
    "    # Remove extra whitespaces\n",
    "    cleaned_col = regexp_replace(cleaned_col, r'\\s+', ' ')\n",
    "    return cleaned_col\n",
    "\n",
    "# Apply the clean_text function to each column\n",
    "cleaned_columns = [clean_text(col).alias(col) for col in single_file_for_each_person_df.columns]\n",
    "\n",
    "# Concatenate the cleaned columns into a new column containing plain text\n",
    "plain_text_df = single_file_for_each_person_df.select(concat_ws(' ', *cleaned_columns).alias('plain_text'))\n",
    "\n",
    "# Show the resulting DataFrame\n",
    "plain_text_df.show(2,truncate=False)\n",
    "plain_text_df.count()"
   ]
  },
  {
   "cell_type": "code",
   "execution_count": 65,
   "id": "dc4f2d43-35bb-457f-8ecc-25385ef1771d",
   "metadata": {},
   "outputs": [
    {
     "name": "stdout",
     "output_type": "stream",
     "text": [
      "[Row(plain_text='person_id:56622026 name:Erin Nopp address:NaN Omaha Nebraska NaN US headline:Strategic Account Manager at Allergan Aesthetics an AbbVie Company description:My passion is simplebusiness I love all aspects of it the way it grows when fed the right ingredients the way smart processes create positive change and the checkpoints which maintain and reward progress I live in the numbers the minutiae of day to day operations and the tasks which many business owners dreadnnI have found a special balance with aesthetic professionals and learned my genuine valueoriented approach pairs well with this powerful industry I love to be behindthescenes planning promotions analyzing inventory levels increasing margins and helping business owners succeed while focusing on what they do best Nothing fills me with more joy than seeing a business owner radiating power and accomplishment due to our collaboration created_at:20231211 06:18:0813904 updated_at:20231026 15:57:2235 education:NaN Colorado State University Global BachelorsBachelor Of Science Business AdministrationBusiness ManagementBusiness Administration And ManagementManagement NaN 20200101 NaN Creighton UniversityS Heider College Of Business Master Of Business AdministrationMasters NaN 20210101 20230101 employments:5528930 Jan Marini Skin Research NaN Account Development Manager 20210501 20211101 93109880 Osmosis Beauty NaN Account Executive at Osmosis Beauty 20180201 20200301 11097430 Glo Skin Beauty NaN Sales Consultant 20111001 20130201 786260 Este Lauder NaN Regional Makeup Artist 20050101 20070101 6099765445E9 24702 EL 3522080 Dermalogica NaN Senior Business Consultant 20130201 20180101 13979010 Hammonds Candies Director Director of National Sales 20071201 20110901 1131280 AbbVie NaN Strategic Account Manager 20211101 NaN 10603963036E10 51174 ABBV 69330710 BioTherapeutic NaN Corporate Sales Consultant 20200501 20210501 urls:linkedin https:wwwlinkedincominerinnopp')]\n"
     ]
    }
   ],
   "source": [
    "# Select only the first row\n",
    "first_row = plain_text_df.tail(1)\n",
    "\n",
    "# Show the first row\n",
    "print(first_row)"
   ]
  },
  {
   "cell_type": "code",
   "execution_count": 66,
   "id": "409f3425-83fb-46f6-93d3-7a35d9e083e9",
   "metadata": {},
   "outputs": [
    {
     "name": "stdout",
     "output_type": "stream",
     "text": [
      "Total number of rows: 999\n",
      "person_id:949256266 name:Vivian Weng address:NaN NaN NaN NaN SINGAPORE headline:Product Design Strategy Managment description:NaN created_at:20231211 06:18:0813904 updated_at:NaN customer_id:7538cb111c234c7687c75111a0f166dc education:NaN University of California Berkeley Walter A Haas School of Business NaN MBA Finance 20070101 20090101 NaN National Taiwan University NaN BA International Relations 19980101 20020101 NaN Yale University NaN MA International Developmental Economics 20020101 20030101 employments:79621720 Frog Director Associate Strategy Director Innovation Strategy Group 20120201 20160601 158610 DBS Bank VP Vice President Innovation Group 20160701 20190401 16600 Apple NaN Product Design Producer International Product Design 20190401 NaN 31949031445E10 224704 AAPL Private Equity 60840 Interscope Records 590 Goldman Sachs NaN Investment Banking Division Summer Associate 20080601 20080801 8417546311E9 75859 GS 40070 McKinsey Company NaN Business Analyst 20040101 20070101 40070 McKinsey Company NaN Senior Associate Corporate Finance 20090901 20111101 urls:linkedin https:wwwlinkedincominvivianweng4a0b884\n"
     ]
    }
   ],
   "source": [
    "all_rows_list = plain_text_df.collect()\n",
    "\n",
    "# Convert all rows to dictionaries\n",
    "all_rows_dicts = [row.asDict() for row in all_rows_list]\n",
    "\n",
    "# Convert the dictionaries to a pandas DataFrame\n",
    "all_rows_df = pd.DataFrame(all_rows_dicts)\n",
    "\n",
    "\n",
    "# Save all rows to a single CSV file, overwriting if it already exists\n",
    "all_rows_df.to_csv('input_people_data.csv', index=False, mode='w', header=True)\n",
    "\n",
    "\n",
    "# Print the total number of rows\n",
    "print(\"Total number of rows:\", len(all_rows_df))\n",
    "# Print the first row of the DataFrame\n",
    "# Set the display options to show all columns and rows\n",
    "pd.set_option('display.max_columns', None)\n",
    "pd.set_option('display.max_rows', None)\n",
    "pd.set_option('display.width', None)\n",
    "\n",
    "# Print the first row of the DataFrame\n",
    "# Convert the first row to a string and print it\n",
    "# Print the 'plain_text' column of the first row\n",
    "print(all_rows_df.iloc[0]['plain_text'])"
   ]
  },
  {
   "cell_type": "code",
   "execution_count": null,
   "id": "4006dfd2-b4e8-419b-8ebb-dfdbe0b797a3",
   "metadata": {},
   "outputs": [],
   "source": []
  },
  {
   "cell_type": "code",
   "execution_count": null,
   "id": "568c92ef-5620-4caf-bcfa-cbdf88e12a54",
   "metadata": {},
   "outputs": [],
   "source": []
  }
 ],
 "metadata": {
  "kernelspec": {
   "display_name": "Python 3 (ipykernel)",
   "language": "python",
   "name": "python3"
  },
  "language_info": {
   "codemirror_mode": {
    "name": "ipython",
    "version": 3
   },
   "file_extension": ".py",
   "mimetype": "text/x-python",
   "name": "python",
   "nbconvert_exporter": "python",
   "pygments_lexer": "ipython3",
   "version": "3.11.6"
  }
 },
 "nbformat": 4,
 "nbformat_minor": 5
}

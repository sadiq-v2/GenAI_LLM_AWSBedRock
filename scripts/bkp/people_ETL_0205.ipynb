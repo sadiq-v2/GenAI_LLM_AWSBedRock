{
 "cells": [
  {
   "cell_type": "markdown",
   "id": "4d3ef811",
   "metadata": {},
   "source": [
    "***Import the necessary libraries***"
   ]
  },
  {
   "cell_type": "code",
   "execution_count": 2,
   "id": "dbc28442",
   "metadata": {},
   "outputs": [],
   "source": [
    "#Import the necessary libraries\n",
    "\n",
    "from pyspark.sql import SparkSession\n",
    "from pyspark.sql.functions import count, col, concat_ws, row_number, desc\n",
    "from pyspark.sql import functions as F\n",
    "from pyspark.sql.window import Window\n",
    "from pyspark.sql.types import StructType, StructField, StringType, TimestampType"
   ]
  },
  {
   "cell_type": "markdown",
   "id": "0c89c4c5",
   "metadata": {},
   "source": [
    "***Initialize the the connection from the Spark to the postgresql database***"
   ]
  },
  {
   "cell_type": "code",
   "execution_count": 6,
   "id": "b84ef717",
   "metadata": {},
   "outputs": [],
   "source": [
    "# Initialize SparkSession\n",
    "spark = SparkSession.builder \\\n",
    "    .appName('postgresql_connection') \\\n",
    "    .getOrCreate()"
   ]
  },
  {
   "cell_type": "code",
   "execution_count": 7,
   "id": "9ef51b6d",
   "metadata": {},
   "outputs": [],
   "source": [
    "# PostgreSQL connection parameters\n",
    "database = \"skyminyr_development\"\n",
    "user = \"postgres\"\n",
    "password = \"password\"\n",
    "url = f\"jdbc:postgresql://global-db:5432/{database}\""
   ]
  },
  {
   "cell_type": "code",
   "execution_count": 8,
   "id": "c9d1b3ab",
   "metadata": {},
   "outputs": [],
   "source": [
    "# Read table names from PostgreSQL metadata\n",
    "table_names = spark.read \\\n",
    "    .format(\"jdbc\") \\\n",
    "    .option(\"url\", url) \\\n",
    "    .option(\"user\", user) \\\n",
    "    .option(\"password\", password) \\\n",
    "    .option(\"driver\", \"org.postgresql.Driver\") \\\n",
    "    .option(\"dbtable\", \"(SELECT table_name FROM information_schema.tables WHERE table_schema = 'public') as tables\") \\\n",
    "    .load()"
   ]
  },
  {
   "cell_type": "code",
   "execution_count": 9,
   "id": "6ffa3f46-96ad-4b53-ba9c-b6bfcfa7d856",
   "metadata": {},
   "outputs": [
    {
     "name": "stdout",
     "output_type": "stream",
     "text": [
      "Available Tables:\n",
      "ar_internal_metadata\n",
      "companies\n",
      "company_annual_revenues\n",
      "company_customers\n",
      "company_events\n",
      "company_funding_round_investors\n",
      "company_funding_rounds\n",
      "company_headcounts\n",
      "company_locations\n",
      "company_names\n",
      "company_sectors\n",
      "company_social_urls\n",
      "company_stock_tickers\n",
      "people\n",
      "person_customers\n",
      "person_educations\n",
      "person_employments\n",
      "person_social_urls\n",
      "schema_migrations\n"
     ]
    }
   ],
   "source": [
    "\n",
    "\n",
    "# Convert the DataFrame to a list of table names\n",
    "table_list = table_names.select(\"table_name\").rdd.flatMap(lambda x: x).collect()\n",
    "\n",
    "# Print the list of table names\n",
    "print(\"Available Tables:\")\n",
    "for table_name in table_list:\n",
    "    print(table_name)\n",
    "\n",
    "# Now you can use this list to access each table individually"
   ]
  },
  {
   "cell_type": "code",
   "execution_count": 53,
   "id": "e2c5091a-4474-4ebd-94e1-debaaffd239e",
   "metadata": {},
   "outputs": [],
   "source": [
    "# Function to load data from a table into a DataFrame\n",
    "def load_table(table_name):\n",
    "    df = spark.read \\\n",
    "        .format(\"jdbc\") \\\n",
    "        .option(\"url\", url) \\\n",
    "        .option(\"dbtable\", table_name) \\\n",
    "        .option(\"user\", user) \\\n",
    "        .option(\"password\", password) \\\n",
    "        .option(\"driver\", \"org.postgresql.Driver\") \\\n",
    "        .load()\n",
    "    return df"
   ]
  },
  {
   "cell_type": "markdown",
   "id": "74da643e",
   "metadata": {},
   "source": [
    "***Load the table into the dataframes***"
   ]
  },
  {
   "cell_type": "code",
   "execution_count": 56,
   "id": "9b03575a",
   "metadata": {},
   "outputs": [],
   "source": [
    "# Load data from the people related tables into a DataFrame\n",
    "people_df = load_table(\"people\")\n",
    "person_customer_df = load_table(\"person_customers\")\n",
    "person_educations_df = load_table(\"person_educations\")\n",
    "person_employments_df = load_table(\"person_employments\")\n",
    "person_social_urls_df = load_table(\"person_social_urls\")\n",
    "company_sectors_df = load_table(\"company_sectors\")\n",
    "company_headcounts_df = load_table(\"company_headcounts\")\n",
    "company_annual_revenues_df = load_table(\"company_annual_revenues\")\n",
    "company_stock_tickers_df = load_table(\"company_stock_tickers\")\n",
    "company_funding_rounds_df = load_table(\"company_funding_rounds\")"
   ]
  },
  {
   "cell_type": "code",
   "execution_count": 61,
   "id": "8fcb361c",
   "metadata": {},
   "outputs": [
    {
     "name": "stdout",
     "output_type": "stream",
     "text": [
      "['Stake Purchase', 'Series C', 'Series G', 'Series B', 'Series Unknown', 'Undisclosed', 'Initial Coin Offering', 'Venture', 'Debt Financing', 'Post-IPO Secondary', 'Going Private', 'Non-Equity Assistance', 'Merger', 'Series H', 'Series E', 'Series I', 'Series D', 'Joint Venture', 'Convertible Note', 'Secondary Market', 'Pipe', 'Post-IPO Debt', 'Equity Crowdfunding', 'Seed', 'Buyout (LBO, MBO, MBI)', 'Recapitalization', 'Series A', 'Growth Capital', 'Consolidation', 'Grant', 'Angel', 'Series F', 'Acquisition Financing', 'Corporate Round', 'Product Crowdfunding', 'Post-IPO Equity', 'Divestiture', 'Secondary Buyout', 'Series J', 'Pre-Seed', 'Private Equity', 'Special Situations/Distressed', 'Add-On Acquisition', None]\n",
      "['Personal Finance', 'Virtual Reality', 'Eyewear', 'Franchise', 'Cloud Infrastructure', 'DSP', 'Internet of Things', 'Drones', 'Digital Marketing', 'Fuel Cell', 'Health Care', 'Product Management', 'Water', 'Credit Cards', 'Education', 'Wellness', 'Broadcasting', 'Visual Search', 'Navigation', 'Film Production', 'Music Streaming', 'Home Improvement', 'Sporting Goods', 'Collaboration', 'Sales', 'Wine And Spirits', 'Semiconductor', 'Ticketing', 'Service Industry', 'Casual Games', 'Bakery', 'Ethereum', 'Fantasy Sports', 'Gaming', 'Real Estate Investment', 'Tea', 'Concerts', 'Speech Recognition', 'Enterprise Applications', 'Pharmaceutical', 'TV', 'Wireless', 'B2C', 'E-Commerce Platforms', 'Cloud Management', 'Data Storage', 'Innovation Management', 'Art', 'Video Streaming', 'Apps', 'Video', 'Management Information Systems', 'Information Services', 'Web Design', 'Organic', 'Retail Technology', 'EdTech', 'Operating Systems', 'Insurance', 'Food Delivery', 'Employee Benefits', 'SEO', 'Financial Services', 'Parks', 'Payments', 'Security', 'Satellite Communication', 'Fashion', 'Chemical', 'HRTech', 'Brand Marketing', 'Consumer Electronics', 'Energy', 'Mobile Payments', 'Machine Learning', 'Incubators', 'Public Safety', 'Data Center', 'Foundries', 'Consumer Research', 'Residential', 'Natural Resources', 'Content Creators', 'Made to Order', 'Consumer Goods', 'Wealth Management', 'Medical Device', 'CivicTech', 'Resorts', 'Image Recognition', 'Sports', 'Reservations', 'Consumer Lending', 'Car Sharing', 'Cloud Computing', 'Trading Platform', 'Developer Platform', 'Business Development', 'Test and Measurement', 'Autonomous Vehicles', 'Plastics and Rubber Manufacturing', 'Career Planning', 'Data Center Automation', 'Peer to Peer', 'Renewable Energy', 'Information Technology', 'Property Management', 'IT Management', 'Marketing Automation', 'Government', 'Fossil Fuels', 'Mining', 'Application Performance Management', 'Baby', 'Subscription Service', 'Mining Technology', 'Publishing', 'Building Maintenance', 'Oil and Gas', 'Motion Capture', 'Property Development', 'Travel', 'Mobility Tech', 'Finance', 'Enterprise Software', 'GovTech', 'Impact Investing', 'Ad Network', 'Diabetes', 'Social Media Advertising', 'Real Estate', 'CAD', 'Internet', 'Product Design', 'Amusement Park and Arcade', 'Solar', 'Indoor Positioning', 'Fortune-500', 'Wind Energy', 'Product Search', 'Semantic Search', 'Delivery', 'Internet Radio', 'Construction Technology', 'Email', 'Printing', 'Price Comparison', 'Racing', 'Grocery', 'Vacation Rental', 'Cryptocurrency', 'Ride Sharing', 'Public Relations', 'Electronics', 'Video Games', 'Organic Food', 'Embedded Systems', 'Self-Storage', 'ISP', 'Property Insurance', 'Craft Beer', 'Text Analytics', 'Collaborative Consumption', 'Market Research', 'Online Portals', 'Venture Capital Firms', 'Family', 'Digital Media', 'Recruiting', 'Fitness', 'Predictive Analytics', 'Call Center', 'Web Hosting', 'Professional Services', 'Outsourcing', 'Consumer', 'Corporate Training', 'Rental', 'Graphic Design', 'SMS', 'Aerospace', 'Direct Marketing', 'Social Bookmarking', 'Packaging Services', 'Advertising', 'Clean Energy', 'HealthTech', 'Communities', 'Nutrition', 'Outpatient Care', 'Social Media', 'Fraud Detection', 'Online Games', 'Real Estate Tech', 'File Sharing', 'CleanTech', 'Domain Registrar', 'Leasing', 'Guides', 'Brewing', 'Social', 'Green Consumer Goods', 'Film', 'Gambling', 'Crowdsourcing', 'Sustainability', 'Recreational Vehicles', 'Industrial Design', 'Shopping', 'Lending', 'Asset Management', 'Automotive', 'Developer APIs', 'Nuclear', 'Building Material', 'Smart Building', 'Employment', 'Mineral', 'Retirement', 'Industrial', 'Construction', 'Photo Editing', 'Communications Infrastructure', 'Psychology', 'Customer Service', 'Dental', 'Auctions', 'Private Equity Firms', 'Credit', 'Marketing Tech', 'Content Discovery', 'Chemical Engineering', 'Technical Support', 'Biotechnology', 'Hotel', 'Delivery Service', 'Computer', 'Precious Metals', 'InsurTech', 'Video Advertising', 'Animal Feed', 'Analytics', 'Legal', 'Supply Chain Technology', 'Tutoring', 'Augmented Reality', 'Digital Entertainment', 'Dietary Supplements', 'GreenTech', 'Venture Capital', 'Flash Storage', 'Language Learning', 'Laser', 'Telecommunications', 'Training', 'Home Services', 'Direct Sales', 'Identity Management', 'Content Delivery Network', 'Restaurant Tech', 'Ad Targeting', 'Blogging Platforms', 'Restaurants', 'Task Management', 'Cannabis', 'Knowledge Management', 'Data Integration', 'Industrial Automation', 'Lead Generation', 'Casino', 'Wearables', 'SaaS', 'Coffee', 'Optical Communication', 'Advertising Platforms', 'Transaction Processing', 'Emergency Medicine', 'Clinical Trials', 'Software Engineering', 'Animation', 'Communication Hardware', 'Productivity Tools', 'Food Processing', 'Agriculture', 'Geospatial', 'Web Development', 'Infrastructure', 'Podcast', 'Marketing', 'Winery', 'Social Media Management', 'Life Science', 'Consulting', 'Network Hardware', 'Virtualization', 'Small and Medium Businesses', 'Hospitality', 'Music', 'Video Conferencing', 'Tourism', 'Public Transportation', 'Space Travel', 'Furniture', 'Online Auctions', 'Messaging', 'Social News', 'Mobile Apps', 'Event Promotion', 'Photography', 'Intellectual Property', 'Waste Management', 'Big Data', 'Hospital', 'Commercial Lending', 'Home Health Care', 'STEM Education', 'Bioinformatics', 'E-Learning', 'Events', 'Non Profit', 'Software', 'Last Mile Transportation', 'Cosmetics', 'Auto Insurance', 'Content', 'Location Based Services', 'Lifestyle', 'Commercial Real Estate', 'Industrial Manufacturing', 'Vertical Search', 'AdTech', 'B2B', 'Developer Tools', '3D Technology', 'Network Security', 'Cycling', 'Computer Vision', 'Classifieds', 'Industrial Engineering', 'Cyber Security', 'Biometrics', 'Audio', 'Freelance', 'Sensor', 'Climate Tech', 'Home and Garden', 'Health Diagnostics', 'Machinery Manufacturing', 'Crowdfunding', 'eSports', 'Shoes', 'RFID', 'Debit Cards', 'Artificial Intelligence', 'Robotics', 'Dating', 'Health Insurance', 'Mobile', 'Recycling', 'Leisure', 'Private Cloud', 'Marketplace', 'Journalism', 'Hydroponics', 'Media and Entertainment', 'Enterprise', 'Jewelry', 'Electric Vehicle', 'GPU', 'Risk Management', 'Advanced Materials', 'Product Research', 'Mechanical Engineering', 'Banking', 'Digital Signage', 'Real Time', 'AgTech', 'Loyalty Programs', 'B2G', 'Coworking', 'Mapping Services', 'Intelligent Systems', 'Personal Health', 'Nanotechnology', 'E-Signature', 'Social Media Marketing', 'PaaS', 'IT Infrastructure', 'Social Network', 'Cloud Security', 'Tobacco', 'National Security', 'E-Commerce', 'mHealth', 'Shipping', 'Fertility', 'Management Consulting', 'Genetics', 'Compliance', 'Oncology', 'Retail', 'Food and Beverage', 'Project Management', 'Civil Engineering', 'Open Source', 'Procurement', 'Cloud Storage', 'Medical', 'Database', 'Hardware', 'Home Decor', 'Commercial', 'Data Visualization', 'Electrical Distribution', 'Manufacturing', 'Battery', 'Logistics', 'Beauty', 'Content Marketing', 'PC Games', 'Children', 'AudioTech', 'CRM', 'Natural Language Processing', 'Therapeutics', 'Point of Sale', 'Neuroscience', 'NFC', 'Blockchain', '3D Printing', 'Smart Home', 'Life Insurance', 'Stock Exchanges', 'Transportation', 'Bitcoin', 'Business Information Systems', 'Snack Food', 'FinTech', 'Travel Accommodations', 'Energy Efficiency', 'Mobile Devices', 'Air Transportation', 'Business Intelligence', 'Q&A', 'Supply Chain Management', 'Billing', 'Farming', 'Pet', 'Energy Management', 'Electronic Health Record (EHR)', 'Cloud Data Services', 'Fuel', 'Unified Communications', 'Energy Storage', 'FoodTech', 'Search Engine', 'Biopharma', 'Financial Exchanges', 'VoIP', 'News', 'Console Games', 'Simulation', 'Human Resources', 'Environmental Engineering', 'Alternative Medicine']\n"
     ]
    },
    {
     "name": "stderr",
     "output_type": "stream",
     "text": [
      "----------------------------------------\n",
      "Exception occurred during processing of request from ('127.0.0.1', 50756)\n",
      "Traceback (most recent call last):\n",
      "  File \"/opt/conda/lib/python3.11/socketserver.py\", line 317, in _handle_request_noblock\n",
      "    self.process_request(request, client_address)\n",
      "  File \"/opt/conda/lib/python3.11/socketserver.py\", line 348, in process_request\n",
      "    self.finish_request(request, client_address)\n",
      "  File \"/opt/conda/lib/python3.11/socketserver.py\", line 361, in finish_request\n",
      "    self.RequestHandlerClass(request, client_address, self)\n",
      "  File \"/opt/conda/lib/python3.11/socketserver.py\", line 755, in __init__\n",
      "    self.handle()\n",
      "  File \"/usr/local/spark/python/pyspark/accumulators.py\", line 295, in handle\n",
      "    poll(accum_updates)\n",
      "  File \"/usr/local/spark/python/pyspark/accumulators.py\", line 267, in poll\n",
      "    if self.rfile in r and func():\n",
      "                           ^^^^^^\n",
      "  File \"/usr/local/spark/python/pyspark/accumulators.py\", line 271, in accum_updates\n",
      "    num_updates = read_int(self.rfile)\n",
      "                  ^^^^^^^^^^^^^^^^^^^^\n",
      "  File \"/usr/local/spark/python/pyspark/serializers.py\", line 596, in read_int\n",
      "    raise EOFError\n",
      "EOFError\n",
      "----------------------------------------\n"
     ]
    }
   ],
   "source": [
    "# Convert the 'name' column to a list\n",
    "unique_names = company_funding_rounds_df.select('name').distinct().rdd.map(lambda x: x[0]).collect()\n",
    "\n",
    "# Print unique names\n",
    "print(unique_names)\n",
    "\n",
    "# Convert the 'name' column to a list\n",
    "unique_names = company_sectors_df.select('sector').distinct().rdd.map(lambda x: x[0]).collect()\n",
    "\n",
    "# Print unique names\n",
    "print(unique_names)\n"
   ]
  },
  {
   "cell_type": "markdown",
   "id": "a04cc164",
   "metadata": {},
   "source": [
    "***Function to check the uniqueness of data***"
   ]
  },
  {
   "cell_type": "code",
   "execution_count": 12,
   "id": "2db8ff34",
   "metadata": {},
   "outputs": [],
   "source": [
    "#function to check the uniqueness of the dataframe\n",
    "def check_uniqueness(df, column_name):\n",
    "    # Add a new column 'is_duplicate' that flags if column_name is duplicated\n",
    "    df_duplicates_check = df.withColumn('is_duplicate', count(column_name).over(Window.partitionBy(column_name)) > 1)\n",
    "\n",
    "    # If any 'is_duplicate' is True, then DataFrame is not unique based on column_name\n",
    "    if df_duplicates_check.filter(col('is_duplicate')).count() > 0:\n",
    "        print(f\"DataFrame is not unique based on {column_name}\")\n",
    "    else:\n",
    "        print(f\"DataFrame is unique based on {column_name}\")"
   ]
  },
  {
   "cell_type": "code",
   "execution_count": 13,
   "id": "65dde6c9",
   "metadata": {},
   "outputs": [
    {
     "name": "stdout",
     "output_type": "stream",
     "text": [
      "DataFrame is unique based on id\n"
     ]
    }
   ],
   "source": [
    "check_uniqueness(people_df, 'id')"
   ]
  },
  {
   "cell_type": "markdown",
   "id": "8605763f",
   "metadata": {},
   "source": [
    "***Function to check the counts of data***"
   ]
  },
  {
   "cell_type": "code",
   "execution_count": 14,
   "id": "82c46548",
   "metadata": {},
   "outputs": [],
   "source": [
    "def count_records(df):\n",
    "    \"\"\"\n",
    "    This function counts the number of records in a DataFrame.\n",
    "\n",
    "    Parameters:\n",
    "    df (DataFrame): The DataFrame for which to count the records.\n",
    "\n",
    "    Returns:\n",
    "    int: The number of records in the DataFrame.\n",
    "    \"\"\"\n",
    "    # Use the count() function to count the number of rows in the DataFrame\n",
    "    num_records = df.count()\n",
    "\n",
    "    # Return the number of records\n",
    "    return num_records"
   ]
  },
  {
   "cell_type": "markdown",
   "id": "4b2e4f44",
   "metadata": {},
   "source": [
    "***People Table Transformation***"
   ]
  },
  {
   "cell_type": "code",
   "execution_count": 15,
   "id": "5104f31c",
   "metadata": {},
   "outputs": [],
   "source": [
    "# Select specific columns from the 'people_df' DataFrame, rename the 'id' column to 'person_id',\n",
    "# and concatenate 'address', 'city', 'region', 'postal_code', 'country' columns with a comma separator\n",
    "people_selected_df = people_df.select('id', 'name', 'address', 'city', 'region', 'postal_code', 'country', 'headline','description', 'created_at', 'updated_at')\\\n",
    "                              .withColumnRenamed('id', 'person_id')\\\n",
    "                              .withColumn('address', concat_ws(', ', 'address', 'city', 'region', 'postal_code', 'country'))\n",
    "\n",
    "people_selected_df = people_selected_df.select('person_id', 'name', 'address','headline','description', 'created_at', 'updated_at')\n",
    "\n",
    "# people_selected_df.show()"
   ]
  },
  {
   "cell_type": "code",
   "execution_count": 16,
   "id": "7231a208",
   "metadata": {},
   "outputs": [
    {
     "data": {
      "text/plain": [
       "999"
      ]
     },
     "execution_count": 16,
     "metadata": {},
     "output_type": "execute_result"
    }
   ],
   "source": [
    "count_records(people_selected_df)"
   ]
  },
  {
   "cell_type": "markdown",
   "id": "373a32a7",
   "metadata": {},
   "source": [
    "***Transformation for the \"person_customer\" table***"
   ]
  },
  {
   "cell_type": "code",
   "execution_count": 17,
   "id": "fdb2c473",
   "metadata": {},
   "outputs": [
    {
     "data": {
      "text/plain": [
       "166"
      ]
     },
     "execution_count": 17,
     "metadata": {},
     "output_type": "execute_result"
    }
   ],
   "source": [
    "count_records(person_customer_df)\n",
    "\n",
    "# person_customer_df.show()"
   ]
  },
  {
   "cell_type": "code",
   "execution_count": 18,
   "id": "23e27be2",
   "metadata": {},
   "outputs": [
    {
     "name": "stdout",
     "output_type": "stream",
     "text": [
      "DataFrame is not unique based on person_id\n"
     ]
    }
   ],
   "source": [
    "# Call the 'check_uniqueness' function on 'person_customer_df' DataFrame to check if 'person_id' is unique\n",
    "check_uniqueness(person_customer_df,'person_id')"
   ]
  },
  {
   "cell_type": "code",
   "execution_count": 19,
   "id": "50c3a237",
   "metadata": {},
   "outputs": [
    {
     "name": "stdout",
     "output_type": "stream",
     "text": [
      "+---------+-----+\n",
      "|person_id|count|\n",
      "+---------+-----+\n",
      "|693540132|    2|\n",
      "+---------+-----+\n",
      "\n"
     ]
    },
    {
     "data": {
      "text/plain": [
       "1"
      ]
     },
     "execution_count": 19,
     "metadata": {},
     "output_type": "execute_result"
    }
   ],
   "source": [
    "# Group by 'person_id' and count the number of occurrences of each 'person_id'\n",
    "duplicate_rows = person_customer_df.groupBy('person_id').agg(count('*').alias('count'))\n",
    "\n",
    "# Filter the rows where 'count' is greater than 1 (i.e., 'person_id' is duplicated)\n",
    "duplicate_rows = duplicate_rows.filter(duplicate_rows['count'] > 1)\n",
    "\n",
    "# Show the duplicate rows\n",
    "duplicate_rows.show()\n",
    "count_records(duplicate_rows)"
   ]
  },
  {
   "cell_type": "code",
   "execution_count": 20,
   "id": "4cdeaf41",
   "metadata": {},
   "outputs": [
    {
     "data": {
      "text/plain": [
       "165"
      ]
     },
     "execution_count": 20,
     "metadata": {},
     "output_type": "execute_result"
    }
   ],
   "source": [
    "# Define a window partitioned by person_id and ordered by updated_at in descending order\n",
    "window = Window.partitionBy(\"person_id\").orderBy(desc(\"updated_at\"))\n",
    "\n",
    "# Add a row_number column to the DataFrame\n",
    "person_customer_df = person_customer_df.withColumn(\"rn\", row_number().over(window))\n",
    "\n",
    "# Filter the DataFrame to keep only the rows with rn = 1 (i.e., the latest updated_at for each person_id)\n",
    "person_customer_df = person_customer_df.filter(person_customer_df.rn == 1)\n",
    "\n",
    "# Drop the rn column\n",
    "person_customer_df = person_customer_df.drop(\"rn\")\n",
    "\n",
    "count_records(person_customer_df)"
   ]
  },
  {
   "cell_type": "code",
   "execution_count": 21,
   "id": "956d3579",
   "metadata": {},
   "outputs": [
    {
     "name": "stdout",
     "output_type": "stream",
     "text": [
      "DataFrame is unique based on person_id\n"
     ]
    }
   ],
   "source": [
    "# Call the 'check_uniqueness' function on 'person_customer_df' DataFrame to check if 'person_id' is unique\n",
    "check_uniqueness(person_customer_df,'person_id')"
   ]
  },
  {
   "cell_type": "code",
   "execution_count": 22,
   "id": "9109413d",
   "metadata": {},
   "outputs": [],
   "source": [
    "# Select 'person_id' and 'customer_id' columns from 'person_customer_df' DataFrame\n",
    "people_selected_customer_df = person_customer_df.select('person_id', 'customer_id')\n",
    "\n",
    "# Join 'people_selected_df' with 'people_selected_customer_df' on 'person_id'\n",
    "people_person_customer_df = people_selected_df.join(people_selected_customer_df, on='person_id', how='left')\n",
    "\n",
    "# people_person_customer_df.show()"
   ]
  },
  {
   "cell_type": "code",
   "execution_count": 23,
   "id": "aeb5f580",
   "metadata": {},
   "outputs": [
    {
     "data": {
      "text/plain": [
       "999"
      ]
     },
     "execution_count": 23,
     "metadata": {},
     "output_type": "execute_result"
    }
   ],
   "source": [
    "count_records(people_person_customer_df)"
   ]
  },
  {
   "cell_type": "markdown",
   "id": "a5ad0ee5",
   "metadata": {},
   "source": [
    "***Transformation for \"Person Education\" table***"
   ]
  },
  {
   "cell_type": "code",
   "execution_count": 24,
   "id": "12de6278",
   "metadata": {},
   "outputs": [
    {
     "data": {
      "text/plain": [
       "1209"
      ]
     },
     "execution_count": 24,
     "metadata": {},
     "output_type": "execute_result"
    }
   ],
   "source": [
    "count_records(person_educations_df)\n",
    "# person_educations_df.show()"
   ]
  },
  {
   "cell_type": "code",
   "execution_count": 25,
   "id": "a17fb6ef",
   "metadata": {},
   "outputs": [],
   "source": [
    "# Define a struct for each institute\n",
    "institute_struct = F.struct(\n",
    "    \"institution_id\", \"institution_name\", \"degree\", \"subject\", \"started_on\", \"ended_on\"\n",
    ")\n",
    "\n",
    "# Group by person_id and collect list of institute details as structs\n",
    "grouped_educations_df = person_educations_df.groupBy(\"person_id\").agg(\n",
    "    F.collect_list(institute_struct).alias(\"education\")\n",
    "    # (\"education - (institution_id, institution_name, degree, subject, started_on, ended_on)\")\n",
    ")\n",
    "\n",
    "person_education_group_df = grouped_educations_df\n",
    "\n",
    "\n",
    "\n",
    "# Show the result\n",
    "# person_education_group_df.show(truncate=False)\n"
   ]
  },
  {
   "cell_type": "code",
   "execution_count": 26,
   "id": "e385abae",
   "metadata": {},
   "outputs": [
    {
     "name": "stdout",
     "output_type": "stream",
     "text": [
      "DataFrame is unique based on person_id\n"
     ]
    }
   ],
   "source": [
    "check_uniqueness(person_education_group_df, 'person_id')"
   ]
  },
  {
   "cell_type": "code",
   "execution_count": 27,
   "id": "3541070c",
   "metadata": {},
   "outputs": [
    {
     "data": {
      "text/plain": [
       "500"
      ]
     },
     "execution_count": 27,
     "metadata": {},
     "output_type": "execute_result"
    }
   ],
   "source": [
    "count_records(person_education_group_df)"
   ]
  },
  {
   "cell_type": "code",
   "execution_count": 28,
   "id": "ad77b37e",
   "metadata": {},
   "outputs": [
    {
     "data": {
      "text/plain": [
       "999"
      ]
     },
     "execution_count": 28,
     "metadata": {},
     "output_type": "execute_result"
    }
   ],
   "source": [
    "# Joining person_education_group_df and people_person_customer_df DataFrames on column named 'person_id'\n",
    "\n",
    "people_person_customer_education_df = people_person_customer_df.join(person_education_group_df, on='person_id', how='left') \n",
    "\n",
    "# people_person_customer_education_df.show()\n",
    "\n",
    "count_records(people_person_customer_education_df)"
   ]
  },
  {
   "cell_type": "markdown",
   "id": "f8acbdef",
   "metadata": {},
   "source": [
    "***Transformation for Company related information***"
   ]
  },
  {
   "cell_type": "code",
   "execution_count": 29,
   "id": "da4a89e3",
   "metadata": {},
   "outputs": [
    {
     "data": {
      "text/plain": [
       "5711"
      ]
     },
     "execution_count": 29,
     "metadata": {},
     "output_type": "execute_result"
    }
   ],
   "source": [
    "count_records(company_sectors_df)"
   ]
  },
  {
   "cell_type": "code",
   "execution_count": 30,
   "id": "3f863438",
   "metadata": {},
   "outputs": [
    {
     "data": {
      "text/plain": [
       "1000"
      ]
     },
     "execution_count": 30,
     "metadata": {},
     "output_type": "execute_result"
    }
   ],
   "source": [
    "# Group the DataFrame 'company_sectors_df' by 'company_id'\n",
    "grouped_company_sectors_df = company_sectors_df.groupBy('company_id').agg(\n",
    "    F.collect_list('sector').alias('sectors')\n",
    ")\n",
    "\n",
    "# Check the DataFrame 'grouped_company_sectors_df'\n",
    "# grouped_company_sectors_df.show()\n",
    "\n",
    "count_records(grouped_company_sectors_df)"
   ]
  },
  {
   "cell_type": "code",
   "execution_count": 31,
   "id": "d970349a",
   "metadata": {},
   "outputs": [
    {
     "data": {
      "text/plain": [
       "18532"
      ]
     },
     "execution_count": 31,
     "metadata": {},
     "output_type": "execute_result"
    }
   ],
   "source": [
    "count_records(company_annual_revenues_df)"
   ]
  },
  {
   "cell_type": "code",
   "execution_count": 32,
   "id": "68c6fc60",
   "metadata": {},
   "outputs": [
    {
     "data": {
      "text/plain": [
       "999"
      ]
     },
     "execution_count": 32,
     "metadata": {},
     "output_type": "execute_result"
    }
   ],
   "source": [
    "# Define a window partitioned by 'company_id' and ordered by 'date' in descending order\n",
    "window = Window.partitionBy('company_id').orderBy(F.desc('date'))\n",
    "\n",
    "# Add a new column 'rank' to the DataFrame 'company_annual_revenues_df'\n",
    "# The 'rank' is calculated over the defined window\n",
    "grouped_company_annual_revenues_df = company_annual_revenues_df.withColumn('rank', F.rank().over(window))\n",
    "\n",
    "# Filter the DataFrame to keep only the rows where 'rank' is 1\n",
    "# This gives us the latest annual revenue for each company\n",
    "# Select only the 'company_id' and 'amount_usd' columns for the final DataFrame\n",
    "latest_company_annual_revenues_df = grouped_company_annual_revenues_df.filter(F.col('rank') == 1).select('company_id', 'amount_usd')\n",
    "\n",
    "# Check the DataFrame 'latest_company_annual_revenues_df'\n",
    "# latest_company_annual_revenues_df.show()\n",
    "\n",
    "count_records(latest_company_annual_revenues_df)"
   ]
  },
  {
   "cell_type": "code",
   "execution_count": 33,
   "id": "e850ccd1",
   "metadata": {},
   "outputs": [
    {
     "data": {
      "text/plain": [
       "1000"
      ]
     },
     "execution_count": 33,
     "metadata": {},
     "output_type": "execute_result"
    }
   ],
   "source": [
    "count_records(company_headcounts_df)"
   ]
  },
  {
   "cell_type": "code",
   "execution_count": 34,
   "id": "7a16eab6",
   "metadata": {},
   "outputs": [
    {
     "data": {
      "text/plain": [
       "847"
      ]
     },
     "execution_count": 34,
     "metadata": {},
     "output_type": "execute_result"
    }
   ],
   "source": [
    "# Define a window partitioned by 'headcount' and ordered by 'date' in descending order\n",
    "window = Window.partitionBy('headcount').orderBy(F.desc('date'))\n",
    "\n",
    "# Add a new column 'rank' to the DataFrame 'company_headcounts_df'\n",
    "# The 'rank' is calculated over the defined window\n",
    "grouped_company_headcounts_df = company_headcounts_df.withColumn('rank', F.rank().over(window))\n",
    "\n",
    "# Filter the DataFrame to keep only the rows where 'rank' is 1\n",
    "# This gives us the latest headcount for each company\n",
    "# Select only the 'company_id' and 'headcount' columns for the final DataFrame\n",
    "latest_company_headcounts_df = grouped_company_headcounts_df.filter(F.col('rank') == 1).select('company_id', 'headcount')\n",
    "\n",
    "# Check the DataFrame 'latest_company_headcounts_df'\n",
    "# latest_company_headcounts_df.show()\n",
    "\n",
    "count_records(latest_company_headcounts_df)"
   ]
  },
  {
   "cell_type": "code",
   "execution_count": 35,
   "id": "06043438",
   "metadata": {},
   "outputs": [
    {
     "data": {
      "text/plain": [
       "1000"
      ]
     },
     "execution_count": 35,
     "metadata": {},
     "output_type": "execute_result"
    }
   ],
   "source": [
    "# Select the 'company_id' and 'stock_ticker' columns from the DataFrame 'company_stock_tickers_df'\n",
    "selected_company_stock_tickers_df = company_stock_tickers_df.select('company_id','stock_ticker')\n",
    "count_records(selected_company_stock_tickers_df)"
   ]
  },
  {
   "cell_type": "markdown",
   "id": "261b3119",
   "metadata": {},
   "source": [
    "***Joined the company information related transformed dataframes***"
   ]
  },
  {
   "cell_type": "code",
   "execution_count": 36,
   "id": "a4a84e76",
   "metadata": {},
   "outputs": [
    {
     "data": {
      "text/plain": [
       "1000"
      ]
     },
     "execution_count": 36,
     "metadata": {},
     "output_type": "execute_result"
    }
   ],
   "source": [
    "\n",
    "# Join the DataFrame 'grouped_company_sectors_df' with 'latest_company_annual_revenues_df', 'latest_company_headcounts_df', and 'selected_company_stock_tickers_df' on 'company_id'\n",
    "# The join type is 'inner', meaning only the rows with a match in both DataFrames will be kept\n",
    "company_info_joined_df = grouped_company_sectors_df.join(\n",
    "    latest_company_annual_revenues_df, 'company_id', 'left'\n",
    ").join(\n",
    "    latest_company_headcounts_df, 'company_id', 'left'\n",
    ").join(\n",
    "    selected_company_stock_tickers_df, 'company_id', 'left'\n",
    ")\n",
    "\n",
    "count_records(company_info_joined_df)\n",
    "\n",
    "# Select the 'company_id', 'amount_usd', 'headcount', and 'stock_ticker' columns from the joined DataFrame\n",
    "resultant_company_info_joined_df = company_info_joined_df.select(\n",
    "    'company_id',\n",
    "    latest_company_annual_revenues_df['amount_usd'],\n",
    "    latest_company_headcounts_df['headcount'],\n",
    "    selected_company_stock_tickers_df['stock_ticker']\n",
    ")\n",
    "\n",
    "# Check the DataFrame 'resultant_company_info_joined_df'\n",
    "# resultant_company_info_joined_df.show()\n",
    "\n",
    "count_records(resultant_company_info_joined_df)"
   ]
  },
  {
   "cell_type": "markdown",
   "id": "3d796c55",
   "metadata": {},
   "source": [
    "***Transformation for the Person Employment Table***"
   ]
  },
  {
   "cell_type": "code",
   "execution_count": 37,
   "id": "a599bff0",
   "metadata": {},
   "outputs": [
    {
     "data": {
      "text/plain": [
       "7898"
      ]
     },
     "execution_count": 37,
     "metadata": {},
     "output_type": "execute_result"
    }
   ],
   "source": [
    "count_records(person_employments_df)\n",
    "# person_employments_df.show()"
   ]
  },
  {
   "cell_type": "code",
   "execution_count": 38,
   "id": "4fda9420",
   "metadata": {},
   "outputs": [
    {
     "data": {
      "text/plain": [
       "['id',\n",
       " 'person_id',\n",
       " 'company_id',\n",
       " 'company_name',\n",
       " 'seniority_level',\n",
       " 'title',\n",
       " 'started_on',\n",
       " 'ended_on',\n",
       " 'created_at',\n",
       " 'updated_at']"
      ]
     },
     "execution_count": 38,
     "metadata": {},
     "output_type": "execute_result"
    }
   ],
   "source": [
    "person_employments_df.columns"
   ]
  },
  {
   "cell_type": "code",
   "execution_count": 39,
   "id": "0ed80b39",
   "metadata": {},
   "outputs": [
    {
     "data": {
      "text/plain": [
       "['company_id', 'amount_usd', 'headcount', 'stock_ticker']"
      ]
     },
     "execution_count": 39,
     "metadata": {},
     "output_type": "execute_result"
    }
   ],
   "source": [
    "resultant_company_info_joined_df.columns"
   ]
  },
  {
   "cell_type": "code",
   "execution_count": 40,
   "id": "ddbbcb48",
   "metadata": {},
   "outputs": [
    {
     "data": {
      "text/plain": [
       "999"
      ]
     },
     "execution_count": 40,
     "metadata": {},
     "output_type": "execute_result"
    }
   ],
   "source": [
    "# Join the DataFrames on 'company_id'\n",
    "resultant_company_info_employment_joined_df = person_employments_df.join(resultant_company_info_joined_df, 'company_id', 'left')\n",
    "\n",
    "count_records(resultant_company_info_employment_joined_df)\n",
    "\n",
    "# Define a new struct that includes the additional columns\n",
    "emplopyment_struct = F.struct(\n",
    "    \"company_id\", \"company_name\", \"seniority_level\", \"title\", \"started_on\", \"ended_on\",\n",
    "    resultant_company_info_joined_df['amount_usd'],\n",
    "    resultant_company_info_joined_df['headcount'],\n",
    "    resultant_company_info_joined_df['stock_ticker']\n",
    ")\n",
    "\n",
    "# Group by 'person_id' and collect list of employment details as structs\n",
    "grouped_person_employments_df = resultant_company_info_employment_joined_df.groupBy(\"person_id\").agg(\n",
    "    F.collect_list(emplopyment_struct).alias(\"employments\")\n",
    ")\n",
    "\n",
    "person_employments_df = grouped_person_employments_df\n",
    "\n",
    "# person_employments_df.show(truncate=False)\n",
    "\n",
    "\n",
    "count_records(person_employments_df)"
   ]
  },
  {
   "cell_type": "code",
   "execution_count": 41,
   "id": "29aa0fe6",
   "metadata": {},
   "outputs": [
    {
     "data": {
      "text/plain": [
       "999"
      ]
     },
     "execution_count": 41,
     "metadata": {},
     "output_type": "execute_result"
    }
   ],
   "source": [
    "# Join the DataFrame 'people_person_customer_education_df' with 'person_employments_df' on 'person_id'\n",
    "# The resulting DataFrame contains information about a person's education and employment\n",
    "people_person_customer_education_educations_df = people_person_customer_education_df.join(person_employments_df, on='person_id') \n",
    "\n",
    "# people_person_customer_education_educations_df.show()\n",
    "\n",
    "count_records(people_person_customer_education_educations_df)"
   ]
  },
  {
   "cell_type": "markdown",
   "id": "39327d7b",
   "metadata": {},
   "source": [
    "***Transformation for the Person Social Urls Table***"
   ]
  },
  {
   "cell_type": "code",
   "execution_count": 42,
   "id": "3428530f",
   "metadata": {},
   "outputs": [
    {
     "data": {
      "text/plain": [
       "999"
      ]
     },
     "execution_count": 42,
     "metadata": {},
     "output_type": "execute_result"
    }
   ],
   "source": [
    "# Group by person_id and collect list of URL details\n",
    "grouped_urls_df = person_social_urls_df.groupBy(\"person_id\").agg(\n",
    "    F.collect_list(\n",
    "        F.struct(\"url_type\", \"url\")\n",
    "    ).alias(\"urls\")\n",
    ")\n",
    "\n",
    "# Show the result\n",
    "# grouped_urls_df.show(truncate=False)\n",
    "\n",
    "count_records(grouped_urls_df)"
   ]
  },
  {
   "cell_type": "code",
   "execution_count": 43,
   "id": "f180dc39",
   "metadata": {},
   "outputs": [
    {
     "name": "stdout",
     "output_type": "stream",
     "text": [
      "DataFrame is unique based on person_id\n"
     ]
    }
   ],
   "source": [
    "check_uniqueness(grouped_urls_df, 'person_id')"
   ]
  },
  {
   "cell_type": "code",
   "execution_count": 44,
   "id": "69263c93",
   "metadata": {},
   "outputs": [
    {
     "data": {
      "text/plain": [
       "999"
      ]
     },
     "execution_count": 44,
     "metadata": {},
     "output_type": "execute_result"
    }
   ],
   "source": [
    "# Joining person_education_group_df and people_person_customer_df DataFrames on column named 'person_id'\n",
    "\n",
    "people_person_customer_education_employments_social_urls_df = people_person_customer_education_educations_df.join(grouped_urls_df, on='person_id', how='left') \n",
    "\n",
    "count_records(people_person_customer_education_employments_social_urls_df)\n"
   ]
  },
  {
   "cell_type": "code",
   "execution_count": 45,
   "id": "8e13315e",
   "metadata": {},
   "outputs": [
    {
     "name": "stdout",
     "output_type": "stream",
     "text": [
      "DataFrame is unique based on person_id\n"
     ]
    }
   ],
   "source": [
    "check_uniqueness(people_person_customer_education_employments_social_urls_df, 'person_id')"
   ]
  },
  {
   "cell_type": "markdown",
   "id": "3f09c372",
   "metadata": {},
   "source": [
    "***Final Dataframe***"
   ]
  },
  {
   "cell_type": "code",
   "execution_count": 46,
   "id": "eaf83fed",
   "metadata": {},
   "outputs": [
    {
     "name": "stdout",
     "output_type": "stream",
     "text": [
      "root\n",
      " |-- person_id: long (nullable = true)\n",
      " |-- name: string (nullable = true)\n",
      " |-- address: string (nullable = false)\n",
      " |-- headline: string (nullable = true)\n",
      " |-- description: string (nullable = true)\n",
      " |-- created_at: timestamp (nullable = true)\n",
      " |-- updated_at: timestamp (nullable = true)\n",
      " |-- customer_id: string (nullable = true)\n",
      " |-- education: array (nullable = true)\n",
      " |    |-- element: struct (containsNull = false)\n",
      " |    |    |-- institution_id: long (nullable = true)\n",
      " |    |    |-- institution_name: string (nullable = true)\n",
      " |    |    |-- degree: string (nullable = true)\n",
      " |    |    |-- subject: string (nullable = true)\n",
      " |    |    |-- started_on: date (nullable = true)\n",
      " |    |    |-- ended_on: date (nullable = true)\n",
      " |-- employments: array (nullable = false)\n",
      " |    |-- element: struct (containsNull = false)\n",
      " |    |    |-- company_id: long (nullable = true)\n",
      " |    |    |-- company_name: string (nullable = true)\n",
      " |    |    |-- seniority_level: string (nullable = true)\n",
      " |    |    |-- title: string (nullable = true)\n",
      " |    |    |-- started_on: date (nullable = true)\n",
      " |    |    |-- ended_on: date (nullable = true)\n",
      " |    |    |-- amount_usd: decimal(20,2) (nullable = true)\n",
      " |    |    |-- headcount: long (nullable = true)\n",
      " |    |    |-- stock_ticker: string (nullable = true)\n",
      " |-- urls: array (nullable = true)\n",
      " |    |-- element: struct (containsNull = false)\n",
      " |    |    |-- url_type: string (nullable = true)\n",
      " |    |    |-- url: string (nullable = true)\n",
      "\n"
     ]
    }
   ],
   "source": [
    "people_person_customer_education_employments_social_urls_df.printSchema()"
   ]
  },
  {
   "cell_type": "markdown",
   "id": "232fb94c",
   "metadata": {},
   "source": [
    "***Final Dataframe can be exported to files such as CSV, JSON, Parquet***"
   ]
  },
  {
   "cell_type": "code",
   "execution_count": 47,
   "id": "3adcc5a7",
   "metadata": {},
   "outputs": [],
   "source": [
    "# #Use the exiting dataframe\n",
    "final_df = people_person_customer_education_employments_social_urls_df\n",
    "\n",
    "# # Convert DataFrame to JSON\n",
    "json_df = final_df.toJSON().collect()\n"
   ]
  },
  {
   "cell_type": "code",
   "execution_count": 48,
   "id": "3237eacf",
   "metadata": {},
   "outputs": [],
   "source": [
    "import json\n",
    "\n",
    "# # Assuming json_df is your data\n",
    "with open('final_output/person_final_output.json', 'w') as f:\n",
    "     json.dump(json_df, f)\n"
   ]
  },
  {
   "cell_type": "markdown",
   "id": "7e45f4f0",
   "metadata": {},
   "source": [
    "***Export the dataframe to string of each person***"
   ]
  },
  {
   "cell_type": "code",
   "execution_count": 49,
   "id": "64c57ca2",
   "metadata": {},
   "outputs": [],
   "source": [
    "# Create an empty list to store the column expressions\n",
    "column_exprs = []\n",
    "\n",
    "# For each column in the DataFrame\n",
    "for col_name in final_df.columns:\n",
    "    # Create a new column expression that concatenates the column name and the column value\n",
    "    column_exprs.append(F.concat(F.lit(col_name + \":\"), final_df[col_name].cast(\"string\")))\n",
    "\n",
    "# Concatenate all column expressions into one single column 'single_text'\n",
    "single_file_for_each_person_df = final_df.select(F.concat_ws(' ', *column_exprs).alias('single_file_for_each_person'))"
   ]
  },
  {
   "cell_type": "code",
   "execution_count": 50,
   "id": "4edd7cda",
   "metadata": {},
   "outputs": [
    {
     "data": {
      "text/plain": [
       "999"
      ]
     },
     "execution_count": 50,
     "metadata": {},
     "output_type": "execute_result"
    }
   ],
   "source": [
    "count_records(final_df)"
   ]
  },
  {
   "cell_type": "code",
   "execution_count": 51,
   "id": "2c2317d7",
   "metadata": {},
   "outputs": [
    {
     "name": "stdout",
     "output_type": "stream",
     "text": [
      "+-----------------------------------------------------------------------------------------------------------------------------------------------------------------------------------------------------------------------------------------------------------------------------------------------------------------------------------------------------------------------------------------------------------------------------------------------------------------------------------------------------------------------------------------------------------------------------------------------------------------------------------------------------------------------------------------------------------------------------------------------------------------------------------------------------------------------------------------------------------------------------------------------------------------------------------------------------------------------------------------------------------------------------------------------------------------------------------------------------------------------------------------------------------------------------------------------------------------------------------------------------------------------------------------------------------------------------------------------------------------------------------------------------------------------------------------------------------------------------------------------------------------------------------------------------------------------------------------------------------------------------------------------------------------------------------------------------------------------------------------------------------------------------------------------------------------------------------------------------------------------------------------------------------------------------------------------------------------------------------------------------------------------------------------------------------------------------------------------------------------------------------------------------------------------------------------------------------------------------------------------------------------------------------------------------------------------------------------------------------------------------------------------------------------------------------------------------------------------------------------------------------------------------------------------------------------------------------------------------------------------------------------------------------------------------------------------------------------------------------------------------------------------------------------------------------------------------------------------------------------------------------------------------------------------------------------------------------------------------------------------------------------------------------------------------------------------------------------------+\n",
      "|single_file_for_each_person                                                                                                                                                                                                                                                                                                                                                                                                                                                                                                                                                                                                                                                                                                                                                                                                                                                                                                                                                                                                                                                                                                                                                                                                                                                                                                                                                                                                                                                                                                                                                                                                                                                                                                                                                                                                                                                                                                                                                                                                                                                                                                                                                                                                                                                                                                                                                                                                                                                                                                                                                                                                                                                                                                                                                                                                                                                                                                                                                                                                                                                                    |\n",
      "+-----------------------------------------------------------------------------------------------------------------------------------------------------------------------------------------------------------------------------------------------------------------------------------------------------------------------------------------------------------------------------------------------------------------------------------------------------------------------------------------------------------------------------------------------------------------------------------------------------------------------------------------------------------------------------------------------------------------------------------------------------------------------------------------------------------------------------------------------------------------------------------------------------------------------------------------------------------------------------------------------------------------------------------------------------------------------------------------------------------------------------------------------------------------------------------------------------------------------------------------------------------------------------------------------------------------------------------------------------------------------------------------------------------------------------------------------------------------------------------------------------------------------------------------------------------------------------------------------------------------------------------------------------------------------------------------------------------------------------------------------------------------------------------------------------------------------------------------------------------------------------------------------------------------------------------------------------------------------------------------------------------------------------------------------------------------------------------------------------------------------------------------------------------------------------------------------------------------------------------------------------------------------------------------------------------------------------------------------------------------------------------------------------------------------------------------------------------------------------------------------------------------------------------------------------------------------------------------------------------------------------------------------------------------------------------------------------------------------------------------------------------------------------------------------------------------------------------------------------------------------------------------------------------------------------------------------------------------------------------------------------------------------------------------------------------------------------------------------+\n",
      "|person_id:867291105 name:Tendeka Matatu address: headline:Director of Local language Films, Africa description:Tendeka joined Netflix as the Director of Film in Africa in 2021 following a lengthy career as a filmmaker and producer in Africa and beyond.. In his current role, Tendeka is charged with leading the creation of original films from the Sub-Saharan region. His career in storytelling began in the mid-'90s as a producer, working on high-end commercials and music videos with renowned film director Tony Kaye.\\n\\nIn 2001, Tendeka moved to South Africa to join DV8 Films, where he was involved in the successful production and financing of a slate of local features and numerous co-productions, including Richard E Grant's Wah Wah. In 2009 Tendeka set up his production company Ten10 Films which focused on collaborating with black filmmaking talent to create diversity-driven film & TV content for a global market. With offices in Johannesburg and London, the company's slate included projects for AMC Studios, Sony Pictures Television, Netflix and Fremantle.\\n\\nAs a producer, Tendeka’s credits include the multi-award-winning Max & Mona and Abyss Boys; the South African box office hits Material and Crazy Monkey; and the action-drama epic Gangster's Paradise: Jerusalema, which was South Africa's official entry for the Academy Awards Foreign Language. Some of Tendeka's films have premiered at major film festivals, including Berlin, Toronto, Rotterdam, Busan, and London. Other credits include Cold Harbour, Tiger House, and Freedom. Tendeka is an alumnus of the prestigious film industry business and leadership course, Inside Pictures, and a member of the producer's branch of The Academy of Motion Picture Arts & Sciences.\\n\\nProducer Filmography:\\nhttp://www.imdb.com/name/nm1568121/ created_at:2023-12-11 06:18:08.13904 updated_at:2023-10-26 15:57:22.35 employments:[{null, null, null, Producer, 2004-04-01, 2007-10-01, null, null, null}, {null, null, null, Producer, 2002-09-01, 2004-04-01, null, null, null}, {null, null, Director, Founder/Managing Director, 2008-01-01, 2021-07-01, null, null, null}, {null, null, null, Co Founder, 2014-05-01, 2018-01-01, null, null, null}, {2289, Netflix, Director, Director of Local language Films, Africa, 2021-09-01, null, 8772810300.00, 15635, NFLX}] urls:[{linkedin, https://www.linkedin.com/in/tendekamatatu}]                                                                                                                                                                                                                                                                                                                                                                                                                                                                                                                                                                                                                           |\n",
      "|person_id:109796082 name:Joshua Limp address:Wheaton, Illinois, US headline:Manager, Oncology Market Access Insights at AbbVie description:I am a consumer insights professional with a foundation in analytics brought through experience with both syndicated data and primary research data. My interests and background lie primarily in the CPG industry, related to brand marketing and strategy. In addition, I have extensive involvement in the healthcare industry, specifically project management among the life sciences.\\n\\nSpecialties: Category Management & Marketing Research\\n- Sustainable share growth\\n- Brand health and strategy\\n- Sales insights created_at:2023-12-11 06:18:08.13904 updated_at:2023-10-26 15:57:22.35 education:[{null, Lincoln - Way East High School, null, null, null, 2008-01-01}, {null, University Of Illinois At Chicago, Bachelors;Bachelor Of Science, Marketing, 2008-01-01, 2012-01-01}] employments:[{null, null, null, Market Research Assistant, 2010-05-01, 2010-12-01, null, null, null}, {26048, Ipsos, null, Client Service Intern, 2011-05-01, 2012-07-01, null, null, null}, {88002, PepsiCo, null, Category Management Analyst, 2013-09-01, 2016-03-01, null, null, null}, {113128, AbbVie, null, Manager I, Oncology Market Access Insights, 2022-07-01, null, 10603963036.00, 51174, ABBV}, {306464, Molson Coors, null, Associate Insights Manager, 2019-10-01, 2021-06-01, null, null, null}, {306464, Molson Coors, null, Associate Manager, Portfolio Strategy, 2021-06-01, 2022-01-01, null, null, null}, {306464, Molson Coors, null, Manager, Precision Marketing Analytics & Optimization, 2022-01-01, 2022-07-01, null, null, null}, {342039, Center of Healthcare Innovation, null, Senior Project Manager, 2009-09-01, 2019-05-01, null, null, null}, {342039, Center of Healthcare Innovation, Director, Volunteer: Director Of Business Development, 2019-05-01, null, null, null, null}, {842562, August Storck KG, null, Associate Insights Manager, 2016-03-01, 2019-10-01, null, null, null}, {8418321, Ipsos Marketing Us, Director, Project Director, 2012-07-01, 2013-09-01, null, null, null}] urls:[{linkedin, https://www.linkedin.com/in/joshualimp}, {facebook, facebook.com/josh.limp.5}]                                                                                                                                                                                                                                                                                                                                                                                                                                                                                                                                                                                                                                                                                                                                                                                                         |\n",
      "|person_id:949256266 name:Vivian Weng address:SINGAPORE headline:Product Design, Strategy & Managment created_at:2023-12-11 06:18:08.13904 customer_id:7538cb11-1c23-4c76-87c7-5111a0f166dc education:[{null, University of California, Berkeley - Walter A. Haas School of Business, null, MBA, Finance, 2007-01-01, 2009-01-01}, {null, National Taiwan University, null, BA, International Relations, 1998-01-01, 2002-01-01}, {null, Yale University, null, MA, International Developmental Economics, 2002-01-01, 2003-01-01}] employments:[{59, Goldman Sachs, null, Investment Banking Division Summer Associate, 2008-06-01, 2008-08-01, 8417546311.00, 75859, GS}, {1660, Apple, null, Product Design Producer, International Product Design, 2019-04-01, null, 31949031445.00, 224704, AAPL}, {4007, McKinsey & Company, null, Business Analyst, 2004-01-01, 2007-01-01, null, null, null}, {4007, McKinsey & Company, null, Senior Associate, Corporate Finance, 2009-09-01, 2011-11-01, null, null, null}, {15861, DBS Bank, VP, Vice President, Innovation Group, 2016-07-01, 2019-04-01, null, null, null}, {7962172, Frog, Director, Associate Strategy Director, Innovation Strategy Group, 2012-02-01, 2016-06-01, null, null, null}] urls:[{linkedin, https://www.linkedin.com/in/vivian-weng-4a0b884}]                                                                                                                                                                                                                                                                                                                                                                                                                                                                                                                                                                                                                                                                                                                                                                                                                                                                                                                                                                                                                                                                                                                                                                                                                                                                                                                                                                                                                                                                                                                                                                                                                                                                                                                                                                       |\n",
      "|person_id:902184389 name:Hendrik Bourgeois address: headline:Head of Government Affairs Europe and Russia at Apple created_at:2023-12-11 06:18:08.13904 updated_at:2023-10-26 15:57:22.35 customer_id:7538cb11-1c23-4c76-87c7-5111a0f166dc employments:[{1660, Apple, Head of ..., Head of Government Affairs Europe and Russia, 2019-09-01, null, 31949031445.00, 224704, AAPL}, {2025, General Electric, null, General Counsel, Europe, 2009-04-01, 2011-06-01, null, null, null}, {2025, General Electric, null, General Counsel Europe GE Industrial Systems, 1999-09-01, 2002-11-01, null, null, null}, {2025, General Electric, VP, General Counsel Europe & Vice President European Affairs, 2011-06-01, 2017-12-01, null, null, null}, {2025, General Electric, null, European Competition Counsel, 2002-11-01, 2009-04-01, null, null, null}, {72544, Cargill, VP, Vice President Corporate Affairs EMEA, 2018-01-01, 2019-08-01, null, null, null}, {110139, Jones Day, null, Associate, 1993-08-01, 1996-12-01, null, null, null}, {110139, Jones Day, null, Associate, 1996-01-01, 1999-07-01, null, null, null}] urls:[{linkedin, https://www.linkedin.com/in/hendrik-bourgeois-306b4871}]                                                                                                                                                                                                                                                                                                                                                                                                                                                                                                                                                                                                                                                                                                                                                                                                                                                                                                                                                                                                                                                                                                                                                                                                                                                                                                                                                                                                                                                                                                                                                                                                                                                                                                                                                                                                                                                                                        |\n",
      "|person_id:48171849 name:Courtney Turner address:Toledo, Ohio, US description:The search for something profound usually begins on a quest of \"self.\" created_at:2023-12-11 06:18:08.13904 updated_at:2023-10-14 21:35:03.103333 customer_id:7538cb11-1c23-4c76-87c7-5111a0f166dc education:[{null, The University Of Akron, null, null, null, null}] employments:[{1660, Apple, null, Creative Trainer, 2018-03-01, null, 31949031445.00, 224704, AAPL}, {1660, Apple, null, Product Specialist, 2016-11-01, null, 31949031445.00, 224704, AAPL}, {6916840, Boys & Girls Clubs Of America, Director, Program Director, 2013-12-01, 2016-11-01, null, null, null}] urls:[{linkedin, https://www.linkedin.com/in/courtney-turner-11949310a}]                                                                                                                                                                                                                                                                                                                                                                                                                                                                                                                                                                                                                                                                                                                                                                                                                                                                                                                                                                                                                                                                                                                                                                                                                                                                                                                                                                                                                                                                                                                                                                                                                                                                                                                                                                                                                                                                                                                                                                                                                                                                                                                                                                                                                                                                                                                                                      |\n",
      "|person_id:114036636 name:Daniel Charness address:New York, New York, US description:A left-brain + right-brain marketer, I love building brands and creating meaningful advertising that tells their stories. I have over 8 years of experience driving revenue at the brand, agency, and creative levels – from seed-stage startups to Fortune 100 companies. I love what I do. created_at:2023-12-11 06:18:08.13904 updated_at:2023-10-14 21:35:03.103333 education:[{null, Alma Mater Studiorum – Università Di Bologna, null, European History, null, null}, {null, Wesleyan University, Bachelors;Bachelor Of Arts, History, null, null}, {null, Wesleyan University, null, null, null, 2010-01-01}] employments:[{13, Twitter, Manager, Marketing Manager | Global Business Marketing, North America, 2019-09-01, null, 1411687950.00, 3346, TWTR}, {15274, BBDO, Manager, Account Manager, 2016-03-01, 2017-04-01, null, null, null}, {15274, BBDO, null, Digital Strategist | Business Development, 2014-02-01, 2014-11-01, null, null, null}, {419610, HL, null, Public Relations Internship, 2007-05-01, 2007-08-01, null, null, null}, {459063, Signafire, Director, Marketing Director, 2018-02-01, 2019-07-01, null, null, null}, {9806014, Rounder Records, null, Digital Marketing Internship, 2009-06-01, 2009-08-01, null, null, null}, {null, null, null, Producer, 2010-05-01, 2014-02-01, null, null, null}] urls:[{linkedin, https://www.linkedin.com/in/daniel-charness-05021615}, {facebook, facebook.com/daniel.charness}]                                                                                                                                                                                                                                                                                                                                                                                                                                                                                                                                                                                                                                                                                                                                                                                                                                                                                                                                                                                                                                                                                                                                                                                                                                                                                                                                                                                                                                                                                                                                             |\n",
      "|person_id:119300471 name:Nicolle Lafaurie address:Brooklyn, New York, US headline:Series LATAM | Netflix created_at:2023-12-11 06:18:08.13904 updated_at:2023-10-26 15:57:22.35 education:[{792489, Universidad De La Sabana, Bachelors, Communication;Journalism, 2007-01-01, 2013-01-01}] employments:[{null, null, null, Cultural Affairs Representative | Viceconsul, 2018-03-01, 2019-03-01, null, null, null}, {null, null, Director, Director of Development, 2019-03-01, 2021-03-01, null, null, null}, {1660, Apple, null, Creative | Script Coordinator, 2021-03-01, 2021-09-01, 31949031445.00, 224704, AAPL}, {2289, Netflix, Manager, Content Manager, 2021-09-01, null, 8772810300.00, 15635, NFLX}, {2289, Netflix, null, Script Reader, 2020-03-01, 2021-03-01, 8772810300.00, 15635, NFLX}, {4509, Sony Pictures Entertainment, null, Development & Script Coordinator | Story Analyst, 2013-06-01, 2018-03-01, null, null, null}, {810527, El Tiempo, null, Reporter / Videographer, 2012-05-01, 2013-01-01, null, null, null}] urls:[{linkedin, https://www.linkedin.com/in/nicolle-lafaurie}]                                                                                                                                                                                                                                                                                                                                                                                                                                                                                                                                                                                                                                                                                                                                                                                                                                                                                                                                                                                                                                                                                                                                                                                                                                                                                                                                                                                                                                                                                                                                                                                                                                                                                                                                                                                                                                                                                                                                                                              |\n",
      "|person_id:893728181 name:Patrick Yahya address: headline:Brand Manager Central Europe bei NVIDIA created_at:2023-12-11 06:18:08.13904 updated_at:2023-10-26 15:57:22.35 employments:[{null, null, Director, Stellv. Director Sales, 2010-10-01, 2015-10-01, null, null, null}, {null, null, null, Executive Consultant, 2009-08-01, 2010-09-01, null, null, null}, {null, null, Head of ..., Head of Sales, 2017-02-01, 2018-06-01, null, null, null}, {null, null, null, Development Aid Volunteer, 2006-01-01, 2008-01-01, null, null, null}, {null, null, null, Trainee, 2008-04-01, 2009-08-01, null, null, null}, {4360, NVIDIA, Manager, Brand Manager Central Europe, 2018-07-01, null, 18110805495.00, 24468, NVDA}, {1193003, Burda Direct Interactive, Manager, Senior Sales Manager International, 2015-10-01, 2017-01-01, null, null, null}] urls:[{linkedin, https://www.linkedin.com/in/patrickyahya}]                                                                                                                                                                                                                                                                                                                                                                                                                                                                                                                                                                                                                                                                                                                                                                                                                                                                                                                                                                                                                                                                                                                                                                                                                                                                                                                                                                                                                                                                                                                                                                                                                                                                                                                                                                                                                                                                                                                                                                                                                                                                                                                                                                           |\n",
      "|person_id:74707094 name:Katie Richter address:Austin, Texas, US description:Retail Business Specialist, Assistant Supervisor created_at:2023-12-11 06:18:08.13904 updated_at:2023-10-14 21:35:03.103333 customer_id:7538cb11-1c23-4c76-87c7-5111a0f166dc education:[{null, Rhodes College, Bachelors;Bachelor Of Science, Theater;Theatre, 2000-01-01, 2004-01-01}] employments:[{1660, Apple, null, Recruiting Coordinator, 2016-11-01, null, 31949031445.00, 224704, AAPL}, {1660, Apple, null, RETAIL SALES SUPPORT SPECIALIST, TEAM DEPUTY, 2012-09-01, null, 31949031445.00, 224704, AAPL}, {601281, Casting Networks, null, BUSINESS DEVELOPMENT, 2010-05-01, 2011-04-01, null, null, null}, {704079, Freelance, Director, CASTING DIRECTOR, CASTING ASSOCIATE, 2011-04-01, 2012-09-01, null, null, null}, {6517068, Action Figure, Manager, OFFICE MANAGER, CLIENT SERVICE MANAGER, 2008-09-01, 2010-01-01, null, null, null}, {8035333, Geddes Agency, Manager, TALENT AGENT, OFFICE MANAGER, 2005-06-01, 2008-07-01, null, null, null}] urls:[{linkedin, https://www.linkedin.com/in/katie-richter-324083107}]                                                                                                                                                                                                                                                                                                                                                                                                                                                                                                                                                                                                                                                                                                                                                                                                                                                                                                                                                                                                                                                                                                                                                                                                                                                                                                                                                                                                                                                                                                                                                                                                                                                                                                                                                                                                                                                                                                                                                                        |\n",
      "|person_id:990939356 name:Stefania Baldi address: headline:Head of Media Content Partnerships France at Twitter created_at:2023-12-11 06:18:08.13904 updated_at:2023-10-26 15:57:22.35 employments:[{13, Twitter, Head of ..., Head of Content Partnerships France, 2020-01-01, null, 1411687950.00, 3346, TWTR}, {13, Twitter, Manager, Entertainment Partnerships Manager, 2017-10-01, null, 1411687950.00, 3346, TWTR}, {12267, Veepee, null, Digital and Brand Content Account Executive, 2011-09-01, 2013-04-01, null, null, null}, {12267, Veepee, null, Digital and E-commerce Consultant, 2013-05-01, 2015-06-01, null, null, null}, {12267, Veepee, Manager, Online Sales Marketing and Merchandise Manager, 2008-11-01, 2011-09-01, null, null, null}, {1326863, Amundi, null, Internal Communication Coordinator - Internship, 2007-11-01, 2008-10-01, null, null, null}, {null, null, Manager, National Retail Key Account Manager, 2015-06-01, null, null, null, null}] urls:[{linkedin, https://www.linkedin.com/in/stefania-baldi-18792819}]                                                                                                                                                                                                                                                                                                                                                                                                                                                                                                                                                                                                                                                                                                                                                                                                                                                                                                                                                                                                                                                                                                                                                                                                                                                                                                                                                                                                                                                                                                                                                                                                                                                                                                                                                                                                                                                                                                                                                                                                                                     |\n",
      "|person_id:21526185 name:John Spurling address:San Francisco, California, US description:President at The King's University; Associate Senior Pastor, Gateway Church created_at:2023-12-11 06:18:08.13904 updated_at:2023-10-23 03:55:58.36 employments:[{13, Twitter, null, Senior Software Engineer, 2017-06-01, null, 1411687950.00, 3346, TWTR}, {340, Reddit, null, Senior Software Engineer, 2015-12-01, 2016-08-01, null, null, null}, {528, Sun Microsystems, null, Software Engineer, 2000-01-01, 2001-01-01, null, null, null}, {1412, Splunk, null, Senior Software Engineer, 2014-03-01, 2015-12-01, 723159227.00, 8674, SPLK}, {2318, Danger, null, Developer Engineer, 2003-01-01, 2004-01-01, null, null, null}, {4891, Cloudmark, null, Software Engineer, 2002-01-01, 2002-01-01, null, null, null}, {6095, Avid Technology, null, Senior Software Engineer, 2011-09-01, 2014-03-01, null, null, null}, {32450, Azul Systems, null, Jvm Engineer, 2008-04-01, 2011-07-01, null, null, null}, {126117, Perpetual Entertainment, null, Software Engineer, 2004-12-01, 2006-10-01, null, null, null}, {1230640, Corecomm, null, System Administrator, 1998-01-01, 1999-01-01, null, null, null}, {10074235, Tenuki Software, CXO, Chief Technology Officer, 2006-10-01, 2008-03-01, null, null, null}] urls:[{linkedin, https://www.linkedin.com/in/john-spurling-ba65b11}]                                                                                                                                                                                                                                                                                                                                                                                                                                                                                                                                                                                                                                                                                                                                                                                                                                                                                                                                                                                                                                                                                                                                                                                                                                                                                                                                                                                                                                                                                                                                                                                                                                                                                                       |\n",
      "|person_id:87993295 name:Boone Sommerfeld address:Seattle, Washington, US headline:Director/Cinematographer/Art Director description:Boone is a cinematographer with a background in advertising art direction allowing him to jump into a production from concepting, production, to post-production.\\n\\nHe has worked with agencies like WongDoody, Copacino + Fujikado, Belief Agency, Green Rubino, Hey!, Spark Creative, and CUT.\\n\\nPast clients include Chateau Ste. Michelle, Columbia Crest, 14Hands, The Clymb, Holland America Line, Washington State University, Seattle Mariners, Seattle Aquarium, and Seattle Children's Theatre, Seattle Goodwill, Strong Against Cancer, Splash.org, Days for Girls, World Vision, Evidence Action, and Weld Seattle.\\n\\nBoone's skills include video production, art direction, illustration, graphic/web design, and animation.\\n\\nwww.boone.tv created_at:2023-12-11 06:18:08.13904 updated_at:2023-10-26 15:57:22.35 education:[{null, Newton Senior High, null, null, null, null}, {null, School Of Visual Concepts, null, null, null, null}, {null, John Brown University, Bachelors;Bachelor Of Science, Illustration, 2004-01-01, 2008-01-01}] employments:[{null, null, Director, Director, Cinematographer & Art Director, 2017-09-01, null, null, null, null}, {null, null, null, Graphic Designer, 2009-09-01, 2011-01-01, null, null, null}, {203437, Amazon, Director, Sr. Art Director, Video [Contractor], 2020-11-01, null, 211502699971.00, 750138, AMZN}, {544376, Copacino + Fujikado, Director, Art Director, 2015-01-01, 2017-08-01, null, null, null}, {827805, Splash, null, Lead Creative, 2011-07-01, 2015-01-01, null, null, null}] urls:[{linkedin, https://www.linkedin.com/in/boone-sommerfeld-92926826}, {facebook, facebook.com/boone.sommerfeld}]                                                                                                                                                                                                                                                                                                                                                                                                                                                                                                                                                                                                                                                                                                                                                                                                                                                                                                                                                                                                                                                                                                                                                                                                                                                             |\n",
      "|person_id:918115324 name:Drew McLean address: headline:1st Assistant Director - Film and Television created_at:2023-12-11 06:18:08.13904 updated_at:2023-10-26 15:57:22.35 employments:[{null, null, Director, Total Frat Movie - Set Assistant Director, 2014-07-01, 2014-08-01, null, null, null}, {null, null, Director, See for Me - 1st Assistant Director (2nd Unit), 2021-01-01, 2021-01-01, null, null, null}, {null, null, Director, 8:37 Rebirth - 1st Assistant Director, 2020-10-01, 2020-12-01, null, null, null}, {null, null, Director, Suits Season 6 - 3rd Assistant Director / Set Assistant Director, 2016-04-01, 2016-12-01, null, null, null}, {null, null, Director, Stage Mother - 1st Assistant Director, 2018-09-01, 2018-10-01, null, null, null}, {null, null, Director, Suits Season 5 - 3rd Assistant Director / Set Assistant Director, 2015-04-01, 2015-12-01, null, null, null}, {null, null, Director, Designated Survivor (Pilot Episode) - 3rd Assistant Director / Set Assistant Director, 2016-03-01, 2016-03-01, null, null, null}, {2289, Netflix, Director, Slumberland - 2nd 2nd Assistant Director, 2021-02-01, 2021-05-01, 8772810300.00, 15635, NFLX}, {2289, Netflix, Director, Workin' Moms (Season 7) - 1st Assistant Director, 2022-05-01, null, 8772810300.00, 15635, NFLX}, {43495, MGM Studios, Director, The Prodigy - 3rd Assistant Director/ 4th Assistant Director, 2018-03-01, 2018-04-01, null, null, null}, {43556, McDonald's, null, Employee, 2003-02-01, 2006-02-01, null, null, null}, {110219, Canadian Film Centre, Director, ZACH - 1st Assistant Director, 2018-02-01, 2018-02-01, null, null, null}, {142005, Future Shop, null, Home Office, 2006-02-01, 2014-01-01, null, null, null}, {288911, Alcon Entertainment, Director, The Expanse (Season 3) - 3rd Assistant Director/ 4th Assistant Director, 2017-07-01, 2017-12-01, null, null, null}, {506690, FX Networks, Director, Mrs.America - 3rd Assistant Director, 2019-09-01, 2019-10-01, null, null, null}, {851247, Prime Video, Director, The Expanse (Season 4) - 1st Assistant Director (2nd Unit), 2019-01-01, 2019-02-01, null, null, null}, {1312171, Hot Docs, null, Accelerator Program, 2014-03-01, 2014-04-01, null, null, null}, {6358947, Strata Studios, Director, The Return - 1st Assistant Director, 2018-06-01, 2018-07-01, null, null, null}, {6358947, Strata Studios, Director, Loss of Contact - 1st Assistant Director, 2014-06-01, 2014-06-01, null, null, null}, {6975364, Blumhouse Productions, Director, The Lie - 4th Assistant Director, 2018-01-01, 2018-02-01, null, null, null}, {9823967, Runaway Films, Director, Wildhood - 1st Assistant Director, 2020-07-01, 2020-09-01, null, null, null}, {11240809, HBO Max, Director, Detention Adventure (Season 1) - 1st Assistant Director, 2018-07-01, 2018-08-01, null, null, null}, {11240809, HBO Max, Director, Detention Adventure (Season 3) - 1st Assistant Director, 2021-06-01, 2021-07-01, null, null, null}] urls:[{linkedin, https://www.linkedin.com/in/drewmclean88}]|\n",
      "|person_id:852757671 name:Nadya Mira address: headline:Anartist created_at:2023-12-11 06:18:08.13904 updated_at:2023-10-26 15:57:22.35 employments:[{null, null, null, Background Color Designer, 2017-05-01, 2017-06-01, null, null, null}, {null, null, null, Art Class Instructor, 2019-11-01, 2019-11-01, null, null, null}, {null, null, null, Concept Artist, 2019-01-01, 2019-01-01, null, null, null}, {null, null, null, News Intern, 2003-01-01, 2003-01-01, null, null, null}, {null, null, Director, Director, 2010-03-01, 2010-12-01, null, null, null}, {2289, Netflix, null, Character Designer, 2020-01-01, 2020-01-01, 8772810300.00, 15635, NFLX}, {2289, Netflix, null, Character Designer, 2021-10-01, null, 8772810300.00, 15635, NFLX}, {135979, Aardman Animations, null, Concept Artist, 2021-01-01, 2021-01-01, null, null, null}, {135979, Aardman Animations, null, Concept Artist, 2018-01-01, 2018-01-01, null, null, null}, {137530, Ankama, null, visual development intern, 2012-07-01, 2012-10-01, null, null, null}, {159839, Triggerfish Animation Studios, null, Visual Development Artist, 2018-01-01, 2018-01-01, null, null, null}, {242694, Framestore, null, Character Designer, 2018-06-01, 2018-01-01, null, null, null}, {272793, Toonbox, null, Visual development artist, layout artist, 2010-12-01, 2011-12-01, null, null, null}, {339364, Walt Disney Animation Studios, null, VIsdev character design intern, 2013-07-01, 2013-08-01, null, null, null}, {658064, Illumination Mac Guff, null, Visual Development Artist, 2018-01-01, 2018-01-01, null, null, null}, {747802, Paradise Fruit Company, null, Editor, 2008-09-01, 2009-05-01, null, null, null}, {877166, Passion Pictures, null, Freelance character designer, 2013-08-01, 2013-08-01, null, null, null}, {904863, Cube Creative, null, Animation intern, 2012-04-01, 2012-04-01, null, null, null}, {1630234, Nickelodeon, null, Background designer, 2014-10-01, 2015-01-01, null, null, null}, {8076436, Glukoza Production, null, Storyboard artist, 2011-05-01, 2011-08-01, null, null, null}, {8803603, Locksmith Animation, null, Character Designer, 2020-01-01, 2020-01-01, null, null, null}, {8803603, Locksmith Animation, null, Concept Artist, 2017-01-01, 2018-01-01, null, null, null}, {8847297, Magic Light Pictures, null, Production Designer, 2015-04-01, 2016-10-01, null, null, null}, {9061144, Miyu Productions, null, Making pictures, 2021-06-01, 2021-11-01, null, null, null}, {9442868, Planet Earth, null, human, 1988-01-01, null, null, null, null}] urls:[{linkedin, https://www.linkedin.com/in/nadyamira}]                                                                                                                                                                                                                                                                                                                                                                                                                                 |\n",
      "|person_id:1042153985 name:Victor Merced-Felix address:US headline:Customer Service expert description:As stated in my resume, I have BA in General Arts, Mayor in Political Science and 107 credits on Mechanical Engineering; I speak, write and read very fluency the Spanish. I have over 30 years of experience in the Customer Service field including 25 years in management. I also have outstanding interpersonal skills, I am a great team player. My experience also includes: recruiting, evaluating, and monitoring employees. I created a Quality Control Department to monitor Call Center Customer Service Incoming calls  (which used Meridian), Also to monitor Emails and Chat for the Call Center Customer Service Department (which used Cute Live Support for chat monitoring), I also created the Handbook for the Call Center Employee that explained in detail all products and warranties. Also, I worked as a Special Project Manager to create the Policies, Procedures and Training Manuals for every Department in the Company (Customer Service, Accounting, Warehouse, Retail, Account Managers, etc…) Part of my management duties was work as a Workflow Analyst that make me acquire the experience on Symposium and AS400 programs. As part of my Manager duties, I am being worked as a Workflow Analyst as well.\\nCurrently, I am looking for an Executive Administrative, Manager or Director position in which I can use my analytical and organizational skills and professional experience, in a challenging and productive environment, to achieve the company’s goals as well as my own. created_at:2023-12-11 06:18:08.13904 updated_at:2023-10-18 23:07:47.696666 employments:[{1628, Frontier Communications, null, Customer Service Call Center Manager, 2013-03-01, 2013-10-01, null, null, null}, {1694, Tesla, null, Customer Service Supervisor, 2022-10-01, null, 11324332089.00, 54953, TSLA}, {58502, Genpact, null, Senior Manager, 2017-11-01, 2022-04-01, null, null, null}, {263757, VXI Global Solutions, Director, Site Director, 2022-05-01, 2022-09-01, null, null, null}, {505143, TMX Finance Family of Companies, null, Customer Service Call Center Manager, 2013-10-01, 2017-10-01, null, null, null}, {545070, Community Waste Disposal, null, Customer Service Call Center Manager, 2011-03-01, 2013-02-01, null, null, null}, {null, null, null, Customer Service Call Center Manager, 2008-01-01, 2011-02-01, null, null, null}] urls:[{linkedin, https://www.linkedin.com/in/victor-merced-felix-657a3164}]                                                                                                                                                                                                                                                                                                                                                                                                                                                                                                            |\n",
      "|person_id:42493569 name:Steve Coco address:Bedford, New Hampshire, US description:Specialize in the placement of LBM professionals servicing lumber, millwork, hardware and building material manufacturers, wholesalers and retail companies.\\n\\nTOP JOBS FOR THE WEEK (Others listed at www.snapdragonassociates.com):\\n\\n- Kitchen Designer - Providence RI - Competitive base, excellent earning potential \\n- Territory Sales Manager - Boston, AM - Generous compensation package! \\n- Lumber sales Specialist - Central Long Island - Base Salary $45K - $55K\\n- Engineering Manager – Indianapolis IN – Base Salary: $85K-$120K\\n- Sr Territory Sales Manager – Columbus OH – Generous compensation package\\n- Territory Account Manager – Long Island - $50K - $60K created_at:2023-12-11 06:18:08.13904 updated_at:2023-10-19 07:24:05.526666 education:[{195812, University Of Massachusetts Lowell, null, Psychology;Criminal Justice, 2005-01-01, 2005-01-01}, {195812, University Of Massachusetts Lowell, null, Psychology;Criminal Justice, 1990-01-01, 1994-01-01}] employments:[{110721, Berkshire Hathaway, null, Realtor, 2017-04-01, null, 582237200.00, null, BRKB}, {140312, Federal Bureau of Investigation, null, Task Force Officer, 2007-07-01, 2012-07-01, null, null, null}, {7272029, City of Manchester, null, Detective Sergeant / Special Investigations Unit, 2012-07-01, 2013-03-01, null, null, null}, {7272029, City of Manchester, null, Police Detective / Special Investigations Unit, 1998-07-01, 2013-07-01, null, null, null}, {7272029, City of Manchester, null, Police officer / Patrolman, 1995-07-01, 1998-06-01, null, null, null}, {9599527, Pressure Techniques International, Director, Director Of Sales And Business Development, 2018-12-01, null, null, null, null}, {10032280, SnapDragon Associates, null, Executive Recruiter, 2015-01-01, 2016-09-01, null, null, null}] urls:[{linkedin, https://www.linkedin.com/in/steve-coco-1282a0ab}]                                                                                                                                                                                                                                                                                                                                                                                                                                                                                                                                                                                                                                                                                                                                                                                                                                                                                                                                                                                                                                                                                        |\n",
      "|person_id:111916353 name:Roe Kim address:Lincolnshire, Illinois, US description:Senior Tax Manager at AbbVie created_at:2023-12-11 06:18:08.13904 updated_at:2023-10-19 07:24:05.526666 education:[{null, Northeastern University, Masters, null, null, 2005-01-01}, {null, Korea University, Bachelors;Bachelor Of Arts, null, null, 1997-08-01}, {null, Northeastern University, Masters, null, null, 2004-01-01}, {null, Hawaii Pacific University, Master Of Business Administration;Masters, null, null, 2001-05-01}] employments:[{null, null, null, Senior Associate, 2002-01-01, 2004-01-01, null, null, null}, {19179, PwC, null, Tax Manager, 2006-02-01, 2011-09-01, null, null, null}, {113128, AbbVie, Director, Associate Director, 2013-10-01, null, 10603963036.00, 51174, ABBV}, {407494, RSM US, null, Senior Associate, 2005-01-01, 2006-01-01, null, null, null}, {556630, Miller, Cooper & Co., Ltd., null, Tax Manager, 2011-09-01, 2013-10-01, null, null, null}] urls:[{linkedin, https://www.linkedin.com/in/roe-kim-91ba657}, {facebook, facebook.com/roe.kim.7}]                                                                                                                                                                                                                                                                                                                                                                                                                                                                                                                                                                                                                                                                                                                                                                                                                                                                                                                                                                                                                                                                                                                                                                                                                                                                                                                                                                                                                                                                                                                                                                                                                                                                                                                                                                                                                                                                                                                                                                                                    |\n",
      "|person_id:932586294 name:Alan Godoy address: headline:Digital Director at Vale Network created_at:2023-12-11 06:18:08.13904 updated_at:2023-10-14 21:35:03.103333 employments:[{13, Twitter, null, @AlanTheMustache, null, null, 1411687950.00, 3346, TWTR}, {10413638, Vale Network, Director, Digital Director, null, null, null, null, null}] urls:[{linkedin, https://www.linkedin.com/in/alan-godoy-482699150}]                                                                                                                                                                                                                                                                                                                                                                                                                                                                                                                                                                                                                                                                                                                                                                                                                                                                                                                                                                                                                                                                                                                                                                                                                                                                                                                                                                                                                                                                                                                                                                                                                                                                                                                                                                                                                                                                                                                                                                                                                                                                                                                                                                                                                                                                                                                                                                                                                                                                                                                                                                                                                                                                           |\n",
      "|person_id:1039932213 name:Rong Jin address:US headline:VP at Twitter created_at:2023-12-11 06:18:08.13904 updated_at:2023-10-23 03:55:58.36 employments:[{13, Twitter, VP, VP, null, null, 1411687950.00, 3346, TWTR}, {565, Alibaba Group, VP, VP at Alibaba, 2014-07-15, 2022-05-01, null, null, null}, {173371, Michigan State University, null, Professor, 2003-08-15, 2014-07-15, null, null, null}] urls:[{linkedin, https://www.linkedin.com/in/rong-jin-329778241}]                                                                                                                                                                                                                                                                                                                                                                                                                                                                                                                                                                                                                                                                                                                                                                                                                                                                                                                                                                                                                                                                                                                                                                                                                                                                                                                                                                                                                                                                                                                                                                                                                                                                                                                                                                                                                                                                                                                                                                                                                                                                                                                                                                                                                                                                                                                                                                                                                                                                                                                                                                                                                    |\n",
      "|person_id:1040966979 name:Monica Reed address:US headline:SW Divisional Manager ACC WAL-Mart description:Multi unit Retail experience, Energetic management professional versed in business management, finance and sales. Emphasizes process improvement to increase profits and customer satisfaction. Results-oriented Manager who thrives in fast-paced and competitive environments. Brings strong presentation, analytical and problem solving skills. Inspires, motivates  and develops people is a strength. created_at:2023-12-11 06:18:08.13904 updated_at:2023-10-18 23:07:47.696666 employments:[{11012, The Home Depot, Manager, District Manager, 2013-03-01, 2018-05-01, null, null, null}, {11012, The Home Depot, Manager, District Operations Manager, 2012-02-01, 2013-03-01, null, null, null}, {22598, Walmart, null, District Manger, 2000-04-01, 2012-02-01, 53529592843.00, 378965, WMT}, {22598, Walmart, Director, Director Of Store Planning, 1995-05-01, 2000-04-01, 53529592843.00, 378965, WMT}, {22598, Walmart, Manager, District Loss Prevention Manager, 1992-06-01, 1995-05-01, 53529592843.00, 378965, WMT}, {22598, Walmart, Manager, Assistant Manager, 1990-04-01, 1992-06-01, 53529592843.00, 378965, WMT}, {22598, Walmart, Manager, Customer Service Support Manager, 1988-04-01, 1990-04-01, 53529592843.00, 378965, WMT}, {22598, Walmart, Director, SW Director ACC, 2022-05-01, null, 53529592843.00, 378965, WMT}, {1522852, Lowe's Companies, Manager, Regional Manager, 2020-05-01, 2022-05-01, null, null, null}, {6867662, Bedrosians, Manager, SE Regional Manager, 2018-05-01, 2020-05-01, null, null, null}] urls:[{linkedin, https://www.linkedin.com/in/monica-reed-218a21158}]                                                                                                                                                                                                                                                                                                                                                                                                                                                                                                                                                                                                                                                                                                                                                                                                                                                                                                                                                                                                                                                                                                                                                                                                                                                                                                                                                        |\n",
      "+-----------------------------------------------------------------------------------------------------------------------------------------------------------------------------------------------------------------------------------------------------------------------------------------------------------------------------------------------------------------------------------------------------------------------------------------------------------------------------------------------------------------------------------------------------------------------------------------------------------------------------------------------------------------------------------------------------------------------------------------------------------------------------------------------------------------------------------------------------------------------------------------------------------------------------------------------------------------------------------------------------------------------------------------------------------------------------------------------------------------------------------------------------------------------------------------------------------------------------------------------------------------------------------------------------------------------------------------------------------------------------------------------------------------------------------------------------------------------------------------------------------------------------------------------------------------------------------------------------------------------------------------------------------------------------------------------------------------------------------------------------------------------------------------------------------------------------------------------------------------------------------------------------------------------------------------------------------------------------------------------------------------------------------------------------------------------------------------------------------------------------------------------------------------------------------------------------------------------------------------------------------------------------------------------------------------------------------------------------------------------------------------------------------------------------------------------------------------------------------------------------------------------------------------------------------------------------------------------------------------------------------------------------------------------------------------------------------------------------------------------------------------------------------------------------------------------------------------------------------------------------------------------------------------------------------------------------------------------------------------------------------------------------------------------------------------------------------------------+\n",
      "only showing top 20 rows\n",
      "\n"
     ]
    }
   ],
   "source": [
    "# Now, 'df_single_text' is a DataFrame where each row is a single text string\n",
    "single_file_for_each_person_df.show(truncate=False)"
   ]
  },
  {
   "cell_type": "code",
   "execution_count": 52,
   "id": "92fbc0ff",
   "metadata": {},
   "outputs": [
    {
     "ename": "AnalysisException",
     "evalue": "[PATH_ALREADY_EXISTS] Path file:/home/jovyan/final_output/df3.parquet already exists. Set mode as \"overwrite\" to overwrite the existing path.",
     "output_type": "error",
     "traceback": [
      "\u001b[0;31m---------------------------------------------------------------------------\u001b[0m",
      "\u001b[0;31mAnalysisException\u001b[0m                         Traceback (most recent call last)",
      "Cell \u001b[0;32mIn[52], line 1\u001b[0m\n\u001b[0;32m----> 1\u001b[0m \u001b[43mfinal_df\u001b[49m\u001b[38;5;241;43m.\u001b[39;49m\u001b[43mwrite\u001b[49m\u001b[38;5;241;43m.\u001b[39;49m\u001b[43mparquet\u001b[49m\u001b[43m(\u001b[49m\u001b[38;5;124;43m\"\u001b[39;49m\u001b[38;5;124;43mfinal_output/df3.parquet\u001b[39;49m\u001b[38;5;124;43m\"\u001b[39;49m\u001b[43m)\u001b[49m\n",
      "File \u001b[0;32m/usr/local/spark/python/pyspark/sql/readwriter.py:1721\u001b[0m, in \u001b[0;36mDataFrameWriter.parquet\u001b[0;34m(self, path, mode, partitionBy, compression)\u001b[0m\n\u001b[1;32m   1719\u001b[0m     \u001b[38;5;28mself\u001b[39m\u001b[38;5;241m.\u001b[39mpartitionBy(partitionBy)\n\u001b[1;32m   1720\u001b[0m \u001b[38;5;28mself\u001b[39m\u001b[38;5;241m.\u001b[39m_set_opts(compression\u001b[38;5;241m=\u001b[39mcompression)\n\u001b[0;32m-> 1721\u001b[0m \u001b[38;5;28;43mself\u001b[39;49m\u001b[38;5;241;43m.\u001b[39;49m\u001b[43m_jwrite\u001b[49m\u001b[38;5;241;43m.\u001b[39;49m\u001b[43mparquet\u001b[49m\u001b[43m(\u001b[49m\u001b[43mpath\u001b[49m\u001b[43m)\u001b[49m\n",
      "File \u001b[0;32m/usr/local/spark/python/lib/py4j-0.10.9.7-src.zip/py4j/java_gateway.py:1322\u001b[0m, in \u001b[0;36mJavaMember.__call__\u001b[0;34m(self, *args)\u001b[0m\n\u001b[1;32m   1316\u001b[0m command \u001b[38;5;241m=\u001b[39m proto\u001b[38;5;241m.\u001b[39mCALL_COMMAND_NAME \u001b[38;5;241m+\u001b[39m\\\n\u001b[1;32m   1317\u001b[0m     \u001b[38;5;28mself\u001b[39m\u001b[38;5;241m.\u001b[39mcommand_header \u001b[38;5;241m+\u001b[39m\\\n\u001b[1;32m   1318\u001b[0m     args_command \u001b[38;5;241m+\u001b[39m\\\n\u001b[1;32m   1319\u001b[0m     proto\u001b[38;5;241m.\u001b[39mEND_COMMAND_PART\n\u001b[1;32m   1321\u001b[0m answer \u001b[38;5;241m=\u001b[39m \u001b[38;5;28mself\u001b[39m\u001b[38;5;241m.\u001b[39mgateway_client\u001b[38;5;241m.\u001b[39msend_command(command)\n\u001b[0;32m-> 1322\u001b[0m return_value \u001b[38;5;241m=\u001b[39m \u001b[43mget_return_value\u001b[49m\u001b[43m(\u001b[49m\n\u001b[1;32m   1323\u001b[0m \u001b[43m    \u001b[49m\u001b[43manswer\u001b[49m\u001b[43m,\u001b[49m\u001b[43m \u001b[49m\u001b[38;5;28;43mself\u001b[39;49m\u001b[38;5;241;43m.\u001b[39;49m\u001b[43mgateway_client\u001b[49m\u001b[43m,\u001b[49m\u001b[43m \u001b[49m\u001b[38;5;28;43mself\u001b[39;49m\u001b[38;5;241;43m.\u001b[39;49m\u001b[43mtarget_id\u001b[49m\u001b[43m,\u001b[49m\u001b[43m \u001b[49m\u001b[38;5;28;43mself\u001b[39;49m\u001b[38;5;241;43m.\u001b[39;49m\u001b[43mname\u001b[49m\u001b[43m)\u001b[49m\n\u001b[1;32m   1325\u001b[0m \u001b[38;5;28;01mfor\u001b[39;00m temp_arg \u001b[38;5;129;01min\u001b[39;00m temp_args:\n\u001b[1;32m   1326\u001b[0m     \u001b[38;5;28;01mif\u001b[39;00m \u001b[38;5;28mhasattr\u001b[39m(temp_arg, \u001b[38;5;124m\"\u001b[39m\u001b[38;5;124m_detach\u001b[39m\u001b[38;5;124m\"\u001b[39m):\n",
      "File \u001b[0;32m/usr/local/spark/python/pyspark/errors/exceptions/captured.py:185\u001b[0m, in \u001b[0;36mcapture_sql_exception.<locals>.deco\u001b[0;34m(*a, **kw)\u001b[0m\n\u001b[1;32m    181\u001b[0m converted \u001b[38;5;241m=\u001b[39m convert_exception(e\u001b[38;5;241m.\u001b[39mjava_exception)\n\u001b[1;32m    182\u001b[0m \u001b[38;5;28;01mif\u001b[39;00m \u001b[38;5;129;01mnot\u001b[39;00m \u001b[38;5;28misinstance\u001b[39m(converted, UnknownException):\n\u001b[1;32m    183\u001b[0m     \u001b[38;5;66;03m# Hide where the exception came from that shows a non-Pythonic\u001b[39;00m\n\u001b[1;32m    184\u001b[0m     \u001b[38;5;66;03m# JVM exception message.\u001b[39;00m\n\u001b[0;32m--> 185\u001b[0m     \u001b[38;5;28;01mraise\u001b[39;00m converted \u001b[38;5;28;01mfrom\u001b[39;00m \u001b[38;5;28;01mNone\u001b[39;00m\n\u001b[1;32m    186\u001b[0m \u001b[38;5;28;01melse\u001b[39;00m:\n\u001b[1;32m    187\u001b[0m     \u001b[38;5;28;01mraise\u001b[39;00m\n",
      "\u001b[0;31mAnalysisException\u001b[0m: [PATH_ALREADY_EXISTS] Path file:/home/jovyan/final_output/df3.parquet already exists. Set mode as \"overwrite\" to overwrite the existing path."
     ]
    }
   ],
   "source": [
    "final_df.write.parquet(\"final_output/df3.parquet\")"
   ]
  }
 ],
 "metadata": {
  "kernelspec": {
   "display_name": "Python 3 (ipykernel)",
   "language": "python",
   "name": "python3"
  },
  "language_info": {
   "codemirror_mode": {
    "name": "ipython",
    "version": 3
   },
   "file_extension": ".py",
   "mimetype": "text/x-python",
   "name": "python",
   "nbconvert_exporter": "python",
   "pygments_lexer": "ipython3",
   "version": "3.11.6"
  }
 },
 "nbformat": 4,
 "nbformat_minor": 5
}

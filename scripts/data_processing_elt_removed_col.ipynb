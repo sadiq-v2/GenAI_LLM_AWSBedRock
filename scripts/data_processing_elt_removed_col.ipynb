{
 "cells": [
  {
   "cell_type": "code",
   "execution_count": 5,
   "id": "e66b8b3a-dca1-49a9-a0ae-c797caf01516",
   "metadata": {},
   "outputs": [],
   "source": [
    "from pyspark.sql import SparkSession\n",
    "from pyspark.sql.functions import count, col, concat_ws, row_number, desc\n",
    "from pyspark.sql import functions as F\n",
    "from pyspark.sql.window import Window\n",
    "from pyspark.sql.types import StructType, StructField, StringType, TimestampType\n",
    "import pandas as pd\n",
    "import os\n",
    "import json"
   ]
  },
  {
   "cell_type": "code",
   "execution_count": 6,
   "id": "809d2c81-b2cd-4564-9ebd-bac25ce1f7a6",
   "metadata": {},
   "outputs": [],
   "source": [
    "# Initialize SparkSession\n",
    "spark = SparkSession.builder \\\n",
    "    .appName('aws_connection') \\\n",
    "    .getOrCreate()"
   ]
  },
  {
   "cell_type": "code",
   "execution_count": 8,
   "id": "a0369575-65d5-4f65-9331-bca4572e5756",
   "metadata": {},
   "outputs": [],
   "source": [
    "# Define the base path\n",
    "base_path = '/home/jovyan/work/data_files/'\n",
    "\n",
    "# Read CSV files into DataFrames\n",
    "people_df = pd.read_csv(base_path + 'people.csv')\n",
    "#person_customer_df = pd.read_csv(base_path + 'person_customers.csv')\n",
    "person_educations_df = pd.read_csv(base_path + 'person_educations.csv')\n",
    "person_employments_df = pd.read_csv(base_path + 'person_employments.csv')\n",
    "#person_social_urls_df = pd.read_csv(base_path + 'person_social_urls.csv')\n",
    "company_sectors_df = pd.read_csv(base_path + 'company_sectors.csv')\n",
    "company_headcounts_df = pd.read_csv(base_path + 'company_headcounts.csv')\n",
    "company_annual_revenues_df = pd.read_csv(base_path + 'company_annual_revenues.csv')\n",
    "company_stock_tickers_df = pd.read_csv(base_path + 'company_stock_tickers.csv')\n",
    "#company_funding_rounds_df = pd.read_csv(base_path + 'company_funding_rounds.csv')\n"
   ]
  },
  {
   "cell_type": "code",
   "execution_count": 11,
   "id": "d3c2c88e-ef58-40f1-9eb3-b77bef943397",
   "metadata": {},
   "outputs": [],
   "source": [
    "people_spark_df=spark.createDataFrame(people_df)\n",
    "#person_customer_spark_df=spark.createDataFrame(person_customer_df)\n",
    "person_educations_spark_df=spark.createDataFrame(person_educations_df)\n",
    "person_employments_spark_df=spark.createDataFrame(person_employments_df)\n",
    "#person_social_urls_spark_df=spark.createDataFrame(person_social_urls_df)\n",
    "company_sectors_spark_df=spark.createDataFrame(company_sectors_df)\n",
    "company_headcounts_spark_df=spark.createDataFrame(company_headcounts_df)\n",
    "company_annual_revenues_spark_df=spark.createDataFrame(company_annual_revenues_df)\n",
    "company_stock_tickers_spark_df=spark.createDataFrame(company_stock_tickers_df)\n",
    "#company_funding_rounds_spark_df=spark.createDataFrame(company_funding_rounds_df)"
   ]
  },
  {
   "cell_type": "code",
   "execution_count": 10,
   "id": "3d564746-3e5d-4a9f-95be-cbddee58c9f2",
   "metadata": {},
   "outputs": [
    {
     "name": "stdout",
     "output_type": "stream",
     "text": [
      "+---------+---------------+---------------------------------------------------+--------------------------------------------------------------------------------------------------------------------------------------------------------------------------------+-------+----+------+-----------+-------+------------+---------------+-------------------------------------------------------------------------------------------------------------------------------------------------------------------------------------------------------------------------------------------------------------------------------------------------------------------------------------------------------------------------------------------------+-------------------------+----------------------------------+----------+--------+----------+-------------------------+----------------------+\n",
      "|id       |name           |linkedin_url                                       |photo_url                                                                                                                                                                       |address|city|region|postal_code|country|company_name|seniority_level|description                                                                                                                                                                                                                                                                                                                                                                                      |title                    |headline                          |started_on|ended_on|company_id|created_at               |updated_at            |\n",
      "+---------+---------------+---------------------------------------------------+--------------------------------------------------------------------------------------------------------------------------------------------------------------------------------+-------+----+------+-----------+-------+------------+---------------+-------------------------------------------------------------------------------------------------------------------------------------------------------------------------------------------------------------------------------------------------------------------------------------------------------------------------------------------------------------------------------------------------+-------------------------+----------------------------------+----------+--------+----------+-------------------------+----------------------+\n",
      "|693540132|Lika Razac-Ince|https://www.linkedin.com/in/lika-razac-ince-2044385|https://media-exp1.licdn.com/dms/image/C4E03AQHCo31R4NKzKQ/profile-displayphoto-shrink_200_200/0/1643714250607?e=2147483647&v=beta&t=C_VoMB64-_PmpaiY6zqtXaZewsWqpeg9l5-EE5PlEIY|NaN    |NaN |NaN   |NaN        |NaN    |NaN         |NaN            |Two sides of a coin... 7+ years experience of building and leading digital teams of producers, designers and developers. A strong team ethic and collaboration are at the core of how I lead and work within teams across projects.\\n\\nSecond side... Photographer capturing the candid subtleties in life. Documentary/reportage, behind the scenes, work life photography and that street life.|Professional Photographer|Content & Production Lead at Apple|2018-04-01|NaN     |NaN       |2023-12-11 06:18:08.13904|2023-10-26 15:57:22.35|\n",
      "+---------+---------------+---------------------------------------------------+--------------------------------------------------------------------------------------------------------------------------------------------------------------------------------+-------+----+------+-----------+-------+------------+---------------+-------------------------------------------------------------------------------------------------------------------------------------------------------------------------------------------------------------------------------------------------------------------------------------------------------------------------------------------------------------------------------------------------+-------------------------+----------------------------------+----------+--------+----------+-------------------------+----------------------+\n",
      "only showing top 1 row\n",
      "\n"
     ]
    }
   ],
   "source": [
    "people_spark_df.show(1,truncate=False)"
   ]
  },
  {
   "cell_type": "code",
   "execution_count": 7,
   "id": "abeacf36-07d8-456b-806b-369ea6368989",
   "metadata": {},
   "outputs": [
    {
     "name": "stdout",
     "output_type": "stream",
     "text": [
      "+---+---------+------------------------------------+--------------------------+--------------------------+\n",
      "|id |person_id|customer_id                         |created_at                |updated_at                |\n",
      "+---+---------+------------------------------------+--------------------------+--------------------------+\n",
      "|1  |693540132|14b76a2f-4545-4fb7-92e9-ecd3a5f49a4b|2023-12-18 11:12:06.004224|2023-12-18 11:12:06.004224|\n",
      "+---+---------+------------------------------------+--------------------------+--------------------------+\n",
      "only showing top 1 row\n",
      "\n"
     ]
    }
   ],
   "source": [
    "person_customer_spark_df.show(1,truncate=False)"
   ]
  },
  {
   "cell_type": "code",
   "execution_count": 12,
   "id": "668cf819-25a7-4f2b-b3e9-4861818f5ec7",
   "metadata": {},
   "outputs": [
    {
     "name": "stdout",
     "output_type": "stream",
     "text": [
      "+-----+---------+--------------+---------------------+-----------------------------+-------+----------+----------+--------------------------+----------+\n",
      "|id   |person_id|institution_id|institution_name     |degree                       |subject|started_on|ended_on  |created_at                |updated_at|\n",
      "+-----+---------+--------------+---------------------+-----------------------------+-------+----------+----------+--------------------------+----------+\n",
      "|12091|64876372 |NaN           |University Of Windsor|Bachelors;Bachelor Of Science|Geology|1980-01-01|1984-01-01|2023-12-11 06:18:37.445885|NaN       |\n",
      "+-----+---------+--------------+---------------------+-----------------------------+-------+----------+----------+--------------------------+----------+\n",
      "only showing top 1 row\n",
      "\n"
     ]
    }
   ],
   "source": [
    "person_educations_spark_df.show(1,truncate=False)"
   ]
  },
  {
   "cell_type": "code",
   "execution_count": 9,
   "id": "5e22ec85-6870-4a76-8289-0adb947eda4d",
   "metadata": {},
   "outputs": [
    {
     "name": "stdout",
     "output_type": "stream",
     "text": [
      "+-----+---------+----------+------------+---------------+-------------------------+----------+--------+----------+\n",
      "|id   |person_id|company_id|company_name|seniority_level|title                    |started_on|ended_on|Unnamed: 8|\n",
      "+-----+---------+----------+------------+---------------+-------------------------+----------+--------+----------+\n",
      "|78981|693540132|NaN       |NaN         |NaN            |Professional Photographer|01-04-2018|NaN     |NaN       |\n",
      "+-----+---------+----------+------------+---------------+-------------------------+----------+--------+----------+\n",
      "only showing top 1 row\n",
      "\n"
     ]
    }
   ],
   "source": [
    "person_employments_spark_df.show(1,truncate=False)"
   ]
  },
  {
   "cell_type": "code",
   "execution_count": 10,
   "id": "638f81d6-e277-49a1-b586-7793a9e4808a",
   "metadata": {},
   "outputs": [
    {
     "name": "stdout",
     "output_type": "stream",
     "text": [
      "+-----+---------+---------------------------------------------------+--------+-------------------------+----------+\n",
      "|id   |person_id|url                                                |url_type|created_at               |updated_at|\n",
      "+-----+---------+---------------------------------------------------+--------+-------------------------+----------+\n",
      "|12791|693540132|https://www.linkedin.com/in/lika-razac-ince-2044385|linkedin|2023-12-11 06:18:57.46109|NaN       |\n",
      "+-----+---------+---------------------------------------------------+--------+-------------------------+----------+\n",
      "only showing top 1 row\n",
      "\n"
     ]
    }
   ],
   "source": [
    "person_social_urls_spark_df.show(1,truncate=False)"
   ]
  },
  {
   "cell_type": "code",
   "execution_count": 11,
   "id": "31555501-61ba-44c8-98cf-85a033367b61",
   "metadata": {},
   "outputs": [
    {
     "name": "stdout",
     "output_type": "stream",
     "text": [
      "+----------+--------+----------+----------+\n",
      "|company_id|sector  |Unnamed: 2|Unnamed: 3|\n",
      "+----------+--------+----------+----------+\n",
      "|1660      |Hardware|NaN       |NaN       |\n",
      "+----------+--------+----------+----------+\n",
      "only showing top 1 row\n",
      "\n"
     ]
    }
   ],
   "source": [
    "company_sectors_spark_df.show(1,truncate=False)"
   ]
  },
  {
   "cell_type": "code",
   "execution_count": 12,
   "id": "f453b8f2-fb20-44da-89e3-edb43b0a7bad",
   "metadata": {},
   "outputs": [
    {
     "name": "stdout",
     "output_type": "stream",
     "text": [
      "+----------+---------+----------+----------+----------+\n",
      "|company_id|headcount|date      |Unnamed: 3|Unnamed: 4|\n",
      "+----------+---------+----------+----------+----------+\n",
      "|1660      |224704   |07-06-2023|NaN       |NaN       |\n",
      "+----------+---------+----------+----------+----------+\n",
      "only showing top 1 row\n",
      "\n"
     ]
    }
   ],
   "source": [
    "company_headcounts_spark_df.show(1,truncate=False)"
   ]
  },
  {
   "cell_type": "code",
   "execution_count": 13,
   "id": "64deb1fd-f41d-414f-84b6-11e5830680e7",
   "metadata": {},
   "outputs": [
    {
     "name": "stdout",
     "output_type": "stream",
     "text": [
      "+----------+----------+----------+----------+----------+\n",
      "|company_id|amount_usd|date      |Unnamed: 3|Unnamed: 4|\n",
      "+----------+----------+----------+----------+----------+\n",
      "|1660      |7.983E9   |01-01-2000|NaN       |NaN       |\n",
      "+----------+----------+----------+----------+----------+\n",
      "only showing top 1 row\n",
      "\n"
     ]
    }
   ],
   "source": [
    "company_annual_revenues_spark_df.show(1,truncate=False)"
   ]
  },
  {
   "cell_type": "code",
   "execution_count": 14,
   "id": "98d1c565-838f-49b4-aadd-f3d6aa0da1ec",
   "metadata": {},
   "outputs": [
    {
     "name": "stdout",
     "output_type": "stream",
     "text": [
      "+-----+----------+------------+--------------------------+----------+\n",
      "|id   |company_id|stock_ticker|created_at                |updated_at|\n",
      "+-----+----------+------------+--------------------------+----------+\n",
      "|56464|1660      |AAPL        |2023-12-29 05:22:34.410075|NaN       |\n",
      "+-----+----------+------------+--------------------------+----------+\n",
      "only showing top 1 row\n",
      "\n"
     ]
    }
   ],
   "source": [
    "company_stock_tickers_spark_df.show(1,truncate=False)"
   ]
  },
  {
   "cell_type": "code",
   "execution_count": 15,
   "id": "756e7cf3-d73c-402b-b700-91e5636aca1c",
   "metadata": {},
   "outputs": [
    {
     "name": "stdout",
     "output_type": "stream",
     "text": [
      "+------+----------+----------+--------+--------+----------+--------------------------+----------+------------------+-------------------+\n",
      "|id    |company_id|amount_usd|name    |investor|date      |created_at                |updated_at|investor_person_id|investor_company_id|\n",
      "+------+----------+----------+--------+--------+----------+--------------------------+----------+------------------+-------------------+\n",
      "|388060|1         |2.5E7     |Series C|Accel   |2008-05-19|2023-11-28 09:25:43.506321|NaN       |NaN               |7.0                |\n",
      "+------+----------+----------+--------+--------+----------+--------------------------+----------+------------------+-------------------+\n",
      "only showing top 1 row\n",
      "\n"
     ]
    }
   ],
   "source": [
    "company_funding_rounds_spark_df.show(1,truncate=False)"
   ]
  },
  {
   "cell_type": "code",
   "execution_count": 16,
   "id": "66a67c23-0eeb-46e5-b3b1-345a9939ea50",
   "metadata": {},
   "outputs": [],
   "source": [
    "people_df = people_spark_df\n",
    "person_customer_df = person_customer_spark_df\n",
    "person_educations_df = person_educations_spark_df\n",
    "person_employments_df = person_employments_spark_df\n",
    "person_social_urls_df = person_social_urls_spark_df\n",
    "company_sectors_df = company_sectors_spark_df\n",
    "company_headcounts_df = company_headcounts_spark_df\n",
    "company_annual_revenues_df = company_annual_revenues_spark_df\n",
    "company_stock_tickers_df = company_stock_tickers_spark_df\n",
    "company_funding_rounds_df = company_funding_rounds_spark_df"
   ]
  },
  {
   "cell_type": "code",
   "execution_count": 17,
   "id": "71e030d6-7605-4eda-b409-822dbd0c48f6",
   "metadata": {},
   "outputs": [
    {
     "name": "stdout",
     "output_type": "stream",
     "text": [
      "root\n",
      " |-- id: long (nullable = true)\n",
      " |-- person_id: long (nullable = true)\n",
      " |-- customer_id: string (nullable = true)\n",
      " |-- created_at: string (nullable = true)\n",
      " |-- updated_at: string (nullable = true)\n",
      "\n"
     ]
    }
   ],
   "source": [
    "person_customer_df.printSchema()"
   ]
  },
  {
   "cell_type": "markdown",
   "id": "750fde0b-5424-4752-9ceb-7875a2e77b46",
   "metadata": {},
   "source": [
    "***Function to check the uniqueness of data***"
   ]
  },
  {
   "cell_type": "code",
   "execution_count": 18,
   "id": "e719f331-08a1-4536-9e62-37c4262f6e25",
   "metadata": {},
   "outputs": [],
   "source": [
    "def check_uniqueness(df, column_name):\n",
    "    # Add a new column 'is_duplicate' that flags if column_name is duplicated\n",
    "    df_duplicates_check = df.withColumn('is_duplicate', count(column_name).over(Window.partitionBy(column_name)) > 1)\n",
    "\n",
    "    # If any 'is_duplicate' is True, then DataFrame is not unique based on column_name\n",
    "    if df_duplicates_check.filter(col('is_duplicate')).count() > 0:\n",
    "        print(f\"DataFrame is not unique based on {column_name}\")\n",
    "    else:\n",
    "        print(f\"DataFrame is unique based on {column_name}\")"
   ]
  },
  {
   "cell_type": "code",
   "execution_count": 19,
   "id": "059db9fc-15fa-4238-9236-09932e7d33ff",
   "metadata": {},
   "outputs": [
    {
     "name": "stdout",
     "output_type": "stream",
     "text": [
      "DataFrame is unique based on id\n"
     ]
    }
   ],
   "source": [
    "check_uniqueness(people_df, 'id')"
   ]
  },
  {
   "cell_type": "markdown",
   "id": "9bb9ccf7-a28d-400d-9f23-8634509a22cf",
   "metadata": {},
   "source": [
    "***Function to check the counts of data***"
   ]
  },
  {
   "cell_type": "code",
   "execution_count": 20,
   "id": "e2524bc9-4b3e-4451-98f3-dbb4352b5ed9",
   "metadata": {},
   "outputs": [],
   "source": [
    "def count_records(df):\n",
    "    \"\"\"\n",
    "    This function counts the number of records in a DataFrame.\n",
    "\n",
    "    Parameters:\n",
    "    df (DataFrame): The DataFrame for which to count the records.\n",
    "\n",
    "    Returns:\n",
    "    int: The number of records in the DataFrame.\n",
    "    \"\"\"\n",
    "    # Use the count() function to count the number of rows in the DataFrame\n",
    "    num_records = df.count()\n",
    "\n",
    "    # Return the number of records\n",
    "    return num_records"
   ]
  },
  {
   "cell_type": "markdown",
   "id": "53db3aec-833d-4723-8747-76f73cf30c4e",
   "metadata": {},
   "source": [
    "***People Table Transformation***"
   ]
  },
  {
   "cell_type": "code",
   "execution_count": 21,
   "id": "479eba0a-5299-4a14-bbe9-3134e80c4065",
   "metadata": {},
   "outputs": [
    {
     "name": "stdout",
     "output_type": "stream",
     "text": [
      "+----------+-------------------+\n",
      "| person_id|               name|\n",
      "+----------+-------------------+\n",
      "| 693540132|    Lika Razac-Ince|\n",
      "| 118418234|     Kenny Sheridan|\n",
      "|  64876372|        David Coyle|\n",
      "|  67121188|     Gurpreet Singh|\n",
      "|  57288072|  Anthony Salvaggio|\n",
      "| 747062710|      Michael Huang|\n",
      "| 741629676|  Iason Bakogiannis|\n",
      "| 745971556|      thomas gurney|\n",
      "| 993308913|Francesco Squatrito|\n",
      "| 993985187|      Eddie McGrory|\n",
      "| 994637657|          Annie Cai|\n",
      "|1017713620|      Sarina Studer|\n",
      "| 837503042|         Clara Têtu|\n",
      "| 778561577|        Adam Smythe|\n",
      "| 789056453|  Federico Maggiani|\n",
      "| 787025923|        Lynda Zhang|\n",
      "| 856482513|        Karl Dubost|\n",
      "| 949256266|        Vivian Weng|\n",
      "| 122883279|          Matt Aldo|\n",
      "| 124612718|      Brinda Pullen|\n",
      "+----------+-------------------+\n",
      "only showing top 20 rows\n",
      "\n"
     ]
    }
   ],
   "source": [
    "# Select specific columns from the 'people_df' DataFrame, rename the 'id' column to 'person_id',\n",
    "# and concatenate 'address', 'city', 'region', 'postal_code', 'country' columns with a comma separator\n",
    "people_selected_df = people_df.select('id', 'name')\\\n",
    "                              .withColumnRenamed('id', 'person_id')\n",
    "                              # .withColumn('address', concat_ws(', ', 'address', 'city', 'region', 'postal_code', 'country'))\n",
    "\n",
    "people_selected_df = people_selected_df.select('person_id', 'name')\n",
    "\n",
    "people_selected_df.show()"
   ]
  },
  {
   "cell_type": "code",
   "execution_count": 22,
   "id": "88088378-29fc-4cd8-a8f9-d02ead00f99f",
   "metadata": {},
   "outputs": [
    {
     "data": {
      "text/plain": [
       "999"
      ]
     },
     "execution_count": 22,
     "metadata": {},
     "output_type": "execute_result"
    }
   ],
   "source": [
    "\n",
    "count_records(people_selected_df)"
   ]
  },
  {
   "cell_type": "markdown",
   "id": "c650558e-331c-4e08-9def-5917d4ca9db6",
   "metadata": {},
   "source": [
    "***Transformation for the \"person_customer\" table***"
   ]
  },
  {
   "cell_type": "code",
   "execution_count": 23,
   "id": "9ee0a65a-02ad-4b34-8004-8d3356d1b743",
   "metadata": {},
   "outputs": [
    {
     "data": {
      "text/plain": [
       "166"
      ]
     },
     "execution_count": 23,
     "metadata": {},
     "output_type": "execute_result"
    }
   ],
   "source": [
    "count_records(person_customer_df)\n",
    "\n",
    "# person_customer_df.show()"
   ]
  },
  {
   "cell_type": "code",
   "execution_count": 24,
   "id": "d5f7ff36-9115-453c-b965-1a548dac5c91",
   "metadata": {},
   "outputs": [
    {
     "name": "stdout",
     "output_type": "stream",
     "text": [
      "DataFrame is not unique based on person_id\n"
     ]
    }
   ],
   "source": [
    "check_uniqueness(person_customer_df,'person_id')"
   ]
  },
  {
   "cell_type": "code",
   "execution_count": 25,
   "id": "ef4f693d-867e-4a38-ab6d-8f5244775544",
   "metadata": {},
   "outputs": [
    {
     "name": "stdout",
     "output_type": "stream",
     "text": [
      "+---------+-----+\n",
      "|person_id|count|\n",
      "+---------+-----+\n",
      "|693540132|    2|\n",
      "+---------+-----+\n",
      "\n"
     ]
    },
    {
     "data": {
      "text/plain": [
       "1"
      ]
     },
     "execution_count": 25,
     "metadata": {},
     "output_type": "execute_result"
    }
   ],
   "source": [
    "# Group by 'person_id' and count the number of occurrences of each 'person_id'\n",
    "duplicate_rows = person_customer_df.groupBy('person_id').agg(count('*').alias('count'))\n",
    "\n",
    "# Filter the rows where 'count' is greater than 1 (i.e., 'person_id' is duplicated)\n",
    "duplicate_rows = duplicate_rows.filter(duplicate_rows['count'] > 1)\n",
    "\n",
    "# Show the duplicate rows\n",
    "duplicate_rows.show()\n",
    "count_records(duplicate_rows)"
   ]
  },
  {
   "cell_type": "code",
   "execution_count": 26,
   "id": "97da1363-615e-4ead-9477-73a30e07e8ae",
   "metadata": {},
   "outputs": [
    {
     "data": {
      "text/plain": [
       "165"
      ]
     },
     "execution_count": 26,
     "metadata": {},
     "output_type": "execute_result"
    }
   ],
   "source": [
    "# Define a window partitioned by person_id and ordered by updated_at in descending order\n",
    "window = Window.partitionBy(\"person_id\").orderBy(desc(\"updated_at\"))\n",
    "\n",
    "# Add a row_number column to the DataFrame\n",
    "person_customer_df = person_customer_df.withColumn(\"rn\", row_number().over(window))\n",
    "\n",
    "# Filter the DataFrame to keep only the rows with rn = 1 (i.e., the latest updated_at for each person_id)\n",
    "person_customer_df = person_customer_df.filter(person_customer_df.rn == 1)\n",
    "\n",
    "# Drop the rn column\n",
    "person_customer_df = person_customer_df.drop(\"rn\")\n",
    "\n",
    "count_records(person_customer_df)"
   ]
  },
  {
   "cell_type": "code",
   "execution_count": 27,
   "id": "2b8a915a-a978-4689-9725-fd494a565158",
   "metadata": {},
   "outputs": [
    {
     "name": "stdout",
     "output_type": "stream",
     "text": [
      "DataFrame is unique based on person_id\n"
     ]
    }
   ],
   "source": [
    "# Call the 'check_uniqueness' function on 'person_customer_df' DataFrame to check if 'person_id' is unique\n",
    "check_uniqueness(person_customer_df,'person_id')"
   ]
  },
  {
   "cell_type": "code",
   "execution_count": 28,
   "id": "cda6b7c7-308a-4dd8-bb8f-b9e30e446c24",
   "metadata": {},
   "outputs": [],
   "source": [
    "# Select 'person_id' and 'customer_id' columns from 'person_customer_df' DataFrame\n",
    "people_selected_customer_df = person_customer_df.select('person_id', 'customer_id')\n",
    "\n",
    "# Join 'people_selected_df' with 'people_selected_customer_df' on 'person_id'\n",
    "people_person_customer_df = people_selected_df.join(people_selected_customer_df, on='person_id', how='left')\n",
    "\n",
    "# people_person_customer_df.show()"
   ]
  },
  {
   "cell_type": "code",
   "execution_count": 29,
   "id": "428510a0-daba-4554-b0f1-b20938993e58",
   "metadata": {},
   "outputs": [
    {
     "data": {
      "text/plain": [
       "999"
      ]
     },
     "execution_count": 29,
     "metadata": {},
     "output_type": "execute_result"
    }
   ],
   "source": [
    "count_records(people_person_customer_df)"
   ]
  },
  {
   "cell_type": "markdown",
   "id": "2c114459-adda-48e0-bf87-4e8268bec1ab",
   "metadata": {},
   "source": [
    "***Transformation for \"Person Education\" table***"
   ]
  },
  {
   "cell_type": "code",
   "execution_count": 30,
   "id": "926e31c7-fa6a-42a2-abb3-dc904b478f95",
   "metadata": {},
   "outputs": [
    {
     "name": "stdout",
     "output_type": "stream",
     "text": [
      "+-----+---------+--------------------+--------------------+--------------------+----------+----------+----------+\n",
      "|   id|person_id|    institution_name|              degree|             subject|started_on|  ended_on|Unnamed: 7|\n",
      "+-----+---------+--------------------+--------------------+--------------------+----------+----------+----------+\n",
      "|12091| 64876372|University Of Win...|Bachelors;Bachelo...|             Geology|01-01-1980|01-01-1984|       NaN|\n",
      "|12092| 64876372|University Of Win...|Master Of Science...|             Geology|01-01-1984|01-01-1986|       NaN|\n",
      "|12093| 64876372| La Trobe University|Doctorates;Doctor...|       Earth Science|01-01-1988|01-01-1992|       NaN|\n",
      "|12094| 67121188|Keller Graduate S...|                 NaN|  Project Management|01-01-2013|01-01-2015|       NaN|\n",
      "|12095| 67121188|Sam Houston State...|Master Of Busines...|          Management|01-01-2010|01-01-2012|       NaN|\n",
      "|12096| 67121188|University School...|Bachelors;Bachelo...|                 NaN|       NaN|01-01-2009|       NaN|\n",
      "|12097| 57288072|Monroe Community ...|                 NaN|Business Administ...|       NaN|       NaN|       NaN|\n",
      "|12098|949256266|University of Cal...|                 NaN|        MBA, Finance|01-01-2007|01-01-2009|       NaN|\n",
      "|12099|949256266|National Taiwan U...|                 NaN|BA, International...|01-01-1998|01-01-2002|       NaN|\n",
      "|12100|949256266|     Yale University|                 NaN|MA, International...|01-01-2002|01-01-2003|       NaN|\n",
      "|12101| 52762066|University Of Ten...|Masters;Master Of...|                 NaN|01-01-2012|01-01-2015|       NaN|\n",
      "|12102| 52762066|    Lamar University|Doctorates;Doctor...|Leadership;Education|01-01-2016|01-01-2019|       NaN|\n",
      "|12103| 52762066|   Maryville College|Bachelors;Bachelo...|Education;Politic...|01-01-2004|01-01-2008|       NaN|\n",
      "|12104| 52762066|Berean Christian ...|                 NaN|                 NaN|       NaN|       NaN|       NaN|\n",
      "|12105|103025237|                 NaN|                 NaN|          Leadership|       NaN|01-01-2011|       NaN|\n",
      "|12106|103025237|Mount Vernon High...|                 NaN|                 NaN|01-01-1984|01-01-1987|       NaN|\n",
      "|12107|103025237|                 NaN|                 NaN|          Leadership|01-01-2011|       NaN|       NaN|\n",
      "|12108|103025237|Amercian Travel S...|                 NaN|Travel Services M...|01-01-1987|01-01-1989|       NaN|\n",
      "|12109| 89139296|Moorpark College ...|          Associates|         Engineering|       NaN|       NaN|       NaN|\n",
      "|12110| 89139296|University Of Cal...|Bachelors;Bachelo...|            Politics|       NaN|       NaN|       NaN|\n",
      "+-----+---------+--------------------+--------------------+--------------------+----------+----------+----------+\n",
      "only showing top 20 rows\n",
      "\n"
     ]
    }
   ],
   "source": [
    "count_records(person_educations_df)\n",
    "person_educations_df.show()"
   ]
  },
  {
   "cell_type": "code",
   "execution_count": 31,
   "id": "51e1235f-9536-4b95-a779-5e943ef1224f",
   "metadata": {},
   "outputs": [
    {
     "name": "stdout",
     "output_type": "stream",
     "text": [
      "+-----+---------+--------------------+--------------------+-------+----------+----------+----------+\n",
      "|   id|person_id|    institution_name|              degree|subject|started_on|  ended_on|Unnamed: 7|\n",
      "+-----+---------+--------------------+--------------------+-------+----------+----------+----------+\n",
      "|12091| 64876372|University Of Win...|Bachelors;Bachelo...|Geology|01-01-1980|01-01-1984|       NaN|\n",
      "+-----+---------+--------------------+--------------------+-------+----------+----------+----------+\n",
      "only showing top 1 row\n",
      "\n"
     ]
    }
   ],
   "source": [
    "person_educations_df.show(1)"
   ]
  },
  {
   "cell_type": "code",
   "execution_count": 32,
   "id": "dedd7d4b-7ebd-42e6-946e-823a410c24a7",
   "metadata": {},
   "outputs": [
    {
     "name": "stdout",
     "output_type": "stream",
     "text": [
      "+---------+---------------------------------------------------------------------------------------------------------------------------------------------------------------------------------------------------------------------------------------------------------------------------------+\n",
      "|person_id|education                                                                                                                                                                                                                                                                        |\n",
      "+---------+---------------------------------------------------------------------------------------------------------------------------------------------------------------------------------------------------------------------------------------------------------------------------------+\n",
      "|101255   |[{University of Utah, BS, CS, NaN, 01-01-1982}]                                                                                                                                                                                                                                  |\n",
      "|124469   |[{Politehnica University of Bucharest, Master's degree, Computer Science, 01-01-2004, 01-01-2009}, {University Of Montpellier, PhD, Artificial Intelligence, 01-01-2009, 01-01-2012}]                                                                                            |\n",
      "|149312   |[{State University of New York at Buffalo, MFA, Media Arts Production, 01-01-2002, 01-01-2006}, {University of Idaho, MA, English, Literature, 01-01-1999, 01-01-2001}, {University of Idaho, BA, English, Creative Writing, 01-01-1994, 01-01-1999}]                            |\n",
      "|225814   |[{University of Pennsylvania, Graduate, unknown, NaN, NaN}, {Columbia University, Master's, Journalism, NaN, NaN}]                                                                                                                                                               |\n",
      "|227168   |[{University of Ferrara, unknown, unknown, NaN, NaN}]                                                                                                                                                                                                                            |\n",
      "|321427   |[{University of Oxford, Master of Arts, Modern History, NaN, NaN}]                                                                                                                                                                                                               |\n",
      "|368727   |[{Stanford University, BS, NaN, NaN, NaN}, {Stanford University, PhD, NaN, NaN, NaN}, {Stanford Universtiy, MS, NaN, NaN, NaN}]                                                                                                                                                  |\n",
      "|574392   |[{Indian Institute of Technology, Delhi, Bachelor of Technology (B.Tech.), NaN, NaN, NaN}, {Dartmouth College - The Tuck School of Business at Dartmouth, Business Bridge Program, NaN, NaN, NaN}, {INSEAD, Master of Business Administration (M.B.A.), NaN, NaN, NaN}]          |\n",
      "|586843   |[{Università degli Studi di Milano, Informatics and Digital Communications, NaN, NaN, NaN}, {Liceo Classico Sarpi, NaN, NaN, NaN, NaN}]                                                                                                                                          |\n",
      "|625782   |[{Columbia University Graduate School of Journalism, MS, Broadcast, NaN, NaN}]                                                                                                                                                                                                   |\n",
      "|701116   |[{Harvard University, A.B., Government, 01-01-2006, 01-01-2010}]                                                                                                                                                                                                                 |\n",
      "|734368   |[{Complutense University of Madrid, Spanish Language Studies, Cultural Experiences Abroad, 01-01-2001, 01-01-2001}, {California Polytechnic State University, B.S., Business Administration, Management, 01-01-1998, 01-01-2002}]                                                |\n",
      "|757514   |[{Wilfrid Laurier University, Bachelor of Business Administration (BBA), Fine and Studio Arts, 01-01-2001, 01-01-2005}]                                                                                                                                                          |\n",
      "|773874   |[{University of Florida, Bachelor, Chemical Engineering, Business Administration, NaN, NaN}]                                                                                                                                                                                     |\n",
      "|793119   |[{Birmingham Business School (University of Birmingham), NaN, NaN, NaN, NaN}, {St. Xavier's College, Bachelor, Mass Media (Advertising), 01-01-2003, 01-01-2006}, {Goa University, HSSC, Arts, 01-01-2001, 01-01-2003}, {Our Lady of the Rosary High School, NaN, NaN, NaN, NaN}]|\n",
      "|820951   |[{Academy of Advertisment, Salzburg, NaN, NaN, NaN, NaN}, {Federal higher technical institute, Klagenfurt, NaN, NaN, NaN, NaN}, {University of Applied Sciences Upper Austria, Bachelor of Science (B.Sc.), Media Technology and Design, 01-01-2007, 01-01-2010}]                |\n",
      "|956804   |[{Ecole normale supérieure, Mathematics and Computer Science, NaN, NaN, NaN}, {Paris-Sud University (Paris XI), PhD, Machine Learning, 01-01-1986, 01-01-1990}]                                                                                                                  |\n",
      "|1012871  |[{University of Utah, BS, Psychology, 01-01-2004, 01-01-2006}]                                                                                                                                                                                                                   |\n",
      "|1072261  |[{University of Washington, NaN, NaN, NaN, NaN}]                                                                                                                                                                                                                                 |\n",
      "|1087136  |[{University of Illinois at Urbana-Champaign, Advertising, NaN, NaN, NaN}, {City University, Marketing concentration, London, England, 01-01-2002, 01-01-2002}]                                                                                                                  |\n",
      "+---------+---------------------------------------------------------------------------------------------------------------------------------------------------------------------------------------------------------------------------------------------------------------------------------+\n",
      "only showing top 20 rows\n",
      "\n"
     ]
    }
   ],
   "source": [
    "# Define a struct for each institute\n",
    "institute_struct = F.struct(\n",
    "    \"institution_name\", \"degree\", \"subject\", \"started_on\", \"ended_on\"\n",
    ")\n",
    "\n",
    "# Group by person_id and collect list of institute details as structs\n",
    "grouped_educations_df = person_educations_df.groupBy(\"person_id\").agg(\n",
    "    F.collect_list(institute_struct).alias(\"education\")\n",
    "    # (\"education - (institution_id, institution_name, degree, subject, started_on, ended_on)\")\n",
    ")\n",
    "\n",
    "person_education_group_df = grouped_educations_df\n",
    "\n",
    "\n",
    "\n",
    "# Show the result\n",
    "person_education_group_df.show(truncate=False)\n"
   ]
  },
  {
   "cell_type": "code",
   "execution_count": 33,
   "id": "5c0432f2-725e-4f54-9d44-0f992d0f82ae",
   "metadata": {},
   "outputs": [
    {
     "name": "stdout",
     "output_type": "stream",
     "text": [
      "DataFrame is unique based on person_id\n"
     ]
    }
   ],
   "source": [
    "check_uniqueness(person_education_group_df, 'person_id')"
   ]
  },
  {
   "cell_type": "code",
   "execution_count": 34,
   "id": "b31eeca2-3354-43e6-9de0-b9016a59250d",
   "metadata": {},
   "outputs": [
    {
     "data": {
      "text/plain": [
       "500"
      ]
     },
     "execution_count": 34,
     "metadata": {},
     "output_type": "execute_result"
    }
   ],
   "source": [
    "count_records(person_education_group_df)"
   ]
  },
  {
   "cell_type": "code",
   "execution_count": 35,
   "id": "42422350-17a5-4b0f-b9eb-00ee395a9521",
   "metadata": {},
   "outputs": [
    {
     "name": "stdout",
     "output_type": "stream",
     "text": [
      "+---------+-----------------+--------------------+--------------------+\n",
      "|person_id|             name|         customer_id|           education|\n",
      "+---------+-----------------+--------------------+--------------------+\n",
      "| 57288072|Anthony Salvaggio|7538cb11-1c23-4c7...|[{Monroe Communit...|\n",
      "|693540132|  Lika Razac-Ince|7538cb11-1c23-4c7...|                NULL|\n",
      "|118418234|   Kenny Sheridan|7538cb11-1c23-4c7...|                NULL|\n",
      "| 64876372|      David Coyle|7538cb11-1c23-4c7...|[{University Of W...|\n",
      "|747062710|    Michael Huang|7538cb11-1c23-4c7...|                NULL|\n",
      "+---------+-----------------+--------------------+--------------------+\n",
      "only showing top 5 rows\n",
      "\n"
     ]
    }
   ],
   "source": [
    "# Joining person_education_group_df and people_person_customer_df DataFrames on column named 'person_id'\n",
    "\n",
    "people_person_customer_education_df = people_person_customer_df.join(person_education_group_df, on='person_id', how='left') \n",
    "\n",
    "# people_person_customer_education_df.show()\n",
    "\n",
    "count_records(people_person_customer_education_df)\n",
    "people_person_customer_education_df.show(5)"
   ]
  },
  {
   "cell_type": "markdown",
   "id": "1ca29629-9cd1-4789-b0c0-36c03b109897",
   "metadata": {},
   "source": [
    "***Transformation for Company related information***"
   ]
  },
  {
   "cell_type": "code",
   "execution_count": 36,
   "id": "59bc3081-b565-4248-b6a2-90cc38ec96e1",
   "metadata": {},
   "outputs": [
    {
     "data": {
      "text/plain": [
       "5711"
      ]
     },
     "execution_count": 36,
     "metadata": {},
     "output_type": "execute_result"
    }
   ],
   "source": [
    "count_records(company_sectors_df)"
   ]
  },
  {
   "cell_type": "code",
   "execution_count": 37,
   "id": "5a6ef62f-d02b-4c40-87b5-af0186a0cc11",
   "metadata": {},
   "outputs": [
    {
     "data": {
      "text/plain": [
       "1000"
      ]
     },
     "execution_count": 37,
     "metadata": {},
     "output_type": "execute_result"
    }
   ],
   "source": [
    "# Group the DataFrame 'company_sectors_df' by 'company_id'\n",
    "grouped_company_sectors_df = company_sectors_df.groupBy('company_id').agg(\n",
    "    F.collect_list('sector').alias('sectors')\n",
    ")\n",
    "\n",
    "# Check the DataFrame 'grouped_company_sectors_df'\n",
    "# grouped_company_sectors_df.show()\n",
    "\n",
    "count_records(grouped_company_sectors_df)"
   ]
  },
  {
   "cell_type": "code",
   "execution_count": 38,
   "id": "4eede61a-46e6-4ac7-9000-af2624cf63f0",
   "metadata": {},
   "outputs": [
    {
     "data": {
      "text/plain": [
       "18532"
      ]
     },
     "execution_count": 38,
     "metadata": {},
     "output_type": "execute_result"
    }
   ],
   "source": [
    "count_records(company_annual_revenues_df)\n"
   ]
  },
  {
   "cell_type": "code",
   "execution_count": 39,
   "id": "520f41d4-1efe-4db0-8ccc-f3a157759c74",
   "metadata": {},
   "outputs": [
    {
     "data": {
      "text/plain": [
       "999"
      ]
     },
     "execution_count": 39,
     "metadata": {},
     "output_type": "execute_result"
    }
   ],
   "source": [
    "# Define a window partitioned by 'company_id' and ordered by 'date' in descending order\n",
    "window = Window.partitionBy('company_id').orderBy(F.desc('date'))\n",
    "\n",
    "# Add a new column 'rank' to the DataFrame 'company_annual_revenues_df'\n",
    "# The 'rank' is calculated over the defined window\n",
    "grouped_company_annual_revenues_df = company_annual_revenues_df.withColumn('rank', F.rank().over(window))\n",
    "\n",
    "# Filter the DataFrame to keep only the rows where 'rank' is 1\n",
    "# This gives us the latest annual revenue for each company\n",
    "# Select only the 'company_id' and 'amount_usd' columns for the final DataFrame\n",
    "latest_company_annual_revenues_df = grouped_company_annual_revenues_df.filter(F.col('rank') == 1).select('company_id', 'amount_usd')\n",
    "\n",
    "# Check the DataFrame 'latest_company_annual_revenues_df'\n",
    "# latest_company_annual_revenues_df.show()\n",
    "\n",
    "count_records(latest_company_annual_revenues_df)"
   ]
  },
  {
   "cell_type": "code",
   "execution_count": 40,
   "id": "d5ad91db-5222-4874-a84b-1cb588bd4532",
   "metadata": {},
   "outputs": [
    {
     "data": {
      "text/plain": [
       "1000"
      ]
     },
     "execution_count": 40,
     "metadata": {},
     "output_type": "execute_result"
    }
   ],
   "source": [
    "count_records(company_headcounts_df)\n"
   ]
  },
  {
   "cell_type": "code",
   "execution_count": 41,
   "id": "f0474afb-eaff-4c28-8bfa-95d140452fda",
   "metadata": {},
   "outputs": [
    {
     "data": {
      "text/plain": [
       "847"
      ]
     },
     "execution_count": 41,
     "metadata": {},
     "output_type": "execute_result"
    }
   ],
   "source": [
    "# Define a window partitioned by 'headcount' and ordered by 'date' in descending order\n",
    "window = Window.partitionBy('headcount').orderBy(F.desc('date'))\n",
    "\n",
    "# Add a new column 'rank' to the DataFrame 'company_headcounts_df'\n",
    "# The 'rank' is calculated over the defined window\n",
    "grouped_company_headcounts_df = company_headcounts_df.withColumn('rank', F.rank().over(window))\n",
    "\n",
    "# Filter the DataFrame to keep only the rows where 'rank' is 1\n",
    "# This gives us the latest headcount for each company\n",
    "# Select only the 'company_id' and 'headcount' columns for the final DataFrame\n",
    "latest_company_headcounts_df = grouped_company_headcounts_df.filter(F.col('rank') == 1).select('company_id', 'headcount')\n",
    "\n",
    "# Check the DataFrame 'latest_company_headcounts_df'\n",
    "# latest_company_headcounts_df.show()\n",
    "\n",
    "count_records(latest_company_headcounts_df)"
   ]
  },
  {
   "cell_type": "code",
   "execution_count": 42,
   "id": "addd4e10-2e64-46c5-a244-48efcb484417",
   "metadata": {},
   "outputs": [
    {
     "name": "stdout",
     "output_type": "stream",
     "text": [
      "+----------+------------+\n",
      "|company_id|stock_ticker|\n",
      "+----------+------------+\n",
      "|      1660|        AAPL|\n",
      "|      1694|        TSLA|\n",
      "|        13|        TWTR|\n",
      "|    203437|        AMZN|\n",
      "|     22598|         WMT|\n",
      "|      4053|        SPOT|\n",
      "|      2289|        NFLX|\n",
      "|    110721|        BRKB|\n",
      "|      4360|        NVDA|\n",
      "|    113128|        ABBV|\n",
      "|      1370|         DBK|\n",
      "|     95762|        COIN|\n",
      "|    206880|        SNAP|\n",
      "|      3868|        TMUS|\n",
      "|      3644|       CMCSA|\n",
      "|     26072|         MDT|\n",
      "|    325547|         NIO|\n",
      "|     86996|          ZM|\n",
      "|     40637|        UBER|\n",
      "|     13298|          MA|\n",
      "+----------+------------+\n",
      "only showing top 20 rows\n",
      "\n"
     ]
    }
   ],
   "source": [
    "# Select the 'company_id' and 'stock_ticker' columns from the DataFrame 'company_stock_tickers_df'\n",
    "selected_company_stock_tickers_df = company_stock_tickers_df.select('company_id','stock_ticker')\n",
    "count_records(selected_company_stock_tickers_df)\n",
    "selected_company_stock_tickers_df.show()"
   ]
  },
  {
   "cell_type": "code",
   "execution_count": 43,
   "id": "b40dc8be-7a25-45bf-9ff7-dd8cf68c2e45",
   "metadata": {},
   "outputs": [
    {
     "data": {
      "text/plain": [
       "DataFrame[company_id: bigint, name: string, investor_company_id: double, investor: string]"
      ]
     },
     "execution_count": 43,
     "metadata": {},
     "output_type": "execute_result"
    }
   ],
   "source": [
    "# Define a Window specification: partition by 'company_id' and order by 'company_id', 'date' (in descending order), and 'updated_at' (in descending order)\n",
    "windowSpec = Window.partitionBy(company_funding_rounds_df['company_id']).orderBy(company_funding_rounds_df['company_id'], company_funding_rounds_df['date'].desc(), company_funding_rounds_df['updated_at'].desc())\n",
    "\n",
    "# Add a new column 'rn' to the DataFrame 'company_funding_rounds_df' which contains row numbers within each window partition\n",
    "grouped_company_funding_rounds_df = company_funding_rounds_df.withColumn(\"rn\", row_number().over(windowSpec))\n",
    "\n",
    "# Filter the DataFrame to keep only the rows with 'rn' equal to 1 (i.e., the most recent funding round for each company), then drop the 'rn' column\n",
    "filtered_company_funding_rounds_df = grouped_company_funding_rounds_df.filter(col(\"rn\") == 1).drop(\"rn\")\n",
    "\n",
    "# Select the columns 'company_id', 'name', 'investor_company_id', and 'investor' from the filtered DataFrame\n",
    "filtered_company_funding_rounds_df.select('company_id','name', 'investor_company_id','investor')"
   ]
  },
  {
   "cell_type": "markdown",
   "id": "1e9689c3-ac63-46a4-9374-ef738e622bcd",
   "metadata": {},
   "source": [
    "***Joined the company information related transformed dataframes***"
   ]
  },
  {
   "cell_type": "code",
   "execution_count": 44,
   "id": "867d734b-ed04-4483-8b24-9f39e5586650",
   "metadata": {},
   "outputs": [
    {
     "data": {
      "text/plain": [
       "1000"
      ]
     },
     "execution_count": 44,
     "metadata": {},
     "output_type": "execute_result"
    }
   ],
   "source": [
    "\n",
    "# Join the DataFrame 'grouped_company_sectors_df' with 'latest_company_annual_revenues_df', 'latest_company_headcounts_df', and 'selected_company_stock_tickers_df' on 'company_id'\n",
    "# The join type is 'left', meaning only the rows with a match in both DataFrames will be kept\n",
    "company_info_joined_df = grouped_company_sectors_df.join(\n",
    "    latest_company_annual_revenues_df, 'company_id', 'left'\n",
    ").join(\n",
    "    latest_company_headcounts_df, 'company_id', 'left'\n",
    ").join(\n",
    "    selected_company_stock_tickers_df, 'company_id', 'left'\n",
    ").join(\n",
    "    filtered_company_funding_rounds_df, 'company_id', 'left'\n",
    ")\n",
    "\n",
    "# count_records(company_info_joined_df)\n",
    "\n",
    "# Select the 'company_id', 'amount_usd', 'headcount', and 'stock_ticker' columns from the joined DataFrame\n",
    "resultant_company_info_joined_df = company_info_joined_df.select(\n",
    "    'company_id',\n",
    "    company_info_joined_df['name'].alias('funding_name'), 'investor_company_id','investor',\n",
    "    latest_company_annual_revenues_df['amount_usd'],\n",
    "    latest_company_headcounts_df['headcount'],\n",
    "    selected_company_stock_tickers_df['stock_ticker']\n",
    ")\n",
    "\n",
    "# Check the DataFrame 'resultant_company_info_joined_df'\n",
    "# resultant_company_info_joined_df.show()\n",
    "\n",
    "count_records(resultant_company_info_joined_df)\n"
   ]
  },
  {
   "cell_type": "markdown",
   "id": "a54b0c61-de9d-40c1-bf44-b1f820bbb662",
   "metadata": {},
   "source": [
    "***Transformation for the Person Employment Table***"
   ]
  },
  {
   "cell_type": "code",
   "execution_count": 45,
   "id": "96113476-a1a5-4826-8dfe-fdcddb614b88",
   "metadata": {},
   "outputs": [
    {
     "data": {
      "text/plain": [
       "7898"
      ]
     },
     "execution_count": 45,
     "metadata": {},
     "output_type": "execute_result"
    }
   ],
   "source": [
    "count_records(person_employments_df)\n",
    "# person_employments_df.show()"
   ]
  },
  {
   "cell_type": "code",
   "execution_count": 46,
   "id": "6cba9d44-2c20-44be-897f-86f697b9515c",
   "metadata": {},
   "outputs": [
    {
     "data": {
      "text/plain": [
       "['id',\n",
       " 'person_id',\n",
       " 'company_id',\n",
       " 'company_name',\n",
       " 'seniority_level',\n",
       " 'title',\n",
       " 'started_on',\n",
       " 'ended_on',\n",
       " 'Unnamed: 8']"
      ]
     },
     "execution_count": 46,
     "metadata": {},
     "output_type": "execute_result"
    }
   ],
   "source": [
    "person_employments_df.columns"
   ]
  },
  {
   "cell_type": "code",
   "execution_count": 47,
   "id": "51890281-072d-4638-8eee-b9c6d704d30a",
   "metadata": {},
   "outputs": [
    {
     "data": {
      "text/plain": [
       "['company_id',\n",
       " 'funding_name',\n",
       " 'investor_company_id',\n",
       " 'investor',\n",
       " 'amount_usd',\n",
       " 'headcount',\n",
       " 'stock_ticker']"
      ]
     },
     "execution_count": 47,
     "metadata": {},
     "output_type": "execute_result"
    }
   ],
   "source": [
    "resultant_company_info_joined_df.columns"
   ]
  },
  {
   "cell_type": "code",
   "execution_count": 48,
   "id": "c3b5566b-318e-4cf6-8863-358aa169ea34",
   "metadata": {},
   "outputs": [
    {
     "name": "stdout",
     "output_type": "stream",
     "text": [
      "+---------+--------------------------------------------------------------------------------------------------------------------------------------------------------------------------------------------------------------------------------------------------------------------------------------------------------------------------------------------------------------------------------------------------------------------------------------------------------------------------------------------------------------------------------------------------------------------------------------------------------------------------------------------------------------------------------------------------------------------------------------------------------------------------------------------------------------------------------------------------------------------------------------------------------------------------------------------------------------------------------------------------------------------------------------------------------------------------------------------------------------------------------------------------------------------------------------------------------------------------------------------------------------------------------------------------------------------------------------------------------------------------------------------------------------------------------------------------------------------------------------------------------------------------------------------------------------------------------------------------------------------------------------------------------------------------------------------------------------------------------------------------------------------------------------------------------------------+\n",
      "|person_id|employments                                                                                                                                                                                                                                                                                                                                                                                                                                                                                                                                                                                                                                                                                                                                                                                                                                                                                                                                                                                                                                                                                                                                                                                                                                                                                                                                                                                                                                                                                                                                                                                                                                                                                                                                                                                                         |\n",
      "+---------+--------------------------------------------------------------------------------------------------------------------------------------------------------------------------------------------------------------------------------------------------------------------------------------------------------------------------------------------------------------------------------------------------------------------------------------------------------------------------------------------------------------------------------------------------------------------------------------------------------------------------------------------------------------------------------------------------------------------------------------------------------------------------------------------------------------------------------------------------------------------------------------------------------------------------------------------------------------------------------------------------------------------------------------------------------------------------------------------------------------------------------------------------------------------------------------------------------------------------------------------------------------------------------------------------------------------------------------------------------------------------------------------------------------------------------------------------------------------------------------------------------------------------------------------------------------------------------------------------------------------------------------------------------------------------------------------------------------------------------------------------------------------------------------------------------------------+\n",
      "|101255   |[{20556.0, M/A-COM, NaN, Member Of Technical Staff, 01-01-1982, 01-01-1984, NULL, NULL, NULL, NULL, NULL, NULL}, {387.0, AOL, NaN, Senior Software Developer, 01-01-1998, 01-01-2001, NULL, NULL, NULL, NULL, NULL, NULL}, {4207.0, Netscape, Manager, Calendar Server Development Manager, 01-01-1996, 01-01-1998, NULL, NULL, NULL, NULL, NULL, NULL}, {1660.0, Apple, NaN, Engineering Leader for Analytics and Data Products in Apple Media, 01-10-2016, NaN, 3.1949031445E10, 224704, AAPL, Private Equity, 6084.0, Interscope Records}, {1660.0, Apple, Head of ..., Head Of Foundation, Apple Online Store Engineering, 01-08-2015, 01-10-2016, 3.1949031445E10, 224704, AAPL, Private Equity, 6084.0, Interscope Records}, {77025.0, Yotta Technologies, NaN, Co-Founder, 01-12-2011, 01-01-2013, NULL, NULL, NULL, NULL, NULL, NULL}, {7854.0, Micro Focus, NaN, Senior Software Engineer, 01-01-1990, 01-01-1994, NULL, NULL, NULL, NULL, NULL, NULL}, {1.0692885E7, Zip2save.Com, NaN, Senior Software Engineer, 01-01-1996, 01-01-1996, NULL, NULL, NULL, NULL, NULL, NULL}, {13385.0, FirstRain, VP, Vice President Of Engineering Operations, 01-01-2013, 01-07-2015, NULL, NULL, NULL, NULL, NULL, NULL}, {9307194.0, Onlive Technologies, NaN, Senior Software Developer, 01-01-1994, 01-01-1996, NULL, NULL, NULL, NULL, NULL, NULL}, {171553.0, GRiD Systems, NaN, Software Developer, 01-01-1984, 01-01-1990, NULL, NULL, NULL, NULL, NULL, NULL}, {26.0, eBay, CXO, Chief Technology Officer Of Local Classifieds, 01-09-2007, 01-06-2011, NULL, NULL, NULL, NULL, NULL, NULL}, {26.0, eBay, NaN, Staff Software Engineer, 01-04-2001, 01-12-2001, NULL, NULL, NULL, NULL, NULL, NULL}, {26.0, eBay, Director, Technology Director, 01-01-2002, 01-08-2007, NULL, NULL, NULL, NULL, NULL, NULL}]|\n",
      "+---------+--------------------------------------------------------------------------------------------------------------------------------------------------------------------------------------------------------------------------------------------------------------------------------------------------------------------------------------------------------------------------------------------------------------------------------------------------------------------------------------------------------------------------------------------------------------------------------------------------------------------------------------------------------------------------------------------------------------------------------------------------------------------------------------------------------------------------------------------------------------------------------------------------------------------------------------------------------------------------------------------------------------------------------------------------------------------------------------------------------------------------------------------------------------------------------------------------------------------------------------------------------------------------------------------------------------------------------------------------------------------------------------------------------------------------------------------------------------------------------------------------------------------------------------------------------------------------------------------------------------------------------------------------------------------------------------------------------------------------------------------------------------------------------------------------------------------+\n",
      "only showing top 1 row\n",
      "\n"
     ]
    },
    {
     "data": {
      "text/plain": [
       "7898"
      ]
     },
     "execution_count": 48,
     "metadata": {},
     "output_type": "execute_result"
    }
   ],
   "source": [
    "# Join the DataFrames on 'company_id'\n",
    "resultant_company_info_employment_joined_df = person_employments_df.join(resultant_company_info_joined_df, 'company_id', 'left')\n",
    "\n",
    "count_records(resultant_company_info_employment_joined_df)\n",
    "\n",
    "# Define a new struct that includes the additional columns\n",
    "emplopyment_struct = F.struct(\n",
    "    \"company_id\", \"company_name\", \"seniority_level\", \"title\", \"started_on\", \"ended_on\",\n",
    "    resultant_company_info_joined_df['amount_usd'],\n",
    "    resultant_company_info_joined_df['headcount'],\n",
    "    resultant_company_info_joined_df['stock_ticker'],\n",
    "    resultant_company_info_joined_df['funding_name'],\n",
    "    resultant_company_info_joined_df['investor_company_id'],\n",
    "    resultant_company_info_joined_df['investor']\n",
    "\n",
    ")\n",
    "\n",
    "# Group by 'person_id' and collect list of employment details as structs\n",
    "grouped_person_employments_df = resultant_company_info_employment_joined_df.groupBy(\"person_id\").agg(\n",
    "    F.collect_list(emplopyment_struct).alias(\"employments\")\n",
    ")\n",
    "\n",
    "grouped_person_employments_df.show(1,truncate=False)\n",
    "\n",
    "\n",
    "count_records(person_employments_df)"
   ]
  },
  {
   "cell_type": "code",
   "execution_count": 49,
   "id": "ce1043fa-4794-4982-abba-bdaa51a5e993",
   "metadata": {},
   "outputs": [
    {
     "name": "stdout",
     "output_type": "stream",
     "text": [
      "+----------+-------------------+--------------------+--------------------+--------------------+\n",
      "| person_id|               name|         customer_id|           education|         employments|\n",
      "+----------+-------------------+--------------------+--------------------+--------------------+\n",
      "| 949256266|        Vivian Weng|7538cb11-1c23-4c7...|[{University of C...|[{7962172.0, Frog...|\n",
      "| 787025923|        Lynda Zhang|7538cb11-1c23-4c7...|                NULL|[{NaN, NaN, Manag...|\n",
      "| 837503042|         Clara Têtu|7538cb11-1c23-4c7...|                NULL|[{400708.0, Clari...|\n",
      "| 789056453|  Federico Maggiani|7538cb11-1c23-4c7...|                NULL|[{40487.0, MindSh...|\n",
      "|  57288072|  Anthony Salvaggio|7538cb11-1c23-4c7...|[{Monroe Communit...|[{1660.0, Apple, ...|\n",
      "| 693540132|    Lika Razac-Ince|7538cb11-1c23-4c7...|                NULL|[{NaN, NaN, NaN, ...|\n",
      "|1017713620|      Sarina Studer|7538cb11-1c23-4c7...|                NULL|[{NaN, NaN, NaN, ...|\n",
      "| 856482513|        Karl Dubost|7538cb11-1c23-4c7...|                NULL|[{NaN, NaN, Manag...|\n",
      "| 118418234|     Kenny Sheridan|7538cb11-1c23-4c7...|                NULL|[{NaN, NaN, NaN, ...|\n",
      "|  64876372|        David Coyle|7538cb11-1c23-4c7...|[{University Of W...|[{4376.0, Blackbe...|\n",
      "| 741629676|  Iason Bakogiannis|7538cb11-1c23-4c7...|                NULL|[{53741.0, Affect...|\n",
      "| 747062710|      Michael Huang|7538cb11-1c23-4c7...|                NULL|[{112124.0, Motor...|\n",
      "|  67121188|     Gurpreet Singh|7538cb11-1c23-4c7...|[{Keller Graduate...|[{NaN, NaN, NaN, ...|\n",
      "| 122883279|          Matt Aldo|7538cb11-1c23-4c7...|                NULL|[{1660.0, Apple, ...|\n",
      "| 993985187|      Eddie McGrory|7538cb11-1c23-4c7...|                NULL|[{266875.0, Dixon...|\n",
      "|  52762066|    Kevin L. Fowler|7538cb11-1c23-4c7...|[{University Of T...|[{8563308.0, Knox...|\n",
      "| 745971556|      thomas gurney|7538cb11-1c23-4c7...|                NULL|[{1660.0, Apple, ...|\n",
      "| 994637657|          Annie Cai|7538cb11-1c23-4c7...|                NULL|[{NaN, NaN, Manag...|\n",
      "| 124612718|      Brinda Pullen|7538cb11-1c23-4c7...|                NULL|[{1660.0, Apple, ...|\n",
      "| 993308913|Francesco Squatrito|7538cb11-1c23-4c7...|                NULL|[{412007.0, Leaga...|\n",
      "+----------+-------------------+--------------------+--------------------+--------------------+\n",
      "only showing top 20 rows\n",
      "\n"
     ]
    }
   ],
   "source": [
    "# Join the DataFrame 'people_person_customer_education_df' with 'person_employments_df' on 'person_id'\n",
    "# The resulting DataFrame contains information about a person's education and employment\n",
    "people_person_customer_education_educations_df = people_person_customer_education_df.join(grouped_person_employments_df, on='person_id', how='left') \n",
    "\n",
    "# people_person_customer_education_educations_df.show()\n",
    "\n",
    "count_records(people_person_customer_education_educations_df)\n",
    "people_person_customer_education_educations_df.show()"
   ]
  },
  {
   "cell_type": "markdown",
   "id": "998a5ac9-318b-4f2e-8823-ca32b6c40b4c",
   "metadata": {},
   "source": [
    "***Transformation for the Person Social Urls Table***"
   ]
  },
  {
   "cell_type": "code",
   "execution_count": 50,
   "id": "caa8faa3-dc21-4df6-a1dc-cba9371f2331",
   "metadata": {},
   "outputs": [
    {
     "data": {
      "text/plain": [
       "999"
      ]
     },
     "execution_count": 50,
     "metadata": {},
     "output_type": "execute_result"
    }
   ],
   "source": [
    "# Group by person_id and collect list of URL details\n",
    "grouped_urls_df = person_social_urls_df.groupBy(\"person_id\").agg(\n",
    "    F.collect_list(\n",
    "        F.struct(\"url_type\", \"url\")\n",
    "    ).alias(\"urls\")\n",
    ")\n",
    "\n",
    "# Show the result\n",
    "# grouped_urls_df.show(truncate=False)\n",
    "\n",
    "count_records(grouped_urls_df)"
   ]
  },
  {
   "cell_type": "code",
   "execution_count": 51,
   "id": "186fea0f-d886-4baa-8689-b656f2819ec8",
   "metadata": {},
   "outputs": [
    {
     "name": "stdout",
     "output_type": "stream",
     "text": [
      "DataFrame is unique based on person_id\n"
     ]
    }
   ],
   "source": [
    "check_uniqueness(grouped_urls_df, 'person_id')"
   ]
  },
  {
   "cell_type": "code",
   "execution_count": 52,
   "id": "a71b7ade-74bb-4af6-9113-4df086a46889",
   "metadata": {},
   "outputs": [
    {
     "name": "stdout",
     "output_type": "stream",
     "text": [
      "+----------+-------------------+--------------------+--------------------+--------------------+--------------------+\n",
      "| person_id|               name|         customer_id|           education|         employments|                urls|\n",
      "+----------+-------------------+--------------------+--------------------+--------------------+--------------------+\n",
      "| 949256266|        Vivian Weng|7538cb11-1c23-4c7...|[{University of C...|[{7962172.0, Frog...|[{linkedin, https...|\n",
      "| 787025923|        Lynda Zhang|7538cb11-1c23-4c7...|                NULL|[{NaN, NaN, Manag...|[{linkedin, https...|\n",
      "| 837503042|         Clara Têtu|7538cb11-1c23-4c7...|                NULL|[{400708.0, Clari...|[{linkedin, https...|\n",
      "| 789056453|  Federico Maggiani|7538cb11-1c23-4c7...|                NULL|[{40487.0, MindSh...|[{linkedin, https...|\n",
      "|  57288072|  Anthony Salvaggio|7538cb11-1c23-4c7...|[{Monroe Communit...|[{1660.0, Apple, ...|[{linkedin, https...|\n",
      "| 693540132|    Lika Razac-Ince|7538cb11-1c23-4c7...|                NULL|[{NaN, NaN, NaN, ...|[{linkedin, https...|\n",
      "|1017713620|      Sarina Studer|7538cb11-1c23-4c7...|                NULL|[{NaN, NaN, NaN, ...|[{linkedin, https...|\n",
      "| 856482513|        Karl Dubost|7538cb11-1c23-4c7...|                NULL|[{NaN, NaN, Manag...|[{linkedin, https...|\n",
      "| 118418234|     Kenny Sheridan|7538cb11-1c23-4c7...|                NULL|[{NaN, NaN, NaN, ...|[{linkedin, https...|\n",
      "|  64876372|        David Coyle|7538cb11-1c23-4c7...|[{University Of W...|[{4376.0, Blackbe...|[{linkedin, https...|\n",
      "| 741629676|  Iason Bakogiannis|7538cb11-1c23-4c7...|                NULL|[{53741.0, Affect...|[{linkedin, https...|\n",
      "| 747062710|      Michael Huang|7538cb11-1c23-4c7...|                NULL|[{112124.0, Motor...|[{linkedin, https...|\n",
      "|  67121188|     Gurpreet Singh|7538cb11-1c23-4c7...|[{Keller Graduate...|[{NaN, NaN, NaN, ...|[{linkedin, https...|\n",
      "| 122883279|          Matt Aldo|7538cb11-1c23-4c7...|                NULL|[{1660.0, Apple, ...|[{linkedin, https...|\n",
      "| 993985187|      Eddie McGrory|7538cb11-1c23-4c7...|                NULL|[{266875.0, Dixon...|[{linkedin, https...|\n",
      "|  52762066|    Kevin L. Fowler|7538cb11-1c23-4c7...|[{University Of T...|[{8563308.0, Knox...|[{linkedin, https...|\n",
      "| 745971556|      thomas gurney|7538cb11-1c23-4c7...|                NULL|[{1660.0, Apple, ...|[{linkedin, https...|\n",
      "| 994637657|          Annie Cai|7538cb11-1c23-4c7...|                NULL|[{NaN, NaN, Manag...|[{linkedin, https...|\n",
      "| 124612718|      Brinda Pullen|7538cb11-1c23-4c7...|                NULL|[{1660.0, Apple, ...|[{linkedin, https...|\n",
      "| 993308913|Francesco Squatrito|7538cb11-1c23-4c7...|                NULL|[{412007.0, Leaga...|[{linkedin, https...|\n",
      "+----------+-------------------+--------------------+--------------------+--------------------+--------------------+\n",
      "only showing top 20 rows\n",
      "\n"
     ]
    }
   ],
   "source": [
    "# Joining person_education_group_df and people_person_customer_df DataFrames on column named 'person_id'\n",
    "\n",
    "people_person_customer_education_employments_social_urls_df = people_person_customer_education_educations_df.join(grouped_urls_df, on='person_id', how='left') \n",
    "\n",
    "count_records(people_person_customer_education_employments_social_urls_df)\n",
    "people_person_customer_education_employments_social_urls_df.show()"
   ]
  },
  {
   "cell_type": "code",
   "execution_count": 53,
   "id": "841272f3-4ac4-4d5f-ae5f-7ec0ab47d136",
   "metadata": {},
   "outputs": [
    {
     "name": "stdout",
     "output_type": "stream",
     "text": [
      "DataFrame is unique based on person_id\n"
     ]
    }
   ],
   "source": [
    "check_uniqueness(people_person_customer_education_employments_social_urls_df, 'person_id')"
   ]
  },
  {
   "cell_type": "markdown",
   "id": "2a61d2f4-61e6-485c-b5d6-6ff9bbe09ec4",
   "metadata": {},
   "source": [
    "***Final Dataframe***"
   ]
  },
  {
   "cell_type": "code",
   "execution_count": 54,
   "id": "9b6cf808-a923-4039-a73a-c601ca788f42",
   "metadata": {},
   "outputs": [
    {
     "name": "stdout",
     "output_type": "stream",
     "text": [
      "root\n",
      " |-- person_id: long (nullable = true)\n",
      " |-- name: string (nullable = true)\n",
      " |-- customer_id: string (nullable = true)\n",
      " |-- education: array (nullable = true)\n",
      " |    |-- element: struct (containsNull = false)\n",
      " |    |    |-- institution_name: string (nullable = true)\n",
      " |    |    |-- degree: string (nullable = true)\n",
      " |    |    |-- subject: string (nullable = true)\n",
      " |    |    |-- started_on: string (nullable = true)\n",
      " |    |    |-- ended_on: string (nullable = true)\n",
      " |-- employments: array (nullable = true)\n",
      " |    |-- element: struct (containsNull = false)\n",
      " |    |    |-- company_id: double (nullable = true)\n",
      " |    |    |-- company_name: string (nullable = true)\n",
      " |    |    |-- seniority_level: string (nullable = true)\n",
      " |    |    |-- title: string (nullable = true)\n",
      " |    |    |-- started_on: string (nullable = true)\n",
      " |    |    |-- ended_on: string (nullable = true)\n",
      " |    |    |-- amount_usd: double (nullable = true)\n",
      " |    |    |-- headcount: long (nullable = true)\n",
      " |    |    |-- stock_ticker: string (nullable = true)\n",
      " |    |    |-- funding_name: string (nullable = true)\n",
      " |    |    |-- investor_company_id: double (nullable = true)\n",
      " |    |    |-- investor: string (nullable = true)\n",
      " |-- urls: array (nullable = true)\n",
      " |    |-- element: struct (containsNull = false)\n",
      " |    |    |-- url_type: string (nullable = true)\n",
      " |    |    |-- url: string (nullable = true)\n",
      "\n"
     ]
    }
   ],
   "source": [
    "\n",
    "people_person_customer_education_employments_social_urls_df.printSchema()"
   ]
  },
  {
   "cell_type": "code",
   "execution_count": 55,
   "id": "2a04783c-2027-452b-8bbb-2f1656a4ef4b",
   "metadata": {},
   "outputs": [
    {
     "name": "stdout",
     "output_type": "stream",
     "text": [
      "+----------+-------------------+--------------------+--------------------+--------------------+--------------------+\n",
      "| person_id|               name|         customer_id|           education|         employments|                urls|\n",
      "+----------+-------------------+--------------------+--------------------+--------------------+--------------------+\n",
      "| 949256266|        Vivian Weng|7538cb11-1c23-4c7...|[{University of C...|[{7962172.0, Frog...|[{linkedin, https...|\n",
      "| 787025923|        Lynda Zhang|7538cb11-1c23-4c7...|                NULL|[{NaN, NaN, Manag...|[{linkedin, https...|\n",
      "| 837503042|         Clara Têtu|7538cb11-1c23-4c7...|                NULL|[{400708.0, Clari...|[{linkedin, https...|\n",
      "| 789056453|  Federico Maggiani|7538cb11-1c23-4c7...|                NULL|[{40487.0, MindSh...|[{linkedin, https...|\n",
      "|  57288072|  Anthony Salvaggio|7538cb11-1c23-4c7...|[{Monroe Communit...|[{1660.0, Apple, ...|[{linkedin, https...|\n",
      "| 693540132|    Lika Razac-Ince|7538cb11-1c23-4c7...|                NULL|[{NaN, NaN, NaN, ...|[{linkedin, https...|\n",
      "|1017713620|      Sarina Studer|7538cb11-1c23-4c7...|                NULL|[{NaN, NaN, NaN, ...|[{linkedin, https...|\n",
      "| 856482513|        Karl Dubost|7538cb11-1c23-4c7...|                NULL|[{NaN, NaN, Manag...|[{linkedin, https...|\n",
      "| 118418234|     Kenny Sheridan|7538cb11-1c23-4c7...|                NULL|[{NaN, NaN, NaN, ...|[{linkedin, https...|\n",
      "|  64876372|        David Coyle|7538cb11-1c23-4c7...|[{University Of W...|[{4376.0, Blackbe...|[{linkedin, https...|\n",
      "| 741629676|  Iason Bakogiannis|7538cb11-1c23-4c7...|                NULL|[{53741.0, Affect...|[{linkedin, https...|\n",
      "| 747062710|      Michael Huang|7538cb11-1c23-4c7...|                NULL|[{112124.0, Motor...|[{linkedin, https...|\n",
      "|  67121188|     Gurpreet Singh|7538cb11-1c23-4c7...|[{Keller Graduate...|[{NaN, NaN, NaN, ...|[{linkedin, https...|\n",
      "| 122883279|          Matt Aldo|7538cb11-1c23-4c7...|                NULL|[{1660.0, Apple, ...|[{linkedin, https...|\n",
      "| 993985187|      Eddie McGrory|7538cb11-1c23-4c7...|                NULL|[{266875.0, Dixon...|[{linkedin, https...|\n",
      "|  52762066|    Kevin L. Fowler|7538cb11-1c23-4c7...|[{University Of T...|[{8563308.0, Knox...|[{linkedin, https...|\n",
      "| 745971556|      thomas gurney|7538cb11-1c23-4c7...|                NULL|[{1660.0, Apple, ...|[{linkedin, https...|\n",
      "| 994637657|          Annie Cai|7538cb11-1c23-4c7...|                NULL|[{NaN, NaN, Manag...|[{linkedin, https...|\n",
      "| 124612718|      Brinda Pullen|7538cb11-1c23-4c7...|                NULL|[{1660.0, Apple, ...|[{linkedin, https...|\n",
      "| 993308913|Francesco Squatrito|7538cb11-1c23-4c7...|                NULL|[{412007.0, Leaga...|[{linkedin, https...|\n",
      "+----------+-------------------+--------------------+--------------------+--------------------+--------------------+\n",
      "only showing top 20 rows\n",
      "\n"
     ]
    }
   ],
   "source": [
    "people_person_customer_education_employments_social_urls_df.show()"
   ]
  },
  {
   "cell_type": "markdown",
   "id": "44f6554e-d551-40be-8841-0d0521c5e369",
   "metadata": {},
   "source": [
    "***Final Dataframe can be exported to files such as CSV, JSON, Parquet***"
   ]
  },
  {
   "cell_type": "code",
   "execution_count": 56,
   "id": "8d11ab12-6058-4fca-857e-406425f818c7",
   "metadata": {},
   "outputs": [],
   "source": [
    "# Use the exiting dataframe\n",
    "final_df = people_person_customer_education_employments_social_urls_df\n"
   ]
  },
  {
   "cell_type": "code",
   "execution_count": 57,
   "id": "e65e3098-0817-4930-b0fe-f4f4ae574710",
   "metadata": {},
   "outputs": [
    {
     "name": "stdout",
     "output_type": "stream",
     "text": [
      "+----------+-------------------+--------------------+--------------------+--------------------+--------------------+\n",
      "| person_id|               name|         customer_id|           education|         employments|                urls|\n",
      "+----------+-------------------+--------------------+--------------------+--------------------+--------------------+\n",
      "| 949256266|        Vivian Weng|7538cb11-1c23-4c7...|[{University of C...|[{7962172.0, Frog...|[{linkedin, https...|\n",
      "| 787025923|        Lynda Zhang|7538cb11-1c23-4c7...|                NULL|[{NaN, NaN, Manag...|[{linkedin, https...|\n",
      "| 837503042|         Clara Têtu|7538cb11-1c23-4c7...|                NULL|[{400708.0, Clari...|[{linkedin, https...|\n",
      "| 789056453|  Federico Maggiani|7538cb11-1c23-4c7...|                NULL|[{40487.0, MindSh...|[{linkedin, https...|\n",
      "|  57288072|  Anthony Salvaggio|7538cb11-1c23-4c7...|[{Monroe Communit...|[{1660.0, Apple, ...|[{linkedin, https...|\n",
      "| 693540132|    Lika Razac-Ince|7538cb11-1c23-4c7...|                NULL|[{NaN, NaN, NaN, ...|[{linkedin, https...|\n",
      "|1017713620|      Sarina Studer|7538cb11-1c23-4c7...|                NULL|[{NaN, NaN, NaN, ...|[{linkedin, https...|\n",
      "| 856482513|        Karl Dubost|7538cb11-1c23-4c7...|                NULL|[{NaN, NaN, Manag...|[{linkedin, https...|\n",
      "| 118418234|     Kenny Sheridan|7538cb11-1c23-4c7...|                NULL|[{NaN, NaN, NaN, ...|[{linkedin, https...|\n",
      "|  64876372|        David Coyle|7538cb11-1c23-4c7...|[{University Of W...|[{4376.0, Blackbe...|[{linkedin, https...|\n",
      "| 741629676|  Iason Bakogiannis|7538cb11-1c23-4c7...|                NULL|[{53741.0, Affect...|[{linkedin, https...|\n",
      "| 747062710|      Michael Huang|7538cb11-1c23-4c7...|                NULL|[{112124.0, Motor...|[{linkedin, https...|\n",
      "|  67121188|     Gurpreet Singh|7538cb11-1c23-4c7...|[{Keller Graduate...|[{NaN, NaN, NaN, ...|[{linkedin, https...|\n",
      "| 122883279|          Matt Aldo|7538cb11-1c23-4c7...|                NULL|[{1660.0, Apple, ...|[{linkedin, https...|\n",
      "| 993985187|      Eddie McGrory|7538cb11-1c23-4c7...|                NULL|[{266875.0, Dixon...|[{linkedin, https...|\n",
      "|  52762066|    Kevin L. Fowler|7538cb11-1c23-4c7...|[{University Of T...|[{8563308.0, Knox...|[{linkedin, https...|\n",
      "| 745971556|      thomas gurney|7538cb11-1c23-4c7...|                NULL|[{1660.0, Apple, ...|[{linkedin, https...|\n",
      "| 994637657|          Annie Cai|7538cb11-1c23-4c7...|                NULL|[{NaN, NaN, Manag...|[{linkedin, https...|\n",
      "| 124612718|      Brinda Pullen|7538cb11-1c23-4c7...|                NULL|[{1660.0, Apple, ...|[{linkedin, https...|\n",
      "| 993308913|Francesco Squatrito|7538cb11-1c23-4c7...|                NULL|[{412007.0, Leaga...|[{linkedin, https...|\n",
      "+----------+-------------------+--------------------+--------------------+--------------------+--------------------+\n",
      "only showing top 20 rows\n",
      "\n"
     ]
    }
   ],
   "source": [
    "final_df.show()"
   ]
  },
  {
   "cell_type": "code",
   "execution_count": 58,
   "id": "301e7b73-3cd6-43f2-8241-9b3d5fdde6b5",
   "metadata": {},
   "outputs": [],
   "source": [
    "final_df.write.mode('overwrite').json('./work/final_df')"
   ]
  },
  {
   "cell_type": "code",
   "execution_count": 59,
   "id": "7cf0a2ca-fd24-4e73-9e4d-b9c3f0f95891",
   "metadata": {},
   "outputs": [
    {
     "name": "stdout",
     "output_type": "stream",
     "text": [
      "root\n",
      " |-- person_id: long (nullable = true)\n",
      " |-- name: string (nullable = true)\n",
      " |-- customer_id: string (nullable = true)\n",
      " |-- education: array (nullable = true)\n",
      " |    |-- element: struct (containsNull = false)\n",
      " |    |    |-- institution_name: string (nullable = true)\n",
      " |    |    |-- degree: string (nullable = true)\n",
      " |    |    |-- subject: string (nullable = true)\n",
      " |    |    |-- started_on: string (nullable = true)\n",
      " |    |    |-- ended_on: string (nullable = true)\n",
      " |-- employments: array (nullable = true)\n",
      " |    |-- element: struct (containsNull = false)\n",
      " |    |    |-- company_id: double (nullable = true)\n",
      " |    |    |-- company_name: string (nullable = true)\n",
      " |    |    |-- seniority_level: string (nullable = true)\n",
      " |    |    |-- title: string (nullable = true)\n",
      " |    |    |-- started_on: string (nullable = true)\n",
      " |    |    |-- ended_on: string (nullable = true)\n",
      " |    |    |-- amount_usd: double (nullable = true)\n",
      " |    |    |-- headcount: long (nullable = true)\n",
      " |    |    |-- stock_ticker: string (nullable = true)\n",
      " |    |    |-- funding_name: string (nullable = true)\n",
      " |    |    |-- investor_company_id: double (nullable = true)\n",
      " |    |    |-- investor: string (nullable = true)\n",
      " |-- urls: array (nullable = true)\n",
      " |    |-- element: struct (containsNull = false)\n",
      " |    |    |-- url_type: string (nullable = true)\n",
      " |    |    |-- url: string (nullable = true)\n",
      "\n"
     ]
    }
   ],
   "source": [
    "final_df.printSchema()\n"
   ]
  },
  {
   "cell_type": "code",
   "execution_count": 60,
   "id": "686d8eba-a1d6-4f87-9003-4f235a3390c9",
   "metadata": {},
   "outputs": [],
   "source": [
    "final_df.write.mode(\"overwrite\").parquet(\"final_output/df4.parquet\")\n",
    "\n"
   ]
  },
  {
   "cell_type": "code",
   "execution_count": 61,
   "id": "2a790028-5d33-4fdf-b761-4fdda8584a4d",
   "metadata": {},
   "outputs": [],
   "source": [
    "df = spark.read.parquet(\"final_output/df4.parquet\")"
   ]
  },
  {
   "cell_type": "code",
   "execution_count": 62,
   "id": "e09546a4-fa39-4570-afc7-75faeb163f55",
   "metadata": {},
   "outputs": [
    {
     "name": "stdout",
     "output_type": "stream",
     "text": [
      "+----------+--------------------+--------------------+--------------------+--------------------+--------------------+\n",
      "| person_id|                name|         customer_id|           education|         employments|                urls|\n",
      "+----------+--------------------+--------------------+--------------------+--------------------+--------------------+\n",
      "| 949256266|         Vivian Weng|7538cb11-1c23-4c7...|[{University of C...|[{7962172.0, Frog...|[{linkedin, https...|\n",
      "| 902184389|   Hendrik Bourgeois|7538cb11-1c23-4c7...|                NULL|[{1660.0, Apple, ...|[{linkedin, https...|\n",
      "|  48171849|     Courtney Turner|7538cb11-1c23-4c7...|[{The University ...|[{1660.0, Apple, ...|[{linkedin, https...|\n",
      "|  74707094|       Katie Richter|7538cb11-1c23-4c7...|[{Rhodes College,...|[{6517068.0, Acti...|[{linkedin, https...|\n",
      "|1042153985| Victor Merced-Felix|                NULL|                NULL|[{263757.0, VXI G...|[{linkedin, https...|\n",
      "| 787025923|         Lynda Zhang|7538cb11-1c23-4c7...|                NULL|[{NaN, NaN, Manag...|[{linkedin, https...|\n",
      "| 715859477|      Tamara Vranjes|7538cb11-1c23-4c7...|                NULL|[{NaN, NaN, CXO, ...|[{linkedin, https...|\n",
      "|  51432999|        Juan Sanchez|7538cb11-1c23-4c7...|[{Minico High Sch...|[{1660.0, Apple, ...|[{linkedin, https...|\n",
      "|  71726687|     Katherine Hicks|7538cb11-1c23-4c7...|[{Barnard College...|[{108182.0, Macy'...|[{linkedin, https...|\n",
      "| 909645082|       Lucas Turrado|7538cb11-1c23-4c7...|                NULL|[{1660.0, Apple, ...|[{linkedin, https...|\n",
      "|  20891932|     Cynthia Collins|7538cb11-1c23-4c7...|[{University Of W...|[{1660.0, Apple, ...|[{linkedin, https...|\n",
      "| 123861635|          Luke Meyer|                NULL|                NULL|[{NaN, NaN, NaN, ...|[{linkedin, https...|\n",
      "| 124440405|Ashton Mitchell D...|7538cb11-1c23-4c7...|                NULL|[{123324.0, DDB W...|[{linkedin, https...|\n",
      "|  22355698|      Ritchie Lozada|7538cb11-1c23-4c7...|[{Ateneo De Manil...|[{NaN, NaN, Manag...|[{linkedin, https...|\n",
      "|    734368|Abby Anderson Edling|7538cb11-1c23-4c7...|[{Complutense Uni...|[{7101313.0, Cal ...|[{linkedin, https...|\n",
      "| 952242351|        Emily Nguyen|7538cb11-1c23-4c7...|                NULL|[{NaN, NaN, Direc...|[{linkedin, https...|\n",
      "|  22216310|        Mark Gotuaco|                NULL|[{Santa Clara Uni...|[{NaN, NaN, NaN, ...|[{linkedin, https...|\n",
      "| 161786823|             Evan Li|                NULL|                NULL|[{1694.0, Tesla, ...|[{linkedin, https...|\n",
      "|1169460415|      Terrell Thomas|7538cb11-1c23-4c7...|                NULL|[{1660.0, Apple, ...|[{linkedin, https...|\n",
      "| 837503042|          Clara Têtu|7538cb11-1c23-4c7...|                NULL|[{400708.0, Clari...|[{linkedin, https...|\n",
      "+----------+--------------------+--------------------+--------------------+--------------------+--------------------+\n",
      "only showing top 20 rows\n",
      "\n"
     ]
    }
   ],
   "source": [
    "df.show()"
   ]
  },
  {
   "cell_type": "code",
   "execution_count": 63,
   "id": "8bf18b19-4eb9-4fed-a202-1875de8391e9",
   "metadata": {},
   "outputs": [
    {
     "name": "stdout",
     "output_type": "stream",
     "text": [
      "+--------------------------------------------------------------------------------------------------------------------------------------------------------------------------------------------------------------------------------------------------------------------------------------------------------------------------------------------------------------------------------------------------------------------------------------------------------------------------------------------------------------------------------------------------------------------------------------------------------------------------------------------------------------------------------------------------------------------------------------------------------------------------------------------------------------------------------------------------------------------------------------------------------------------------------------------------------------------------------------------------------------------------------------------------------------------------------------------------------------------------------------------------------------------------------------------------------------------------------------------------------------------------------------------------------------------------------------------+\n",
      "|candidate_details                                                                                                                                                                                                                                                                                                                                                                                                                                                                                                                                                                                                                                                                                                                                                                                                                                                                                                                                                                                                                                                                                                                                                                                                                                                                                                                           |\n",
      "+--------------------------------------------------------------------------------------------------------------------------------------------------------------------------------------------------------------------------------------------------------------------------------------------------------------------------------------------------------------------------------------------------------------------------------------------------------------------------------------------------------------------------------------------------------------------------------------------------------------------------------------------------------------------------------------------------------------------------------------------------------------------------------------------------------------------------------------------------------------------------------------------------------------------------------------------------------------------------------------------------------------------------------------------------------------------------------------------------------------------------------------------------------------------------------------------------------------------------------------------------------------------------------------------------------------------------------------------+\n",
      "|person_id:949256266 name:Vivian Weng customer_id:7538cb11-1c23-4c76-87c7-5111a0f166dc education:[{University of California, Berkeley - Walter A. Haas School of Business, NaN, MBA, Finance, 01-01-2007, 01-01-2009}, {National Taiwan University, NaN, BA, International Relations, 01-01-1998, 01-01-2002}, {Yale University, NaN, MA, International Developmental Economics, 01-01-2002, 01-01-2003}] employments:[{7962172.0, Frog, Director, Associate Strategy Director, Innovation Strategy Group, 01-02-2012, 01-06-2016, null, null, null, null, null, null}, {15861.0, DBS Bank, VP, Vice President, Innovation Group, 01-07-2016, 01-04-2019, null, null, null, null, null, null}, {1660.0, Apple, NaN, Product Design Producer, International Product Design, 01-04-2019, NaN, 3.1949031445E10, 224704, AAPL, Private Equity, 6084.0, Interscope Records}, {59.0, Goldman Sachs, NaN, Investment Banking Division Summer Associate, 01-06-2008, 01-08-2008, 8.417546311E9, 75859, GS, null, null, null}, {4007.0, McKinsey & Company, NaN, Business Analyst, 01-01-2004, 01-01-2007, null, null, null, null, null, null}, {4007.0, McKinsey & Company, NaN, Senior Associate, Corporate Finance, 01-09-2009, 01-11-2011, null, null, null, null, null, null}] urls:[{linkedin, https://www.linkedin.com/in/vivian-weng-4a0b884}]|\n",
      "+--------------------------------------------------------------------------------------------------------------------------------------------------------------------------------------------------------------------------------------------------------------------------------------------------------------------------------------------------------------------------------------------------------------------------------------------------------------------------------------------------------------------------------------------------------------------------------------------------------------------------------------------------------------------------------------------------------------------------------------------------------------------------------------------------------------------------------------------------------------------------------------------------------------------------------------------------------------------------------------------------------------------------------------------------------------------------------------------------------------------------------------------------------------------------------------------------------------------------------------------------------------------------------------------------------------------------------------------+\n",
      "only showing top 1 row\n",
      "\n"
     ]
    }
   ],
   "source": [
    "# Create an empty list to store the column expressions\n",
    "column_exprs = []\n",
    "\n",
    "# For each column in the DataFrame\n",
    "for col_name in df.columns:\n",
    "    # Create a new column expression that concatenates the column name and the column value\n",
    "    column_exprs.append(F.concat(F.lit(col_name + \":\"), df[col_name].cast(\"string\")))\n",
    "\n",
    "# Concatenate all column expressions into one single column 'single_text'\n",
    "single_file_for_each_person_df = df.select(F.concat_ws(' ', *column_exprs).alias('candidate_details'))\n",
    "\n",
    "single_file_for_each_person_df.show(1,truncate=False)"
   ]
  },
  {
   "cell_type": "code",
   "execution_count": 64,
   "id": "836de93d-a9a6-4e00-8dc4-b23320c7bdec",
   "metadata": {},
   "outputs": [
    {
     "name": "stdout",
     "output_type": "stream",
     "text": [
      "+----------+--------------------+--------------------+--------------------+--------------------+--------------------+\n",
      "| person_id|                name|         customer_id|           education|         employments|                urls|\n",
      "+----------+--------------------+--------------------+--------------------+--------------------+--------------------+\n",
      "| 949256266|         Vivian Weng|7538cb11-1c23-4c7...|[{University of C...|[{7962172.0, Frog...|[{linkedin, https...|\n",
      "| 902184389|   Hendrik Bourgeois|7538cb11-1c23-4c7...|                NULL|[{1660.0, Apple, ...|[{linkedin, https...|\n",
      "|  48171849|     Courtney Turner|7538cb11-1c23-4c7...|[{The University ...|[{1660.0, Apple, ...|[{linkedin, https...|\n",
      "|  74707094|       Katie Richter|7538cb11-1c23-4c7...|[{Rhodes College,...|[{6517068.0, Acti...|[{linkedin, https...|\n",
      "|1042153985| Victor Merced-Felix|                NULL|                NULL|[{263757.0, VXI G...|[{linkedin, https...|\n",
      "| 787025923|         Lynda Zhang|7538cb11-1c23-4c7...|                NULL|[{NaN, NaN, Manag...|[{linkedin, https...|\n",
      "| 715859477|      Tamara Vranjes|7538cb11-1c23-4c7...|                NULL|[{NaN, NaN, CXO, ...|[{linkedin, https...|\n",
      "|  51432999|        Juan Sanchez|7538cb11-1c23-4c7...|[{Minico High Sch...|[{1660.0, Apple, ...|[{linkedin, https...|\n",
      "|  71726687|     Katherine Hicks|7538cb11-1c23-4c7...|[{Barnard College...|[{108182.0, Macy'...|[{linkedin, https...|\n",
      "| 909645082|       Lucas Turrado|7538cb11-1c23-4c7...|                NULL|[{1660.0, Apple, ...|[{linkedin, https...|\n",
      "|  20891932|     Cynthia Collins|7538cb11-1c23-4c7...|[{University Of W...|[{1660.0, Apple, ...|[{linkedin, https...|\n",
      "| 123861635|          Luke Meyer|                NULL|                NULL|[{NaN, NaN, NaN, ...|[{linkedin, https...|\n",
      "| 124440405|Ashton Mitchell D...|7538cb11-1c23-4c7...|                NULL|[{123324.0, DDB W...|[{linkedin, https...|\n",
      "|  22355698|      Ritchie Lozada|7538cb11-1c23-4c7...|[{Ateneo De Manil...|[{NaN, NaN, Manag...|[{linkedin, https...|\n",
      "|    734368|Abby Anderson Edling|7538cb11-1c23-4c7...|[{Complutense Uni...|[{7101313.0, Cal ...|[{linkedin, https...|\n",
      "| 952242351|        Emily Nguyen|7538cb11-1c23-4c7...|                NULL|[{NaN, NaN, Direc...|[{linkedin, https...|\n",
      "|  22216310|        Mark Gotuaco|                NULL|[{Santa Clara Uni...|[{NaN, NaN, NaN, ...|[{linkedin, https...|\n",
      "| 161786823|             Evan Li|                NULL|                NULL|[{1694.0, Tesla, ...|[{linkedin, https...|\n",
      "|1169460415|      Terrell Thomas|7538cb11-1c23-4c7...|                NULL|[{1660.0, Apple, ...|[{linkedin, https...|\n",
      "| 837503042|          Clara Têtu|7538cb11-1c23-4c7...|                NULL|[{400708.0, Clari...|[{linkedin, https...|\n",
      "+----------+--------------------+--------------------+--------------------+--------------------+--------------------+\n",
      "only showing top 20 rows\n",
      "\n"
     ]
    }
   ],
   "source": [
    "df.show()\n"
   ]
  },
  {
   "cell_type": "code",
   "execution_count": 65,
   "id": "13e7375c-0d89-490b-a326-e7f2d8927d43",
   "metadata": {},
   "outputs": [
    {
     "name": "stdout",
     "output_type": "stream",
     "text": [
      "+---------+-----------------+--------------------------------------------------------------------------------------------------------------------------------------------------------------------------------------------------------------------------------------------------------------------------------------------------------+-----------------------------------------------------------------------------------------------------------------------------------------------------------------------------------------------------------------------------------------------------------------------------------------------------------------------------------------------------------------------------------------------------------------------------------------------------------------------------------------------------------------------------------------------------------------------------------------------------------------------------------------------------------------------------------------------------------------------------------------------------------------------------------------------------------------------------------------------------------------------------------------------------------------------------------------------------------------------------------------------------------------------------------------------------------+\n",
      "|person_id|name             |education                                                                                                                                                                                                                                                                                               |employments                                                                                                                                                                                                                                                                                                                                                                                                                                                                                                                                                                                                                                                                                                                                                                                                                                                                                                                                                                                                                                                |\n",
      "+---------+-----------------+--------------------------------------------------------------------------------------------------------------------------------------------------------------------------------------------------------------------------------------------------------------------------------------------------------+-----------------------------------------------------------------------------------------------------------------------------------------------------------------------------------------------------------------------------------------------------------------------------------------------------------------------------------------------------------------------------------------------------------------------------------------------------------------------------------------------------------------------------------------------------------------------------------------------------------------------------------------------------------------------------------------------------------------------------------------------------------------------------------------------------------------------------------------------------------------------------------------------------------------------------------------------------------------------------------------------------------------------------------------------------------+\n",
      "|949256266|Vivian Weng      |[{University of California, Berkeley - Walter A. Haas School of Business, NaN, MBA, Finance, 01-01-2007, 01-01-2009}, {National Taiwan University, NaN, BA, International Relations, 01-01-1998, 01-01-2002}, {Yale University, NaN, MA, International Developmental Economics, 01-01-2002, 01-01-2003}]|[{7962172.0, Frog, Director, Associate Strategy Director, Innovation Strategy Group, 01-02-2012, 01-06-2016, NULL, NULL, NULL, NULL, NULL, NULL}, {15861.0, DBS Bank, VP, Vice President, Innovation Group, 01-07-2016, 01-04-2019, NULL, NULL, NULL, NULL, NULL, NULL}, {1660.0, Apple, NaN, Product Design Producer, International Product Design, 01-04-2019, NaN, 3.1949031445E10, 224704, AAPL, Private Equity, 6084.0, Interscope Records}, {59.0, Goldman Sachs, NaN, Investment Banking Division Summer Associate, 01-06-2008, 01-08-2008, 8.417546311E9, 75859, GS, NULL, NULL, NULL}, {4007.0, McKinsey & Company, NaN, Business Analyst, 01-01-2004, 01-01-2007, NULL, NULL, NULL, NULL, NULL, NULL}, {4007.0, McKinsey & Company, NaN, Senior Associate, Corporate Finance, 01-09-2009, 01-11-2011, NULL, NULL, NULL, NULL, NULL, NULL}]                                                                                                                                                                                                       |\n",
      "|902184389|Hendrik Bourgeois|NULL                                                                                                                                                                                                                                                                                                    |[{1660.0, Apple, Head of ..., Head of Government Affairs Europe and Russia, 01-09-2019, NaN, 3.1949031445E10, 224704, AAPL, Private Equity, 6084.0, Interscope Records}, {110139.0, Jones Day, NaN, Associate, 01-08-1993, 01-12-1996, NULL, NULL, NULL, NULL, NULL, NULL}, {110139.0, Jones Day, NaN, Associate, 01-01-1996, 01-07-1999, NULL, NULL, NULL, NULL, NULL, NULL}, {72544.0, Cargill, VP, Vice President Corporate Affairs EMEA, 01-01-2018, 01-08-2019, NULL, NULL, NULL, NULL, NULL, NULL}, {2025.0, General Electric, NaN, General Counsel, Europe, 01-04-2009, 01-06-2011, NULL, NULL, NULL, NULL, NULL, NULL}, {2025.0, General Electric, NaN, General Counsel Europe GE Industrial Systems, 01-09-1999, 01-11-2002, NULL, NULL, NULL, NULL, NULL, NULL}, {2025.0, General Electric, VP, General Counsel Europe & Vice President European Affairs, 01-06-2011, 01-12-2017, NULL, NULL, NULL, NULL, NULL, NULL}, {2025.0, General Electric, NaN, European Competition Counsel, 01-11-2002, 01-04-2009, NULL, NULL, NULL, NULL, NULL, NULL}]|\n",
      "+---------+-----------------+--------------------------------------------------------------------------------------------------------------------------------------------------------------------------------------------------------------------------------------------------------------------------------------------------------+-----------------------------------------------------------------------------------------------------------------------------------------------------------------------------------------------------------------------------------------------------------------------------------------------------------------------------------------------------------------------------------------------------------------------------------------------------------------------------------------------------------------------------------------------------------------------------------------------------------------------------------------------------------------------------------------------------------------------------------------------------------------------------------------------------------------------------------------------------------------------------------------------------------------------------------------------------------------------------------------------------------------------------------------------------------+\n",
      "only showing top 2 rows\n",
      "\n"
     ]
    }
   ],
   "source": [
    "df = df.select('person_id', 'name', 'education', 'employments')\n",
    "df.show(2,truncate=False)"
   ]
  },
  {
   "cell_type": "code",
   "execution_count": 66,
   "id": "5862a03f-b5e8-4c1b-9445-43f3d4536b5b",
   "metadata": {},
   "outputs": [
    {
     "name": "stdout",
     "output_type": "stream",
     "text": [
      "+---------------------------------------------------------------------------------------------------------------------------------------------------------------------------------------------------------------------------------------------------------------------------------------------------------------------------------------------------------------------------------------------------------------------------------------------------------------------------------------------------------------------------------------------------------------------------------------------------------------------------------------------------------------------------------------------------------------------------------------------------------------------------------------------------------------------------------------------------------------------------------------------------------------------------------------------------------------------------------------------------------------+\n",
      "|plain_text                                                                                                                                                                                                                                                                                                                                                                                                                                                                                                                                                                                                                                                                                                                                                                                                                                                                                                                                                                                                     |\n",
      "+---------------------------------------------------------------------------------------------------------------------------------------------------------------------------------------------------------------------------------------------------------------------------------------------------------------------------------------------------------------------------------------------------------------------------------------------------------------------------------------------------------------------------------------------------------------------------------------------------------------------------------------------------------------------------------------------------------------------------------------------------------------------------------------------------------------------------------------------------------------------------------------------------------------------------------------------------------------------------------------------------------------+\n",
      "|person_id:949256266 name:Vivian Weng customer_id:7538cb111c234c7687c75111a0f166dc education:University of California Berkeley Walter A Haas School of Business NaN MBA Finance 01012007 01012009 National Taiwan University NaN BA International Relations 01011998 01012002 Yale University NaN MA International Developmental Economics 01012002 01012003 employments:79621720 Frog Director Associate Strategy Director Innovation Strategy Group 01022012 01062016 158610 DBS Bank VP Vice President Innovation Group 01072016 01042019 16600 Apple NaN Product Design Producer International Product Design 01042019 NaN 31949031445E10 224704 AAPL Private Equity 60840 Interscope Records 590 Goldman Sachs NaN Investment Banking Division Summer Associate 01062008 01082008 8417546311E9 75859 GS 40070 McKinsey Company NaN Business Analyst 01012004 01012007 40070 McKinsey Company NaN Senior Associate Corporate Finance 01092009 01112011 urls:linkedin https:wwwlinkedincominvivianweng4a0b884|\n",
      "|person_id:902184389 name:Hendrik Bourgeois customer_id:7538cb111c234c7687c75111a0f166dc employments:16600 Apple Head of Head of Government Affairs Europe and Russia 01092019 NaN 31949031445E10 224704 AAPL Private Equity 60840 Interscope Records 1101390 Jones Day NaN Associate 01081993 01121996 1101390 Jones Day NaN Associate 01011996 01071999 725440 Cargill VP Vice President Corporate Affairs EMEA 01012018 01082019 20250 General Electric NaN General Counsel Europe 01042009 01062011 20250 General Electric NaN General Counsel Europe GE Industrial Systems 01091999 01112002 20250 General Electric VP General Counsel Europe Vice President European Affairs 01062011 01122017 20250 General Electric NaN European Competition Counsel 01112002 01042009 urls:linkedin https:wwwlinkedincominhendrikbourgeois306b4871                                                                                                                                                                     |\n",
      "+---------------------------------------------------------------------------------------------------------------------------------------------------------------------------------------------------------------------------------------------------------------------------------------------------------------------------------------------------------------------------------------------------------------------------------------------------------------------------------------------------------------------------------------------------------------------------------------------------------------------------------------------------------------------------------------------------------------------------------------------------------------------------------------------------------------------------------------------------------------------------------------------------------------------------------------------------------------------------------------------------------------+\n",
      "only showing top 2 rows\n",
      "\n"
     ]
    },
    {
     "data": {
      "text/plain": [
       "999"
      ]
     },
     "execution_count": 66,
     "metadata": {},
     "output_type": "execute_result"
    }
   ],
   "source": [
    "from pyspark.sql.functions import regexp_replace, concat_ws\n",
    "\n",
    "# Define a function to clean text\n",
    "def clean_text(col):\n",
    "    # Remove symbols and characters except ':'\n",
    "    cleaned_col = regexp_replace(col, r'[^\\w\\s:]', '')\n",
    "    # Replace 'null' with single whitespace\n",
    "    cleaned_col = regexp_replace(cleaned_col, r'\\bnull\\b', ' ')\n",
    "    # Remove extra whitespaces\n",
    "    cleaned_col = regexp_replace(cleaned_col, r'\\s+', ' ')\n",
    "    return cleaned_col\n",
    "\n",
    "# Apply the clean_text function to each column\n",
    "cleaned_columns = [clean_text(col).alias(col) for col in single_file_for_each_person_df.columns]\n",
    "\n",
    "# Concatenate the cleaned columns into a new column containing plain text\n",
    "plain_text_df = single_file_for_each_person_df.select(concat_ws(' ', *cleaned_columns).alias('plain_text'))\n",
    "\n",
    "# Show the resulting DataFrame\n",
    "plain_text_df.show(2,truncate=False)\n",
    "plain_text_df.count()"
   ]
  },
  {
   "cell_type": "code",
   "execution_count": 67,
   "id": "dc4f2d43-35bb-457f-8ecc-25385ef1771d",
   "metadata": {},
   "outputs": [
    {
     "name": "stdout",
     "output_type": "stream",
     "text": [
      "[Row(plain_text='person_id:56622026 name:Erin Nopp education:Colorado State University Global BachelorsBachelor Of Science Business AdministrationBusiness ManagementBusiness Administration And ManagementManagement NaN 01012020 Creighton UniversityS Heider College Of Business Master Of Business AdministrationMasters NaN 01012021 01012023 employments:5528930 Jan Marini Skin Research NaN Account Development Manager 01052021 01112021 93109880 Osmosis Beauty NaN Account Executive at Osmosis Beauty 01022018 01032020 11097430 Glo Skin Beauty NaN Sales Consultant 01102011 01022013 786260 Este Lauder NaN Regional Makeup Artist 01012005 01012007 6099765445E9 24702 EL 3522080 Dermalogica NaN Senior Business Consultant 01022013 01012018 13979010 Hammonds Candies Director Director of National Sales 01122007 01092011 1131280 AbbVie NaN Strategic Account Manager 01112021 NaN 10603963036E10 51174 ABBV 69330710 BioTherapeutic NaN Corporate Sales Consultant 01052020 01052021 urls:linkedin https:wwwlinkedincominerinnopp')]\n"
     ]
    }
   ],
   "source": [
    "# Select only the first row\n",
    "first_row = plain_text_df.tail(1)\n",
    "\n",
    "# Show the first row\n",
    "print(first_row)"
   ]
  },
  {
   "cell_type": "code",
   "execution_count": 68,
   "id": "409f3425-83fb-46f6-93d3-7a35d9e083e9",
   "metadata": {},
   "outputs": [
    {
     "name": "stdout",
     "output_type": "stream",
     "text": [
      "Total number of rows: 999\n",
      "person_id:949256266 name:Vivian Weng customer_id:7538cb111c234c7687c75111a0f166dc education:University of California Berkeley Walter A Haas School of Business NaN MBA Finance 01012007 01012009 National Taiwan University NaN BA International Relations 01011998 01012002 Yale University NaN MA International Developmental Economics 01012002 01012003 employments:79621720 Frog Director Associate Strategy Director Innovation Strategy Group 01022012 01062016 158610 DBS Bank VP Vice President Innovation Group 01072016 01042019 16600 Apple NaN Product Design Producer International Product Design 01042019 NaN 31949031445E10 224704 AAPL Private Equity 60840 Interscope Records 590 Goldman Sachs NaN Investment Banking Division Summer Associate 01062008 01082008 8417546311E9 75859 GS 40070 McKinsey Company NaN Business Analyst 01012004 01012007 40070 McKinsey Company NaN Senior Associate Corporate Finance 01092009 01112011 urls:linkedin https:wwwlinkedincominvivianweng4a0b884\n"
     ]
    }
   ],
   "source": [
    "all_rows_list = plain_text_df.collect()\n",
    "\n",
    "# Convert all rows to dictionaries\n",
    "all_rows_dicts = [row.asDict() for row in all_rows_list]\n",
    "\n",
    "# Convert the dictionaries to a pandas DataFrame\n",
    "all_rows_df = pd.DataFrame(all_rows_dicts)\n",
    "\n",
    "\n",
    "# Save all rows to a single CSV file, overwriting if it already exists\n",
    "all_rows_df.to_csv('input_people_data.csv', index=False, mode='w', header=True)\n",
    "\n",
    "\n",
    "# Print the total number of rows\n",
    "print(\"Total number of rows:\", len(all_rows_df))\n",
    "# Print the first row of the DataFrame\n",
    "# Set the display options to show all columns and rows\n",
    "pd.set_option('display.max_columns', None)\n",
    "pd.set_option('display.max_rows', None)\n",
    "pd.set_option('display.width', None)\n",
    "\n",
    "# Print the first row of the DataFrame\n",
    "# Convert the first row to a string and print it\n",
    "# Print the 'plain_text' column of the first row\n",
    "print(all_rows_df.iloc[0]['plain_text'])"
   ]
  },
  {
   "cell_type": "code",
   "execution_count": null,
   "id": "4006dfd2-b4e8-419b-8ebb-dfdbe0b797a3",
   "metadata": {},
   "outputs": [],
   "source": []
  },
  {
   "cell_type": "code",
   "execution_count": null,
   "id": "568c92ef-5620-4caf-bcfa-cbdf88e12a54",
   "metadata": {},
   "outputs": [],
   "source": []
  }
 ],
 "metadata": {
  "kernelspec": {
   "display_name": "Python 3 (ipykernel)",
   "language": "python",
   "name": "python3"
  },
  "language_info": {
   "codemirror_mode": {
    "name": "ipython",
    "version": 3
   },
   "file_extension": ".py",
   "mimetype": "text/x-python",
   "name": "python",
   "nbconvert_exporter": "python",
   "pygments_lexer": "ipython3",
   "version": "3.11.6"
  }
 },
 "nbformat": 4,
 "nbformat_minor": 5
}

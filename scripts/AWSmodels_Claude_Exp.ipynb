{
 "cells": [
  {
   "cell_type": "code",
   "execution_count": 1,
   "id": "46323270",
   "metadata": {},
   "outputs": [],
   "source": [
    "from pyspark.sql import SparkSession\n",
    "from pyspark.sql.functions import count, col, concat_ws, row_number, desc\n",
    "from pyspark.sql import functions as F\n",
    "from pyspark.sql.window import Window\n",
    "from pyspark.sql.types import StructType, StructField, StringType, TimestampType"
   ]
  },
  {
   "cell_type": "markdown",
   "id": "169ccf4b",
   "metadata": {},
   "source": []
  },
  {
   "cell_type": "code",
   "execution_count": 2,
   "id": "4445238b-be33-4e66-ba80-127a9594b522",
   "metadata": {},
   "outputs": [],
   "source": [
    "# Initialize SparkSession\n",
    "spark = SparkSession.builder \\\n",
    "    .appName('aws_connection') \\\n",
    "    .getOrCreate()"
   ]
  },
  {
   "cell_type": "code",
   "execution_count": 3,
   "id": "40b53868",
   "metadata": {},
   "outputs": [],
   "source": [
    "# Please update , Valid Keys,for test run uncommenting \"result = invoke_claude_model_with_prompt(prompt)\" in below cell\n",
    " \n",
    "AWS_ACCESS_KEY_ID =\" \"\n",
    " \n",
    "AWS_SECRET_ACCESS_KEY = \" \"\n",
    " \n",
    "AWS_SESSION_TOKEN = \" \""
   ]
  },
  {
   "cell_type": "code",
   "execution_count": 4,
   "id": "92aa6377-fa03-4395-a5ca-e6aa345cc66d",
   "metadata": {},
   "outputs": [
    {
     "name": "stdout",
     "output_type": "stream",
     "text": [
      "[{'type': 'text', 'text': '{\\n  \"capital\": \"New Delhi\"\\n}'}]\n"
     ]
    }
   ],
   "source": [
    "# claude Model, Tested Working, Never change this function\n",
    "import boto3\n",
    "import json\n",
    "\n",
    "def invoke_claude_model_with_prompt(prompt):\n",
    "    # Construct the payload with the provided prompt, Never Change\n",
    "    payload = {\n",
    "        \"max_tokens\": 5000,\n",
    "        \"messages\": [{\"role\": \"user\", \"content\": prompt}],\n",
    "        \"anthropic_version\": \"bedrock-2023-05-31\"\n",
    "    }\n",
    "\n",
    "    # Create a Boto3 session\n",
    "    session = boto3.Session(\n",
    "        aws_access_key_id=AWS_ACCESS_KEY_ID,\n",
    "        aws_secret_access_key=AWS_SECRET_ACCESS_KEY,\n",
    "        aws_session_token=AWS_SESSION_TOKEN\n",
    "    )\n",
    "\n",
    "    # Create a Bedrock Runtime client\n",
    "    client = session.client('bedrock-runtime', region_name='us-east-1')\n",
    "\n",
    "    # Invoke the model with the payload\n",
    "    response = client.invoke_model(body=json.dumps(payload), modelId=\"anthropic.claude-3-sonnet-20240229-v1:0\")\n",
    "\n",
    "    # Parse the response body\n",
    "    response_body = json.loads(response.get(\"body\").read())\n",
    "\n",
    "    # Return the content from the response\n",
    "    return response_body.get(\"content\")\n",
    "\n",
    "# Example usage:\n",
    "prompt = \"Hello, world. What is the capital of India? Give the result in JSON format.\"\n",
    "result = invoke_claude_model_with_prompt(prompt)\n",
    "print(result)"
   ]
  },
  {
   "cell_type": "code",
   "execution_count": 5,
   "id": "ade7c086-1865-4db4-91fd-ebc45bbeef1f",
   "metadata": {},
   "outputs": [
    {
     "name": "stdout",
     "output_type": "stream",
     "text": [
      "root\n",
      " |-- full_ancestral_name: string (nullable = true)\n",
      "\n",
      "+--------------------+\n",
      "| full_ancestral_name|\n",
      "+--------------------+\n",
      "|Software - Busine...|\n",
      "|  Software - Ed Tech|\n",
      "|  Software - FinTech|\n",
      "|   Healthcare - HCIT|\n",
      "|Software - IT Inf...|\n",
      "|Software - Intern...|\n",
      "| Software - MegaTech|\n",
      "|   Software - Mobile|\n",
      "| Software - Payments|\n",
      "|Software - SaaS/C...|\n",
      "| Software - Security|\n",
      "|Internet - Advert...|\n",
      "|CEO/BOD - General...|\n",
      "|Internet - E-Comm...|\n",
      "|  Internet - Ed Tech|\n",
      "|        10/10 Gender|\n",
      "|Internet - Market...|\n",
      "| Internet - MegaTech|\n",
      "|   Internet - Mobile|\n",
      "|       CT - Biofuels|\n",
      "+--------------------+\n",
      "only showing top 20 rows\n",
      "\n",
      "16572\n",
      "tag_str word len -> 2238\n"
     ]
    }
   ],
   "source": [
    "# Read Tag CSV file into a DataFrame\n",
    "tag_df = spark.read.csv(\"/home/jovyan/work/utility/tags.csv\", header=True, inferSchema=True)\n",
    "# Show the DataFrame schema and first few rows\n",
    "tag_df.printSchema()\n",
    "tag_df.show()\n",
    "tag_df.count()\n",
    "# Convert the column of interest to a list of strings\n",
    "tag_list = tag_df.select(\"full_ancestral_name\").rdd.flatMap(lambda x: x).collect()\n",
    "\n",
    "# Join the list of strings\n",
    "tag_str = \", \".join(tag_list)\n",
    "print(len(tag_str))\n",
    "\n",
    "word_count = len(tag_str.split())\n",
    "print(f\"tag_str word len -> {word_count}\")\n"
   ]
  },
  {
   "cell_type": "code",
   "execution_count": 6,
   "id": "d4a7752a-0518-44fd-98f3-098620aa5310",
   "metadata": {},
   "outputs": [
    {
     "name": "stdout",
     "output_type": "stream",
     "text": [
      "Current working directory: /home/jovyan/work/scripts\n",
      "person_id:23678899 name:Bill Murphy address:Culver City California US description:Versatile management professional with 15 years of project management experience managing highly visible complex projects with aggressive timelines managing multidiscipline high performance teams and providing technical experience and leadership in project operations and logistics managementnnProven record of success analyzing all aspects of a project including investigating and determining if monies are being spent appropriately reducing expenses improving the efficiency of operations and monitoring key program deliverables created_at:20231211 06:18:0813904 updated_at:20231026 15:57:2235 education: Santa Fe University Of Art And Design BachelorsBachelor Of Arts 19920101 19960101 employments: VFX Producer 20040101 20070101 2289 Netflix Sr Manager VFX Infrastructure Technology Operations 20170701 20191101 877281030000 15635 NFLX PostIPO Debt Saul Bisht 2289 Netflix Director Director Product Solutions Studio Product Innovation 20210801 877281030000 15635 NFLX PostIPO Debt Saul Bisht 2289 Netflix Director Director VFX Infrastructure Technology Operations 20191101 20211101 877281030000 15635 NFLX PostIPO Debt Saul Bisht 2289 Netflix Originals Post Production 20140401 20170701 877281030000 15635 NFLX PostIPO Debt Saul Bisht 126296 Rhythm Hues Studios Project Manager Technology Division 20110501 20140301 126296 Rhythm Hues Studios Digital ProducerProduction Manager Feature Film Division 20070101 20110101 329775 EngineRoomEdit VFX Production Manager 20040201 20040601 80610 Cinesite VFX Production Manager 19980501 20030501 urls:linkedin https:wwwlinkedincominbillwmurphy\n"
     ]
    }
   ],
   "source": [
    "# Read CSV file, for people data\n",
    "import pandas as pd\n",
    "import os\n",
    "\n",
    "cwd = os.getcwd()\n",
    "print(\"Current working directory:\", cwd)\n",
    "\n",
    "# Read the CSV file into a pandas DataFrame\n",
    "all_rows_df = pd.read_csv('/home/jovyan/work/scripts/input_people_data.csv')\n",
    "\n",
    "# Print the DataFrame , for one row\n",
    "print(all_rows_df.iloc[0]['plain_text'])"
   ]
  },
  {
   "cell_type": "code",
   "execution_count": 7,
   "id": "a26b3d42-895c-4b1c-9244-d20200bf0c54",
   "metadata": {},
   "outputs": [
    {
     "name": "stdout",
     "output_type": "stream",
     "text": [
      "**************Model output*************\n",
      "\n",
      "[{'type': 'text', 'text': '{\\n  \"Software - IT Infrastructure\": true,\\n  \"Internet - Video\": true,\\n  \"Software - Big Data\": true,\\n  \"Software - Analytics\": true,\\n  \"Software - Healthcare\": true,\\n  \"Internet - Advertising Tech\": true,\\n  \"Internet - E-Commerce\": true,\\n  \"Internet - Mobile\": true,\\n  \"Internet - Travel\": true,\\n  \"Internet - Video\": true,\\n  \"Consumer - Retail Omnichannel\": true,\\n  \"Services - Management Consulting\": true,\\n  \"Software - Networking\": true,\\n  \"Software - Storage\": true,\\n  \"Networking - Virtualization\": true,\\n  \"Software - Supply Chain\": true,\\n  \"Software - IaaS\": true,\\n  \"Software - PaaS\": true,\\n  \"Software - E-Commerce\": true,\\n  \"Consumer - Internet On Demand\": true\\n}'}]\n",
      "Tagged as-> ['23678899', 'Bill', 'Software - IT Infrastructure', 'Internet - Video', 'Software - Big Data', 'Software - Analytics', 'Software - Healthcare', 'Internet - Advertising Tech', 'Internet - E-Commerce', 'Internet - Mobile', 'Internet - Travel', 'Consumer - Retail Omnichannel', 'Services - Management Consulting', 'Software - Networking', 'Software - Storage', 'Networking - Virtualization', 'Software - Supply Chain', 'Software - IaaS', 'Software - PaaS', 'Software - E-Commerce', 'Consumer - Internet On Demand']\n",
      "Model Tagged as-> ['23678899', 'Bill', 'Software - IT Infrastructure', 'Internet - Video', 'Software - Big Data', 'Software - Analytics', 'Software - Healthcare', 'Internet - Advertising Tech', 'Internet - E-Commerce', 'Internet - Mobile', 'Internet - Travel', 'Consumer - Retail Omnichannel', 'Services - Management Consulting', 'Software - Networking', 'Software - Storage', 'Networking - Virtualization', 'Software - Supply Chain', 'Software - IaaS', 'Software - PaaS', 'Software - E-Commerce', 'Consumer - Internet On Demand']\n",
      "**************Model output*************\n",
      "\n",
      "[{'type': 'text', 'text': '{\\n  \"Marketing\": true,\\n  \"Software - Artificial Intelligence\": true,\\n  \"Software - Analytics\": true,\\n  \"Software - Security\": true,\\n  \"CEO/BOD - General Manager\": true,\\n  \"Services - Management Consulting\": true,\\n  \"HR/Recruiting\": true,\\n  \"Marketing Automation\": true,\\n  \"Non-Profit\": true,\\n  \"Internet - Social\": true,\\n  \"Software - Healthcare\": true,\\n  \"Software - Big Data\": true,\\n  \"FOP: Fundraising experience\": true,\\n  \"Revenue Model: Usage Based\": true,\\n  \"Function: Engineering\": true,\\n  \"Function: Customer Support\": true,\\n  \"Function: Product Management\": true,\\n  \"Function: Finance\": true,\\n  \"Function: Professional Services\": true,\\n  \"Function: Sales\": true,\\n  \"Experience: Consumer Digital\": true,\\n  \"Experience: CEO step up/potential\": true,\\n  \"Revenue Model: Marketplace\": true,\\n  \"Function: Supply Chain\": true,\\n  \"Function: Operations\": true,\\n  \"GTM: Brand Marketing\": true,\\n  \"GTM: Performance Marketing/Marketing Analytics\": true,\\n  \"GTM: Sales Operations\": true,\\n  \"GTM: Demand Generation\": true,\\n  \"Revenue Model: Hardware\": true,\\n  \"Function: Customer Success\": true,\\n  \"Experience: Turnaround\": true,\\n  \"PDT: Mobile Engineering\": true,\\n  \"PDT: Cloud Infrastructure\": true,\\n  \"PDT: Product Vision and Strategy\": true,\\n  \"PDT: User Acquisition\": true,\\n  \"Experience: Monetization\": true,\\n  \"PDT: UX/UI Design\": true,\\n  \"PDT: Project Management\": true,\\n  \"PDT: Program Management\": true,\\n  \"Experience: Team Size (31-50)\": true,\\n  \"Experience: Team Size (51-100)\": true,\\n  \"Experience: Team Size (101-200)\": true,\\n  \"Experience: Team Size (201-500)\": true,\\n  \"Experience: Team Size (501-1000)\": true,\\n  \"Experience: Team Size (1000+)\": true,\\n  \"Experience: Scaling Teams\": true,\\n  \"PDT: Writes Code\": true,\\n  \"PDT: Performs Code Reviews\": true,\\n  \"PDT: Designs Architecture\": true,\\n  \"PDT: Reviews Architecture\": true,\\n  \"Function: Corporate Development\": true,\\n  \"HR: Talent Acquisition\": true,\\n  \"Revenue Model: Payments\": true,\\n  \"GTM: Account-Based Marketing\": true,\\n  \"HR: Business Partner/Generalist\": true,\\n  \"FOP: Experience implementing systems and processes\": true,\\n  \"GTM: Farmer/Retention Sales\": true,\\n  \"CEO/Board: General Manager Experience\": true,\\n  \"GTM: AR/PR\": true,\\n  \"PDT: Information Security\": true,\\n  \"HR: Headcount Scale (0-200)\": true,\\n  \"HR: Headcount Scale (201-500)\": true,\\n  \"HR: Headcount Scale (501-1K+)\": true,\\n  \"HR: Headcount Scale (2K+)\": true,\\n  \"Revenue Model: High Velocity\": true,\\n  \"HR: HR Ops\": true,\\n  \"GTM: Hunter/Net New Sales\": true,\\n  \"Talent\": true,\\n  \"HR: Learning & Development\": true,\\n  \"HR: Organizational Development/Effectiveness\": true,\\n  \"FOP: Public company experience\": true,\\n  \"Function: Retail Operations\": true,\\n  \"Revenue Model: Services\": true,\\n  \"HR: Total Rewards\": true,\\n  \"Experience: Mass\": true,\\n  \"Experience: Prestige\": true,\\n  \"CEO/Board: Strong References\": true,\\n  \"Experience: Team Size (1-30)\": true,\\n  \"HR: HR + Operational Experience\": true,\\n  \"Blockchain\": true,\\n  \"PDT: Blockchain\": true,\\n  \"Revenue Recognition\": true,\\n  \"Technology/SaaS\": true,\\n  \"retention\": true,\\n  \"Experience: OnPremise to SaaS\": true,\\n  \"Experience: Revenue Scale ($10M to $30M)\": true,\\n  \"Experience: Revenue Scale ($10M to $50M)\": true,\\n  \"Experience: Revenue Scale ($50M to $100M)\": true,\\n  \"Function: Sales - Account Management\": true,\\n  \"Experience: Client-Facing\": true,\\n  \"Experience: Cold Calling\": true,\\n  \"GTM: Content Strategy\": true,\\n  \"Function: CRM (Customer Relationship Management)\": true,\\n  \"PDT: Machine Learning: Deep Learning\": true,\\n  \"PDT: Designer\": true,\\n  \"PDT: DevOps / TechOps / SRE\": true,\\n  \"GTM: Digital Marketing\": true,\\n  \"GTM: Digital Media\": true,\\n  \"GTM: Digital Strategy\": true,\\n  \"Experience: Data-driven\": true,\\n  \"Experience: Early Stage Venture\": true,\\n  \"Experience: Europe\": true,\\n  \"Experience: Revenue Scale ($0M to $10M)\": true,\\n  \"Experience: Revenue Scale ($500M+)\": true,\\n  \"Experience: Revenue Scale ($100M to $250M)\": true,\\n  \"Experience: Revenue Scale ($250M to $500)\": true,\\n  \"PDT: Firmware\": true,\\n  \"Function: Sales: Forecasting\": true,\\n  \"PDT: Gaming\": true,\\n  \"GTM: Strategy\": true,\\n  \"PDT: Programming Languages: HTML\": true,\\n  \"PDT: Programming Languages: HTML5\": true,\\n  \"Experience: Interfacing with C-level executives\": true,\\n  \"HR: Internal Communications\": true,\\n  \"Experience: Hiring / Interview Process\": true,\\n  \"Function: Research & Development\": true,\\n  \"PDT: Platforms: iOS\": true,\\n  \"PDT: IoT (Internet of Things)\": true,\\n  \"PDT: Languages: Java\": true,\\n  \"PDT: Languages: JavaScript\": true,\\n  \"PDT: Database Software: MongoDB\": true,\\n  \"PDT: Database Software: MySQL\": true,\\n  \"PDT: Natural Language Processing\": true,\\n  \"PDT: Platforms: .NET\": true,\\n  \"PDT: Platforms: Node\": true,\\n  \"PDT: Database Software: NoSQL\": true,\\n  \"HR: Onboarding\": true,\\n  \"PDT: Database Software: Oracle\": true,\\n  \"HR: Performance Management\": true,\\n  \"PDT: Programming Languages: PHP\": true,\\n  \"PDT: Database Software: Postgres / PostgreSQL\": true,\\n  \"GTM: Prospecting / New Accounts\": true,\\n  \"Function: Public Relations\": true,\\n  \"PDT: Programming Languages: Python\": true,\\n  \"PDT: Tools: React\": true,\\n  \"PDT: Tools: Redux\": true,\\n  \"HR: Retention\": true,\\n  \"PDT: Programming Languages: Ruby\": true,\\n  \"PDT: Tools: Ruby on Rails\": true,\\n  \"Function: Sales: Account Management\": true,\\n  \"HR: Sales and Marketing Recruiting\": true,\\n  \"Function: Sales (B2B)\": true,\\n  \"Function: Sales (B2C)\": true,\\n  \"GTM: Sales - Cross-sell / Up-sell\": true,\\n  \"Revenue Model: Direct Sales\": true,\\n  \"GTM: Sales - Efficiency\": true,\\n  \"GTM: Sales - Enablement\": true,\\n  \"Function: Sales Engineer\": true,\\n  \"Revenue Model: Enterprise Sales\": true,\\n  \"Function: Sales Management\": true,\\n  \"GTM: Sales - Partner / Affiliate / Channel\": true,\\n  \"GTM: Sales - Planning and Analysis\": true,\\n  \"Function: Regional Sales Director\": true,\\n  \"GTM: Sales - Training\": true,\\n  \"PDT: Programming Languages: Scala\": true,\\n  \"Experience: Scaled Team (10+)\": true,\\n  \"Experience: Scaled Team (100+)\": true,\\n  \"Experience: Scaled Team (20+)\": true,\\n  \"Experience: Scaled Team (50+)\": true,\\n  \"PDT - UX/UI Product Design\": true,\\n  \"PDT: SEO\": true,\\n  \"HR: Skills Assessment\": true,\\n  \"GTM: Social Media\": true,\\n  \"PDT: Software Development\": true,\\n  \"PDT: Programming Languages: SQL\": true,\\n  \"Revenue Model: Subscription\": true,\\n  \"PDT: System Administration\": true,\\n  \"HR: Talent Management\": true,\\n  \"HR: diverse workforce\": true,\\n  \"Open Source Technology\": true,\\n  \"Experience: Monetization\": true\\n}'}]\n",
      "Tagged as-> ['22269279', 'Maggie', 'Marketing', 'Software - Artificial Intelligence', 'Software - Analytics', 'Software - Security', 'CEO/BOD - General Manager', 'Services - Management Consulting', 'HR/Recruiting', 'Marketing Automation', 'Non-Profit', 'Internet - Social', 'Software - Healthcare', 'Software - Big Data', 'FOP: Fundraising experience', 'Revenue Model: Usage Based', 'Function: Engineering', 'Function: Customer Support', 'Function: Product Management', 'Function: Finance', 'Function: Professional Services', 'Function: Sales', 'Experience: Consumer Digital', 'Experience: CEO step up/potential', 'Revenue Model: Marketplace', 'Function: Supply Chain', 'Function: Operations', 'GTM: Brand Marketing', 'GTM: Performance Marketing/Marketing Analytics', 'GTM: Sales Operations', 'GTM: Demand Generation', 'Revenue Model: Hardware', 'Function: Customer Success', 'Experience: Turnaround', 'PDT: Mobile Engineering', 'PDT: Cloud Infrastructure', 'PDT: Product Vision and Strategy', 'PDT: User Acquisition', 'Experience: Monetization', 'PDT: UX/UI Design', 'PDT: Project Management', 'PDT: Program Management', 'Experience: Team Size (31-50)', 'Experience: Team Size (51-100)', 'Experience: Team Size (101-200)', 'Experience: Team Size (201-500)', 'Experience: Team Size (501-1000)', 'Experience: Team Size (1000+)', 'Experience: Scaling Teams', 'PDT: Writes Code', 'PDT: Performs Code Reviews', 'PDT: Designs Architecture', 'PDT: Reviews Architecture', 'Function: Corporate Development', 'HR: Talent Acquisition', 'Revenue Model: Payments', 'GTM: Account-Based Marketing', 'HR: Business Partner/Generalist', 'FOP: Experience implementing systems and processes', 'GTM: Farmer/Retention Sales', 'CEO/Board: General Manager Experience', 'GTM: AR/PR', 'PDT: Information Security', 'HR: Headcount Scale (0-200)', 'HR: Headcount Scale (201-500)', 'HR: Headcount Scale (501-1K+)', 'HR: Headcount Scale (2K+)', 'Revenue Model: High Velocity', 'HR: HR Ops', 'GTM: Hunter/Net New Sales', 'Talent', 'HR: Learning & Development', 'HR: Organizational Development/Effectiveness', 'FOP: Public company experience', 'Function: Retail Operations', 'Revenue Model: Services', 'HR: Total Rewards', 'Experience: Mass', 'Experience: Prestige', 'CEO/Board: Strong References', 'Experience: Team Size (1-30)', 'HR: HR + Operational Experience', 'Blockchain', 'PDT: Blockchain', 'Revenue Recognition', 'Technology/SaaS', 'retention', 'Experience: OnPremise to SaaS', 'Experience: Revenue Scale ($10M to $30M)', 'Experience: Revenue Scale ($10M to $50M)', 'Experience: Revenue Scale ($50M to $100M)', 'Function: Sales - Account Management', 'Experience: Client-Facing', 'Experience: Cold Calling', 'GTM: Content Strategy', 'Function: CRM (Customer Relationship Management)', 'PDT: Machine Learning: Deep Learning', 'PDT: Designer', 'PDT: DevOps / TechOps / SRE', 'GTM: Digital Marketing', 'GTM: Digital Media', 'GTM: Digital Strategy', 'Experience: Data-driven', 'Experience: Early Stage Venture', 'Experience: Europe', 'Experience: Revenue Scale ($0M to $10M)', 'Experience: Revenue Scale ($500M+)', 'Experience: Revenue Scale ($100M to $250M)', 'Experience: Revenue Scale ($250M to $500)', 'PDT: Firmware', 'Function: Sales: Forecasting', 'PDT: Gaming', 'GTM: Strategy', 'PDT: Programming Languages: HTML', 'PDT: Programming Languages: HTML5', 'Experience: Interfacing with C-level executives', 'HR: Internal Communications', 'Experience: Hiring / Interview Process', 'Function: Research & Development', 'PDT: Platforms: iOS', 'PDT: IoT (Internet of Things)', 'PDT: Languages: Java', 'PDT: Languages: JavaScript', 'PDT: Database Software: MongoDB', 'PDT: Database Software: MySQL', 'PDT: Natural Language Processing', 'PDT: Platforms: .NET', 'PDT: Platforms: Node', 'PDT: Database Software: NoSQL', 'HR: Onboarding', 'PDT: Database Software: Oracle', 'HR: Performance Management', 'PDT: Programming Languages: PHP', 'PDT: Database Software: Postgres / PostgreSQL', 'GTM: Prospecting / New Accounts', 'Function: Public Relations', 'PDT: Programming Languages: Python', 'PDT: Tools: React', 'PDT: Tools: Redux', 'HR: Retention', 'PDT: Programming Languages: Ruby', 'PDT: Tools: Ruby on Rails', 'Function: Sales: Account Management', 'HR: Sales and Marketing Recruiting', 'Function: Sales (B2B)', 'Function: Sales (B2C)', 'GTM: Sales - Cross-sell / Up-sell', 'Revenue Model: Direct Sales', 'GTM: Sales - Efficiency', 'GTM: Sales - Enablement', 'Function: Sales Engineer', 'Revenue Model: Enterprise Sales', 'Function: Sales Management', 'GTM: Sales - Partner / Affiliate / Channel', 'GTM: Sales - Planning and Analysis', 'Function: Regional Sales Director', 'GTM: Sales - Training', 'PDT: Programming Languages: Scala', 'Experience: Scaled Team (10+)', 'Experience: Scaled Team (100+)', 'Experience: Scaled Team (20+)', 'Experience: Scaled Team (50+)', 'PDT - UX/UI Product Design', 'PDT: SEO', 'HR: Skills Assessment', 'GTM: Social Media', 'PDT: Software Development', 'PDT: Programming Languages: SQL', 'Revenue Model: Subscription', 'PDT: System Administration', 'HR: Talent Management', 'HR: diverse workforce', 'Open Source Technology']\n",
      "Model Tagged as-> ['22269279', 'Maggie', 'Marketing', 'Software - Artificial Intelligence', 'Software - Analytics', 'Software - Security', 'CEO/BOD - General Manager', 'Services - Management Consulting', 'HR/Recruiting', 'Marketing Automation', 'Non-Profit', 'Internet - Social', 'Software - Healthcare', 'Software - Big Data', 'FOP: Fundraising experience', 'Revenue Model: Usage Based', 'Function: Engineering', 'Function: Customer Support', 'Function: Product Management', 'Function: Finance', 'Function: Professional Services', 'Function: Sales', 'Experience: Consumer Digital', 'Experience: CEO step up/potential', 'Revenue Model: Marketplace', 'Function: Supply Chain', 'Function: Operations', 'GTM: Brand Marketing', 'GTM: Performance Marketing/Marketing Analytics', 'GTM: Sales Operations', 'GTM: Demand Generation', 'Revenue Model: Hardware', 'Function: Customer Success', 'Experience: Turnaround', 'PDT: Mobile Engineering', 'PDT: Cloud Infrastructure', 'PDT: Product Vision and Strategy', 'PDT: User Acquisition', 'Experience: Monetization', 'PDT: UX/UI Design', 'PDT: Project Management', 'PDT: Program Management', 'Experience: Team Size (31-50)', 'Experience: Team Size (51-100)', 'Experience: Team Size (101-200)', 'Experience: Team Size (201-500)', 'Experience: Team Size (501-1000)', 'Experience: Team Size (1000+)', 'Experience: Scaling Teams', 'PDT: Writes Code', 'PDT: Performs Code Reviews', 'PDT: Designs Architecture', 'PDT: Reviews Architecture', 'Function: Corporate Development', 'HR: Talent Acquisition', 'Revenue Model: Payments', 'GTM: Account-Based Marketing', 'HR: Business Partner/Generalist', 'FOP: Experience implementing systems and processes', 'GTM: Farmer/Retention Sales', 'CEO/Board: General Manager Experience', 'GTM: AR/PR', 'PDT: Information Security', 'HR: Headcount Scale (0-200)', 'HR: Headcount Scale (201-500)', 'HR: Headcount Scale (501-1K+)', 'HR: Headcount Scale (2K+)', 'Revenue Model: High Velocity', 'HR: HR Ops', 'GTM: Hunter/Net New Sales', 'Talent', 'HR: Learning & Development', 'HR: Organizational Development/Effectiveness', 'FOP: Public company experience', 'Function: Retail Operations', 'Revenue Model: Services', 'HR: Total Rewards', 'Experience: Mass', 'Experience: Prestige', 'CEO/Board: Strong References', 'Experience: Team Size (1-30)', 'HR: HR + Operational Experience', 'Blockchain', 'PDT: Blockchain', 'Revenue Recognition', 'Technology/SaaS', 'retention', 'Experience: OnPremise to SaaS', 'Experience: Revenue Scale ($10M to $30M)', 'Experience: Revenue Scale ($10M to $50M)', 'Experience: Revenue Scale ($50M to $100M)', 'Function: Sales - Account Management', 'Experience: Client-Facing', 'Experience: Cold Calling', 'GTM: Content Strategy', 'Function: CRM (Customer Relationship Management)', 'PDT: Machine Learning: Deep Learning', 'PDT: Designer', 'PDT: DevOps / TechOps / SRE', 'GTM: Digital Marketing', 'GTM: Digital Media', 'GTM: Digital Strategy', 'Experience: Data-driven', 'Experience: Early Stage Venture', 'Experience: Europe', 'Experience: Revenue Scale ($0M to $10M)', 'Experience: Revenue Scale ($500M+)', 'Experience: Revenue Scale ($100M to $250M)', 'Experience: Revenue Scale ($250M to $500)', 'PDT: Firmware', 'Function: Sales: Forecasting', 'PDT: Gaming', 'GTM: Strategy', 'PDT: Programming Languages: HTML', 'PDT: Programming Languages: HTML5', 'Experience: Interfacing with C-level executives', 'HR: Internal Communications', 'Experience: Hiring / Interview Process', 'Function: Research & Development', 'PDT: Platforms: iOS', 'PDT: IoT (Internet of Things)', 'PDT: Languages: Java', 'PDT: Languages: JavaScript', 'PDT: Database Software: MongoDB', 'PDT: Database Software: MySQL', 'PDT: Natural Language Processing', 'PDT: Platforms: .NET', 'PDT: Platforms: Node', 'PDT: Database Software: NoSQL', 'HR: Onboarding', 'PDT: Database Software: Oracle', 'HR: Performance Management', 'PDT: Programming Languages: PHP', 'PDT: Database Software: Postgres / PostgreSQL', 'GTM: Prospecting / New Accounts', 'Function: Public Relations', 'PDT: Programming Languages: Python', 'PDT: Tools: React', 'PDT: Tools: Redux', 'HR: Retention', 'PDT: Programming Languages: Ruby', 'PDT: Tools: Ruby on Rails', 'Function: Sales: Account Management', 'HR: Sales and Marketing Recruiting', 'Function: Sales (B2B)', 'Function: Sales (B2C)', 'GTM: Sales - Cross-sell / Up-sell', 'Revenue Model: Direct Sales', 'GTM: Sales - Efficiency', 'GTM: Sales - Enablement', 'Function: Sales Engineer', 'Revenue Model: Enterprise Sales', 'Function: Sales Management', 'GTM: Sales - Partner / Affiliate / Channel', 'GTM: Sales - Planning and Analysis', 'Function: Regional Sales Director', 'GTM: Sales - Training', 'PDT: Programming Languages: Scala', 'Experience: Scaled Team (10+)', 'Experience: Scaled Team (100+)', 'Experience: Scaled Team (20+)', 'Experience: Scaled Team (50+)', 'PDT - UX/UI Product Design', 'PDT: SEO', 'HR: Skills Assessment', 'GTM: Social Media', 'PDT: Software Development', 'PDT: Programming Languages: SQL', 'Revenue Model: Subscription', 'PDT: System Administration', 'HR: Talent Management', 'HR: diverse workforce', 'Open Source Technology']\n",
      "**************Model output*************\n",
      "\n",
      "[{'type': 'text', 'text': '{\\n  \"Healthcare - HCIT\": true,\\n  \"Healthcare - Biotech/ Pharma\": true,\\n  \"Healthcare - Consumer Health\": true,\\n  \"Healthcare - Devices/ Diagnostics\": true,\\n  \"Healthcare - HC Services\": true,\\n  \"Life Sciences - Healthcare\": true,\\n  \"Software - Healthcare\": true\\n}'}]\n",
      "Tagged as-> ['702321191', 'Nicola', 'Healthcare - HCIT', 'Healthcare - Biotech/ Pharma', 'Healthcare - Consumer Health', 'Healthcare - Devices/ Diagnostics', 'Healthcare - HC Services', 'Life Sciences - Healthcare', 'Software - Healthcare']\n",
      "Model Tagged as-> ['702321191', 'Nicola', 'Healthcare - HCIT', 'Healthcare - Biotech/ Pharma', 'Healthcare - Consumer Health', 'Healthcare - Devices/ Diagnostics', 'Healthcare - HC Services', 'Life Sciences - Healthcare', 'Software - Healthcare']\n"
     ]
    }
   ],
   "source": [
    "# prompt preparation for model ,saves result to tagged_people2.csv \n",
    "import json\n",
    "import csv\n",
    "\n",
    "# Open a CSV file in append mode to store the tagged information\n",
    "# base_path = '/home/jovyan/work/output_data/'\n",
    "with open('/home/jovyan/work/output_data/tagged_people.csv', 'a', newline='') as csvfile:\n",
    "    writer = csv.writer(csvfile)\n",
    "\n",
    "    # Iterate over the first few rows in the DataFrame\n",
    "    for index, row in all_rows_df.iterrows():\n",
    "        extracted_values = []\n",
    "        person_tagged =[]\n",
    "        plain_text = row['plain_text']\n",
    "\n",
    "        person_id = plain_text.split(' ')[0].split(':')[1]\n",
    "        name = plain_text.split('name:')[1].split(' ')[0]\n",
    "\n",
    "        # Appending the extracted values to the list\n",
    "        extracted_values.extend([person_id, name])\n",
    "\n",
    "        # Construct the prompt string for each row\n",
    "        prompt = f\"\"\"\n",
    "        From this person profile: {row['plain_text']}\n",
    "        Find if he has experience in any of the following areas or domains and return the result strictly always as JSON,no summary, only true cases.\n",
    "        Areas belong to: {tag_str}\n",
    "        \"\"\"\n",
    "        #print(prompt)        \n",
    "        # Print or use the prompt as needed\n",
    "        print(f\"**************Model output*************\\n\")\n",
    "        result = invoke_claude_model_with_prompt(prompt)\n",
    "        print(result)\n",
    "\n",
    "        # Ensure that the result is a list containing a dictionary\n",
    "        if isinstance(result, list) and len(result) > 0 and isinstance(result[0], dict) and 'text' in result[0]:\n",
    "            # Extract the JSON-formatted text from the dictionary\n",
    "            json_text = result[0]['text']\n",
    "            \n",
    "            # Remove the triple backticks from the string\n",
    "            json_text = json_text.strip('```')\n",
    "            \n",
    "            # Parse the JSON-formatted text into a dictionary\n",
    "            try:\n",
    "                text_dict = json.loads(json_text)\n",
    "                \n",
    "                # Extract the true cases from the dictionary\n",
    "                true_cases = [key for key, value in text_dict.items() if value]\n",
    "                \n",
    "                person_tagged = extracted_values + true_cases\n",
    "                # Write the tagged information to the CSV file\n",
    "                #writer.writerow(person_tagged)\n",
    "                \n",
    "                print(f\"Tagged as-> {person_tagged}\")\n",
    "\n",
    "            except json.JSONDecodeError:\n",
    "                print(\"The extracted text is not in a valid JSON format.\")\n",
    "        \n",
    "        else:\n",
    "            print(\"The result is not in the expected format.\")\n",
    "        \n",
    "        print(f\"Model Tagged as-> {person_tagged}\")\n",
    "        writer.writerow(person_tagged) "
   ]
  },
  {
   "cell_type": "code",
   "execution_count": null,
   "id": "7ccd5fb9-afbb-4ac3-af94-b167c3b66e73",
   "metadata": {},
   "outputs": [],
   "source": []
  }
 ],
 "metadata": {
  "kernelspec": {
   "display_name": "Python 3 (ipykernel)",
   "language": "python",
   "name": "python3"
  },
  "language_info": {
   "codemirror_mode": {
    "name": "ipython",
    "version": 3
   },
   "file_extension": ".py",
   "mimetype": "text/x-python",
   "name": "python",
   "nbconvert_exporter": "python",
   "pygments_lexer": "ipython3",
   "version": "3.11.6"
  }
 },
 "nbformat": 4,
 "nbformat_minor": 5
}

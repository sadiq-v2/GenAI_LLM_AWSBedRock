{
 "cells": [
  {
   "cell_type": "code",
   "execution_count": 1,
   "id": "46323270",
   "metadata": {},
   "outputs": [],
   "source": [
    "from pyspark.sql import SparkSession\n",
    "from pyspark.sql.functions import count, col, concat_ws, row_number, desc\n",
    "from pyspark.sql import functions as F\n",
    "from pyspark.sql.window import Window\n",
    "from pyspark.sql.types import StructType, StructField, StringType, TimestampType"
   ]
  },
  {
   "cell_type": "code",
   "execution_count": 2,
   "id": "4445238b-be33-4e66-ba80-127a9594b522",
   "metadata": {},
   "outputs": [],
   "source": [
    "# Initialize SparkSession\n",
    "spark = SparkSession.builder \\\n",
    "    .appName('aws_connection') \\\n",
    "    .getOrCreate()"
   ]
  },
  {
   "cell_type": "code",
   "execution_count": 3,
   "id": "40b53868",
   "metadata": {},
   "outputs": [],
   "source": [
    "# Please update , Valid Keys,for test run uncommenting \"result = invoke_claude_model_with_prompt(prompt)\" in below cell\n",
    " \n",
    "AWS_ACCESS_KEY_ID =\" \"\n",
    " \n",
    "AWS_SECRET_ACCESS_KEY = \" \"\n",
    " \n",
    "AWS_SESSION_TOKEN = \" \""
   ]
  },
  {
   "cell_type": "code",
   "execution_count": 4,
   "id": "92aa6377-fa03-4395-a5ca-e6aa345cc66d",
   "metadata": {},
   "outputs": [
    {
     "name": "stdout",
     "output_type": "stream",
     "text": [
      "[{'type': 'text', 'text': '{\\n  \"capital\": \"New Delhi\"\\n}'}]\n"
     ]
    }
   ],
   "source": [
    "# claude Model, Tested Working, Never change this function\n",
    "import boto3\n",
    "import json\n",
    "\n",
    "def invoke_claude_model_with_prompt(prompt):\n",
    "    # Construct the payload with the provided prompt, Never Change\n",
    "    payload = {\n",
    "        \"max_tokens\": 5000,\n",
    "        \"messages\": [{\"role\": \"user\", \"content\": prompt}],\n",
    "        \"anthropic_version\": \"bedrock-2023-05-31\"\n",
    "    }\n",
    "\n",
    "    # Create a Boto3 session\n",
    "    session = boto3.Session(\n",
    "        aws_access_key_id=AWS_ACCESS_KEY_ID,\n",
    "        aws_secret_access_key=AWS_SECRET_ACCESS_KEY,\n",
    "        aws_session_token=AWS_SESSION_TOKEN\n",
    "    )\n",
    "\n",
    "    # Create a Bedrock Runtime client\n",
    "    client = session.client('bedrock-runtime', region_name='us-east-1')\n",
    "\n",
    "    # Invoke the model with the payload\n",
    "    response = client.invoke_model(body=json.dumps(payload), modelId=\"anthropic.claude-3-sonnet-20240229-v1:0\")\n",
    "\n",
    "    # Parse the response body\n",
    "    response_body = json.loads(response.get(\"body\").read())\n",
    "\n",
    "    # Return the content from the response\n",
    "    return response_body.get(\"content\")\n",
    "\n",
    "# Example usage:\n",
    "prompt = \"Hello, world. What is the capital of India? Give the result in JSON format.\"\n",
    "result = invoke_claude_model_with_prompt(prompt)\n",
    "print(result)"
   ]
  },
  {
   "cell_type": "code",
   "execution_count": 5,
   "id": "ade7c086-1865-4db4-91fd-ebc45bbeef1f",
   "metadata": {},
   "outputs": [
    {
     "name": "stdout",
     "output_type": "stream",
     "text": [
      "root\n",
      " |-- full_ancestral_name: string (nullable = true)\n",
      "\n",
      "+--------------------+\n",
      "| full_ancestral_name|\n",
      "+--------------------+\n",
      "|Software - Busine...|\n",
      "|  Software - Ed Tech|\n",
      "|  Software - FinTech|\n",
      "|   Healthcare - HCIT|\n",
      "|Software - IT Inf...|\n",
      "|Software - Intern...|\n",
      "| Software - MegaTech|\n",
      "|   Software - Mobile|\n",
      "| Software - Payments|\n",
      "|Software - SaaS/C...|\n",
      "| Software - Security|\n",
      "|Internet - Advert...|\n",
      "|CEO/BOD - General...|\n",
      "|Internet - E-Comm...|\n",
      "|  Internet - Ed Tech|\n",
      "|        10/10 Gender|\n",
      "|Internet - Market...|\n",
      "| Internet - MegaTech|\n",
      "|   Internet - Mobile|\n",
      "|       CT - Biofuels|\n",
      "+--------------------+\n",
      "only showing top 20 rows\n",
      "\n",
      "16572\n",
      "tag_str word len -> 2238\n"
     ]
    }
   ],
   "source": [
    "# Read Tag CSV file into a DataFrame\n",
    "tag_df = spark.read.csv(\"/home/jovyan/work/utility/tags.csv\", header=True, inferSchema=True)\n",
    "# Show the DataFrame schema and first few rows\n",
    "tag_df.printSchema()\n",
    "tag_df.show()\n",
    "tag_df.count()\n",
    "# Convert the column of interest to a list of strings\n",
    "tag_list = tag_df.select(\"full_ancestral_name\").rdd.flatMap(lambda x: x).collect()\n",
    "\n",
    "# Join the list of strings\n",
    "tag_str = \", \".join(tag_list)\n",
    "print(len(tag_str))\n",
    "\n",
    "word_count = len(tag_str.split())\n",
    "print(f\"tag_str word len -> {word_count}\")\n"
   ]
  },
  {
   "cell_type": "code",
   "execution_count": 6,
   "id": "97879758-cc48-4de0-a7e2-73c1ad3f17f9",
   "metadata": {},
   "outputs": [
    {
     "name": "stdout",
     "output_type": "stream",
     "text": [
      "{'person_id': 949256266, 'name': 'Vivian Weng', 'education': [{'institution_name': 'University of California, Berkeley - Walter A. Haas School of Business', 'degree': 'NaN', 'subject': 'MBA, Finance', 'started_on': '2007-01-01', 'ended_on': '2009-01-01'}, {'institution_name': 'National Taiwan University', 'degree': 'NaN', 'subject': 'BA, International Relations', 'started_on': '1998-01-01', 'ended_on': '2002-01-01'}, {'institution_name': 'Yale University', 'degree': 'NaN', 'subject': 'MA, International Developmental Economics', 'started_on': '2002-01-01', 'ended_on': '2003-01-01'}], 'employments': [{'company_name': 'Frog', 'seniority_level': 'Director', 'title': 'Associate Strategy Director, Innovation Strategy Group', 'position_description': 'NaN', 'started_on': '02/01/2012', 'ended_on': '06/01/2016'}, {'company_name': 'DBS Bank', 'seniority_level': 'VP', 'title': 'Vice President, Innovation Group', 'position_description': 'NaN', 'started_on': '07/01/2016', 'ended_on': '04/01/2019'}, {'company_name': 'Apple', 'seniority_level': 'NaN', 'title': 'Product Design Producer, International Product Design', 'position_description': 'NaN', 'started_on': '04/01/2019', 'ended_on': 'NaN', 'company_revenue_amount_usd': 31949031445.0, 'headcount': 224704}, {'company_name': 'Goldman Sachs', 'seniority_level': 'NaN', 'title': 'Investment Banking Division Summer Associate', 'position_description': 'NaN', 'started_on': '06/01/2008', 'ended_on': '08/01/2008', 'company_revenue_amount_usd': 8417546311.0, 'headcount': 75859}, {'company_name': 'McKinsey & Company', 'seniority_level': 'NaN', 'title': 'Business Analyst', 'position_description': 'NaN', 'started_on': '01/01/2004', 'ended_on': '01/01/2007'}, {'company_name': 'McKinsey & Company', 'seniority_level': 'NaN', 'title': 'Senior Associate, Corporate Finance', 'position_description': 'NaN', 'started_on': '09/01/2009', 'ended_on': '11/01/2011'}]}\n"
     ]
    }
   ],
   "source": [
    "import json\n",
    "\n",
    "def read_json_file(file_path):\n",
    "    \"\"\"\n",
    "    Read JSON objects from a JSON file.\n",
    "\n",
    "    Args:\n",
    "        file_path (str): The path of the JSON file to read.\n",
    "\n",
    "    Returns:\n",
    "        List: A list containing JSON objects read from the file.\n",
    "    \"\"\"\n",
    "    json_objects = []\n",
    "    with open(file_path, 'r') as file:\n",
    "        for line in file:\n",
    "            json_obj = json.loads(line.strip())  # Load JSON object from each line\n",
    "            json_objects.append(json_obj)\n",
    "    return json_objects\n",
    "\n",
    "# Usage:\n",
    "json_objects = read_json_file(\"input_people_data.json\")\n",
    "# Count the number of objects\n",
    "\n",
    "print(json_objects[0])\n"
   ]
  },
  {
   "cell_type": "code",
   "execution_count": 11,
   "id": "3becfa7e-e694-456c-9c52-10d745324c91",
   "metadata": {},
   "outputs": [
    {
     "name": "stdout",
     "output_type": "stream",
     "text": [
      "Number of objects: 999\n",
      "person_id->949256266\n",
      "name->Vivian Weng\n",
      "Model output\n",
      "Parsed dictionary: {'Financial Services': True, 'Services - Management Consulting': True, 'Internet - Advertising Tech': True, 'Software - Big Data': True}\n",
      "True cases: ['Financial Services', 'Services - Management Consulting', 'Internet - Advertising Tech', 'Software - Big Data']\n"
     ]
    }
   ],
   "source": [
    "import csv\n",
    "import json\n",
    "num_objects = len(json_objects)\n",
    "print(\"Number of objects:\", num_objects)\n",
    "\n",
    "# Open a CSV file in write mode to store the tagged information (overwriting existing content)\n",
    "with open('/home/jovyan/work/output_data/tagged_people.csv', 'w', newline='') as csvfile:\n",
    "    writer = csv.writer(csvfile)\n",
    "\n",
    "    # Iterate over each JSON object in the list\n",
    "    for i in range(num_objects):\n",
    "        person_tagged = []\n",
    "\n",
    "        person_id = json_objects[i]['person_id']\n",
    "        name = json_objects[i]['name']\n",
    "        Tags_assigned = \"Tags_assigned\"\n",
    "        print(f\"person_id->{person_id}\")\n",
    "        print(f\"name->{name}\")\n",
    "\n",
    "        person_tagged.append(person_id)  # Add person_id to person_tagged list\n",
    "        person_tagged.append(name)  # Add name to person_tagged list\n",
    "        person_tagged.append(Tags_assigned)  # Add name to person_tagged list\n",
    "        \n",
    "        prompt = f\"\"\"\n",
    "        From this person profile: {json_objects[i]}\n",
    "        Find if they have experience in any of the following areas or domains and \n",
    "        return the result strictly always as JSON, no summary, only true cases. Areas belong to: {tag_str}\n",
    "        \"\"\"\n",
    "\n",
    "        print(\"Model output\")\n",
    "        result = invoke_claude_model_with_prompt(prompt)\n",
    "        \n",
    "        json_text = result[0]['text']\n",
    "\n",
    "        # Find the start of JSON data\n",
    "        json_start = json_text.find('{')\n",
    "        if json_start != -1:\n",
    "            # Strip the unwanted text before JSON data\n",
    "            json_text = json_text[json_start:]\n",
    "        \n",
    "            # Parse the JSON-formatted text into a dictionary\n",
    "            try:\n",
    "                text_dict = json.loads(json_text)\n",
    "                print(\"Parsed dictionary:\", text_dict)\n",
    "\n",
    "                # Extract true cases from the dictionary\n",
    "                true_cases = [key for key, value in text_dict.items() if value]\n",
    "                print(\"True cases:\", true_cases)\n",
    "\n",
    "                # Write the tagged information to the CSV file\n",
    "                writer.writerow(person_tagged)\n",
    "                for case in true_cases:\n",
    "                    writebuff = [None, None, case]\n",
    "                    writer.writerow(writebuff)\n",
    "\n",
    "            except json.JSONDecodeError:\n",
    "                print(\"Error: The extracted text is not in a valid JSON format.\")"
   ]
  },
  {
   "cell_type": "code",
   "execution_count": null,
   "id": "e6238b97-0e8c-440b-83f6-f239c378b148",
   "metadata": {},
   "outputs": [],
   "source": [
    "print(\" ***********Completed ***************\")"
   ]
  }
 ],
 "metadata": {
  "kernelspec": {
   "display_name": "Python 3 (ipykernel)",
   "language": "python",
   "name": "python3"
  },
  "language_info": {
   "codemirror_mode": {
    "name": "ipython",
    "version": 3
   },
   "file_extension": ".py",
   "mimetype": "text/x-python",
   "name": "python",
   "nbconvert_exporter": "python",
   "pygments_lexer": "ipython3",
   "version": "3.11.6"
  }
 },
 "nbformat": 4,
 "nbformat_minor": 5
}

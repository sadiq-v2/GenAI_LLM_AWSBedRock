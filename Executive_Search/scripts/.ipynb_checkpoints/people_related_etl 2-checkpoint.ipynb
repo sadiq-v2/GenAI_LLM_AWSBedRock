{
 "cells": [
  {
   "cell_type": "markdown",
   "id": "4d3ef811",
   "metadata": {},
   "source": [
    "***Import the necessary libraries***"
   ]
  },
  {
   "cell_type": "code",
   "execution_count": null,
   "id": "dbc28442",
   "metadata": {},
   "outputs": [],
   "source": [
    "#Import the necessary libraries\n",
    "\n",
    "from pyspark.sql import SparkSession\n",
    "from pyspark.sql.functions import count, col, concat_ws, row_number, desc\n",
    "from pyspark.sql import functions as F\n",
    "from pyspark.sql.window import Window\n",
    "from pyspark.sql.types import StructType, StructField, StringType, TimestampType"
   ]
  },
  {
   "cell_type": "code",
   "execution_count": null,
   "id": "12d07156",
   "metadata": {},
   "outputs": [
    {
     "ename": "",
     "evalue": "",
     "output_type": "error",
     "traceback": [
      "\u001b[1;31mnotebook controller is DISPOSED. \n",
      "\u001b[1;31mView Jupyter <a href='command:jupyter.viewOutput'>log</a> for further details."
     ]
    }
   ],
   "source": [
    "#Import the necessary libraries\n",
    "\n",
    "from pyspark.sql import SparkSession\n",
    "from pyspark.sql.functions import count, col, concat_ws, row_number, desc\n",
    "from pyspark.sql import functions as F\n",
    "from pyspark.sql.window import Window\n",
    "from pyspark.sql.types import StructType, StructField, StringType, TimestampType"
   ]
  },
  {
   "cell_type": "code",
   "execution_count": null,
   "id": "c0bc3a84",
   "metadata": {},
   "outputs": [
    {
     "ename": "",
     "evalue": "",
     "output_type": "error",
     "traceback": [
      "\u001b[1;31mnotebook controller is DISPOSED. \n",
      "\u001b[1;31mView Jupyter <a href='command:jupyter.viewOutput'>log</a> for further details."
     ]
    },
    {
     "ename": "",
     "evalue": "",
     "output_type": "error",
     "traceback": [
      "\u001b[1;31mnotebook controller is DISPOSED. \n",
      "\u001b[1;31mView Jupyter <a href='command:jupyter.viewOutput'>log</a> for further details."
     ]
    },
    {
     "ename": "",
     "evalue": "",
     "output_type": "error",
     "traceback": [
      "\u001b[1;31mnotebook controller is DISPOSED. \n",
      "\u001b[1;31mView Jupyter <a href='command:jupyter.viewOutput'>log</a> for further details."
     ]
    }
   ],
   "source": [
    "print(\"test\")"
   ]
  },
  {
   "cell_type": "markdown",
   "id": "0c89c4c5",
   "metadata": {},
   "source": [
    "***Initialize the the connection from the Spark to the postgresql database***"
   ]
  },
  {
   "cell_type": "code",
   "execution_count": null,
   "id": "b84ef717",
   "metadata": {},
   "outputs": [
    {
     "ename": "",
     "evalue": "",
     "output_type": "error",
     "traceback": [
      "\u001b[1;31mnotebook controller is DISPOSED. \n",
      "\u001b[1;31mView Jupyter <a href='command:jupyter.viewOutput'>log</a> for further details."
     ]
    },
    {
     "ename": "",
     "evalue": "",
     "output_type": "error",
     "traceback": [
      "\u001b[1;31mnotebook controller is DISPOSED. \n",
      "\u001b[1;31mView Jupyter <a href='command:jupyter.viewOutput'>log</a> for further details."
     ]
    },
    {
     "ename": "",
     "evalue": "",
     "output_type": "error",
     "traceback": [
      "\u001b[1;31mnotebook controller is DISPOSED. \n",
      "\u001b[1;31mView Jupyter <a href='command:jupyter.viewOutput'>log</a> for further details."
     ]
    }
   ],
   "source": [
    "# Initialize SparkSession\n",
    "spark = SparkSession.builder \\\n",
    "    .appName('postgresql_connection') \\\n",
    "    .getOrCreate()\n"
   ]
  },
  {
   "cell_type": "code",
   "execution_count": 4,
   "id": "9ef51b6d",
   "metadata": {},
   "outputs": [],
   "source": [
    "# PostgreSQL connection parameters\n",
    "database = \"skyminyr_development\"\n",
    "user = \"postgres\"\n",
    "password = \"password\"\n",
    "url = f\"jdbc:postgresql://global-db:5432/{database}\""
   ]
  },
  {
   "cell_type": "code",
   "execution_count": 5,
   "id": "c9d1b3ab",
   "metadata": {},
   "outputs": [],
   "source": [
    "# Read table names from PostgreSQL metadata\n",
    "table_names = spark.read \\\n",
    "    .format(\"jdbc\") \\\n",
    "    .option(\"url\", url) \\\n",
    "    .option(\"user\", user) \\\n",
    "    .option(\"password\", password) \\\n",
    "    .option(\"driver\", \"org.postgresql.Driver\") \\\n",
    "    .option(\"dbtable\", \"(SELECT table_name FROM information_schema.tables WHERE table_schema = 'public') as tables\") \\\n",
    "    .load()"
   ]
  },
  {
   "cell_type": "code",
   "execution_count": 6,
   "id": "6ffa3f46-96ad-4b53-ba9c-b6bfcfa7d856",
   "metadata": {},
   "outputs": [
    {
     "name": "stdout",
     "output_type": "stream",
     "text": [
      "Available Tables:\n",
      "ar_internal_metadata\n",
      "companies\n",
      "company_annual_revenues\n",
      "company_customers\n",
      "company_events\n",
      "company_funding_round_investors\n",
      "company_funding_rounds\n",
      "company_headcounts\n",
      "company_locations\n",
      "company_names\n",
      "company_sectors\n",
      "company_social_urls\n",
      "company_stock_tickers\n",
      "people\n",
      "person_customers\n",
      "person_educations\n",
      "person_employments\n",
      "person_social_urls\n",
      "schema_migrations\n"
     ]
    }
   ],
   "source": [
    "\n",
    "\n",
    "# Convert the DataFrame to a list of table names\n",
    "table_list = table_names.select(\"table_name\").rdd.flatMap(lambda x: x).collect()\n",
    "\n",
    "# Print the list of table names\n",
    "print(\"Available Tables:\")\n",
    "for table_name in table_list:\n",
    "    print(table_name)\n",
    "\n",
    "# Now you can use this list to access each table individually"
   ]
  },
  {
   "cell_type": "code",
   "execution_count": 7,
   "id": "e2c5091a-4474-4ebd-94e1-debaaffd239e",
   "metadata": {},
   "outputs": [],
   "source": [
    "# Function to load data from a table into a DataFrame\n",
    "def load_table(table_name):\n",
    "    df = spark.read \\\n",
    "        .format(\"jdbc\") \\\n",
    "        .option(\"url\", url) \\\n",
    "        .option(\"dbtable\", table_name) \\\n",
    "        .option(\"user\", user) \\\n",
    "        .option(\"password\", password) \\\n",
    "        .option(\"driver\", \"org.postgresql.Driver\") \\\n",
    "        .load()\n",
    "    return df"
   ]
  },
  {
   "cell_type": "markdown",
   "id": "74da643e",
   "metadata": {},
   "source": [
    "***Load the table into the dataframes***"
   ]
  },
  {
   "cell_type": "code",
   "execution_count": 8,
   "id": "9b03575a",
   "metadata": {},
   "outputs": [],
   "source": [
    "# Load data from the people related tables into a DataFrame\n",
    "people_df = load_table(\"people\")\n",
    "person_customer_df = load_table(\"person_customers\")\n",
    "person_educations_df = load_table(\"person_educations\")\n",
    "person_employments_df = load_table(\"person_employments\")\n",
    "person_social_urls_df = load_table(\"person_social_urls\")\n",
    "company_sectors_df = load_table(\"company_sectors\")\n",
    "company_headcounts_df = load_table(\"company_headcounts\")\n",
    "company_annual_revenues_df = load_table(\"company_annual_revenues\")\n",
    "company_stock_tickers_df = load_table(\"company_stock_tickers\")\n",
    "company_funding_rounds_df = load_table(\"company_funding_rounds\")"
   ]
  },
  {
   "cell_type": "markdown",
   "id": "a04cc164",
   "metadata": {},
   "source": [
    "***Function to check the uniqueness of data***"
   ]
  },
  {
   "cell_type": "code",
   "execution_count": 9,
   "id": "2db8ff34",
   "metadata": {},
   "outputs": [],
   "source": [
    "#function to check the uniqueness of the dataframe\n",
    "def check_uniqueness(df, column_name):\n",
    "    # Add a new column 'is_duplicate' that flags if column_name is duplicated\n",
    "    df_duplicates_check = df.withColumn('is_duplicate', count(column_name).over(Window.partitionBy(column_name)) > 1)\n",
    "\n",
    "    # If any 'is_duplicate' is True, then DataFrame is not unique based on column_name\n",
    "    if df_duplicates_check.filter(col('is_duplicate')).count() > 0:\n",
    "        print(f\"DataFrame is not unique based on {column_name}\")\n",
    "    else:\n",
    "        print(f\"DataFrame is unique based on {column_name}\")"
   ]
  },
  {
   "cell_type": "code",
   "execution_count": 10,
   "id": "65dde6c9",
   "metadata": {},
   "outputs": [
    {
     "name": "stdout",
     "output_type": "stream",
     "text": [
      "DataFrame is unique based on id\n"
     ]
    }
   ],
   "source": [
    "check_uniqueness(people_df, 'id')"
   ]
  },
  {
   "cell_type": "markdown",
   "id": "8605763f",
   "metadata": {},
   "source": [
    "***Function to check the counts of data***"
   ]
  },
  {
   "cell_type": "code",
   "execution_count": 11,
   "id": "82c46548",
   "metadata": {},
   "outputs": [],
   "source": [
    "def count_records(df):\n",
    "    \"\"\"\n",
    "    This function counts the number of records in a DataFrame.\n",
    "\n",
    "    Parameters:\n",
    "    df (DataFrame): The DataFrame for which to count the records.\n",
    "\n",
    "    Returns:\n",
    "    int: The number of records in the DataFrame.\n",
    "    \"\"\"\n",
    "    # Use the count() function to count the number of rows in the DataFrame\n",
    "    num_records = df.count()\n",
    "\n",
    "    # Return the number of records\n",
    "    return num_records"
   ]
  },
  {
   "cell_type": "markdown",
   "id": "4b2e4f44",
   "metadata": {},
   "source": [
    "***People Table Transformation***"
   ]
  },
  {
   "cell_type": "code",
   "execution_count": 12,
   "id": "5104f31c",
   "metadata": {},
   "outputs": [],
   "source": [
    "# Select specific columns from the 'people_df' DataFrame, rename the 'id' column to 'person_id',\n",
    "# and concatenate 'address', 'city', 'region', 'postal_code', 'country' columns with a comma separator\n",
    "people_selected_df = people_df.select('id', 'name', 'address', 'city', 'region', 'postal_code', 'country', 'headline','description', 'created_at', 'updated_at')\\\n",
    "                              .withColumnRenamed('id', 'person_id')\\\n",
    "                              .withColumn('address', concat_ws(', ', 'address', 'city', 'region', 'postal_code', 'country'))\n",
    "\n",
    "people_selected_df = people_selected_df.select('person_id', 'name', 'address','headline','description', 'created_at', 'updated_at')\n",
    "\n",
    "# people_selected_df.show()"
   ]
  },
  {
   "cell_type": "code",
   "execution_count": 13,
   "id": "7231a208",
   "metadata": {},
   "outputs": [
    {
     "data": {
      "text/plain": [
       "999"
      ]
     },
     "execution_count": 13,
     "metadata": {},
     "output_type": "execute_result"
    }
   ],
   "source": [
    "count_records(people_selected_df)"
   ]
  },
  {
   "cell_type": "markdown",
   "id": "373a32a7",
   "metadata": {},
   "source": [
    "***Transformation for the \"person_customer\" table***"
   ]
  },
  {
   "cell_type": "code",
   "execution_count": 14,
   "id": "fdb2c473",
   "metadata": {},
   "outputs": [
    {
     "data": {
      "text/plain": [
       "166"
      ]
     },
     "execution_count": 14,
     "metadata": {},
     "output_type": "execute_result"
    },
    {
     "name": "stderr",
     "output_type": "stream",
     "text": [
      "----------------------------------------\n",
      "Exception occurred during processing of request from ('127.0.0.1', 54178)\n",
      "Traceback (most recent call last):\n",
      "  File \"/opt/conda/lib/python3.11/socketserver.py\", line 317, in _handle_request_noblock\n",
      "    self.process_request(request, client_address)\n",
      "  File \"/opt/conda/lib/python3.11/socketserver.py\", line 348, in process_request\n",
      "    self.finish_request(request, client_address)\n",
      "  File \"/opt/conda/lib/python3.11/socketserver.py\", line 361, in finish_request\n",
      "    self.RequestHandlerClass(request, client_address, self)\n",
      "  File \"/opt/conda/lib/python3.11/socketserver.py\", line 755, in __init__\n",
      "    self.handle()\n",
      "  File \"/usr/local/spark/python/pyspark/accumulators.py\", line 295, in handle\n",
      "    poll(accum_updates)\n",
      "  File \"/usr/local/spark/python/pyspark/accumulators.py\", line 267, in poll\n",
      "    if self.rfile in r and func():\n",
      "                           ^^^^^^\n",
      "  File \"/usr/local/spark/python/pyspark/accumulators.py\", line 271, in accum_updates\n",
      "    num_updates = read_int(self.rfile)\n",
      "                  ^^^^^^^^^^^^^^^^^^^^\n",
      "  File \"/usr/local/spark/python/pyspark/serializers.py\", line 596, in read_int\n",
      "    raise EOFError\n",
      "EOFError\n",
      "----------------------------------------\n"
     ]
    }
   ],
   "source": [
    "count_records(person_customer_df)\n",
    "\n",
    "# person_customer_df.show()"
   ]
  },
  {
   "cell_type": "code",
   "execution_count": null,
   "id": "23e27be2",
   "metadata": {},
   "outputs": [
    {
     "name": "stdout",
     "output_type": "stream",
     "text": [
      "DataFrame is not unique based on person_id\n"
     ]
    }
   ],
   "source": [
    "# Call the 'check_uniqueness' function on 'person_customer_df' DataFrame to check if 'person_id' is unique\n",
    "check_uniqueness(person_customer_df,'person_id')"
   ]
  },
  {
   "cell_type": "code",
   "execution_count": null,
   "id": "50c3a237",
   "metadata": {},
   "outputs": [
    {
     "name": "stdout",
     "output_type": "stream",
     "text": [
      "+---------+-----+\n",
      "|person_id|count|\n",
      "+---------+-----+\n",
      "|693540132|    2|\n",
      "+---------+-----+\n",
      "\n"
     ]
    },
    {
     "data": {
      "text/plain": [
       "1"
      ]
     },
     "execution_count": 17,
     "metadata": {},
     "output_type": "execute_result"
    }
   ],
   "source": [
    "# Group by 'person_id' and count the number of occurrences of each 'person_id'\n",
    "duplicate_rows = person_customer_df.groupBy('person_id').agg(count('*').alias('count'))\n",
    "\n",
    "# Filter the rows where 'count' is greater than 1 (i.e., 'person_id' is duplicated)\n",
    "duplicate_rows = duplicate_rows.filter(duplicate_rows['count'] > 1)\n",
    "\n",
    "# Show the duplicate rows\n",
    "duplicate_rows.show()\n",
    "count_records(duplicate_rows)"
   ]
  },
  {
   "cell_type": "code",
   "execution_count": null,
   "id": "4cdeaf41",
   "metadata": {},
   "outputs": [
    {
     "data": {
      "text/plain": [
       "165"
      ]
     },
     "execution_count": 18,
     "metadata": {},
     "output_type": "execute_result"
    }
   ],
   "source": [
    "# Define a window partitioned by person_id and ordered by updated_at in descending order\n",
    "window = Window.partitionBy(\"person_id\").orderBy(desc(\"updated_at\"))\n",
    "\n",
    "# Add a row_number column to the DataFrame\n",
    "person_customer_df = person_customer_df.withColumn(\"rn\", row_number().over(window))\n",
    "\n",
    "# Filter the DataFrame to keep only the rows with rn = 1 (i.e., the latest updated_at for each person_id)\n",
    "person_customer_df = person_customer_df.filter(person_customer_df.rn == 1)\n",
    "\n",
    "# Drop the rn column\n",
    "person_customer_df = person_customer_df.drop(\"rn\")\n",
    "\n",
    "count_records(person_customer_df)"
   ]
  },
  {
   "cell_type": "code",
   "execution_count": null,
   "id": "956d3579",
   "metadata": {},
   "outputs": [
    {
     "name": "stdout",
     "output_type": "stream",
     "text": [
      "DataFrame is unique based on person_id\n"
     ]
    }
   ],
   "source": [
    "# Call the 'check_uniqueness' function on 'person_customer_df' DataFrame to check if 'person_id' is unique\n",
    "check_uniqueness(person_customer_df,'person_id')"
   ]
  },
  {
   "cell_type": "code",
   "execution_count": null,
   "id": "9109413d",
   "metadata": {},
   "outputs": [],
   "source": [
    "# Select 'person_id' and 'customer_id' columns from 'person_customer_df' DataFrame\n",
    "people_selected_customer_df = person_customer_df.select('person_id', 'customer_id')\n",
    "\n",
    "# Join 'people_selected_df' with 'people_selected_customer_df' on 'person_id'\n",
    "people_person_customer_df = people_selected_df.join(people_selected_customer_df, on='person_id', how='left')\n",
    "\n",
    "# people_person_customer_df.show()"
   ]
  },
  {
   "cell_type": "code",
   "execution_count": null,
   "id": "aeb5f580",
   "metadata": {},
   "outputs": [
    {
     "data": {
      "text/plain": [
       "999"
      ]
     },
     "execution_count": 21,
     "metadata": {},
     "output_type": "execute_result"
    }
   ],
   "source": [
    "count_records(people_person_customer_df)"
   ]
  },
  {
   "cell_type": "markdown",
   "id": "a5ad0ee5",
   "metadata": {},
   "source": [
    "***Transformation for \"Person Education\" table***"
   ]
  },
  {
   "cell_type": "code",
   "execution_count": null,
   "id": "12de6278",
   "metadata": {},
   "outputs": [
    {
     "data": {
      "text/plain": [
       "1209"
      ]
     },
     "execution_count": 22,
     "metadata": {},
     "output_type": "execute_result"
    }
   ],
   "source": [
    "count_records(person_educations_df)\n",
    "# person_educations_df.show()"
   ]
  },
  {
   "cell_type": "code",
   "execution_count": null,
   "id": "a17fb6ef",
   "metadata": {},
   "outputs": [],
   "source": [
    "# Define a struct for each institute\n",
    "institute_struct = F.struct(\n",
    "    \"institution_id\", \"institution_name\", \"degree\", \"subject\", \"started_on\", \"ended_on\"\n",
    ")\n",
    "\n",
    "# Group by person_id and collect list of institute details as structs\n",
    "grouped_educations_df = person_educations_df.groupBy(\"person_id\").agg(\n",
    "    F.collect_list(institute_struct).alias(\"education\")\n",
    "    # (\"education - (institution_id, institution_name, degree, subject, started_on, ended_on)\")\n",
    ")\n",
    "\n",
    "person_education_group_df = grouped_educations_df\n",
    "\n",
    "\n",
    "\n",
    "# Show the result\n",
    "# person_education_group_df.show(truncate=False)\n"
   ]
  },
  {
   "cell_type": "code",
   "execution_count": null,
   "id": "e385abae",
   "metadata": {},
   "outputs": [
    {
     "name": "stdout",
     "output_type": "stream",
     "text": [
      "DataFrame is unique based on person_id\n"
     ]
    }
   ],
   "source": [
    "check_uniqueness(person_education_group_df, 'person_id')"
   ]
  },
  {
   "cell_type": "code",
   "execution_count": null,
   "id": "3541070c",
   "metadata": {},
   "outputs": [
    {
     "data": {
      "text/plain": [
       "500"
      ]
     },
     "execution_count": 25,
     "metadata": {},
     "output_type": "execute_result"
    }
   ],
   "source": [
    "count_records(person_education_group_df)"
   ]
  },
  {
   "cell_type": "code",
   "execution_count": null,
   "id": "ad77b37e",
   "metadata": {},
   "outputs": [
    {
     "data": {
      "text/plain": [
       "999"
      ]
     },
     "execution_count": 26,
     "metadata": {},
     "output_type": "execute_result"
    }
   ],
   "source": [
    "# Joining person_education_group_df and people_person_customer_df DataFrames on column named 'person_id'\n",
    "\n",
    "people_person_customer_education_df = people_person_customer_df.join(person_education_group_df, on='person_id', how='left') \n",
    "\n",
    "# people_person_customer_education_df.show()\n",
    "\n",
    "count_records(people_person_customer_education_df)"
   ]
  },
  {
   "cell_type": "markdown",
   "id": "f8acbdef",
   "metadata": {},
   "source": [
    "***Transformation for Company related information***"
   ]
  },
  {
   "cell_type": "code",
   "execution_count": null,
   "id": "da4a89e3",
   "metadata": {},
   "outputs": [
    {
     "data": {
      "text/plain": [
       "5711"
      ]
     },
     "execution_count": 27,
     "metadata": {},
     "output_type": "execute_result"
    }
   ],
   "source": [
    "count_records(company_sectors_df)"
   ]
  },
  {
   "cell_type": "code",
   "execution_count": null,
   "id": "3f863438",
   "metadata": {},
   "outputs": [
    {
     "data": {
      "text/plain": [
       "1000"
      ]
     },
     "execution_count": 28,
     "metadata": {},
     "output_type": "execute_result"
    }
   ],
   "source": [
    "# Group the DataFrame 'company_sectors_df' by 'company_id'\n",
    "grouped_company_sectors_df = company_sectors_df.groupBy('company_id').agg(\n",
    "    F.collect_list('sector').alias('sectors')\n",
    ")\n",
    "\n",
    "# Check the DataFrame 'grouped_company_sectors_df'\n",
    "# grouped_company_sectors_df.show()\n",
    "\n",
    "count_records(grouped_company_sectors_df)"
   ]
  },
  {
   "cell_type": "code",
   "execution_count": null,
   "id": "d970349a",
   "metadata": {},
   "outputs": [
    {
     "data": {
      "text/plain": [
       "18532"
      ]
     },
     "execution_count": 29,
     "metadata": {},
     "output_type": "execute_result"
    }
   ],
   "source": [
    "count_records(company_annual_revenues_df)"
   ]
  },
  {
   "cell_type": "code",
   "execution_count": null,
   "id": "68c6fc60",
   "metadata": {},
   "outputs": [
    {
     "data": {
      "text/plain": [
       "999"
      ]
     },
     "execution_count": 30,
     "metadata": {},
     "output_type": "execute_result"
    }
   ],
   "source": [
    "# Define a window partitioned by 'company_id' and ordered by 'date' in descending order\n",
    "window = Window.partitionBy('company_id').orderBy(F.desc('date'))\n",
    "\n",
    "# Add a new column 'rank' to the DataFrame 'company_annual_revenues_df'\n",
    "# The 'rank' is calculated over the defined window\n",
    "grouped_company_annual_revenues_df = company_annual_revenues_df.withColumn('rank', F.rank().over(window))\n",
    "\n",
    "# Filter the DataFrame to keep only the rows where 'rank' is 1\n",
    "# This gives us the latest annual revenue for each company\n",
    "# Select only the 'company_id' and 'amount_usd' columns for the final DataFrame\n",
    "latest_company_annual_revenues_df = grouped_company_annual_revenues_df.filter(F.col('rank') == 1).select('company_id', 'amount_usd')\n",
    "\n",
    "# Check the DataFrame 'latest_company_annual_revenues_df'\n",
    "# latest_company_annual_revenues_df.show()\n",
    "\n",
    "count_records(latest_company_annual_revenues_df)"
   ]
  },
  {
   "cell_type": "code",
   "execution_count": null,
   "id": "e850ccd1",
   "metadata": {},
   "outputs": [
    {
     "data": {
      "text/plain": [
       "1000"
      ]
     },
     "execution_count": 31,
     "metadata": {},
     "output_type": "execute_result"
    }
   ],
   "source": [
    "count_records(company_headcounts_df)"
   ]
  },
  {
   "cell_type": "code",
   "execution_count": null,
   "id": "7a16eab6",
   "metadata": {},
   "outputs": [
    {
     "data": {
      "text/plain": [
       "847"
      ]
     },
     "execution_count": 32,
     "metadata": {},
     "output_type": "execute_result"
    }
   ],
   "source": [
    "# Define a window partitioned by 'headcount' and ordered by 'date' in descending order\n",
    "window = Window.partitionBy('headcount').orderBy(F.desc('date'))\n",
    "\n",
    "# Add a new column 'rank' to the DataFrame 'company_headcounts_df'\n",
    "# The 'rank' is calculated over the defined window\n",
    "grouped_company_headcounts_df = company_headcounts_df.withColumn('rank', F.rank().over(window))\n",
    "\n",
    "# Filter the DataFrame to keep only the rows where 'rank' is 1\n",
    "# This gives us the latest headcount for each company\n",
    "# Select only the 'company_id' and 'headcount' columns for the final DataFrame\n",
    "latest_company_headcounts_df = grouped_company_headcounts_df.filter(F.col('rank') == 1).select('company_id', 'headcount')\n",
    "\n",
    "# Check the DataFrame 'latest_company_headcounts_df'\n",
    "# latest_company_headcounts_df.show()\n",
    "\n",
    "count_records(latest_company_headcounts_df)"
   ]
  },
  {
   "cell_type": "code",
   "execution_count": null,
   "id": "06043438",
   "metadata": {},
   "outputs": [
    {
     "data": {
      "text/plain": [
       "1000"
      ]
     },
     "execution_count": 33,
     "metadata": {},
     "output_type": "execute_result"
    }
   ],
   "source": [
    "# Select the 'company_id' and 'stock_ticker' columns from the DataFrame 'company_stock_tickers_df'\n",
    "selected_company_stock_tickers_df = company_stock_tickers_df.select('company_id','stock_ticker')\n",
    "count_records(selected_company_stock_tickers_df)"
   ]
  },
  {
   "cell_type": "code",
   "execution_count": null,
   "id": "8b7a147d",
   "metadata": {},
   "outputs": [
    {
     "data": {
      "text/plain": [
       "DataFrame[company_id: bigint, name: string, investor_company_id: bigint, investor: string]"
      ]
     },
     "execution_count": 34,
     "metadata": {},
     "output_type": "execute_result"
    }
   ],
   "source": [
    "# Define a Window specification: partition by 'company_id' and order by 'company_id', 'date' (in descending order), and 'updated_at' (in descending order)\n",
    "windowSpec = Window.partitionBy(company_funding_rounds_df['company_id']).orderBy(company_funding_rounds_df['company_id'], company_funding_rounds_df['date'].desc(), company_funding_rounds_df['updated_at'].desc())\n",
    "\n",
    "# Add a new column 'rn' to the DataFrame 'company_funding_rounds_df' which contains row numbers within each window partition\n",
    "grouped_company_funding_rounds_df = company_funding_rounds_df.withColumn(\"rn\", row_number().over(windowSpec))\n",
    "\n",
    "# Filter the DataFrame to keep only the rows with 'rn' equal to 1 (i.e., the most recent funding round for each company), then drop the 'rn' column\n",
    "filtered_company_funding_rounds_df = grouped_company_funding_rounds_df.filter(col(\"rn\") == 1).drop(\"rn\")\n",
    "\n",
    "# Select the columns 'company_id', 'name', 'investor_company_id', and 'investor' from the filtered DataFrame\n",
    "filtered_company_funding_rounds_df.select('company_id','name', 'investor_company_id','investor')"
   ]
  },
  {
   "cell_type": "markdown",
   "id": "261b3119",
   "metadata": {},
   "source": [
    "***Joined the company information related transformed dataframes***"
   ]
  },
  {
   "cell_type": "code",
   "execution_count": null,
   "id": "a4a84e76",
   "metadata": {},
   "outputs": [
    {
     "data": {
      "text/plain": [
       "1000"
      ]
     },
     "execution_count": 35,
     "metadata": {},
     "output_type": "execute_result"
    }
   ],
   "source": [
    "\n",
    "# Join the DataFrame 'grouped_company_sectors_df' with 'latest_company_annual_revenues_df', 'latest_company_headcounts_df', and 'selected_company_stock_tickers_df' on 'company_id'\n",
    "# The join type is 'left', meaning only the rows with a match in both DataFrames will be kept\n",
    "company_info_joined_df = grouped_company_sectors_df.join(\n",
    "    latest_company_annual_revenues_df, 'company_id', 'left'\n",
    ").join(\n",
    "    latest_company_headcounts_df, 'company_id', 'left'\n",
    ").join(\n",
    "    selected_company_stock_tickers_df, 'company_id', 'left'\n",
    ").join(\n",
    "    filtered_company_funding_rounds_df, 'company_id', 'left'\n",
    ")\n",
    "\n",
    "# count_records(company_info_joined_df)\n",
    "\n",
    "# Select the 'company_id', 'amount_usd', 'headcount', and 'stock_ticker' columns from the joined DataFrame\n",
    "resultant_company_info_joined_df = company_info_joined_df.select(\n",
    "    'company_id',\n",
    "    company_info_joined_df['name'].alias('funding_name'), 'investor_company_id','investor',\n",
    "    latest_company_annual_revenues_df['amount_usd'],\n",
    "    latest_company_headcounts_df['headcount'],\n",
    "    selected_company_stock_tickers_df['stock_ticker']\n",
    ")\n",
    "\n",
    "# Check the DataFrame 'resultant_company_info_joined_df'\n",
    "# resultant_company_info_joined_df.show()\n",
    "\n",
    "count_records(resultant_company_info_joined_df)\n"
   ]
  },
  {
   "cell_type": "markdown",
   "id": "3d796c55",
   "metadata": {},
   "source": [
    "***Transformation for the Person Employment Table***"
   ]
  },
  {
   "cell_type": "code",
   "execution_count": null,
   "id": "a599bff0",
   "metadata": {},
   "outputs": [
    {
     "data": {
      "text/plain": [
       "7898"
      ]
     },
     "execution_count": 36,
     "metadata": {},
     "output_type": "execute_result"
    }
   ],
   "source": [
    "count_records(person_employments_df)\n",
    "# person_employments_df.show()"
   ]
  },
  {
   "cell_type": "code",
   "execution_count": null,
   "id": "4fda9420",
   "metadata": {},
   "outputs": [
    {
     "data": {
      "text/plain": [
       "['id',\n",
       " 'person_id',\n",
       " 'company_id',\n",
       " 'company_name',\n",
       " 'seniority_level',\n",
       " 'title',\n",
       " 'started_on',\n",
       " 'ended_on',\n",
       " 'created_at',\n",
       " 'updated_at']"
      ]
     },
     "execution_count": 37,
     "metadata": {},
     "output_type": "execute_result"
    }
   ],
   "source": [
    "person_employments_df.columns"
   ]
  },
  {
   "cell_type": "code",
   "execution_count": null,
   "id": "0ed80b39",
   "metadata": {},
   "outputs": [
    {
     "data": {
      "text/plain": [
       "['company_id',\n",
       " 'funding_name',\n",
       " 'investor_company_id',\n",
       " 'investor',\n",
       " 'amount_usd',\n",
       " 'headcount',\n",
       " 'stock_ticker']"
      ]
     },
     "execution_count": 38,
     "metadata": {},
     "output_type": "execute_result"
    }
   ],
   "source": [
    "resultant_company_info_joined_df.columns"
   ]
  },
  {
   "cell_type": "code",
   "execution_count": null,
   "id": "ddbbcb48",
   "metadata": {},
   "outputs": [
    {
     "name": "stdout",
     "output_type": "stream",
     "text": [
      "+---------+---------------------------------------------------------------------------------------------------------------------------------------------------------------------------------------------------------------------------------------------------------------------------------------------------------------------------------------------------------------------------------------------------------------------------------------------------------------------------------------------------------------------------------------------------------------------------------------------------------------------------------------------------------------------------------------------------------------------------------------------------------------------------------------------------------------------------------------------------------------------------------------------------------------------------------------------------------------------------------------------------------------------------------------------------------------------------------------------------------------------------------------------------------------------------------------------------------------------------------------------------------------------------------------------------------------------------------------------------------------------------------------------------------------------------------------------------------------------------------------------------------------------------------------------------------------------------------------------------------------------------------------------------------------------------------------------------------------------------------------------------------------------------------------------------------------------------------------------------------------------------------------------------------------------------------------------------------------------------------------------------------------------------------------------------------------------------------------------------------------------------------------------------------------------------------------------------------------------------------------------------------------------------------------------------------------------------------------------------------------------------------------------------------------------------------------------------------------------------------------------------------------------------------------------------------------------------------------------------------------------------------------------------------------------------------------------------------------------------------------------------------+\n",
      "|person_id|employments                                                                                                                                                                                                                                                                                                                                                                                                                                                                                                                                                                                                                                                                                                                                                                                                                                                                                                                                                                                                                                                                                                                                                                                                                                                                                                                                                                                                                                                                                                                                                                                                                                                                                                                                                                                                                                                                                                                                                                                                                                                                                                                                                                                                                                                                                                                                                                                                                                                                                                                                                                                                                                                                                                                                              |\n",
      "+---------+---------------------------------------------------------------------------------------------------------------------------------------------------------------------------------------------------------------------------------------------------------------------------------------------------------------------------------------------------------------------------------------------------------------------------------------------------------------------------------------------------------------------------------------------------------------------------------------------------------------------------------------------------------------------------------------------------------------------------------------------------------------------------------------------------------------------------------------------------------------------------------------------------------------------------------------------------------------------------------------------------------------------------------------------------------------------------------------------------------------------------------------------------------------------------------------------------------------------------------------------------------------------------------------------------------------------------------------------------------------------------------------------------------------------------------------------------------------------------------------------------------------------------------------------------------------------------------------------------------------------------------------------------------------------------------------------------------------------------------------------------------------------------------------------------------------------------------------------------------------------------------------------------------------------------------------------------------------------------------------------------------------------------------------------------------------------------------------------------------------------------------------------------------------------------------------------------------------------------------------------------------------------------------------------------------------------------------------------------------------------------------------------------------------------------------------------------------------------------------------------------------------------------------------------------------------------------------------------------------------------------------------------------------------------------------------------------------------------------------------------------------+\n",
      "|101255   |[{9307194, Onlive Technologies, NULL, Senior Software Developer, 1994-01-01, 1996-01-01, NULL, NULL, NULL, NULL, NULL, NULL}, {26, eBay, CXO, Chief Technology Officer Of Local Classifieds, 2007-09-01, 2011-06-01, NULL, NULL, NULL, NULL, NULL, NULL}, {26, eBay, NULL, Staff Software Engineer, 2001-04-01, 2001-12-01, NULL, NULL, NULL, NULL, NULL, NULL}, {26, eBay, Director, Technology Director, 2002-01-01, 2007-08-01, NULL, NULL, NULL, NULL, NULL, NULL}, {13385, FirstRain, VP, Vice President Of Engineering Operations, 2013-01-01, 2015-07-01, NULL, NULL, NULL, NULL, NULL, NULL}, {20556, M/A-COM, NULL, Member Of Technical Staff, 1982-01-01, 1984-01-01, NULL, NULL, NULL, NULL, NULL, NULL}, {77025, Yotta Technologies, NULL, Co-Founder, 2011-12-01, 2013-01-01, NULL, NULL, NULL, NULL, NULL, NULL}, {171553, GRiD Systems, NULL, Software Developer, 1984-01-01, 1990-01-01, NULL, NULL, NULL, NULL, NULL, NULL}, {4207, Netscape, Manager, Calendar Server Development Manager, 1996-01-01, 1998-01-01, NULL, NULL, NULL, NULL, NULL, NULL}, {7854, Micro Focus, NULL, Senior Software Engineer, 1990-01-01, 1994-01-01, NULL, NULL, NULL, NULL, NULL, NULL}, {10692885, Zip2save.Com, NULL, Senior Software Engineer, 1996-01-01, 1996-01-01, NULL, NULL, NULL, NULL, NULL, NULL}, {387, AOL, NULL, Senior Software Developer, 1998-01-01, 2001-01-01, NULL, NULL, NULL, NULL, NULL, NULL}, {1660, Apple, NULL, Engineering Leader for Analytics and Data Products in Apple Media, 2016-10-01, NULL, 31949031445.00, 224704, AAPL, Private Equity, 6084, Interscope Records}, {1660, Apple, Head of ..., Head Of Foundation, Apple Online Store Engineering, 2015-08-01, 2016-10-01, 31949031445.00, 224704, AAPL, Private Equity, 6084, Interscope Records}]                                                                                                                                                                                                                                                                                                                                                                                                                                                                                                                                                                                                                                                                                                                                                                                                                                                                                                                                                              |\n",
      "|124469   |[{188933, Kleenk, NULL, Founder, 2011-03-01, 2012-05-01, NULL, NULL, NULL, NULL, NULL, NULL}, {NULL, NULL, NULL, Co-Founder, 2008-09-01, 2012-01-01, NULL, NULL, NULL, NULL, NULL, NULL}, {389048, Wholi, CXO, Co-founder & CTO, 2014-01-01, 2018-01-01, NULL, NULL, NULL, NULL, NULL, NULL}, {94027, 3Sourcing, CXO, Co-Founder & CTO, 2012-02-01, 2014-01-01, NULL, NULL, NULL, NULL, NULL, NULL}, {742393, RoboSelf, CXO, Founder & CEO, 2019-01-01, 2022-08-01, NULL, NULL, NULL, NULL, NULL, NULL}, {7494192, Datagraph, CXO, CEO, 2018-01-01, 2018-12-01, NULL, NULL, NULL, NULL, NULL, NULL}, {4360, NVIDIA, NULL, Principal Applied Scientist, 2022-08-01, NULL, 18110805495.00, 24468, NVDA, Grant, 198878, ARPA-E}]                                                                                                                                                                                                                                                                                                                                                                                                                                                                                                                                                                                                                                                                                                                                                                                                                                                                                                                                                                                                                                                                                                                                                                                                                                                                                                                                                                                                                                                                                                                                                                                                                                                                                                                                                                                                                                                                                                                                                                                                                            |\n",
      "|149312   |[{29434, WiserTogether, Director, Director, Product Technology, 2011-10-01, 2013-08-01, NULL, NULL, NULL, NULL, NULL, NULL}, {10395958, University At Buffalo, NULL, Adjunct Instructor, 2002-01-01, 2006-01-01, NULL, NULL, NULL, NULL, NULL, NULL}, {NULL, NULL, NULL, Owner, 2001-01-01, 2007-05-01, NULL, NULL, NULL, NULL, NULL, NULL}, {NULL, NULL, NULL, Freelance Technologist, 2013-08-01, 2020-12-01, NULL, NULL, NULL, NULL, NULL, NULL}, {11737794, Univresity of Idaho, NULL, Temporary Lecturer, 2001-01-01, 2002-01-01, NULL, NULL, NULL, NULL, NULL, NULL}, {11737794, Univresity of Idaho, NULL, Teaching Assistant, 1999-09-01, 2001-05-01, NULL, NULL, NULL, NULL, NULL, NULL}, {116163, Seattle University, Director, Director of Web, Application and Technology Studies, 2014-03-01, 2018-09-01, NULL, NULL, NULL, NULL, NULL, NULL}, {11663, PBS, NULL, Sr. Manager, Education Technology Strategy, 2010-04-01, 2011-10-01, NULL, NULL, NULL, NULL, NULL, NULL}, {11663, PBS, NULL, Manager, Technology Solutions, 2008-02-01, 2010-04-01, NULL, NULL, NULL, NULL, NULL, NULL}, {11663, PBS, NULL, Web Technologist, 2006-08-01, 2008-02-01, NULL, NULL, NULL, NULL, NULL, NULL}, {314847, Speak Agent, Inc., NULL, Senior Application Developer, 2013-06-01, 2015-12-01, NULL, NULL, NULL, NULL, NULL, NULL}, {1749, NetApp, NULL, Sr. Engineering Manager, 2020-08-01, 2021-01-01, NULL, NULL, NULL, NULL, NULL, NULL}, {1749, NetApp, NULL, Sr. Engineering Manager, 2018-10-01, 2020-08-01, NULL, NULL, NULL, NULL, NULL, NULL}, {4360, NVIDIA, NULL, Application Engineering Manager, Cloud Native Engineering, 2021-01-01, NULL, 18110805495.00, 24468, NVDA, Grant, 198878, ARPA-E}]                                                                                                                                                                                                                                                                                                                                                                                                                                                                                                                                                                                                                                                                                                                                                                                                                                                                                                                                                                                                                                       |\n",
      "|175688   |[{21369, Mavenir, NULL, Software Developer, 2000-08-01, 2002-09-01, NULL, NULL, NULL, NULL, NULL, NULL}, {21369, Mavenir, NULL, Team Leader, 2002-10-01, 2003-12-01, NULL, NULL, NULL, NULL, NULL, NULL}, {NULL, NULL, CXO, Chief Product Officer, 2019-07-01, 2021-04-01, NULL, NULL, NULL, NULL, NULL, NULL}, {NULL, NULL, NULL, Founder, 2006-01-01, 2006-12-01, NULL, NULL, NULL, NULL, NULL, NULL}, {NULL, NULL, NULL, Maintainer, 2000-01-01, 2010-01-01, NULL, NULL, NULL, NULL, NULL, NULL}, {88964, Twitch, VP, Vice President Of Product, Developer Experience, 2018-02-01, 2019-07-01, NULL, NULL, NULL, NULL, NULL, NULL}, {201690, Microsoft, NULL, Software Architecture Advisor, 2006-12-01, 2010-02-01, 63043059112.00, 230609, MSFT, Post-IPO Equity, NULL, black strong stone}, {201690, Microsoft, NULL, Windows Azure Ssp, 2010-08-01, 2011-06-01, 63043059112.00, 230609, MSFT, Post-IPO Equity, NULL, black strong stone}, {10251277, Slack, Director, Director Of Developer Relations, 2015-11-01, 2018-02-01, NULL, NULL, NULL, NULL, NULL, NULL}, {13, Twitter, Manager, Production Manager, 2021-04-01, NULL, 1411687950.00, 3346, TWTR, Post-IPO Equity, 34160, Greenlight Capital}, {41491, Innovation Endeavors, NULL, Venture Partner, 2021-05-01, 2021-05-01, NULL, NULL, NULL, NULL, NULL, NULL}, {198960, Google, Manager, Developer Relations, Global Program Manager, 2014-01-01, 2015-08-01, NULL, NULL, NULL, NULL, NULL, NULL}, {198960, Google, Manager, Developer Relations Program Manager, 2011-06-01, 2014-01-01, NULL, NULL, NULL, NULL, NULL, NULL}, {198960, Google, NULL, Startup Ecosystem Development Lead, Google Play, 2015-08-01, 2015-11-01, NULL, NULL, NULL, NULL, NULL, NULL}, {318671, Datacom, NULL, Senior Architect And Consultant, 2008-12-01, 2010-08-01, NULL, NULL, NULL, NULL, NULL, NULL}, {376076, iPace, NULL, Software Developer, 1999-04-01, 2000-08-01, NULL, NULL, NULL, NULL, NULL, NULL}, {145383, Coridan, NULL, Core Architect, 2005-08-01, 2006-08-01, NULL, NULL, NULL, NULL, NULL, NULL}, {145383, Coridan, NULL, Team Leader, 2003-12-01, 2005-08-01, NULL, NULL, NULL, NULL, NULL, NULL}, {1401264, Reshuffle, CXO, Chief Product Officer, 2019-07-01, NULL, NULL, NULL, NULL, NULL, NULL, NULL}]                                                                                                                                                                                                                                                                                                                                                                                                                                                                       |\n",
      "|225814   |[{NULL, NULL, NULL, Reporter/Photojournalist, 2014-08-01, NULL, NULL, NULL, NULL, NULL, NULL, NULL}, {2289, Netflix, NULL, Bilingual Product Writer, 2017-08-01, NULL, 8772810300.00, 15635, NFLX, Post-IPO Debt, NULL, Saul Bisht}, {2289, Netflix, NULL, Bilingual Synopsis Writer, 2017-09-01, NULL, 8772810300.00, 15635, NFLX, Post-IPO Debt, NULL, Saul Bisht}, {122968, Steve & Barry's, Director, Special Projects Director, Celebrity Services, 2006-07-01, 2008-04-01, NULL, NULL, NULL, NULL, NULL, NULL}, {35129, The Hollywood Reporter, NULL, Contributing Editor, 2014-08-01, 2017-09-01, NULL, NULL, NULL, NULL, NULL, NULL}, {117882, New York Post, NULL, Freelance Reporter, PageSix.com, 2007-12-01, 2008-03-01, NULL, NULL, NULL, NULL, NULL, NULL}, {171735, Clarin, NULL, Reporting Fellow, 2013-06-01, 2013-08-01, NULL, NULL, NULL, NULL, NULL, NULL}, {8200938, HollywoodLife, NULL, Senior Editor, West Coast, 2010-12-01, 2011-10-01, NULL, NULL, NULL, NULL, NULL, NULL}, {105, POPSUGAR, NULL, PopSugar NY Associate Editor, 2008-04-01, 2009-10-01, NULL, NULL, NULL, NULL, NULL, NULL}, {6507813, Abc Color, NULL, Features and News Reporter, 2011-12-01, 2012-04-01, NULL, NULL, NULL, NULL, NULL, NULL}, {167504, OZY Media, NULL, Writer/Editor, 2013-08-01, 2014-08-01, NULL, NULL, NULL, NULL, NULL, NULL}, {259717, OK! Magazine, NULL, News Reporter, 2010-01-01, 2010-09-01, NULL, NULL, NULL, NULL, NULL, NULL}]                                                                                                                                                                                                                                                                                                                                                                                                                                                                                                                                                                                                                                                                                                                                                                                                                                                                                                                                                                                                                                                                                                                                                                                                                                                                                               |\n",
      "|227168   |[{2289, Netflix, NULL, Senior Software Engineer, 2018-11-01, NULL, 8772810300.00, 15635, NFLX, Post-IPO Debt, NULL, Saul Bisht}, {119545, Kunerango, CXO, Co-Founder & CEO, 2011-09-01, 2018-01-01, NULL, NULL, NULL, NULL, NULL, NULL}, {604, Trulia, NULL, Staff Engineer, 2018-07-01, 2018-11-01, NULL, NULL, NULL, NULL, NULL, NULL}, {604, Trulia, NULL, Senior Software Engineer, 2016-10-01, 2018-07-01, NULL, NULL, NULL, NULL, NULL, NULL}, {604, Trulia, NULL, Software Engineer, 2015-07-01, 2016-07-01, NULL, NULL, NULL, NULL, NULL, NULL}]                                                                                                                                                                                                                                                                                                                                                                                                                                                                                                                                                                                                                                                                                                                                                                                                                                                                                                                                                                                                                                                                                                                                                                                                                                                                                                                                                                                                                                                                                                                                                                                                                                                                                                                                                                                                                                                                                                                                                                                                                                                                                                                                                                                                 |\n",
      "|252910   |[{NULL, NULL, NULL, Software Engineer, 1988-01-01, 1993-01-01, NULL, NULL, NULL, NULL, NULL, NULL}, {8842019, Lotus Development, NULL, Lead Software Developer, 1993-01-01, 1996-01-01, NULL, NULL, NULL, NULL, NULL, NULL}, {9491919, Pointcast, Manager, International Engineering Manager And Senior Program Manager, 1997-01-01, 2000-01-01, NULL, NULL, NULL, NULL, NULL, NULL}, {70419, FlyData, NULL, Advisor, 2017-04-01, 2017-08-01, NULL, NULL, NULL, NULL, NULL, NULL}, {70419, FlyData, CXO, Chief Technology Officer, 2013-07-01, 2017-04-01, NULL, NULL, NULL, NULL, NULL, NULL}, {101694, Scuba Analytics, NULL, Senior Software Engineer, 2017-04-01, 2020-03-01, NULL, NULL, NULL, NULL, NULL, NULL}, {7730817, Electronics Arts, Director, Development Director, The Sims, 2007-01-01, 2009-01-01, NULL, NULL, NULL, NULL, NULL, NULL}, {7730817, Electronics Arts, Director, Senior Development Director, Pogo Games, 2010-01-01, 2012-01-01, NULL, NULL, NULL, NULL, NULL, NULL}, {13, Twitter, NULL, Staff Software Engineer, 2020-03-01, NULL, 1411687950.00, 3346, TWTR, Post-IPO Equity, 34160, Greenlight Capital}, {904, Real Networks, Director, Qa Director, Music, 2000-01-01, 2007-01-01, NULL, NULL, NULL, NULL, NULL, NULL}, {7093038, Playtika Santa Monica, Director, Technical Director And Producer, 2012-01-01, 2013-01-01, NULL, NULL, NULL, NULL, NULL, NULL}]                                                                                                                                                                                                                                                                                                                                                                                                                                                                                                                                                                                                                                                                                                                                                                                                                                                                                                                                                                                                                                                                                                                                                                                                                                                                                                                                                    |\n",
      "|321427   |[{6215126, Hack To The Future, NULL, Crew member, 2012-02-01, 2012-02-01, NULL, NULL, NULL, NULL, NULL, NULL}, {2983, IBM, NULL, WebSphere Messaging Community Lead, 2010-11-01, 2012-02-01, 36169599759.00, 531505, IBM, NULL, NULL, NULL}, {2983, IBM, NULL, Consulting IT Specialist, 2008-09-01, 2012-02-01, 36169599759.00, 531505, IBM, NULL, NULL, NULL}, {2983, IBM, NULL, Senior IT Specialist, 2001-10-01, 2008-09-01, 36169599759.00, 531505, IBM, NULL, NULL, NULL}, {NULL, NULL, NULL, Committee, 2011-01-01, 2012-10-01, NULL, NULL, NULL, NULL, NULL, NULL}, {NULL, NULL, NULL, Crew Member, 2019-10-01, 2019-10-01, NULL, NULL, NULL, NULL, NULL, NULL}, {NULL, NULL, NULL, Crew member, 2011-08-01, 2011-08-01, NULL, NULL, NULL, NULL, NULL, NULL}, {NULL, NULL, NULL, Crew member, 2012-08-01, 2012-08-01, NULL, NULL, NULL, NULL, NULL, NULL}, {NULL, NULL, NULL, Educational Translator and Crew Member, 2012-09-01, 2012-09-01, NULL, NULL, NULL, NULL, NULL, NULL}, {NULL, NULL, NULL, Speaker and Consultant, 2007-07-01, NULL, NULL, NULL, NULL, NULL, NULL, NULL}, {NULL, NULL, NULL, Middleware Consultant, 1997-09-01, 2001-08-01, NULL, NULL, NULL, NULL, NULL, NULL}, {NULL, NULL, NULL, Podcast co-host, 2009-01-01, 2011-07-01, NULL, NULL, NULL, NULL, NULL, NULL}, {NULL, NULL, NULL, Podcast co-host, 2018-01-01, NULL, NULL, NULL, NULL, NULL, NULL, NULL}, {198951, VMware, NULL, Developer Advocate, Cloud Foundry, 2012-04-01, 2013-04-01, NULL, NULL, NULL, NULL, NULL, NULL}, {232982, Devoxx4Kids, NULL, Workshop lead, 2014-06-01, 2014-06-01, NULL, NULL, NULL, NULL, NULL, NULL}, {13, Twitter, Director, Senior Staff Developer Advocate (Director, Developer Advocacy), 2017-10-01, NULL, 1411687950.00, 3346, TWTR, Post-IPO Equity, 34160, Greenlight Capital}, {13, Twitter, NULL, Staff Developer Advocate, 2014-03-01, 2017-10-01, 1411687950.00, 3346, TWTR, Post-IPO Equity, 34160, Greenlight Capital}, {129902, Eclipse Foundation, NULL, Project co-lead, Committer and Community Lead, 2012-09-01, 2016-07-01, NULL, NULL, NULL, NULL, NULL, NULL}, {108505, Pivotal, NULL, Developer Advocate, Cloud Foundry, 2013-05-01, 2014-03-01, NULL, NULL, NULL, NULL, NULL, NULL}]                                                                                                                                                                                                                                                                                                                                                                                                                                                                                                                    |\n",
      "|368727   |[{NULL, NULL, NULL, R&D Engineer - Semiconductors, 1990-06-01, 1990-09-01, NULL, NULL, NULL, NULL, NULL, NULL}, {199265, Stanford University, NULL, Program Manager - Spacecraft mission operations, 2001-01-01, 2008-05-01, NULL, NULL, NULL, NULL, NULL, NULL}, {199265, Stanford University, NULL, Senior Research Engineer, Manager - Spaceflight instrumentation, 1996-08-01, 2001-01-01, NULL, NULL, NULL, NULL, NULL, NULL}, {295718, Coherent Navigation, VP, Co-Founder and Vice President of Engineering, 2008-08-01, 2014-09-01, NULL, NULL, NULL, NULL, NULL, NULL}, {4645, The Boeing Company, NULL, Consultant - Satellite navigation algorithm R&D, 2006-06-01, 2008-07-01, 22627945967.00, 109609, BA, Grant, 82334, NASA}, {10347, National Semiconductor, NULL, Design Engineer, 1989-06-01, 1989-10-01, NULL, NULL, NULL, NULL, NULL, NULL}, {1660, Apple, NULL, GNSS Platform Software Engineering Manager, 2017-10-01, NULL, 31949031445.00, 224704, AAPL, Private Equity, 6084, Interscope Records}, {1660, Apple, NULL, GNSS Platform Software Engineer, 2014-09-01, 2017-09-01, 31949031445.00, 224704, AAPL, Private Equity, 6084, Interscope Records}]                                                                                                                                                                                                                                                                                                                                                                                                                                                                                                                                                                                                                                                                                                                                                                                                                                                                                                                                                                                                                                                                                                                                                                                                                                                                                                                                                                                                                                                                                                                                                                         |\n",
      "|431903   |[{NULL, NULL, Director, Creative Director And Copywriter And Brand Strategist And Executive Skateboarder, 2008-05-01, NULL, NULL, NULL, NULL, NULL, NULL, NULL}, {NULL, NULL, NULL, Electric Guitar And Noise, 2008-02-01, NULL, NULL, NULL, NULL, NULL, NULL, NULL}, {NULL, NULL, NULL, Founder, 2006-06-01, NULL, NULL, NULL, NULL, NULL, NULL, NULL}, {168831, Converse, NULL, Freelance Copywriter, 2008-11-01, 2011-10-01, NULL, NULL, NULL, NULL, NULL, NULL}, {239579, Deutsch, NULL, Copywriter, 2007-05-01, 2007-07-01, NULL, NULL, NULL, NULL, NULL, NULL}, {14896, Patch, NULL, Freelance Copywriter + Brand Strategist, 2008-11-01, 2009-05-01, NULL, NULL, NULL, NULL, NULL, NULL}, {254469, StrawberryFrog, NULL, Freelance Copywriter, 2010-01-01, 2010-06-01, NULL, NULL, NULL, NULL, NULL, NULL}, {4053, Spotify, NULL, Senior User Experience Writer, 2018-09-01, NULL, 11991621471.00, 13917, SPOT, Post-IPO Equity, 13594, ValueAct Capital}, {74700, Flavorpill, NULL, Freelance Copyeditor + Copywriter, 2008-05-01, 2008-10-01, NULL, NULL, NULL, NULL, NULL, NULL}, {8331149, Intent Media Inc., NULL, Freelance Writer + Brand Strategist + Communications Dude, 2010-01-01, 2015-05-01, NULL, NULL, NULL, NULL, NULL, NULL}, {117841, Forbes, NULL, Freelance Writer + Editor, 2008-05-01, 2008-11-01, NULL, NULL, NULL, NULL, NULL, NULL}, {117841, Forbes, NULL, Senior Editor, 2007-07-01, 2008-05-01, NULL, NULL, NULL, NULL, NULL, NULL}, {200155, Brown University, NULL, Teaching Fellow, 2003-09-01, 2004-05-01, NULL, NULL, NULL, NULL, NULL, NULL}, {288226, Spring, VP, Vice President Brand Communication, 2015-06-01, 2016-06-01, NULL, NULL, NULL, NULL, NULL, NULL}, {10064510, Tender Creative, NULL, Freelance Copywriter + Brand Strategist, 2009-01-01, 2011-11-01, NULL, NULL, NULL, NULL, NULL, NULL}, {1155, Vimeo, Director, Director Of Brand Messaging, 2011-11-01, 2014-12-01, 180402877.00, 1331, VMEO, Private Equity, 1159838, Oberndorf Enterprises}, {14212, Weblogs SL, NULL, Founding Editor, 2004-05-01, 2004-10-01, NULL, NULL, NULL, NULL, NULL, NULL}, {34838, Jibe, NULL, Freelance Copywriter, 2010-11-01, 2011-03-01, NULL, NULL, NULL, NULL, NULL, NULL}, {224795, EF Education First, NULL, Copywriter, 2004-10-01, 2007-05-01, NULL, NULL, NULL, NULL, NULL, NULL}, {11454420, Barnes & Noble, NULL, Freelance Writer For Sparklife Blog, 2009-02-01, 2010-02-01, NULL, NULL, NULL, NULL, NULL, NULL}, {4091, Crossboard Mobile, Director, Freelance Copywriter + Creative Director, 2009-06-01, 2011-06-01, NULL, NULL, NULL, NULL, NULL, NULL}, {331713, Lime Company, NULL, Freelance Copywriter + Brand Strategist, 2010-01-01, 2010-11-01, NULL, NULL, NULL, NULL, NULL, NULL}]|\n",
      "|574392   |[{NULL, NULL, NULL, Charter Member, 2019-12-01, NULL, NULL, NULL, NULL, NULL, NULL, NULL}, {779828, XA Network, NULL, Member & Angel Investor, 2020-02-01, NULL, NULL, NULL, NULL, NULL, NULL, NULL}, {392, HP, Manager, Territory Manager - Personal Systems Group, 2007-06-01, 2008-10-01, 8310460573.00, 140703, HPQ, Post-IPO Equity, 110721, Berkshire Hathaway}, {392, HP, Manager, Zonal Business Manager- Emerging Businesses, 2008-10-01, 2010-10-01, 8310460573.00, 140703, HPQ, Post-IPO Equity, 110721, Berkshire Hathaway}, {1903, Criteo, Board Member, Board Observer - Criteo K.K. (Joint venture between Yahoo Japan and Criteo), 2017-01-01, 2019-09-01, NULL, NULL, NULL, NULL, NULL, NULL}, {1903, Criteo, Director, Director of Business Development - Australia, India & South East Asia, 2013-10-01, 2016-12-01, NULL, NULL, NULL, NULL, NULL, NULL}, {1903, Criteo, Director, Founder & Global Managing Director - App Partnerships and Business Development, 2018-07-01, 2019-09-01, NULL, NULL, NULL, NULL, NULL, NULL}, {1903, Criteo, Director, Interim Managing Director - India, 2016-09-01, 2017-06-01, NULL, NULL, NULL, NULL, NULL, NULL}, {13, Twitter, Director, Managing Director for Japan and Asia Pacific, Mopub, 2019-09-01, NULL, 1411687950.00, 3346, TWTR, Post-IPO Equity, 34160, Greenlight Capital}, {198960, Google, NULL, Business Development & Sales Leader - South Asia, 2011-01-01, 2012-08-01, NULL, NULL, NULL, NULL, NULL, NULL}, {108622, Tata Motors, Manager, Area Sales Manager, 2006-07-01, 2007-06-01, NULL, NULL, NULL, NULL, NULL, NULL}, {108622, Tata Motors, NULL, Internal Distribution Strategy Consultant, 2005-07-01, 2006-06-01, NULL, NULL, NULL, NULL, NULL, NULL}, {622559, Antler, NULL, Venture Partner, 2018-07-01, NULL, NULL, NULL, NULL, NULL, NULL, NULL}, {204949, INSEAD, NULL, MBA Candidate, 2012-09-01, 2013-07-01, NULL, NULL, NULL, NULL, NULL, NULL}]                                                                                                                                                                                                                                                                                                                                                                                                                                                                                                                                                                                                                                                                                                                                                                                                           |\n",
      "|586843   |[{NULL, NULL, CXO, Founder & CEO, 2011-01-01, 2015-09-01, NULL, NULL, NULL, NULL, NULL, NULL}, {NULL, NULL, NULL, Android Mentor, 2014-04-01, 2014-05-01, NULL, NULL, NULL, NULL, NULL, NULL}, {NULL, NULL, CXO, Co-Founder & CEO, 2014-05-01, 2015-09-01, NULL, NULL, NULL, NULL, NULL, NULL}, {NULL, NULL, NULL, Google Developer Expert, 2013-10-01, 2015-09-01, NULL, NULL, NULL, NULL, NULL, NULL}, {NULL, NULL, NULL, Editor, 2010-05-01, 2014-05-01, NULL, NULL, NULL, NULL, NULL, NULL}, {NULL, NULL, NULL, Mentor, 2013-06-01, 2013-06-01, NULL, NULL, NULL, NULL, NULL, NULL}, {NULL, NULL, NULL, Professor, 2014-11-01, 2015-03-01, NULL, NULL, NULL, NULL, NULL, NULL}, {4360, NVIDIA, Manager, Manager, Developer Relations - NVIDIA Omniverse, 2022-07-01, NULL, 18110805495.00, 24468, NVDA, Grant, 198878, ARPA-E}, {203437, Amazon, NULL, Technology Evangelist, EU, 2017-05-01, 2019-07-01, 211502699971.00, 750138, AMZN, Post-IPO Debt, 15861, DBS Bank}, {203437, Amazon, Head of ..., Head of Developer Evangelism, Worldwide (Apps & Games), 2021-02-01, 2022-06-01, 211502699971.00, 750138, AMZN, Post-IPO Debt, 15861, DBS Bank}, {203437, Amazon, Manager, Manager, Developer Marketing & Evangelism, EU, 2019-07-01, 2021-02-01, 211502699971.00, 750138, AMZN, Post-IPO Debt, 15861, DBS Bank}, {203437, Amazon, NULL, Technology Evangelist, UK, 2015-10-01, 2017-05-01, 211502699971.00, 750138, AMZN, Post-IPO Debt, 15861, DBS Bank}]                                                                                                                                                                                                                                                                                                                                                                                                                                                                                                                                                                                                                                                                                                                                                                                                                                                                                                                                                                                                                                                                                                                                                                                                                                                                                   |\n",
      "|625782   |[{10688173, Wwd - Worldwide Devices Corporation, NULL, Contributing Writer, 2007-01-01, 2009-08-01, NULL, NULL, NULL, NULL, NULL, NULL}, {NULL, NULL, NULL, Freelance Journalist, 2011-01-01, 2011-05-01, NULL, NULL, NULL, NULL, NULL, NULL}, {2289, Netflix, Head of ..., Head Of Internal Communications, APAC, 2021-02-01, NULL, 8772810300.00, 15635, NFLX, Post-IPO Debt, NULL, Saul Bisht}, {7142918, Embassy Of Canada | Ambassade Du Canada, NULL, Visa Officer, 2005-04-01, 2007-05-01, NULL, NULL, NULL, NULL, NULL, NULL}, {9199669, News21, NULL, News21 Fellow, 2010-03-01, 2010-07-01, NULL, NULL, NULL, NULL, NULL, NULL}, {7016, CNN, NULL, Intern, 2008-04-01, 2008-08-01, NULL, NULL, NULL, NULL, NULL, NULL}, {7016, CNN, NULL, Reporter, 2016-10-01, 2020-12-01, NULL, NULL, NULL, NULL, NULL, NULL}, {7016, CNN, NULL, Producer, 2013-02-01, 2016-10-01, NULL, NULL, NULL, NULL, NULL, NULL}, {2388, ABC News, NULL, Frank Reynolds Fellow, 2010-09-01, 2010-12-01, NULL, NULL, NULL, NULL, NULL, NULL}, {2388, ABC News, NULL, Producer/Reporter, 2011-06-01, 2013-02-01, NULL, NULL, NULL, NULL, NULL, NULL}, {7331543, Columbia University  Graduate School Of Journalism, NULL, M.S. Student, 2009-01-01, 2010-01-01, NULL, NULL, NULL, NULL, NULL, NULL}]                                                                                                                                                                                                                                                                                                                                                                                                                                                                                                                                                                                                                                                                                                                                                                                                                                                                                                                                                                                                                                                                                                                                                                                                                                                                                                                                                                                                                                                                     |\n",
      "|630454   |[{13, Twitter, VP, Vp of Inclusion and Diversity, NULL, NULL, 1411687950.00, 3346, TWTR, Post-IPO Equity, 34160, Greenlight Capital}]                                                                                                                                                                                                                                                                                                                                                                                                                                                                                                                                                                                                                                                                                                                                                                                                                                                                                                                                                                                                                                                                                                                                                                                                                                                                                                                                                                                                                                                                                                                                                                                                                                                                                                                                                                                                                                                                                                                                                                                                                                                                                                                                                                                                                                                                                                                                                                                                                                                                                                                                                                                                                    |\n",
      "|675418   |[{8848862, Many Hopes, NULL, Junior Board Member, 2018-09-01, 2019-09-01, NULL, NULL, NULL, NULL, NULL, NULL}, {NULL, NULL, NULL, Public Relations Intern, 2010-03-01, 2010-09-01, NULL, NULL, NULL, NULL, NULL, NULL}, {37175, Bill & Melinda Gates Foundation, NULL, Communications & Digital Media Associate, 2011-04-01, 2012-04-01, NULL, NULL, NULL, NULL, NULL, NULL}, {6256, University of Washington, NULL, Founding Board Member, Athens Program, 2009-02-01, 2011-02-01, NULL, NULL, NULL, NULL, NULL, NULL}, {13, Twitter, NULL, Senior Manager, US News Partnerships, 2018-03-01, 2019-11-01, 1411687950.00, 3346, TWTR, Post-IPO Equity, 34160, Greenlight Capital}, {13, Twitter, NULL, Manager, US News Partnerships, 2016-03-01, 2018-03-01, 1411687950.00, 3346, TWTR, Post-IPO Equity, 34160, Greenlight Capital}, {13, Twitter, NULL, Associate Manager, US News Partnerships, 2015-07-01, 2016-03-01, 1411687950.00, 3346, TWTR, Post-IPO Equity, 34160, Greenlight Capital}, {13, Twitter, NULL, Senior Executive Assistant to the CFO, 2012-06-01, 2015-07-01, 1411687950.00, 3346, TWTR, Post-IPO Equity, 34160, Greenlight Capital}, {13, Twitter, NULL, Global Manager, Partner Marketing, 2019-11-01, 2020-10-01, 1411687950.00, 3346, TWTR, Post-IPO Equity, 34160, Greenlight Capital}, {13, Twitter, Director, Global Director, Partner Marketing, 2021-07-01, NULL, 1411687950.00, 3346, TWTR, Post-IPO Equity, 34160, Greenlight Capital}, {13, Twitter, NULL, Senior Global Manager, Partner Marketing, 2020-11-01, 2021-07-01, 1411687950.00, 3346, TWTR, Post-IPO Equity, 34160, Greenlight Capital}]                                                                                                                                                                                                                                                                                                                                                                                                                                                                                                                                                                                                                                                                                                                                                                                                                                                                                                                                                                                                                                                                                                                 |\n",
      "|701116   |[{NULL, NULL, NULL, Researcher, 2007-01-10, 2008-05-01, NULL, NULL, NULL, NULL, NULL, NULL}, {66681, The Bridgespan Group, NULL, Senior Associate Consultant, 2010-08-10, 2013-07-10, NULL, NULL, NULL, NULL, NULL, NULL}, {8036650, Genocide Intervention Network, NULL, STAND Intern, 2007-06-10, 2007-08-10, NULL, NULL, NULL, NULL, NULL, NULL}, {33853, Instagram, Director, Founder & Product Director, Instagram Shopping, 2017-10-10, 2022-01-10, NULL, NULL, NULL, NULL, NULL, NULL}, {33853, Instagram, NULL, Product Lead, Instagram Search & Explore, 2015-03-10, 2017-09-10, NULL, NULL, NULL, NULL, NULL, NULL}, {33853, Instagram, Manager, Product Manager for Instagram Creators, 2014-12-10, 2015-03-10, NULL, NULL, NULL, NULL, NULL, NULL}, {6367535, Stand: The Student-Led Movement To End Mass Atrocities., Director, Executive Director, 2009-05-01, 2010-01-01, NULL, NULL, NULL, NULL, NULL, NULL}, {5, Meta, Director, Director of Product Management, 2013-08-10, 2022-05-01, 7114372320.00, 122307, FB, Post-IPO Debt, 361, PayPal}, {4053, Spotify, Director, Head of Music Expression (GM / Senior Director), 2022-11-10, NULL, 11991621471.00, 13917, SPOT, Post-IPO Equity, 13594, ValueAct Capital}, {66721, U.S. Department of State, NULL, Bureau of Democracy Human Rights and Labor Intern, 2008-06-10, 2008-08-10, NULL, NULL, NULL, NULL, NULL, NULL}, {764244, Gemini, VP, VP of Product / GM, 2022-05-01, 2022-10-01, NULL, NULL, NULL, NULL, NULL, NULL}, {764244, Gemini, VP, VP of Product / GM, 2022-06-10, 2022-10-10, NULL, NULL, NULL, NULL, NULL, NULL}, {2024, Procter & Gamble Company, Manager, Assistant Brand Manager Intern, 2009-06-10, 2009-08-10, 16783511872.00, 83712, PG, Undisclosed, 25120, Bosch}, {119965, Breakthrough Collaborative, NULL, Teacher, 2004-06-10, 2006-08-10, NULL, NULL, NULL, NULL, NULL, NULL}]                                                                                                                                                                                                                                                                                                                                                                                                                                                                                                                                                                                                                                                                                                                                                                                                                                                                     |\n",
      "|734368   |[{565441, Texture by Next Issue, Director, Director Paid Marketing, 2016-07-01, 2018-03-01, NULL, NULL, NULL, NULL, NULL, NULL}, {1660, Apple, NULL, Apple News Marketing Lead, 2018-03-01, 2019-07-01, 31949031445.00, 224704, AAPL, Private Equity, 6084, Interscope Records}, {1660, Apple, NULL, Marketing, 2018-04-01, NULL, 31949031445.00, 224704, AAPL, Private Equity, 6084, Interscope Records}, {10456, Gap, Manager, Assistant Brand Manager, Gap Brand Management, 2005-02-01, 2005-04-01, 4924429921.00, 61976, GPS, NULL, NULL, NULL}, {10456, Gap, Manager, Associate Marketing Manager, Site & Email Marketing - Gap Online, 2005-05-01, 2007-07-01, 4924429921.00, 61976, GPS, NULL, NULL, NULL}, {10456, Gap, Director, Director Global Display Media, Gap Inc., 2015-08-01, 2016-07-01, 4924429921.00, 61976, GPS, NULL, NULL, NULL}, {10456, Gap, Manager, Marketing Manager, Site & Email Marketing - Gap Online, 2007-08-01, 2010-02-01, 4924429921.00, 61976, GPS, NULL, NULL, NULL}, {10456, Gap, NULL, Sr. Coordinator, Gap Brand Management, 2003-02-01, 2005-01-01, 4924429921.00, 61976, GPS, NULL, NULL, NULL}, {10456, Gap, Manager, Sr. Manager Global Display Media, Gap Inc., 2011-05-01, 2015-07-01, 4924429921.00, 61976, GPS, NULL, NULL, NULL}, {10456, Gap, Manager, Sr. Marketing Manager, Site & Email Marketing - Gap Online, 2010-02-01, 2011-03-01, 4924429921.00, 61976, GPS, NULL, NULL, NULL}, {7101313, Cal Poly College Of Engineering, NULL, Web Designer / Computer Held Desk Technical Support Lead, 1999-11-01, 2002-06-01, NULL, NULL, NULL, NULL, NULL, NULL}]                                                                                                                                                                                                                                                                                                                                                                                                                                                                                                                                                                                                                                                                                                                                                                                                                                                                                                                                                                                                                                                                                                                                    |\n",
      "|757514   |[{13, Twitter, Head of ..., Head of Research, 2016-06-01, NULL, 1411687950.00, 3346, TWTR, Post-IPO Equity, 34160, Greenlight Capital}]                                                                                                                                                                                                                                                                                                                                                                                                                                                                                                                                                                                                                                                                                                                                                                                                                                                                                                                                                                                                                                                                                                                                                                                                                                                                                                                                                                                                                                                                                                                                                                                                                                                                                                                                                                                                                                                                                                                                                                                                                                                                                                                                                                                                                                                                                                                                                                                                                                                                                                                                                                                                                  |\n",
      "|773874   |[{201690, Microsoft, Director, Director of Security, 2013-02-01, 2015-10-01, 63043059112.00, 230609, MSFT, Post-IPO Equity, NULL, black strong stone}, {201690, Microsoft, Director, Director Software Design Engineer in Test, 2006-09-01, 2012-08-01, 63043059112.00, 230609, MSFT, Post-IPO Equity, NULL, black strong stone}, {1412, Splunk, Manager, QA Manager - Developer Platform and Windows, 2012-09-01, 2012-12-01, 723159227.00, 8674, SPLK, Post-IPO Equity, 232881, Starboard Value}, {1660, Apple, Head of ..., Head of Product Security, 2015-11-01, NULL, 31949031445.00, 224704, AAPL, Private Equity, 6084, Interscope Records}]                                                                                                                                                                                                                                                                                                                                                                                                                                                                                                                                                                                                                                                                                                                                                                                                                                                                                                                                                                                                                                                                                                                                                                                                                                                                                                                                                                                                                                                                                                                                                                                                                                                                                                                                                                                                                                                                                                                                                                                                                                                                                                      |\n",
      "|793119   |[{10723, MediaMath, Director, Senior Director, Account Management EMEA, 2017-04-01, 2018-05-01, NULL, NULL, NULL, NULL, NULL, NULL}, {10723, MediaMath, Director, Director, Platform Solutions EMEA, 2014-07-01, 2017-04-01, NULL, NULL, NULL, NULL, NULL, NULL}, {7853852, FCB Ulka, NULL, Client Services Intern, 2005-04-01, 2005-06-01, NULL, NULL, NULL, NULL, NULL, NULL}, {207905, Skai, Manager, Account Manager, 2010-11-01, 2012-09-01, NULL, NULL, NULL, NULL, NULL, NULL}, {207905, Skai, Director, Account Director, 2012-09-01, 2013-11-01, NULL, NULL, NULL, NULL, NULL, NULL}, {13, Twitter, NULL, Programmatic Demand Lead, MoPub, 2018-05-01, 2021-12-01, 1411687950.00, 3346, TWTR, Post-IPO Equity, 34160, Greenlight Capital}, {13, Twitter, NULL, Global Agency Lead, 2022-01-01, NULL, 1411687950.00, 3346, TWTR, Post-IPO Equity, 34160, Greenlight Capital}, {198960, Google, NULL, Consumer Operations Representative, 2007-03-01, 2007-10-01, NULL, NULL, NULL, NULL, NULL, NULL}, {198960, Google, NULL, Consumer Operations Associate, 2008-05-01, 2009-08-01, NULL, NULL, NULL, NULL, NULL, NULL}, {198960, Google, NULL, Consumer Operations Senior  Representative, 2007-10-01, 2008-05-01, NULL, NULL, NULL, NULL, NULL, NULL}, {198960, Google, NULL, AdWords Representative, 2006-06-01, 2007-03-01, NULL, NULL, NULL, NULL, NULL, NULL}]                                                                                                                                                                                                                                                                                                                                                                                                                                                                                                                                                                                                                                                                                                                                                                                                                                                                                                                                                                                                                                                                                                                                                                                                                                                                                                                                                                             |\n",
      "+---------+---------------------------------------------------------------------------------------------------------------------------------------------------------------------------------------------------------------------------------------------------------------------------------------------------------------------------------------------------------------------------------------------------------------------------------------------------------------------------------------------------------------------------------------------------------------------------------------------------------------------------------------------------------------------------------------------------------------------------------------------------------------------------------------------------------------------------------------------------------------------------------------------------------------------------------------------------------------------------------------------------------------------------------------------------------------------------------------------------------------------------------------------------------------------------------------------------------------------------------------------------------------------------------------------------------------------------------------------------------------------------------------------------------------------------------------------------------------------------------------------------------------------------------------------------------------------------------------------------------------------------------------------------------------------------------------------------------------------------------------------------------------------------------------------------------------------------------------------------------------------------------------------------------------------------------------------------------------------------------------------------------------------------------------------------------------------------------------------------------------------------------------------------------------------------------------------------------------------------------------------------------------------------------------------------------------------------------------------------------------------------------------------------------------------------------------------------------------------------------------------------------------------------------------------------------------------------------------------------------------------------------------------------------------------------------------------------------------------------------------------------------+\n",
      "only showing top 20 rows\n",
      "\n"
     ]
    },
    {
     "data": {
      "text/plain": [
       "7898"
      ]
     },
     "execution_count": 39,
     "metadata": {},
     "output_type": "execute_result"
    }
   ],
   "source": [
    "# Join the DataFrames on 'company_id'\n",
    "resultant_company_info_employment_joined_df = person_employments_df.join(resultant_company_info_joined_df, 'company_id', 'left')\n",
    "\n",
    "count_records(resultant_company_info_employment_joined_df)\n",
    "\n",
    "# Define a new struct that includes the additional columns\n",
    "emplopyment_struct = F.struct(\n",
    "    \"company_id\", \"company_name\", \"seniority_level\", \"title\", \"started_on\", \"ended_on\",\n",
    "    resultant_company_info_joined_df['amount_usd'],\n",
    "    resultant_company_info_joined_df['headcount'],\n",
    "    resultant_company_info_joined_df['stock_ticker'],\n",
    "    resultant_company_info_joined_df['funding_name'],\n",
    "    resultant_company_info_joined_df['investor_company_id'],\n",
    "    resultant_company_info_joined_df['investor']\n",
    "\n",
    ")\n",
    "\n",
    "# Group by 'person_id' and collect list of employment details as structs\n",
    "grouped_person_employments_df = resultant_company_info_employment_joined_df.groupBy(\"person_id\").agg(\n",
    "    F.collect_list(emplopyment_struct).alias(\"employments\")\n",
    ")\n",
    "\n",
    "grouped_person_employments_df.show(truncate=False)\n",
    "\n",
    "\n",
    "count_records(person_employments_df)"
   ]
  },
  {
   "cell_type": "code",
   "execution_count": null,
   "id": "29aa0fe6",
   "metadata": {},
   "outputs": [
    {
     "data": {
      "text/plain": [
       "999"
      ]
     },
     "execution_count": 40,
     "metadata": {},
     "output_type": "execute_result"
    }
   ],
   "source": [
    "# Join the DataFrame 'people_person_customer_education_df' with 'person_employments_df' on 'person_id'\n",
    "# The resulting DataFrame contains information about a person's education and employment\n",
    "people_person_customer_education_educations_df = people_person_customer_education_df.join(grouped_person_employments_df, on='person_id', how='left') \n",
    "\n",
    "# people_person_customer_education_educations_df.show()\n",
    "\n",
    "count_records(people_person_customer_education_educations_df)"
   ]
  },
  {
   "cell_type": "markdown",
   "id": "39327d7b",
   "metadata": {},
   "source": [
    "***Transformation for the Person Social Urls Table***"
   ]
  },
  {
   "cell_type": "code",
   "execution_count": null,
   "id": "3428530f",
   "metadata": {},
   "outputs": [
    {
     "data": {
      "text/plain": [
       "999"
      ]
     },
     "execution_count": 41,
     "metadata": {},
     "output_type": "execute_result"
    }
   ],
   "source": [
    "# Group by person_id and collect list of URL details\n",
    "grouped_urls_df = person_social_urls_df.groupBy(\"person_id\").agg(\n",
    "    F.collect_list(\n",
    "        F.struct(\"url_type\", \"url\")\n",
    "    ).alias(\"urls\")\n",
    ")\n",
    "\n",
    "# Show the result\n",
    "# grouped_urls_df.show(truncate=False)\n",
    "\n",
    "count_records(grouped_urls_df)"
   ]
  },
  {
   "cell_type": "code",
   "execution_count": null,
   "id": "f180dc39",
   "metadata": {},
   "outputs": [
    {
     "name": "stdout",
     "output_type": "stream",
     "text": [
      "DataFrame is unique based on person_id\n"
     ]
    }
   ],
   "source": [
    "check_uniqueness(grouped_urls_df, 'person_id')"
   ]
  },
  {
   "cell_type": "code",
   "execution_count": null,
   "id": "69263c93",
   "metadata": {},
   "outputs": [
    {
     "data": {
      "text/plain": [
       "999"
      ]
     },
     "execution_count": 43,
     "metadata": {},
     "output_type": "execute_result"
    }
   ],
   "source": [
    "# Joining person_education_group_df and people_person_customer_df DataFrames on column named 'person_id'\n",
    "\n",
    "people_person_customer_education_employments_social_urls_df = people_person_customer_education_educations_df.join(grouped_urls_df, on='person_id', how='left') \n",
    "\n",
    "count_records(people_person_customer_education_employments_social_urls_df)\n"
   ]
  },
  {
   "cell_type": "code",
   "execution_count": null,
   "id": "8e13315e",
   "metadata": {},
   "outputs": [
    {
     "name": "stdout",
     "output_type": "stream",
     "text": [
      "DataFrame is unique based on person_id\n"
     ]
    }
   ],
   "source": [
    "check_uniqueness(people_person_customer_education_employments_social_urls_df, 'person_id')"
   ]
  },
  {
   "cell_type": "markdown",
   "id": "3f09c372",
   "metadata": {},
   "source": [
    "***Final Dataframe***"
   ]
  },
  {
   "cell_type": "code",
   "execution_count": null,
   "id": "eaf83fed",
   "metadata": {},
   "outputs": [],
   "source": [
    "# people_person_customer_education_employments_social_urls_df.printSchema()"
   ]
  },
  {
   "cell_type": "code",
   "execution_count": null,
   "id": "e775872c",
   "metadata": {},
   "outputs": [
    {
     "name": "stdout",
     "output_type": "stream",
     "text": [
      "+----------+-------------------+--------------------+--------------------+--------------------+--------------------+--------------------+--------------------+--------------------+--------------------+--------------------+\n",
      "| person_id|               name|             address|            headline|         description|          created_at|          updated_at|         customer_id|           education|         employments|                urls|\n",
      "+----------+-------------------+--------------------+--------------------+--------------------+--------------------+--------------------+--------------------+--------------------+--------------------+--------------------+\n",
      "| 949256266|        Vivian Weng|           SINGAPORE|Product Design, S...|                NULL|2023-12-11 06:18:...|                NULL|7538cb11-1c23-4c7...|[{NULL, Universit...|[{4007, McKinsey ...|[{linkedin, https...|\n",
      "| 787025923|        Lynda Zhang|                    |Retail Ownership ...|                NULL|2023-12-11 06:18:...|2023-10-26 15:57:...|7538cb11-1c23-4c7...|                NULL|[{NULL, NULL, Man...|[{linkedin, https...|\n",
      "| 837503042|         Clara Têtu|                    |Apple Solutions C...|                NULL|2023-12-11 06:18:...|2023-10-26 15:57:...|7538cb11-1c23-4c7...|                NULL|[{NULL, NULL, VP,...|[{linkedin, https...|\n",
      "| 789056453|  Federico Maggiani|                    |Digital Marketing...|An enthusiastic, ...|2023-12-11 06:18:...|2023-10-26 15:57:...|7538cb11-1c23-4c7...|                NULL|[{1079682, The Ki...|[{linkedin, https...|\n",
      "|  57288072|  Anthony Salvaggio|Marion, New York, US| Carpe Facto @ Apple|A skilled communi...|2023-12-11 06:18:...|2023-10-26 15:57:...|7538cb11-1c23-4c7...|[{NULL, Monroe Co...|[{4096, Verizon, ...|[{linkedin, https...|\n",
      "| 693540132|    Lika Razac-Ince|                    |Content & Product...|Two sides of a co...|2023-12-11 06:18:...|2023-10-26 15:57:...|7538cb11-1c23-4c7...|                NULL|[{630326, Tag Wor...|[{linkedin, https...|\n",
      "|1017713620|      Sarina Studer|                    |Talent Attraction...|A successful recr...|2023-12-11 06:18:...|2023-10-26 15:57:...|7538cb11-1c23-4c7...|                NULL|[{NULL, NULL, NUL...|[{linkedin, https...|\n",
      "| 856482513|        Karl Dubost|                    |Open Web and Inte...|I'm a software en...|2023-12-11 06:18:...|2023-10-26 15:57:...|7538cb11-1c23-4c7...|                NULL|[{11435247, W3C, ...|[{linkedin, https...|\n",
      "| 118418234|     Kenny Sheridan|Merrick, New York...|Manager at Apple ...|                NULL|2023-12-11 06:18:...|2023-10-26 15:57:...|7538cb11-1c23-4c7...|                NULL|[{431544, Landry'...|[{linkedin, https...|\n",
      "|  64876372|        David Coyle|Apex, North Carol...|Sr. iOS Engineer ...|IT professional w...|2023-12-11 06:18:...|2023-10-26 15:57:...|7538cb11-1c23-4c7...|[{NULL, Universit...|[{26, eBay, NULL,...|[{linkedin, https...|\n",
      "| 741629676|  Iason Bakogiannis|                    |Software Engineer...|Dedicated and exp...|2023-12-11 06:18:...|2023-10-26 15:57:...|7538cb11-1c23-4c7...|                NULL|[{53741, Affectv,...|[{linkedin, https...|\n",
      "| 747062710|      Michael Huang|                    | Operations Director|Experienced Opera...|2023-12-11 06:18:...|2023-10-26 15:57:...|7538cb11-1c23-4c7...|                NULL|[{1559058, Metal ...|[{linkedin, https...|\n",
      "|  67121188|     Gurpreet Singh|San Antonio, Texa...|Sr Technical Prog...|Innovative and ch...|2023-12-11 06:18:...|2023-10-26 15:57:...|7538cb11-1c23-4c7...|[{8522590, Keller...|[{NULL, NULL, NUL...|[{linkedin, https...|\n",
      "| 122883279|          Matt Aldo|                  US|   director at Apple|                NULL|2023-12-11 06:18:...|2023-10-18 23:07:...|7538cb11-1c23-4c7...|                NULL|[{1660, Apple, Di...|[{linkedin, https...|\n",
      "| 993985187|      Eddie McGrory|                    |Market Leader at ...|Do your life’s be...|2023-12-11 06:18:...|2023-10-26 15:57:...|7538cb11-1c23-4c7...|                NULL|[{9693901, Renais...|[{linkedin, https...|\n",
      "|  52762066|    Kevin L. Fowler|Maryville, Tennes...|Instructional Des...|At the intersecti...|2023-12-11 06:18:...|2023-10-26 15:57:...|7538cb11-1c23-4c7...|[{NULL, Universit...|[{8563308, Knox C...|[{linkedin, https...|\n",
      "| 745971556|      thomas gurney|                    |Principle Pedo at...|   big fat mama lama|2023-12-11 06:18:...|2023-10-26 15:57:...|7538cb11-1c23-4c7...|                NULL|[{205, LinkedIn, ...|[{linkedin, https...|\n",
      "| 994637657|          Annie Cai|                    |              Retail|                NULL|2023-12-11 06:18:...|2023-10-26 15:57:...|7538cb11-1c23-4c7...|                NULL|[{NULL, NULL, Man...|[{linkedin, https...|\n",
      "| 124612718|      Brinda Pullen|                  US|HR consultant at ...|                NULL|2023-12-11 06:18:...|2023-10-14 21:35:...|7538cb11-1c23-4c7...|                NULL|[{2503, Dell, NUL...|[{linkedin, https...|\n",
      "| 993308913|Francesco Squatrito|                    |Head of Partner M...|                NULL|2023-12-11 06:18:...|2023-10-26 15:57:...|7538cb11-1c23-4c7...|                NULL|[{11447675, TBWA\\...|[{linkedin, https...|\n",
      "+----------+-------------------+--------------------+--------------------+--------------------+--------------------+--------------------+--------------------+--------------------+--------------------+--------------------+\n",
      "only showing top 20 rows\n",
      "\n"
     ]
    }
   ],
   "source": [
    "people_person_customer_education_employments_social_urls_df.show()"
   ]
  },
  {
   "cell_type": "markdown",
   "id": "232fb94c",
   "metadata": {},
   "source": [
    "***Final Dataframe can be exported to files such as CSV, JSON, Parquet***"
   ]
  },
  {
   "cell_type": "code",
   "execution_count": null,
   "id": "3adcc5a7",
   "metadata": {},
   "outputs": [],
   "source": [
    "# Use the exiting dataframe\n",
    "final_df = people_person_customer_education_employments_social_urls_df\n"
   ]
  },
  {
   "cell_type": "code",
   "execution_count": null,
   "id": "c128b76b",
   "metadata": {},
   "outputs": [
    {
     "name": "stdout",
     "output_type": "stream",
     "text": [
      "+----------+-------------------+--------------------+--------------------+--------------------+--------------------+--------------------+--------------------+--------------------+--------------------+--------------------+\n",
      "| person_id|               name|             address|            headline|         description|          created_at|          updated_at|         customer_id|           education|         employments|                urls|\n",
      "+----------+-------------------+--------------------+--------------------+--------------------+--------------------+--------------------+--------------------+--------------------+--------------------+--------------------+\n",
      "| 949256266|        Vivian Weng|           SINGAPORE|Product Design, S...|                NULL|2023-12-11 06:18:...|                NULL|7538cb11-1c23-4c7...|[{NULL, Universit...|[{4007, McKinsey ...|[{linkedin, https...|\n",
      "| 787025923|        Lynda Zhang|                    |Retail Ownership ...|                NULL|2023-12-11 06:18:...|2023-10-26 15:57:...|7538cb11-1c23-4c7...|                NULL|[{NULL, NULL, Man...|[{linkedin, https...|\n",
      "| 837503042|         Clara Têtu|                    |Apple Solutions C...|                NULL|2023-12-11 06:18:...|2023-10-26 15:57:...|7538cb11-1c23-4c7...|                NULL|[{NULL, NULL, VP,...|[{linkedin, https...|\n",
      "| 789056453|  Federico Maggiani|                    |Digital Marketing...|An enthusiastic, ...|2023-12-11 06:18:...|2023-10-26 15:57:...|7538cb11-1c23-4c7...|                NULL|[{1079682, The Ki...|[{linkedin, https...|\n",
      "|  57288072|  Anthony Salvaggio|Marion, New York, US| Carpe Facto @ Apple|A skilled communi...|2023-12-11 06:18:...|2023-10-26 15:57:...|7538cb11-1c23-4c7...|[{NULL, Monroe Co...|[{4096, Verizon, ...|[{linkedin, https...|\n",
      "| 693540132|    Lika Razac-Ince|                    |Content & Product...|Two sides of a co...|2023-12-11 06:18:...|2023-10-26 15:57:...|7538cb11-1c23-4c7...|                NULL|[{630326, Tag Wor...|[{linkedin, https...|\n",
      "|1017713620|      Sarina Studer|                    |Talent Attraction...|A successful recr...|2023-12-11 06:18:...|2023-10-26 15:57:...|7538cb11-1c23-4c7...|                NULL|[{NULL, NULL, NUL...|[{linkedin, https...|\n",
      "| 856482513|        Karl Dubost|                    |Open Web and Inte...|I'm a software en...|2023-12-11 06:18:...|2023-10-26 15:57:...|7538cb11-1c23-4c7...|                NULL|[{11435247, W3C, ...|[{linkedin, https...|\n",
      "| 118418234|     Kenny Sheridan|Merrick, New York...|Manager at Apple ...|                NULL|2023-12-11 06:18:...|2023-10-26 15:57:...|7538cb11-1c23-4c7...|                NULL|[{431544, Landry'...|[{linkedin, https...|\n",
      "|  64876372|        David Coyle|Apex, North Carol...|Sr. iOS Engineer ...|IT professional w...|2023-12-11 06:18:...|2023-10-26 15:57:...|7538cb11-1c23-4c7...|[{NULL, Universit...|[{26, eBay, NULL,...|[{linkedin, https...|\n",
      "| 741629676|  Iason Bakogiannis|                    |Software Engineer...|Dedicated and exp...|2023-12-11 06:18:...|2023-10-26 15:57:...|7538cb11-1c23-4c7...|                NULL|[{53741, Affectv,...|[{linkedin, https...|\n",
      "| 747062710|      Michael Huang|                    | Operations Director|Experienced Opera...|2023-12-11 06:18:...|2023-10-26 15:57:...|7538cb11-1c23-4c7...|                NULL|[{1559058, Metal ...|[{linkedin, https...|\n",
      "|  67121188|     Gurpreet Singh|San Antonio, Texa...|Sr Technical Prog...|Innovative and ch...|2023-12-11 06:18:...|2023-10-26 15:57:...|7538cb11-1c23-4c7...|[{8522590, Keller...|[{NULL, NULL, NUL...|[{linkedin, https...|\n",
      "| 122883279|          Matt Aldo|                  US|   director at Apple|                NULL|2023-12-11 06:18:...|2023-10-18 23:07:...|7538cb11-1c23-4c7...|                NULL|[{1660, Apple, Di...|[{linkedin, https...|\n",
      "| 993985187|      Eddie McGrory|                    |Market Leader at ...|Do your life’s be...|2023-12-11 06:18:...|2023-10-26 15:57:...|7538cb11-1c23-4c7...|                NULL|[{9693901, Renais...|[{linkedin, https...|\n",
      "|  52762066|    Kevin L. Fowler|Maryville, Tennes...|Instructional Des...|At the intersecti...|2023-12-11 06:18:...|2023-10-26 15:57:...|7538cb11-1c23-4c7...|[{NULL, Universit...|[{8563308, Knox C...|[{linkedin, https...|\n",
      "| 745971556|      thomas gurney|                    |Principle Pedo at...|   big fat mama lama|2023-12-11 06:18:...|2023-10-26 15:57:...|7538cb11-1c23-4c7...|                NULL|[{205, LinkedIn, ...|[{linkedin, https...|\n",
      "| 994637657|          Annie Cai|                    |              Retail|                NULL|2023-12-11 06:18:...|2023-10-26 15:57:...|7538cb11-1c23-4c7...|                NULL|[{NULL, NULL, Man...|[{linkedin, https...|\n",
      "| 124612718|      Brinda Pullen|                  US|HR consultant at ...|                NULL|2023-12-11 06:18:...|2023-10-14 21:35:...|7538cb11-1c23-4c7...|                NULL|[{2503, Dell, NUL...|[{linkedin, https...|\n",
      "| 993308913|Francesco Squatrito|                    |Head of Partner M...|                NULL|2023-12-11 06:18:...|2023-10-26 15:57:...|7538cb11-1c23-4c7...|                NULL|[{11447675, TBWA\\...|[{linkedin, https...|\n",
      "+----------+-------------------+--------------------+--------------------+--------------------+--------------------+--------------------+--------------------+--------------------+--------------------+--------------------+\n",
      "only showing top 20 rows\n",
      "\n"
     ]
    }
   ],
   "source": [
    "final_df.show()"
   ]
  },
  {
   "cell_type": "code",
   "execution_count": null,
   "id": "c96688fd",
   "metadata": {},
   "outputs": [],
   "source": [
    "final_df.write.mode('overwrite').json('./work/final_df')"
   ]
  },
  {
   "cell_type": "code",
   "execution_count": null,
   "id": "81eb66e8",
   "metadata": {},
   "outputs": [],
   "source": [
    "# final_df.printSchema()"
   ]
  },
  {
   "cell_type": "code",
   "execution_count": null,
   "id": "8a9276ae",
   "metadata": {},
   "outputs": [],
   "source": [
    "import json\n",
    "\n",
    "# Convert the DataFrame to a dictionary\n",
    "json_dict = final_df.toJSON().collect()\n",
    "\n",
    "# Write the dictionary to a JSON file\n",
    "with open('./work/final_df/person_final_output.json', 'w') as f:\n",
    "    json.dump(json_dict, f)"
   ]
  },
  {
   "cell_type": "code",
   "execution_count": null,
   "id": "23fa5f30",
   "metadata": {},
   "outputs": [
    {
     "name": "stderr",
     "output_type": "stream",
     "text": [
      "----------------------------------------\n",
      "Exception occurred during processing of request from ('127.0.0.1', 36264)\n",
      "Traceback (most recent call last):\n",
      "  File \"/opt/conda/lib/python3.11/socketserver.py\", line 317, in _handle_request_noblock\n",
      "    self.process_request(request, client_address)\n",
      "  File \"/opt/conda/lib/python3.11/socketserver.py\", line 348, in process_request\n",
      "    self.finish_request(request, client_address)\n",
      "  File \"/opt/conda/lib/python3.11/socketserver.py\", line 361, in finish_request\n",
      "    self.RequestHandlerClass(request, client_address, self)\n",
      "  File \"/opt/conda/lib/python3.11/socketserver.py\", line 755, in __init__\n",
      "    self.handle()\n",
      "  File \"/usr/local/spark/python/pyspark/accumulators.py\", line 295, in handle\n",
      "    poll(accum_updates)\n",
      "  File \"/usr/local/spark/python/pyspark/accumulators.py\", line 267, in poll\n",
      "    if self.rfile in r and func():\n",
      "                           ^^^^^^\n",
      "  File \"/usr/local/spark/python/pyspark/accumulators.py\", line 271, in accum_updates\n",
      "    num_updates = read_int(self.rfile)\n",
      "                  ^^^^^^^^^^^^^^^^^^^^\n",
      "  File \"/usr/local/spark/python/pyspark/serializers.py\", line 596, in read_int\n",
      "    raise EOFError\n",
      "EOFError\n",
      "----------------------------------------\n"
     ]
    }
   ],
   "source": [
    "final_df.write.parquet(\"final_output/df4.parquet\")"
   ]
  }
 ],
 "metadata": {
  "kernelspec": {
   "display_name": "Python 3 (ipykernel)",
   "language": "python",
   "name": "python3"
  }
 },
 "nbformat": 4,
 "nbformat_minor": 5
}

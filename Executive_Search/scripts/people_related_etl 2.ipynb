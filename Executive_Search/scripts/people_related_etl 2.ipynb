{
 "cells": [
  {
   "cell_type": "markdown",
   "id": "4d3ef811",
   "metadata": {},
   "source": [
    "***Import the necessary libraries***"
   ]
  },
  {
   "cell_type": "code",
   "execution_count": 54,
   "id": "dbc28442",
   "metadata": {},
   "outputs": [],
   "source": [
    "#Import the necessary libraries\n",
    "\n",
    "from pyspark.sql import SparkSession\n",
    "from pyspark.sql.functions import count, col, concat_ws, row_number, desc\n",
    "from pyspark.sql import functions as F\n",
    "from pyspark.sql.window import Window\n",
    "from pyspark.sql.types import StructType, StructField, StringType, TimestampType"
   ]
  },
  {
   "cell_type": "code",
   "execution_count": 55,
   "id": "12d07156",
   "metadata": {},
   "outputs": [],
   "source": [
    "#Import the necessary libraries\n",
    "\n",
    "from pyspark.sql import SparkSession\n",
    "from pyspark.sql.functions import count, col, concat_ws, row_number, desc\n",
    "from pyspark.sql import functions as F\n",
    "from pyspark.sql.window import Window\n",
    "from pyspark.sql.types import StructType, StructField, StringType, TimestampType"
   ]
  },
  {
   "cell_type": "code",
   "execution_count": 56,
   "id": "c0bc3a84",
   "metadata": {},
   "outputs": [
    {
     "name": "stdout",
     "output_type": "stream",
     "text": [
      "test\n"
     ]
    }
   ],
   "source": [
    "print(\"test\")"
   ]
  },
  {
   "cell_type": "markdown",
   "id": "0c89c4c5",
   "metadata": {},
   "source": [
    "***Initialize the the connection from the Spark to the postgresql database***"
   ]
  },
  {
   "cell_type": "code",
   "execution_count": 57,
   "id": "b84ef717",
   "metadata": {},
   "outputs": [],
   "source": [
    "# Initialize SparkSession\n",
    "spark = SparkSession.builder \\\n",
    "    .appName('postgresql_connection') \\\n",
    "    .getOrCreate()\n"
   ]
  },
  {
   "cell_type": "code",
   "execution_count": 58,
   "id": "9ef51b6d",
   "metadata": {},
   "outputs": [],
   "source": [
    "# PostgreSQL connection parameters\n",
    "database = \"skyminyr_development\"\n",
    "user = \"postgres\"\n",
    "password = \"password\"\n",
    "url = f\"jdbc:postgresql://global-db:5432/{database}\""
   ]
  },
  {
   "cell_type": "code",
   "execution_count": 59,
   "id": "c9d1b3ab",
   "metadata": {},
   "outputs": [],
   "source": [
    "# Read table names from PostgreSQL metadata\n",
    "table_names = spark.read \\\n",
    "    .format(\"jdbc\") \\\n",
    "    .option(\"url\", url) \\\n",
    "    .option(\"user\", user) \\\n",
    "    .option(\"password\", password) \\\n",
    "    .option(\"driver\", \"org.postgresql.Driver\") \\\n",
    "    .option(\"dbtable\", \"(SELECT table_name FROM information_schema.tables WHERE table_schema = 'public') as tables\") \\\n",
    "    .load()"
   ]
  },
  {
   "cell_type": "code",
   "execution_count": 60,
   "id": "6ffa3f46-96ad-4b53-ba9c-b6bfcfa7d856",
   "metadata": {},
   "outputs": [
    {
     "name": "stdout",
     "output_type": "stream",
     "text": [
      "Available Tables:\n",
      "ar_internal_metadata\n",
      "companies\n",
      "company_annual_revenues\n",
      "company_customers\n",
      "company_events\n",
      "company_funding_round_investors\n",
      "company_funding_rounds\n",
      "company_headcounts\n",
      "company_locations\n",
      "company_names\n",
      "company_sectors\n",
      "company_social_urls\n",
      "company_stock_tickers\n",
      "people\n",
      "person_customers\n",
      "person_educations\n",
      "person_employments\n",
      "person_social_urls\n",
      "schema_migrations\n"
     ]
    }
   ],
   "source": [
    "\n",
    "\n",
    "# Convert the DataFrame to a list of table names\n",
    "table_list = table_names.select(\"table_name\").rdd.flatMap(lambda x: x).collect()\n",
    "\n",
    "# Print the list of table names\n",
    "print(\"Available Tables:\")\n",
    "for table_name in table_list:\n",
    "    print(table_name)\n",
    "\n",
    "# Now you can use this list to access each table individually"
   ]
  },
  {
   "cell_type": "code",
   "execution_count": 61,
   "id": "e2c5091a-4474-4ebd-94e1-debaaffd239e",
   "metadata": {},
   "outputs": [],
   "source": [
    "# Function to load data from a table into a DataFrame\n",
    "def load_table(table_name):\n",
    "    df = spark.read \\\n",
    "        .format(\"jdbc\") \\\n",
    "        .option(\"url\", url) \\\n",
    "        .option(\"dbtable\", table_name) \\\n",
    "        .option(\"user\", user) \\\n",
    "        .option(\"password\", password) \\\n",
    "        .option(\"driver\", \"org.postgresql.Driver\") \\\n",
    "        .load()\n",
    "    return df"
   ]
  },
  {
   "cell_type": "markdown",
   "id": "74da643e",
   "metadata": {},
   "source": [
    "***Load the table into the dataframes***"
   ]
  },
  {
   "cell_type": "code",
   "execution_count": 62,
   "id": "9b03575a",
   "metadata": {},
   "outputs": [],
   "source": [
    "# Load data from the people related tables into a DataFrame\n",
    "people_df = load_table(\"people\")\n",
    "person_customer_df = load_table(\"person_customers\")\n",
    "person_educations_df = load_table(\"person_educations\")\n",
    "person_employments_df = load_table(\"person_employments\")\n",
    "person_social_urls_df = load_table(\"person_social_urls\")\n",
    "company_sectors_df = load_table(\"company_sectors\")\n",
    "company_headcounts_df = load_table(\"company_headcounts\")\n",
    "company_annual_revenues_df = load_table(\"company_annual_revenues\")\n",
    "company_stock_tickers_df = load_table(\"company_stock_tickers\")\n",
    "company_funding_rounds_df = load_table(\"company_funding_rounds\")"
   ]
  },
  {
   "cell_type": "markdown",
   "id": "a04cc164",
   "metadata": {},
   "source": [
    "***Function to check the uniqueness of data***"
   ]
  },
  {
   "cell_type": "code",
   "execution_count": 63,
   "id": "2db8ff34",
   "metadata": {},
   "outputs": [],
   "source": [
    "#function to check the uniqueness of the dataframe\n",
    "def check_uniqueness(df, column_name):\n",
    "    # Add a new column 'is_duplicate' that flags if column_name is duplicated\n",
    "    df_duplicates_check = df.withColumn('is_duplicate', count(column_name).over(Window.partitionBy(column_name)) > 1)\n",
    "\n",
    "    # If any 'is_duplicate' is True, then DataFrame is not unique based on column_name\n",
    "    if df_duplicates_check.filter(col('is_duplicate')).count() > 0:\n",
    "        print(f\"DataFrame is not unique based on {column_name}\")\n",
    "    else:\n",
    "        print(f\"DataFrame is unique based on {column_name}\")"
   ]
  },
  {
   "cell_type": "code",
   "execution_count": 64,
   "id": "65dde6c9",
   "metadata": {},
   "outputs": [
    {
     "name": "stdout",
     "output_type": "stream",
     "text": [
      "DataFrame is unique based on id\n"
     ]
    }
   ],
   "source": [
    "check_uniqueness(people_df, 'id')"
   ]
  },
  {
   "cell_type": "markdown",
   "id": "8605763f",
   "metadata": {},
   "source": [
    "***Function to check the counts of data***"
   ]
  },
  {
   "cell_type": "code",
   "execution_count": 65,
   "id": "82c46548",
   "metadata": {},
   "outputs": [],
   "source": [
    "def count_records(df):\n",
    "    \"\"\"\n",
    "    This function counts the number of records in a DataFrame.\n",
    "\n",
    "    Parameters:\n",
    "    df (DataFrame): The DataFrame for which to count the records.\n",
    "\n",
    "    Returns:\n",
    "    int: The number of records in the DataFrame.\n",
    "    \"\"\"\n",
    "    # Use the count() function to count the number of rows in the DataFrame\n",
    "    num_records = df.count()\n",
    "\n",
    "    # Return the number of records\n",
    "    return num_records"
   ]
  },
  {
   "cell_type": "markdown",
   "id": "4b2e4f44",
   "metadata": {},
   "source": [
    "***People Table Transformation***"
   ]
  },
  {
   "cell_type": "code",
   "execution_count": 66,
   "id": "5104f31c",
   "metadata": {},
   "outputs": [],
   "source": [
    "# Select specific columns from the 'people_df' DataFrame, rename the 'id' column to 'person_id',\n",
    "# and concatenate 'address', 'city', 'region', 'postal_code', 'country' columns with a comma separator\n",
    "people_selected_df = people_df.select('id', 'name', 'address', 'city', 'region', 'postal_code', 'country', 'headline','description', 'created_at', 'updated_at')\\\n",
    "                              .withColumnRenamed('id', 'person_id')\\\n",
    "                              .withColumn('address', concat_ws(', ', 'address', 'city', 'region', 'postal_code', 'country'))\n",
    "\n",
    "people_selected_df = people_selected_df.select('person_id', 'name', 'address','headline','description', 'created_at', 'updated_at')\n",
    "\n",
    "# people_selected_df.show()"
   ]
  },
  {
   "cell_type": "code",
   "execution_count": 67,
   "id": "7231a208",
   "metadata": {},
   "outputs": [
    {
     "data": {
      "text/plain": [
       "999"
      ]
     },
     "execution_count": 67,
     "metadata": {},
     "output_type": "execute_result"
    }
   ],
   "source": [
    "count_records(people_selected_df)"
   ]
  },
  {
   "cell_type": "markdown",
   "id": "373a32a7",
   "metadata": {},
   "source": [
    "***Transformation for the \"person_customer\" table***"
   ]
  },
  {
   "cell_type": "code",
   "execution_count": 68,
   "id": "fdb2c473",
   "metadata": {},
   "outputs": [
    {
     "data": {
      "text/plain": [
       "166"
      ]
     },
     "execution_count": 68,
     "metadata": {},
     "output_type": "execute_result"
    }
   ],
   "source": [
    "count_records(person_customer_df)\n",
    "\n",
    "# person_customer_df.show()"
   ]
  },
  {
   "cell_type": "code",
   "execution_count": 69,
   "id": "23e27be2",
   "metadata": {},
   "outputs": [
    {
     "name": "stdout",
     "output_type": "stream",
     "text": [
      "DataFrame is not unique based on person_id\n"
     ]
    }
   ],
   "source": [
    "# Call the 'check_uniqueness' function on 'person_customer_df' DataFrame to check if 'person_id' is unique\n",
    "check_uniqueness(person_customer_df,'person_id')"
   ]
  },
  {
   "cell_type": "code",
   "execution_count": 70,
   "id": "50c3a237",
   "metadata": {},
   "outputs": [
    {
     "name": "stdout",
     "output_type": "stream",
     "text": [
      "+---------+-----+\n",
      "|person_id|count|\n",
      "+---------+-----+\n",
      "|693540132|    2|\n",
      "+---------+-----+\n",
      "\n"
     ]
    },
    {
     "data": {
      "text/plain": [
       "1"
      ]
     },
     "execution_count": 70,
     "metadata": {},
     "output_type": "execute_result"
    }
   ],
   "source": [
    "# Group by 'person_id' and count the number of occurrences of each 'person_id'\n",
    "duplicate_rows = person_customer_df.groupBy('person_id').agg(count('*').alias('count'))\n",
    "\n",
    "# Filter the rows where 'count' is greater than 1 (i.e., 'person_id' is duplicated)\n",
    "duplicate_rows = duplicate_rows.filter(duplicate_rows['count'] > 1)\n",
    "\n",
    "# Show the duplicate rows\n",
    "duplicate_rows.show()\n",
    "count_records(duplicate_rows)"
   ]
  },
  {
   "cell_type": "code",
   "execution_count": 71,
   "id": "4cdeaf41",
   "metadata": {},
   "outputs": [
    {
     "data": {
      "text/plain": [
       "165"
      ]
     },
     "execution_count": 71,
     "metadata": {},
     "output_type": "execute_result"
    }
   ],
   "source": [
    "# Define a window partitioned by person_id and ordered by updated_at in descending order\n",
    "window = Window.partitionBy(\"person_id\").orderBy(desc(\"updated_at\"))\n",
    "\n",
    "# Add a row_number column to the DataFrame\n",
    "person_customer_df = person_customer_df.withColumn(\"rn\", row_number().over(window))\n",
    "\n",
    "# Filter the DataFrame to keep only the rows with rn = 1 (i.e., the latest updated_at for each person_id)\n",
    "person_customer_df = person_customer_df.filter(person_customer_df.rn == 1)\n",
    "\n",
    "# Drop the rn column\n",
    "person_customer_df = person_customer_df.drop(\"rn\")\n",
    "\n",
    "count_records(person_customer_df)"
   ]
  },
  {
   "cell_type": "code",
   "execution_count": 72,
   "id": "956d3579",
   "metadata": {},
   "outputs": [
    {
     "name": "stdout",
     "output_type": "stream",
     "text": [
      "DataFrame is unique based on person_id\n"
     ]
    }
   ],
   "source": [
    "# Call the 'check_uniqueness' function on 'person_customer_df' DataFrame to check if 'person_id' is unique\n",
    "check_uniqueness(person_customer_df,'person_id')"
   ]
  },
  {
   "cell_type": "code",
   "execution_count": 73,
   "id": "9109413d",
   "metadata": {},
   "outputs": [],
   "source": [
    "# Select 'person_id' and 'customer_id' columns from 'person_customer_df' DataFrame\n",
    "people_selected_customer_df = person_customer_df.select('person_id', 'customer_id')\n",
    "\n",
    "# Join 'people_selected_df' with 'people_selected_customer_df' on 'person_id'\n",
    "people_person_customer_df = people_selected_df.join(people_selected_customer_df, on='person_id', how='left')\n",
    "\n",
    "# people_person_customer_df.show()"
   ]
  },
  {
   "cell_type": "code",
   "execution_count": 74,
   "id": "aeb5f580",
   "metadata": {},
   "outputs": [
    {
     "data": {
      "text/plain": [
       "999"
      ]
     },
     "execution_count": 74,
     "metadata": {},
     "output_type": "execute_result"
    }
   ],
   "source": [
    "count_records(people_person_customer_df)"
   ]
  },
  {
   "cell_type": "markdown",
   "id": "a5ad0ee5",
   "metadata": {},
   "source": [
    "***Transformation for \"Person Education\" table***"
   ]
  },
  {
   "cell_type": "code",
   "execution_count": 75,
   "id": "12de6278",
   "metadata": {},
   "outputs": [
    {
     "data": {
      "text/plain": [
       "1209"
      ]
     },
     "execution_count": 75,
     "metadata": {},
     "output_type": "execute_result"
    }
   ],
   "source": [
    "count_records(person_educations_df)\n",
    "# person_educations_df.show()"
   ]
  },
  {
   "cell_type": "code",
   "execution_count": 76,
   "id": "a17fb6ef",
   "metadata": {},
   "outputs": [],
   "source": [
    "# Define a struct for each institute\n",
    "institute_struct = F.struct(\n",
    "    \"institution_id\", \"institution_name\", \"degree\", \"subject\", \"started_on\", \"ended_on\"\n",
    ")\n",
    "\n",
    "# Group by person_id and collect list of institute details as structs\n",
    "grouped_educations_df = person_educations_df.groupBy(\"person_id\").agg(\n",
    "    F.collect_list(institute_struct).alias(\"education\")\n",
    "    # (\"education - (institution_id, institution_name, degree, subject, started_on, ended_on)\")\n",
    ")\n",
    "\n",
    "person_education_group_df = grouped_educations_df\n",
    "\n",
    "\n",
    "\n",
    "# Show the result\n",
    "# person_education_group_df.show(truncate=False)\n"
   ]
  },
  {
   "cell_type": "code",
   "execution_count": 77,
   "id": "e385abae",
   "metadata": {},
   "outputs": [
    {
     "name": "stdout",
     "output_type": "stream",
     "text": [
      "DataFrame is unique based on person_id\n"
     ]
    }
   ],
   "source": [
    "check_uniqueness(person_education_group_df, 'person_id')"
   ]
  },
  {
   "cell_type": "code",
   "execution_count": 78,
   "id": "3541070c",
   "metadata": {},
   "outputs": [
    {
     "data": {
      "text/plain": [
       "500"
      ]
     },
     "execution_count": 78,
     "metadata": {},
     "output_type": "execute_result"
    }
   ],
   "source": [
    "count_records(person_education_group_df)"
   ]
  },
  {
   "cell_type": "code",
   "execution_count": 79,
   "id": "ad77b37e",
   "metadata": {},
   "outputs": [
    {
     "data": {
      "text/plain": [
       "999"
      ]
     },
     "execution_count": 79,
     "metadata": {},
     "output_type": "execute_result"
    }
   ],
   "source": [
    "# Joining person_education_group_df and people_person_customer_df DataFrames on column named 'person_id'\n",
    "\n",
    "people_person_customer_education_df = people_person_customer_df.join(person_education_group_df, on='person_id', how='left') \n",
    "\n",
    "# people_person_customer_education_df.show()\n",
    "\n",
    "count_records(people_person_customer_education_df)"
   ]
  },
  {
   "cell_type": "markdown",
   "id": "f8acbdef",
   "metadata": {},
   "source": [
    "***Transformation for Company related information***"
   ]
  },
  {
   "cell_type": "code",
   "execution_count": 80,
   "id": "da4a89e3",
   "metadata": {},
   "outputs": [
    {
     "data": {
      "text/plain": [
       "5711"
      ]
     },
     "execution_count": 80,
     "metadata": {},
     "output_type": "execute_result"
    }
   ],
   "source": [
    "count_records(company_sectors_df)"
   ]
  },
  {
   "cell_type": "code",
   "execution_count": 81,
   "id": "3f863438",
   "metadata": {},
   "outputs": [
    {
     "data": {
      "text/plain": [
       "1000"
      ]
     },
     "execution_count": 81,
     "metadata": {},
     "output_type": "execute_result"
    }
   ],
   "source": [
    "# Group the DataFrame 'company_sectors_df' by 'company_id'\n",
    "grouped_company_sectors_df = company_sectors_df.groupBy('company_id').agg(\n",
    "    F.collect_list('sector').alias('sectors')\n",
    ")\n",
    "\n",
    "# Check the DataFrame 'grouped_company_sectors_df'\n",
    "# grouped_company_sectors_df.show()\n",
    "\n",
    "count_records(grouped_company_sectors_df)"
   ]
  },
  {
   "cell_type": "code",
   "execution_count": 82,
   "id": "d970349a",
   "metadata": {},
   "outputs": [
    {
     "data": {
      "text/plain": [
       "18532"
      ]
     },
     "execution_count": 82,
     "metadata": {},
     "output_type": "execute_result"
    }
   ],
   "source": [
    "count_records(company_annual_revenues_df)"
   ]
  },
  {
   "cell_type": "code",
   "execution_count": 83,
   "id": "68c6fc60",
   "metadata": {},
   "outputs": [
    {
     "data": {
      "text/plain": [
       "999"
      ]
     },
     "execution_count": 83,
     "metadata": {},
     "output_type": "execute_result"
    }
   ],
   "source": [
    "# Define a window partitioned by 'company_id' and ordered by 'date' in descending order\n",
    "window = Window.partitionBy('company_id').orderBy(F.desc('date'))\n",
    "\n",
    "# Add a new column 'rank' to the DataFrame 'company_annual_revenues_df'\n",
    "# The 'rank' is calculated over the defined window\n",
    "grouped_company_annual_revenues_df = company_annual_revenues_df.withColumn('rank', F.rank().over(window))\n",
    "\n",
    "# Filter the DataFrame to keep only the rows where 'rank' is 1\n",
    "# This gives us the latest annual revenue for each company\n",
    "# Select only the 'company_id' and 'amount_usd' columns for the final DataFrame\n",
    "latest_company_annual_revenues_df = grouped_company_annual_revenues_df.filter(F.col('rank') == 1).select('company_id', 'amount_usd')\n",
    "\n",
    "# Check the DataFrame 'latest_company_annual_revenues_df'\n",
    "# latest_company_annual_revenues_df.show()\n",
    "\n",
    "count_records(latest_company_annual_revenues_df)"
   ]
  },
  {
   "cell_type": "code",
   "execution_count": 84,
   "id": "e850ccd1",
   "metadata": {},
   "outputs": [
    {
     "data": {
      "text/plain": [
       "1000"
      ]
     },
     "execution_count": 84,
     "metadata": {},
     "output_type": "execute_result"
    }
   ],
   "source": [
    "count_records(company_headcounts_df)"
   ]
  },
  {
   "cell_type": "code",
   "execution_count": 85,
   "id": "7a16eab6",
   "metadata": {},
   "outputs": [
    {
     "data": {
      "text/plain": [
       "847"
      ]
     },
     "execution_count": 85,
     "metadata": {},
     "output_type": "execute_result"
    }
   ],
   "source": [
    "# Define a window partitioned by 'headcount' and ordered by 'date' in descending order\n",
    "window = Window.partitionBy('headcount').orderBy(F.desc('date'))\n",
    "\n",
    "# Add a new column 'rank' to the DataFrame 'company_headcounts_df'\n",
    "# The 'rank' is calculated over the defined window\n",
    "grouped_company_headcounts_df = company_headcounts_df.withColumn('rank', F.rank().over(window))\n",
    "\n",
    "# Filter the DataFrame to keep only the rows where 'rank' is 1\n",
    "# This gives us the latest headcount for each company\n",
    "# Select only the 'company_id' and 'headcount' columns for the final DataFrame\n",
    "latest_company_headcounts_df = grouped_company_headcounts_df.filter(F.col('rank') == 1).select('company_id', 'headcount')\n",
    "\n",
    "# Check the DataFrame 'latest_company_headcounts_df'\n",
    "# latest_company_headcounts_df.show()\n",
    "\n",
    "count_records(latest_company_headcounts_df)"
   ]
  },
  {
   "cell_type": "code",
   "execution_count": 86,
   "id": "06043438",
   "metadata": {},
   "outputs": [
    {
     "data": {
      "text/plain": [
       "1000"
      ]
     },
     "execution_count": 86,
     "metadata": {},
     "output_type": "execute_result"
    }
   ],
   "source": [
    "# Select the 'company_id' and 'stock_ticker' columns from the DataFrame 'company_stock_tickers_df'\n",
    "selected_company_stock_tickers_df = company_stock_tickers_df.select('company_id','stock_ticker')\n",
    "count_records(selected_company_stock_tickers_df)"
   ]
  },
  {
   "cell_type": "code",
   "execution_count": 87,
   "id": "8b7a147d",
   "metadata": {},
   "outputs": [
    {
     "data": {
      "text/plain": [
       "DataFrame[company_id: bigint, name: string, investor_company_id: bigint, investor: string]"
      ]
     },
     "execution_count": 87,
     "metadata": {},
     "output_type": "execute_result"
    }
   ],
   "source": [
    "# Define a Window specification: partition by 'company_id' and order by 'company_id', 'date' (in descending order), and 'updated_at' (in descending order)\n",
    "windowSpec = Window.partitionBy(company_funding_rounds_df['company_id']).orderBy(company_funding_rounds_df['company_id'], company_funding_rounds_df['date'].desc(), company_funding_rounds_df['updated_at'].desc())\n",
    "\n",
    "# Add a new column 'rn' to the DataFrame 'company_funding_rounds_df' which contains row numbers within each window partition\n",
    "grouped_company_funding_rounds_df = company_funding_rounds_df.withColumn(\"rn\", row_number().over(windowSpec))\n",
    "\n",
    "# Filter the DataFrame to keep only the rows with 'rn' equal to 1 (i.e., the most recent funding round for each company), then drop the 'rn' column\n",
    "filtered_company_funding_rounds_df = grouped_company_funding_rounds_df.filter(col(\"rn\") == 1).drop(\"rn\")\n",
    "\n",
    "# Select the columns 'company_id', 'name', 'investor_company_id', and 'investor' from the filtered DataFrame\n",
    "filtered_company_funding_rounds_df.select('company_id','name', 'investor_company_id','investor')"
   ]
  },
  {
   "cell_type": "markdown",
   "id": "261b3119",
   "metadata": {},
   "source": [
    "***Joined the company information related transformed dataframes***"
   ]
  },
  {
   "cell_type": "code",
   "execution_count": 88,
   "id": "a4a84e76",
   "metadata": {},
   "outputs": [
    {
     "data": {
      "text/plain": [
       "1000"
      ]
     },
     "execution_count": 88,
     "metadata": {},
     "output_type": "execute_result"
    }
   ],
   "source": [
    "\n",
    "# Join the DataFrame 'grouped_company_sectors_df' with 'latest_company_annual_revenues_df', 'latest_company_headcounts_df', and 'selected_company_stock_tickers_df' on 'company_id'\n",
    "# The join type is 'left', meaning only the rows with a match in both DataFrames will be kept\n",
    "company_info_joined_df = grouped_company_sectors_df.join(\n",
    "    latest_company_annual_revenues_df, 'company_id', 'left'\n",
    ").join(\n",
    "    latest_company_headcounts_df, 'company_id', 'left'\n",
    ").join(\n",
    "    selected_company_stock_tickers_df, 'company_id', 'left'\n",
    ").join(\n",
    "    filtered_company_funding_rounds_df, 'company_id', 'left'\n",
    ")\n",
    "\n",
    "# count_records(company_info_joined_df)\n",
    "\n",
    "# Select the 'company_id', 'amount_usd', 'headcount', and 'stock_ticker' columns from the joined DataFrame\n",
    "resultant_company_info_joined_df = company_info_joined_df.select(\n",
    "    'company_id',\n",
    "    company_info_joined_df['name'].alias('funding_name'), 'investor_company_id','investor',\n",
    "    latest_company_annual_revenues_df['amount_usd'],\n",
    "    latest_company_headcounts_df['headcount'],\n",
    "    selected_company_stock_tickers_df['stock_ticker']\n",
    ")\n",
    "\n",
    "# Check the DataFrame 'resultant_company_info_joined_df'\n",
    "# resultant_company_info_joined_df.show()\n",
    "\n",
    "count_records(resultant_company_info_joined_df)\n"
   ]
  },
  {
   "cell_type": "markdown",
   "id": "3d796c55",
   "metadata": {},
   "source": [
    "***Transformation for the Person Employment Table***"
   ]
  },
  {
   "cell_type": "code",
   "execution_count": 89,
   "id": "a599bff0",
   "metadata": {},
   "outputs": [
    {
     "data": {
      "text/plain": [
       "7898"
      ]
     },
     "execution_count": 89,
     "metadata": {},
     "output_type": "execute_result"
    }
   ],
   "source": [
    "count_records(person_employments_df)\n",
    "# person_employments_df.show()"
   ]
  },
  {
   "cell_type": "code",
   "execution_count": 90,
   "id": "4fda9420",
   "metadata": {},
   "outputs": [
    {
     "data": {
      "text/plain": [
       "['id',\n",
       " 'person_id',\n",
       " 'company_id',\n",
       " 'company_name',\n",
       " 'seniority_level',\n",
       " 'title',\n",
       " 'started_on',\n",
       " 'ended_on',\n",
       " 'created_at',\n",
       " 'updated_at']"
      ]
     },
     "execution_count": 90,
     "metadata": {},
     "output_type": "execute_result"
    }
   ],
   "source": [
    "person_employments_df.columns"
   ]
  },
  {
   "cell_type": "code",
   "execution_count": 91,
   "id": "0ed80b39",
   "metadata": {},
   "outputs": [
    {
     "data": {
      "text/plain": [
       "['company_id',\n",
       " 'funding_name',\n",
       " 'investor_company_id',\n",
       " 'investor',\n",
       " 'amount_usd',\n",
       " 'headcount',\n",
       " 'stock_ticker']"
      ]
     },
     "execution_count": 91,
     "metadata": {},
     "output_type": "execute_result"
    }
   ],
   "source": [
    "resultant_company_info_joined_df.columns"
   ]
  },
  {
   "cell_type": "code",
   "execution_count": 108,
   "id": "ddbbcb48",
   "metadata": {},
   "outputs": [
    {
     "name": "stdout",
     "output_type": "stream",
     "text": [
      "+---------+-------------------------------------------------------------------------------------------------------------------------------------------------------------------------------------------------------------------------------------------------------------------------------------------------------------------------------------------------------------------------------------------------------------------------------------------------------------------------------------------------------------------------------------------------------------------------------------------------------------------------------------------------------------------------------------------------------------------------------------------------------------------------------------------------------------------------------------------------------------------------------------------------------------------------------------------------------------------------------------------------------------------------------------------------------------------------------------------------------------------------------------------------------------------------------------------------------------------------------------------------------------------------------------------------------------------------------------------------------------------------------------------------------------------------------------------------------------------------------------------------------------------------------------------------------------------------------------------------------------------------------------------------------------------------------------------------------------------------------------------------------------------------------------------+\n",
      "|person_id|employments                                                                                                                                                                                                                                                                                                                                                                                                                                                                                                                                                                                                                                                                                                                                                                                                                                                                                                                                                                                                                                                                                                                                                                                                                                                                                                                                                                                                                                                                                                                                                                                                                                                                                                                                                                                |\n",
      "+---------+-------------------------------------------------------------------------------------------------------------------------------------------------------------------------------------------------------------------------------------------------------------------------------------------------------------------------------------------------------------------------------------------------------------------------------------------------------------------------------------------------------------------------------------------------------------------------------------------------------------------------------------------------------------------------------------------------------------------------------------------------------------------------------------------------------------------------------------------------------------------------------------------------------------------------------------------------------------------------------------------------------------------------------------------------------------------------------------------------------------------------------------------------------------------------------------------------------------------------------------------------------------------------------------------------------------------------------------------------------------------------------------------------------------------------------------------------------------------------------------------------------------------------------------------------------------------------------------------------------------------------------------------------------------------------------------------------------------------------------------------------------------------------------------------+\n",
      "|101255   |[{9307194, Onlive Technologies, NULL, Senior Software Developer, 1994-01-01, 1996-01-01, NULL, NULL, NULL, NULL, NULL, NULL}, {26, eBay, CXO, Chief Technology Officer Of Local Classifieds, 2007-09-01, 2011-06-01, NULL, NULL, NULL, NULL, NULL, NULL}, {26, eBay, NULL, Staff Software Engineer, 2001-04-01, 2001-12-01, NULL, NULL, NULL, NULL, NULL, NULL}, {26, eBay, Director, Technology Director, 2002-01-01, 2007-08-01, NULL, NULL, NULL, NULL, NULL, NULL}, {13385, FirstRain, VP, Vice President Of Engineering Operations, 2013-01-01, 2015-07-01, NULL, NULL, NULL, NULL, NULL, NULL}, {20556, M/A-COM, NULL, Member Of Technical Staff, 1982-01-01, 1984-01-01, NULL, NULL, NULL, NULL, NULL, NULL}, {77025, Yotta Technologies, NULL, Co-Founder, 2011-12-01, 2013-01-01, NULL, NULL, NULL, NULL, NULL, NULL}, {171553, GRiD Systems, NULL, Software Developer, 1984-01-01, 1990-01-01, NULL, NULL, NULL, NULL, NULL, NULL}, {4207, Netscape, Manager, Calendar Server Development Manager, 1996-01-01, 1998-01-01, NULL, NULL, NULL, NULL, NULL, NULL}, {7854, Micro Focus, NULL, Senior Software Engineer, 1990-01-01, 1994-01-01, NULL, NULL, NULL, NULL, NULL, NULL}, {10692885, Zip2save.Com, NULL, Senior Software Engineer, 1996-01-01, 1996-01-01, NULL, NULL, NULL, NULL, NULL, NULL}, {387, AOL, NULL, Senior Software Developer, 1998-01-01, 2001-01-01, NULL, NULL, NULL, NULL, NULL, NULL}, {1660, Apple, NULL, Engineering Leader for Analytics and Data Products in Apple Media, 2016-10-01, NULL, 31949031445.00, 224704, AAPL, Private Equity, 6084, Interscope Records}, {1660, Apple, Head of ..., Head Of Foundation, Apple Online Store Engineering, 2015-08-01, 2016-10-01, 31949031445.00, 224704, AAPL, Private Equity, 6084, Interscope Records}]|\n",
      "+---------+-------------------------------------------------------------------------------------------------------------------------------------------------------------------------------------------------------------------------------------------------------------------------------------------------------------------------------------------------------------------------------------------------------------------------------------------------------------------------------------------------------------------------------------------------------------------------------------------------------------------------------------------------------------------------------------------------------------------------------------------------------------------------------------------------------------------------------------------------------------------------------------------------------------------------------------------------------------------------------------------------------------------------------------------------------------------------------------------------------------------------------------------------------------------------------------------------------------------------------------------------------------------------------------------------------------------------------------------------------------------------------------------------------------------------------------------------------------------------------------------------------------------------------------------------------------------------------------------------------------------------------------------------------------------------------------------------------------------------------------------------------------------------------------------+\n",
      "only showing top 1 row\n",
      "\n"
     ]
    },
    {
     "data": {
      "text/plain": [
       "7898"
      ]
     },
     "execution_count": 108,
     "metadata": {},
     "output_type": "execute_result"
    }
   ],
   "source": [
    "# Join the DataFrames on 'company_id'\n",
    "resultant_company_info_employment_joined_df = person_employments_df.join(resultant_company_info_joined_df, 'company_id', 'left')\n",
    "\n",
    "count_records(resultant_company_info_employment_joined_df)\n",
    "\n",
    "# Define a new struct that includes the additional columns\n",
    "emplopyment_struct = F.struct(\n",
    "    \"company_id\", \"company_name\", \"seniority_level\", \"title\", \"started_on\", \"ended_on\",\n",
    "    resultant_company_info_joined_df['amount_usd'],\n",
    "    resultant_company_info_joined_df['headcount'],\n",
    "    resultant_company_info_joined_df['stock_ticker'],\n",
    "    resultant_company_info_joined_df['funding_name'],\n",
    "    resultant_company_info_joined_df['investor_company_id'],\n",
    "    resultant_company_info_joined_df['investor']\n",
    "\n",
    ")\n",
    "\n",
    "# Group by 'person_id' and collect list of employment details as structs\n",
    "grouped_person_employments_df = resultant_company_info_employment_joined_df.groupBy(\"person_id\").agg(\n",
    "    F.collect_list(emplopyment_struct).alias(\"employments\")\n",
    ")\n",
    "\n",
    "grouped_person_employments_df.show(1,truncate=False)\n",
    "\n",
    "\n",
    "count_records(person_employments_df)"
   ]
  },
  {
   "cell_type": "code",
   "execution_count": 95,
   "id": "29aa0fe6",
   "metadata": {},
   "outputs": [
    {
     "data": {
      "text/plain": [
       "999"
      ]
     },
     "execution_count": 95,
     "metadata": {},
     "output_type": "execute_result"
    }
   ],
   "source": [
    "# Join the DataFrame 'people_person_customer_education_df' with 'person_employments_df' on 'person_id'\n",
    "# The resulting DataFrame contains information about a person's education and employment\n",
    "people_person_customer_education_educations_df = people_person_customer_education_df.join(grouped_person_employments_df, on='person_id', how='left') \n",
    "\n",
    "# people_person_customer_education_educations_df.show()\n",
    "\n",
    "count_records(people_person_customer_education_educations_df)"
   ]
  },
  {
   "cell_type": "markdown",
   "id": "39327d7b",
   "metadata": {},
   "source": [
    "***Transformation for the Person Social Urls Table***"
   ]
  },
  {
   "cell_type": "code",
   "execution_count": 96,
   "id": "3428530f",
   "metadata": {},
   "outputs": [
    {
     "data": {
      "text/plain": [
       "999"
      ]
     },
     "execution_count": 96,
     "metadata": {},
     "output_type": "execute_result"
    }
   ],
   "source": [
    "# Group by person_id and collect list of URL details\n",
    "grouped_urls_df = person_social_urls_df.groupBy(\"person_id\").agg(\n",
    "    F.collect_list(\n",
    "        F.struct(\"url_type\", \"url\")\n",
    "    ).alias(\"urls\")\n",
    ")\n",
    "\n",
    "# Show the result\n",
    "# grouped_urls_df.show(truncate=False)\n",
    "\n",
    "count_records(grouped_urls_df)"
   ]
  },
  {
   "cell_type": "code",
   "execution_count": 97,
   "id": "f180dc39",
   "metadata": {},
   "outputs": [
    {
     "name": "stdout",
     "output_type": "stream",
     "text": [
      "DataFrame is unique based on person_id\n"
     ]
    }
   ],
   "source": [
    "check_uniqueness(grouped_urls_df, 'person_id')"
   ]
  },
  {
   "cell_type": "code",
   "execution_count": 98,
   "id": "69263c93",
   "metadata": {},
   "outputs": [
    {
     "data": {
      "text/plain": [
       "999"
      ]
     },
     "execution_count": 98,
     "metadata": {},
     "output_type": "execute_result"
    }
   ],
   "source": [
    "# Joining person_education_group_df and people_person_customer_df DataFrames on column named 'person_id'\n",
    "\n",
    "people_person_customer_education_employments_social_urls_df = people_person_customer_education_educations_df.join(grouped_urls_df, on='person_id', how='left') \n",
    "\n",
    "count_records(people_person_customer_education_employments_social_urls_df)\n"
   ]
  },
  {
   "cell_type": "code",
   "execution_count": 99,
   "id": "8e13315e",
   "metadata": {},
   "outputs": [
    {
     "name": "stdout",
     "output_type": "stream",
     "text": [
      "DataFrame is unique based on person_id\n"
     ]
    }
   ],
   "source": [
    "check_uniqueness(people_person_customer_education_employments_social_urls_df, 'person_id')"
   ]
  },
  {
   "cell_type": "markdown",
   "id": "3f09c372",
   "metadata": {},
   "source": [
    "***Final Dataframe***"
   ]
  },
  {
   "cell_type": "code",
   "execution_count": 100,
   "id": "eaf83fed",
   "metadata": {},
   "outputs": [],
   "source": [
    "# people_person_customer_education_employments_social_urls_df.printSchema()"
   ]
  },
  {
   "cell_type": "code",
   "execution_count": 101,
   "id": "e775872c",
   "metadata": {},
   "outputs": [
    {
     "name": "stdout",
     "output_type": "stream",
     "text": [
      "+----------+-------------------+--------------------+--------------------+--------------------+--------------------+--------------------+--------------------+--------------------+--------------------+--------------------+\n",
      "| person_id|               name|             address|            headline|         description|          created_at|          updated_at|         customer_id|           education|         employments|                urls|\n",
      "+----------+-------------------+--------------------+--------------------+--------------------+--------------------+--------------------+--------------------+--------------------+--------------------+--------------------+\n",
      "| 949256266|        Vivian Weng|           SINGAPORE|Product Design, S...|                NULL|2023-12-11 06:18:...|                NULL|7538cb11-1c23-4c7...|[{NULL, Universit...|[{4007, McKinsey ...|[{linkedin, https...|\n",
      "| 787025923|        Lynda Zhang|                    |Retail Ownership ...|                NULL|2023-12-11 06:18:...|2023-10-26 15:57:...|7538cb11-1c23-4c7...|                NULL|[{NULL, NULL, Man...|[{linkedin, https...|\n",
      "| 837503042|         Clara Têtu|                    |Apple Solutions C...|                NULL|2023-12-11 06:18:...|2023-10-26 15:57:...|7538cb11-1c23-4c7...|                NULL|[{NULL, NULL, VP,...|[{linkedin, https...|\n",
      "| 789056453|  Federico Maggiani|                    |Digital Marketing...|An enthusiastic, ...|2023-12-11 06:18:...|2023-10-26 15:57:...|7538cb11-1c23-4c7...|                NULL|[{1079682, The Ki...|[{linkedin, https...|\n",
      "|  57288072|  Anthony Salvaggio|Marion, New York, US| Carpe Facto @ Apple|A skilled communi...|2023-12-11 06:18:...|2023-10-26 15:57:...|7538cb11-1c23-4c7...|[{NULL, Monroe Co...|[{4096, Verizon, ...|[{linkedin, https...|\n",
      "| 693540132|    Lika Razac-Ince|                    |Content & Product...|Two sides of a co...|2023-12-11 06:18:...|2023-10-26 15:57:...|7538cb11-1c23-4c7...|                NULL|[{630326, Tag Wor...|[{linkedin, https...|\n",
      "|1017713620|      Sarina Studer|                    |Talent Attraction...|A successful recr...|2023-12-11 06:18:...|2023-10-26 15:57:...|7538cb11-1c23-4c7...|                NULL|[{NULL, NULL, NUL...|[{linkedin, https...|\n",
      "| 856482513|        Karl Dubost|                    |Open Web and Inte...|I'm a software en...|2023-12-11 06:18:...|2023-10-26 15:57:...|7538cb11-1c23-4c7...|                NULL|[{11435247, W3C, ...|[{linkedin, https...|\n",
      "| 118418234|     Kenny Sheridan|Merrick, New York...|Manager at Apple ...|                NULL|2023-12-11 06:18:...|2023-10-26 15:57:...|7538cb11-1c23-4c7...|                NULL|[{431544, Landry'...|[{linkedin, https...|\n",
      "|  64876372|        David Coyle|Apex, North Carol...|Sr. iOS Engineer ...|IT professional w...|2023-12-11 06:18:...|2023-10-26 15:57:...|7538cb11-1c23-4c7...|[{NULL, Universit...|[{26, eBay, NULL,...|[{linkedin, https...|\n",
      "| 741629676|  Iason Bakogiannis|                    |Software Engineer...|Dedicated and exp...|2023-12-11 06:18:...|2023-10-26 15:57:...|7538cb11-1c23-4c7...|                NULL|[{53741, Affectv,...|[{linkedin, https...|\n",
      "| 747062710|      Michael Huang|                    | Operations Director|Experienced Opera...|2023-12-11 06:18:...|2023-10-26 15:57:...|7538cb11-1c23-4c7...|                NULL|[{1559058, Metal ...|[{linkedin, https...|\n",
      "|  67121188|     Gurpreet Singh|San Antonio, Texa...|Sr Technical Prog...|Innovative and ch...|2023-12-11 06:18:...|2023-10-26 15:57:...|7538cb11-1c23-4c7...|[{8522590, Keller...|[{NULL, NULL, NUL...|[{linkedin, https...|\n",
      "| 122883279|          Matt Aldo|                  US|   director at Apple|                NULL|2023-12-11 06:18:...|2023-10-18 23:07:...|7538cb11-1c23-4c7...|                NULL|[{1660, Apple, Di...|[{linkedin, https...|\n",
      "| 993985187|      Eddie McGrory|                    |Market Leader at ...|Do your life’s be...|2023-12-11 06:18:...|2023-10-26 15:57:...|7538cb11-1c23-4c7...|                NULL|[{9693901, Renais...|[{linkedin, https...|\n",
      "|  52762066|    Kevin L. Fowler|Maryville, Tennes...|Instructional Des...|At the intersecti...|2023-12-11 06:18:...|2023-10-26 15:57:...|7538cb11-1c23-4c7...|[{NULL, Universit...|[{8563308, Knox C...|[{linkedin, https...|\n",
      "| 745971556|      thomas gurney|                    |Principle Pedo at...|   big fat mama lama|2023-12-11 06:18:...|2023-10-26 15:57:...|7538cb11-1c23-4c7...|                NULL|[{205, LinkedIn, ...|[{linkedin, https...|\n",
      "| 994637657|          Annie Cai|                    |              Retail|                NULL|2023-12-11 06:18:...|2023-10-26 15:57:...|7538cb11-1c23-4c7...|                NULL|[{NULL, NULL, Man...|[{linkedin, https...|\n",
      "| 124612718|      Brinda Pullen|                  US|HR consultant at ...|                NULL|2023-12-11 06:18:...|2023-10-14 21:35:...|7538cb11-1c23-4c7...|                NULL|[{2503, Dell, NUL...|[{linkedin, https...|\n",
      "| 993308913|Francesco Squatrito|                    |Head of Partner M...|                NULL|2023-12-11 06:18:...|2023-10-26 15:57:...|7538cb11-1c23-4c7...|                NULL|[{11447675, TBWA\\...|[{linkedin, https...|\n",
      "+----------+-------------------+--------------------+--------------------+--------------------+--------------------+--------------------+--------------------+--------------------+--------------------+--------------------+\n",
      "only showing top 20 rows\n",
      "\n"
     ]
    }
   ],
   "source": [
    "people_person_customer_education_employments_social_urls_df.show()"
   ]
  },
  {
   "cell_type": "markdown",
   "id": "232fb94c",
   "metadata": {},
   "source": [
    "***Final Dataframe can be exported to files such as CSV, JSON, Parquet***"
   ]
  },
  {
   "cell_type": "code",
   "execution_count": 102,
   "id": "3adcc5a7",
   "metadata": {},
   "outputs": [],
   "source": [
    "# Use the exiting dataframe\n",
    "final_df = people_person_customer_education_employments_social_urls_df\n"
   ]
  },
  {
   "cell_type": "code",
   "execution_count": 106,
   "id": "c128b76b",
   "metadata": {},
   "outputs": [
    {
     "name": "stdout",
     "output_type": "stream",
     "text": [
      "+---------+---------------+-------+----------------------------------+-------------------------------------------------------------------------------------------------------------------------------------------------------------------------------------------------------------------------------------------------------------------------------------------------------------------------------------------------------------------------------------------------+-------------------------+----------------------+------------------------------------+---------+------------------------------------------------------------------------------------------------------------------------------------------------------------------------------------------------------------------------------------------------------------------------------------------------------------------------------------------------------------------------------------------------------------------------------------------------------------------------------------------------------------------------------------------------------------------------------------------------------------------------------------------------------------------------------------------------------------------------------------------------------------------------------------------------------------------------------------------------------------------------------------------------------------------------------------------------------------------------------------------------------------------------------------------------------------------------------------------------------------------------------------------------------------------------------------------------------------------------------------------------------------------------------------------------------------------------------------------------------------------------------------------------------------------------------------------------------------------------------------------------------------------------------------------------------------------------------------------------------------------------------------+-----------------------------------------------------------------+\n",
      "|person_id|name           |address|headline                          |description                                                                                                                                                                                                                                                                                                                                                                                      |created_at               |updated_at            |customer_id                         |education|employments                                                                                                                                                                                                                                                                                                                                                                                                                                                                                                                                                                                                                                                                                                                                                                                                                                                                                                                                                                                                                                                                                                                                                                                                                                                                                                                                                                                                                                                                                                                                                                                                                         |urls                                                             |\n",
      "+---------+---------------+-------+----------------------------------+-------------------------------------------------------------------------------------------------------------------------------------------------------------------------------------------------------------------------------------------------------------------------------------------------------------------------------------------------------------------------------------------------+-------------------------+----------------------+------------------------------------+---------+------------------------------------------------------------------------------------------------------------------------------------------------------------------------------------------------------------------------------------------------------------------------------------------------------------------------------------------------------------------------------------------------------------------------------------------------------------------------------------------------------------------------------------------------------------------------------------------------------------------------------------------------------------------------------------------------------------------------------------------------------------------------------------------------------------------------------------------------------------------------------------------------------------------------------------------------------------------------------------------------------------------------------------------------------------------------------------------------------------------------------------------------------------------------------------------------------------------------------------------------------------------------------------------------------------------------------------------------------------------------------------------------------------------------------------------------------------------------------------------------------------------------------------------------------------------------------------------------------------------------------------+-----------------------------------------------------------------+\n",
      "|693540132|Lika Razac-Ince|       |Content & Production Lead at Apple|Two sides of a coin... 7+ years experience of building and leading digital teams of producers, designers and developers. A strong team ethic and collaboration are at the core of how I lead and work within teams across projects.\\n\\nSecond side... Photographer capturing the candid subtleties in life. Documentary/reportage, behind the scenes, work life photography and that street life.|2023-12-11 06:18:08.13904|2023-10-26 15:57:22.35|7538cb11-1c23-4c76-87c7-5111a0f166dc|NULL     |[{630326, Tag Worldwide, NULL, Production Lead, 2020-12-01, 2022-01-01, NULL, NULL, NULL, NULL, NULL, NULL}, {728919, Bluedog, NULL, Project Management Consultant, 2020-06-01, 2020-11-01, NULL, NULL, NULL, NULL, NULL, NULL}, {61767, Karmarama, Head of ..., Head of Digital Delivery, 2014-03-01, 2018-03-01, NULL, NULL, NULL, NULL, NULL, NULL}, {61767, Karmarama, Director, Project Director (Freelance), 2013-11-01, 2014-03-01, NULL, NULL, NULL, NULL, NULL, NULL}, {NULL, NULL, NULL, Professional Photographer, 2018-04-01, NULL, NULL, NULL, NULL, NULL, NULL, NULL}, {NULL, NULL, NULL, Flash Designer/Artworker/, 2001-06-01, 2004-06-01, NULL, NULL, NULL, NULL, NULL, NULL}, {NULL, NULL, NULL, Flash designer, 2004-01-01, 2006-01-01, NULL, NULL, NULL, NULL, NULL, NULL}, {8911699, Interventional Pain & Physical Medicine Clinic, Head of ..., Head of Digital, 2006-11-01, 2012-04-01, NULL, NULL, NULL, NULL, NULL, NULL}, {7711674, Ekino London, Director, Freelance Project Director, 2020-01-01, 2020-05-01, NULL, NULL, NULL, NULL, NULL, NULL}, {14755, Agenda-Asia, NULL, Senior Project Management, 2018-04-01, 2019-12-01, NULL, NULL, NULL, NULL, NULL, NULL}, {1087587, Self Employed, NULL, Freelance SNR Project Management / PD / Head of, 2018-04-01, 2020-12-01, NULL, NULL, NULL, NULL, NULL, NULL}, {11549668, Dentsu Creative, Head of ..., Head of Digital production, 2012-04-01, 2013-10-01, NULL, NULL, NULL, NULL, NULL, NULL}, {1660, Apple, NULL, Content & Production Lead - Europe, 2022-01-01, NULL, 31949031445.00, 224704, AAPL, Private Equity, 6084, Interscope Records}]|[{linkedin, https://www.linkedin.com/in/lika-razac-ince-2044385}]|\n",
      "+---------+---------------+-------+----------------------------------+-------------------------------------------------------------------------------------------------------------------------------------------------------------------------------------------------------------------------------------------------------------------------------------------------------------------------------------------------------------------------------------------------+-------------------------+----------------------+------------------------------------+---------+------------------------------------------------------------------------------------------------------------------------------------------------------------------------------------------------------------------------------------------------------------------------------------------------------------------------------------------------------------------------------------------------------------------------------------------------------------------------------------------------------------------------------------------------------------------------------------------------------------------------------------------------------------------------------------------------------------------------------------------------------------------------------------------------------------------------------------------------------------------------------------------------------------------------------------------------------------------------------------------------------------------------------------------------------------------------------------------------------------------------------------------------------------------------------------------------------------------------------------------------------------------------------------------------------------------------------------------------------------------------------------------------------------------------------------------------------------------------------------------------------------------------------------------------------------------------------------------------------------------------------------+-----------------------------------------------------------------+\n",
      "only showing top 1 row\n",
      "\n"
     ]
    }
   ],
   "source": [
    "final_df.show(1,truncate=False)"
   ]
  },
  {
   "cell_type": "code",
   "execution_count": 107,
   "id": "c96688fd",
   "metadata": {},
   "outputs": [],
   "source": [
    "final_df.write.mode('overwrite').json('./work/final_df')"
   ]
  },
  {
   "cell_type": "code",
   "execution_count": 53,
   "id": "81eb66e8",
   "metadata": {},
   "outputs": [
    {
     "name": "stdout",
     "output_type": "stream",
     "text": [
      "root\n",
      " |-- person_id: long (nullable = true)\n",
      " |-- name: string (nullable = true)\n",
      " |-- address: string (nullable = false)\n",
      " |-- headline: string (nullable = true)\n",
      " |-- description: string (nullable = true)\n",
      " |-- created_at: timestamp (nullable = true)\n",
      " |-- updated_at: timestamp (nullable = true)\n",
      " |-- customer_id: string (nullable = true)\n",
      " |-- education: array (nullable = true)\n",
      " |    |-- element: struct (containsNull = false)\n",
      " |    |    |-- institution_id: long (nullable = true)\n",
      " |    |    |-- institution_name: string (nullable = true)\n",
      " |    |    |-- degree: string (nullable = true)\n",
      " |    |    |-- subject: string (nullable = true)\n",
      " |    |    |-- started_on: date (nullable = true)\n",
      " |    |    |-- ended_on: date (nullable = true)\n",
      " |-- employments: array (nullable = true)\n",
      " |    |-- element: struct (containsNull = false)\n",
      " |    |    |-- company_id: long (nullable = true)\n",
      " |    |    |-- company_name: string (nullable = true)\n",
      " |    |    |-- seniority_level: string (nullable = true)\n",
      " |    |    |-- title: string (nullable = true)\n",
      " |    |    |-- started_on: date (nullable = true)\n",
      " |    |    |-- ended_on: date (nullable = true)\n",
      " |    |    |-- amount_usd: decimal(20,2) (nullable = true)\n",
      " |    |    |-- headcount: long (nullable = true)\n",
      " |    |    |-- stock_ticker: string (nullable = true)\n",
      " |    |    |-- funding_name: string (nullable = true)\n",
      " |    |    |-- investor_company_id: long (nullable = true)\n",
      " |    |    |-- investor: string (nullable = true)\n",
      " |-- urls: array (nullable = true)\n",
      " |    |-- element: struct (containsNull = false)\n",
      " |    |    |-- url_type: string (nullable = true)\n",
      " |    |    |-- url: string (nullable = true)\n",
      "\n"
     ]
    }
   ],
   "source": [
    " final_df.printSchema()"
   ]
  },
  {
   "cell_type": "code",
   "execution_count": 51,
   "id": "8a9276ae",
   "metadata": {},
   "outputs": [],
   "source": [
    "import json\n",
    "\n",
    "# Convert the DataFrame to a dictionary\n",
    "json_dict = final_df.toJSON().collect()\n",
    "\n",
    "# Write the dictionary to a JSON file\n",
    "with open('./work/final_df/person_final_output.json', 'w') as f:\n",
    "    json.dump(json_dict, f)"
   ]
  },
  {
   "cell_type": "code",
   "execution_count": 52,
   "id": "23fa5f30",
   "metadata": {},
   "outputs": [],
   "source": [
    "final_df.write.parquet(\"final_output/df4.parquet\")"
   ]
  },
  {
   "cell_type": "code",
   "execution_count": null,
   "id": "8e1d4ae8-bdc4-4623-9694-a007c5e5a781",
   "metadata": {},
   "outputs": [],
   "source": []
  }
 ],
 "metadata": {
  "kernelspec": {
   "display_name": "Python 3 (ipykernel)",
   "language": "python",
   "name": "python3"
  },
  "language_info": {
   "codemirror_mode": {
    "name": "ipython",
    "version": 3
   },
   "file_extension": ".py",
   "mimetype": "text/x-python",
   "name": "python",
   "nbconvert_exporter": "python",
   "pygments_lexer": "ipython3",
   "version": "3.11.6"
  }
 },
 "nbformat": 4,
 "nbformat_minor": 5
}

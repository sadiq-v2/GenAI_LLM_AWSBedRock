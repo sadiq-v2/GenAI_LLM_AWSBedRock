{
 "cells": [
  {
   "cell_type": "code",
   "execution_count": 1,
   "id": "46323270",
   "metadata": {},
   "outputs": [],
   "source": [
    "from pyspark.sql import SparkSession\n",
    "from pyspark.sql.functions import count, col, concat_ws, row_number, desc\n",
    "from pyspark.sql import functions as F\n",
    "from pyspark.sql.window import Window\n",
    "from pyspark.sql.types import StructType, StructField, StringType, TimestampType"
   ]
  },
  {
   "cell_type": "markdown",
   "id": "169ccf4b",
   "metadata": {},
   "source": []
  },
  {
   "cell_type": "code",
   "execution_count": 2,
   "id": "4445238b-be33-4e66-ba80-127a9594b522",
   "metadata": {},
   "outputs": [],
   "source": [
    "# Initialize SparkSession\n",
    "spark = SparkSession.builder \\\n",
    "    .appName('aws_connection') \\\n",
    "    .getOrCreate()"
   ]
  },
  {
   "cell_type": "code",
   "execution_count": 3,
   "id": "40b53868",
   "metadata": {},
   "outputs": [],
   "source": [
    "# Please update , Valid Keys,for test run uncommenting \"result = invoke_claude_model_with_prompt(prompt)\" in below cell\n",
    "AWS_ACCESS_KEY_ID =\" \"\n",
    "AWS_SECRET_ACCESS_KEY = \" \"\n",
    "AWS_SESSION_TOKEN = \" \""
   ]
  },
  {
   "cell_type": "code",
   "execution_count": 4,
   "id": "92aa6377-fa03-4395-a5ca-e6aa345cc66d",
   "metadata": {},
   "outputs": [
    {
     "name": "stdout",
     "output_type": "stream",
     "text": [
      "[{'type': 'text', 'text': '{\\n  \"capital\": \"New Delhi\"\\n}'}]\n"
     ]
    }
   ],
   "source": [
    "# claude Model, Tested Working, Never change this function\n",
    "import boto 3\n",
    "import json\n",
    "\n",
    "def invoke_claude_model_with_prompt(prompt):\n",
    "    # Construct the payload with the provided prompt, Never Change\n",
    "    payload = {\n",
    "        \"max_tokens\": 5000,\n",
    "        \"messages\": [{\"role\": \"user\", \"content\": prompt}],\n",
    "        \"anthropic_version\": \"bedrock-2023-05-31\"\n",
    "    }\n",
    "\n",
    "    # Create a Boto3 session\n",
    "    session = boto3.Session(\n",
    "        aws_access_key_id=AWS_ACCESS_KEY_ID,\n",
    "        aws_secret_access_key=AWS_SECRET_ACCESS_KEY,\n",
    "        aws_session_token=AWS_SESSION_TOKEN\n",
    "    )\n",
    "\n",
    "    # Create a Bedrock Runtime client\n",
    "    client = session.client('bedrock-runtime', region_name='us-east-1')\n",
    "\n",
    "    # Invoke the model with the payload\n",
    "    response = client.invoke_model(body=json.dumps(payload), modelId=\"anthropic.claude-3-sonnet-20240229-v1:0\")\n",
    "\n",
    "    # Parse the response body\n",
    "    response_body = json.loads(response.get(\"body\").read())\n",
    "\n",
    "    # Return the content from the response\n",
    "    return response_body.get(\"content\")\n",
    "\n",
    "# Example usage:\n",
    "prompt = \"Hello, world. What is the capital of India? Give the result in JSON format.\"\n",
    "result = invoke_claude_model_with_prompt(prompt)\n",
    "print(result)"
   ]
  },
  {
   "cell_type": "code",
   "execution_count": 5,
   "id": "ade7c086-1865-4db4-91fd-ebc45bbeef1f",
   "metadata": {},
   "outputs": [
    {
     "name": "stdout",
     "output_type": "stream",
     "text": [
      "root\n",
      " |-- full_ancestral_name: string (nullable = true)\n",
      "\n",
      "+--------------------+\n",
      "| full_ancestral_name|\n",
      "+--------------------+\n",
      "|Software - Busine...|\n",
      "|  Software - Ed Tech|\n",
      "|  Software - FinTech|\n",
      "|   Healthcare - HCIT|\n",
      "|Software - IT Inf...|\n",
      "|Software - Intern...|\n",
      "| Software - MegaTech|\n",
      "|   Software - Mobile|\n",
      "| Software - Payments|\n",
      "|Software - SaaS/C...|\n",
      "| Software - Security|\n",
      "|Internet - Advert...|\n",
      "|CEO/BOD - General...|\n",
      "|Internet - E-Comm...|\n",
      "|  Internet - Ed Tech|\n",
      "|        10/10 Gender|\n",
      "|Internet - Market...|\n",
      "| Internet - MegaTech|\n",
      "|   Internet - Mobile|\n",
      "|       CT - Biofuels|\n",
      "+--------------------+\n",
      "only showing top 20 rows\n",
      "\n",
      "16572\n",
      "tag_str word len -> 2238\n"
     ]
    }
   ],
   "source": [
    "# Read Tag CSV file into a DataFrame\n",
    "tag_df = spark.read.csv(\"/home/jovyan/work/utility/tags.csv\", header=True, inferSchema=True)\n",
    "# Show the DataFrame schema and first few rows\n",
    "tag_df.printSchema()\n",
    "tag_df.show()\n",
    "tag_df.count()\n",
    "# Convert the column of interest to a list of strings\n",
    "tag_list = tag_df.select(\"full_ancestral_name\").rdd.flatMap(lambda x: x).collect()\n",
    "\n",
    "# Join the list of strings\n",
    "tag_str = \", \".join(tag_list)\n",
    "print(len(tag_str))\n",
    "\n",
    "word_count = len(tag_str.split())\n",
    "print(f\"tag_str word len -> {word_count}\")\n"
   ]
  },
  {
   "cell_type": "code",
   "execution_count": 6,
   "id": "d4a7752a-0518-44fd-98f3-098620aa5310",
   "metadata": {},
   "outputs": [
    {
     "name": "stdout",
     "output_type": "stream",
     "text": [
      "Current working directory: /home/jovyan/work/scripts\n",
      "person_id:23678899 name:Bill Murphy address:Culver City California US description:Versatile management professional with 15 years of project management experience managing highly visible complex projects with aggressive timelines managing multidiscipline high performance teams and providing technical experience and leadership in project operations and logistics managementnnProven record of success analyzing all aspects of a project including investigating and determining if monies are being spent appropriately reducing expenses improving the efficiency of operations and monitoring key program deliverables created_at:20231211 06:18:0813904 updated_at:20231026 15:57:2235 education: Santa Fe University Of Art And Design BachelorsBachelor Of Arts 19920101 19960101 employments: VFX Producer 20040101 20070101 2289 Netflix Sr Manager VFX Infrastructure Technology Operations 20170701 20191101 877281030000 15635 NFLX PostIPO Debt Saul Bisht 2289 Netflix Director Director Product Solutions Studio Product Innovation 20210801 877281030000 15635 NFLX PostIPO Debt Saul Bisht 2289 Netflix Director Director VFX Infrastructure Technology Operations 20191101 20211101 877281030000 15635 NFLX PostIPO Debt Saul Bisht 2289 Netflix Originals Post Production 20140401 20170701 877281030000 15635 NFLX PostIPO Debt Saul Bisht 126296 Rhythm Hues Studios Project Manager Technology Division 20110501 20140301 126296 Rhythm Hues Studios Digital ProducerProduction Manager Feature Film Division 20070101 20110101 329775 EngineRoomEdit VFX Production Manager 20040201 20040601 80610 Cinesite VFX Production Manager 19980501 20030501 urls:linkedin https:wwwlinkedincominbillwmurphy\n"
     ]
    }
   ],
   "source": [
    "# Read CSV file, for people data\n",
    "import pandas as pd\n",
    "import os\n",
    "\n",
    "cwd = os.getcwd()\n",
    "print(\"Current working directory:\", cwd)\n",
    "\n",
    "# Read the CSV file into a pandas DataFrame\n",
    "all_rows_df = pd.read_csv('/home/jovyan/work/scripts/input_people_data.csv')\n",
    "\n",
    "# Print the DataFrame , for one row\n",
    "print(all_rows_df.iloc[0]['plain_text'])"
   ]
  },
  {
   "cell_type": "code",
   "execution_count": 7,
   "id": "a26b3d42-895c-4b1c-9244-d20200bf0c54",
   "metadata": {},
   "outputs": [
    {
     "name": "stdout",
     "output_type": "stream",
     "text": [
      "**************Model output*************\n",
      "\n",
      "[{'type': 'text', 'text': '{\\n  \"Software - IT Infrastructure\": true,\\n  \"Internet - Video\": true,\\n  \"Software - Storage\": true,\\n  \"Software - Networking\": true\\n}'}]\n",
      "Tagged as-> ['23678899', 'Bill', 'Software - IT Infrastructure', 'Internet - Video', 'Software - Storage', 'Software - Networking']\n",
      "Model Tagged as-> ['23678899', 'Bill', 'Software - IT Infrastructure', 'Internet - Video', 'Software - Storage', 'Software - Networking']\n",
      "**************Model output*************\n",
      "\n",
      "[{'type': 'text', 'text': '{\\n  \"Software - Artificial Intelligence\": true,\\n  \"Software - Analytics\": true,\\n  \"Marketing\": true,\\n  \"Marketing Automation\": true\\n}'}]\n",
      "Tagged as-> ['22269279', 'Maggie', 'Software - Artificial Intelligence', 'Software - Analytics', 'Marketing', 'Marketing Automation']\n",
      "Model Tagged as-> ['22269279', 'Maggie', 'Software - Artificial Intelligence', 'Software - Analytics', 'Marketing', 'Marketing Automation']\n",
      "**************Model output*************\n",
      "\n",
      "[{'type': 'text', 'text': '{\\n  \"Healthcare - Biotech/ Pharma\": true,\\n  \"Healthcare - HCIT\": true,\\n  \"Services - Management Consulting\": true\\n}'}]\n",
      "Tagged as-> ['702321191', 'Nicola', 'Healthcare - Biotech/ Pharma', 'Healthcare - HCIT', 'Services - Management Consulting']\n",
      "Model Tagged as-> ['702321191', 'Nicola', 'Healthcare - Biotech/ Pharma', 'Healthcare - HCIT', 'Services - Management Consulting']\n"
     ]
    }
   ],
   "source": [
    "# prompt preparation for model ,saves result to tagged_people2.csv \n",
    "import json\n",
    "import csv\n",
    "\n",
    "# Open a CSV file in append mode to store the tagged information\n",
    "with open('tagged_people2.csv', 'a', newline='') as csvfile:\n",
    "    writer = csv.writer(csvfile)\n",
    "\n",
    "    # Iterate over the first few rows in the DataFrame\n",
    "    for index, row in all_rows_df.iterrows():\n",
    "        extracted_values = []\n",
    "        person_tagged =[]\n",
    "        plain_text = row['plain_text']\n",
    "\n",
    "        person_id = plain_text.split(' ')[0].split(':')[1]\n",
    "        name = plain_text.split('name:')[1].split(' ')[0]\n",
    "\n",
    "        # Appending the extracted values to the list\n",
    "        extracted_values.extend([person_id, name])\n",
    "\n",
    "        # Construct the prompt string for each row\n",
    "        prompt = f\"\"\"\n",
    "        From this person profile: {row['plain_text']}\n",
    "        Find if he has experience in any of the following areas or domains and return the result strictly always as JSON,no summary, only true cases.\n",
    "        Areas belong to: {tag_str}\n",
    "        \"\"\"\n",
    "        #print(prompt)        \n",
    "        # Print or use the prompt as needed\n",
    "        print(f\"**************Model output*************\\n\")\n",
    "        result = invoke_claude_model_with_prompt(prompt)\n",
    "        print(result)\n",
    "\n",
    "        # Ensure that the result is a list containing a dictionary\n",
    "        if isinstance(result, list) and len(result) > 0 and isinstance(result[0], dict) and 'text' in result[0]:\n",
    "            # Extract the JSON-formatted text from the dictionary\n",
    "            json_text = result[0]['text']\n",
    "            \n",
    "            # Remove the triple backticks from the string\n",
    "            json_text = json_text.strip('```')\n",
    "            \n",
    "            # Parse the JSON-formatted text into a dictionary\n",
    "            try:\n",
    "                text_dict = json.loads(json_text)\n",
    "                \n",
    "                # Extract the true cases from the dictionary\n",
    "                true_cases = [key for key, value in text_dict.items() if value]\n",
    "                \n",
    "                person_tagged = extracted_values + true_cases\n",
    "                # Write the tagged information to the CSV file\n",
    "                #writer.writerow(person_tagged)\n",
    "                \n",
    "                print(f\"Tagged as-> {person_tagged}\")\n",
    "\n",
    "            except json.JSONDecodeError:\n",
    "                print(\"The extracted text is not in a valid JSON format.\")\n",
    "        \n",
    "        else:\n",
    "            print(\"The result is not in the expected format.\")\n",
    "        \n",
    "        print(f\"Model Tagged as-> {person_tagged}\")\n",
    "        writer.writerow(person_tagged) "
   ]
  },
  {
   "cell_type": "code",
   "execution_count": null,
   "id": "7ccd5fb9-afbb-4ac3-af94-b167c3b66e73",
   "metadata": {},
   "outputs": [],
   "source": []
  }
 ],
 "metadata": {
  "kernelspec": {
   "display_name": "Python 3 (ipykernel)",
   "language": "python",
   "name": "python3"
  },
  "language_info": {
   "codemirror_mode": {
    "name": "ipython",
    "version": 3
   },
   "file_extension": ".py",
   "mimetype": "text/x-python",
   "name": "python",
   "nbconvert_exporter": "python",
   "pygments_lexer": "ipython3",
   "version": "3.11.6"
  }
 },
 "nbformat": 4,
 "nbformat_minor": 5
}
